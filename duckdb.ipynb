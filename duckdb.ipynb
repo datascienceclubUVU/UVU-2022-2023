{
 "cells": [
  {
   "cell_type": "code",
   "execution_count": 1,
   "metadata": {},
   "outputs": [
    {
     "name": "stdout",
     "output_type": "stream",
     "text": [
      "Collecting duckdb==0.7.1\n",
      "  Downloading duckdb-0.7.1-cp39-cp39-win_amd64.whl (9.5 MB)\n",
      "     ---------------------------------------- 9.5/9.5 MB 11.9 MB/s eta 0:00:00\n",
      "Installing collected packages: duckdb\n",
      "  Attempting uninstall: duckdb\n",
      "    Found existing installation: duckdb 0.4.0\n",
      "    Uninstalling duckdb-0.4.0:\n",
      "      Successfully uninstalled duckdb-0.4.0\n",
      "Successfully installed duckdb-0.7.1\n",
      "Note: you may need to restart the kernel to use updated packages.\n"
     ]
    }
   ],
   "source": [
    "import sqlalchemy as sql\n",
    "import duckdb\n"
   ]
  }
 ],
 "metadata": {
  "kernelspec": {
   "display_name": "Python 3",
   "language": "python",
   "name": "python3"
  },
  "language_info": {
   "codemirror_mode": {
    "name": "ipython",
    "version": 3
   },
   "file_extension": ".py",
   "mimetype": "text/x-python",
   "name": "python",
   "nbconvert_exporter": "python",
   "pygments_lexer": "ipython3",
   "version": "3.9.12"
  },
  "orig_nbformat": 4
 },
 "nbformat": 4,
 "nbformat_minor": 2
}
