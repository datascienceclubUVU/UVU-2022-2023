{
 "cells": [
  {
   "cell_type": "code",
   "execution_count": 1,
   "metadata": {
    "dotnet_interactive": {
     "language": "csharp"
    },
    "polyglot_notebook": {
     "kernelName": "csharp"
    }
   },
   "outputs": [],
   "source": [
    "# Import all connection libraries\n",
    "\n",
    "from spotipy import SpotifyClientCredentials\n",
    "import spotipy\n",
    "import sqlalchemy as sql\n",
    "\n",
    "# Import all data manipulation libraries\n",
    "\n",
    "import pandas as pd\n",
    "from pandarallel import pandarallel\n",
    "from tqdm import tqdm\n",
    "\n",
    "# Import Libraries to Refresh Access Token\n",
    "import time\n",
    "import os\n",
    "\n",
    "pandarallel.initialize(verbose=0, nb_workers=8)"
   ]
  },
  {
   "cell_type": "code",
   "execution_count": 2,
   "metadata": {
    "dotnet_interactive": {
     "language": "csharp"
    },
    "polyglot_notebook": {
     "kernelName": "csharp"
    }
   },
   "outputs": [
    {
     "data": {
      "text/plain": [
       "'BQBDQDYI-7ueeIIkrEOy9rToXTG7Xpvgia_YuWNyPSax-6C0a139MsU0KgJvHTyFHBe3ef-Aw5OkkQd2_AZ1vQmMe2LBXL9mP0CXICUQVibol3Od4YXO'"
      ]
     },
     "execution_count": 2,
     "metadata": {},
     "output_type": "execute_result"
    }
   ],
   "source": [
    "# Delete cached Spotify access token if an hour has passed since last access.\n",
    "with open(\"timeCacheLastAccessed.txt\", \"r\", encoding=\"UTF-8\") as f:\n",
    "    timeLastAccessed = float(f.readline())\n",
    "if (time.time() - timeLastAccessed >= 3600):  # If an hour has passed.\n",
    "    os.remove(\".cache\")\n",
    "    with open(\"timeCacheLastAccessed.txt\", \"w\", encoding=\"UTF-8\") as f:\n",
    "        f.write(str(time.time()))\n",
    "\n",
    "# establish connection to Spotify API\n",
    "\n",
    "cid = 'e5448a8a4fdc4b5d98b44e956d50546d'\n",
    "secret = '8924c0394d3f49a4a569fc03e891aa1b'\n",
    "client_credentials = SpotifyClientCredentials(client_id=cid, client_secret=secret)\n",
    "sp = spotipy.Spotify(client_credentials_manager=client_credentials, requests_timeout=15, retries=10)\n",
    "\n",
    "engine = sql.create_engine('postgresql+psycopg2://postgres:DataNerd2023!!\\\n",
    "@localhost/spotify')\n",
    "\n",
    "client_credentials.get_access_token(as_dict=False)  # Retreives new access token if necessary."
   ]
  },
  {
   "cell_type": "code",
   "execution_count": 3,
   "metadata": {
    "dotnet_interactive": {
     "language": "csharp"
    },
    "polyglot_notebook": {
     "kernelName": "csharp"
    }
   },
   "outputs": [],
   "source": [
    "from functools import lru_cache\n",
    "\n",
    "# Use the lru_cache decorator to cache the result of the function\n",
    "# maxsize=1000 means the cache will store the result of up to 1000 items\n",
    "@lru_cache(maxsize=1000)\n",
    "def get_playlist_tracks(playlist_uri):\n",
    "    \"\"\"\n",
    "    This function uses the Spotify API to get the tracks of a given playlist.\n",
    "    The function is decorated with the lru_cache decorator to cache the result for each unique playlist_uri.\n",
    "    So, if the same playlist_uri is passed to the function again, the cached result will be returned\n",
    "    instead of making a new API call.\n",
    "    :param playlist_uri: The Spotify URI of the playlist\n",
    "    :return: A DataFrame containing the tracks of the playlist\n",
    "    \"\"\"\n",
    "    # Use the Spotify API to get the tracks of the playlist\n",
    "    tracks = pd.json_normalize(sp.playlist_tracks(playlist_uri), record_path=['items'])\n",
    "    return tracks"
   ]
  },
  {
   "cell_type": "code",
   "execution_count": 4,
   "metadata": {
    "dotnet_interactive": {
     "language": "csharp"
    },
    "polyglot_notebook": {
     "kernelName": "csharp"
    }
   },
   "outputs": [
    {
     "data": {
      "text/html": [
       "<div>\n",
       "<style scoped>\n",
       "    .dataframe tbody tr th:only-of-type {\n",
       "        vertical-align: middle;\n",
       "    }\n",
       "\n",
       "    .dataframe tbody tr th {\n",
       "        vertical-align: top;\n",
       "    }\n",
       "\n",
       "    .dataframe thead th {\n",
       "        text-align: right;\n",
       "    }\n",
       "</style>\n",
       "<table border=\"1\" class=\"dataframe\">\n",
       "  <thead>\n",
       "    <tr style=\"text-align: right;\">\n",
       "      <th></th>\n",
       "      <th>playlist_uri</th>\n",
       "      <th>playlist_name</th>\n",
       "    </tr>\n",
       "  </thead>\n",
       "  <tbody>\n",
       "    <tr>\n",
       "      <th>0</th>\n",
       "      <td>spotify:playlist:5IMpQdB7rXdmMTuzhlhPZ4</td>\n",
       "      <td>69 HYPE</td>\n",
       "    </tr>\n",
       "    <tr>\n",
       "      <th>1</th>\n",
       "      <td>spotify:playlist:2e8iff2Rxt2BP0VpgJpVfj</td>\n",
       "      <td>Touhou OST (6-18)</td>\n",
       "    </tr>\n",
       "    <tr>\n",
       "      <th>2</th>\n",
       "      <td>spotify:playlist:7GTg7UFb2U2lsSZTfEwDQz</td>\n",
       "      <td>Valerie - '68 Version</td>\n",
       "    </tr>\n",
       "    <tr>\n",
       "      <th>3</th>\n",
       "      <td>spotify:playlist:7tvMtjQOPd08XgOBK6K3aE</td>\n",
       "      <td>MORNING SEX</td>\n",
       "    </tr>\n",
       "    <tr>\n",
       "      <th>4</th>\n",
       "      <td>spotify:playlist:5T8y1iYFXgo0FNkYax3XkT</td>\n",
       "      <td>AK-69</td>\n",
       "    </tr>\n",
       "    <tr>\n",
       "      <th>5</th>\n",
       "      <td>spotify:playlist:5T8y1iYFXgo0FNkYax3XkT</td>\n",
       "      <td>AK-69</td>\n",
       "    </tr>\n",
       "    <tr>\n",
       "      <th>6</th>\n",
       "      <td>spotify:playlist:4ubFrmZ99vpCucevPNWRPQ</td>\n",
       "      <td>Happy 60s, 70s, 80s</td>\n",
       "    </tr>\n",
       "    <tr>\n",
       "      <th>7</th>\n",
       "      <td>spotify:playlist:7g61XIrplOs8Kiyn7CsIbN</td>\n",
       "      <td>sex playlist 😫</td>\n",
       "    </tr>\n",
       "    <tr>\n",
       "      <th>8</th>\n",
       "      <td>spotify:playlist:5saOtgQGmyweUq8aKmvGVR</td>\n",
       "      <td>Norske 60-talls hits</td>\n",
       "    </tr>\n",
       "    <tr>\n",
       "      <th>9</th>\n",
       "      <td>spotify:playlist:3vlpRGlGVLnLHR1ZlnqSeH</td>\n",
       "      <td>60-luvun suomi-iskelmiä</td>\n",
       "    </tr>\n",
       "  </tbody>\n",
       "</table>\n",
       "</div>"
      ],
      "text/plain": [
       "                              playlist_uri            playlist_name\n",
       "0  spotify:playlist:5IMpQdB7rXdmMTuzhlhPZ4                  69 HYPE\n",
       "1  spotify:playlist:2e8iff2Rxt2BP0VpgJpVfj        Touhou OST (6-18)\n",
       "2  spotify:playlist:7GTg7UFb2U2lsSZTfEwDQz    Valerie - '68 Version\n",
       "3  spotify:playlist:7tvMtjQOPd08XgOBK6K3aE              MORNING SEX\n",
       "4  spotify:playlist:5T8y1iYFXgo0FNkYax3XkT                    AK-69\n",
       "5  spotify:playlist:5T8y1iYFXgo0FNkYax3XkT                    AK-69\n",
       "6  spotify:playlist:4ubFrmZ99vpCucevPNWRPQ      Happy 60s, 70s, 80s\n",
       "7  spotify:playlist:7g61XIrplOs8Kiyn7CsIbN           sex playlist 😫\n",
       "8  spotify:playlist:5saOtgQGmyweUq8aKmvGVR     Norske 60-talls hits\n",
       "9  spotify:playlist:3vlpRGlGVLnLHR1ZlnqSeH  60-luvun suomi-iskelmiä"
      ]
     },
     "execution_count": 4,
     "metadata": {},
     "output_type": "execute_result"
    }
   ],
   "source": [
    "# load training data\n",
    "\n",
    "with pd.option_context(\"mode.dtype_backend\", \"pyarrow\"):\n",
    "    new_batch = pd.read_csv('C:\\\\Users\\\\Chase\\\\OneDrive\\\\Documents\\\\temp\\\\UVU-2022-2023\\\\distinct_playlists_new.csv', engine='pyarrow')[['playlist_uri', 'playlist_name']]\n",
    "    new_batch['playlist_uri'] = new_batch['playlist_uri'].str.strip()\n",
    "\n",
    "    db_query = pd.read_sql('SELECT DISTINCT playlist_uri FROM playlist_tracks', engine)\n",
    "\n",
    "    outer = new_batch.merge(db_query, how='outer', indicator=True)\n",
    "    anti_join = outer[(outer._merge=='left_only')].drop('_merge', axis=1)\n",
    "\n",
    "    new_batch = pd.DataFrame(anti_join)\n",
    "new_batch.head(10)"
   ]
  },
  {
   "cell_type": "code",
   "execution_count": 5,
   "metadata": {
    "dotnet_interactive": {
     "language": "csharp"
    },
    "polyglot_notebook": {
     "kernelName": "csharp"
    }
   },
   "outputs": [],
   "source": [
    "def load_all_data():\n",
    "    with pd.option_context(\"mode.dtype_backend\", \"pyarrow\"):\n",
    "        # load training data\n",
    "        new_batch = pd.read_csv('C:\\\\Users\\\\Chase\\\\OneDrive\\\\Documents\\\\UVU-2022-2023\\\\distinct_playlists_new.csv', engine='pyarrow')[['playlist_uri', 'playlist_name']]\n",
    "        new_batch['playlist_uri'] = new_batch['playlist_uri'].str.strip()\n",
    "\n",
    "        db_query = pd.read_sql('SELECT DISTINCT playlist_uri FROM playlist_tracks', engine)\n",
    "\n",
    "        outer = new_batch.merge(db_query, how='outer', indicator=True)\n",
    "        anti_join = outer[(outer._merge=='left_only')].drop('_merge', axis=1)\n",
    "\n",
    "        new_batch = pd.DataFrame(anti_join)\n",
    "        new_batch = new_batch[0:50]\n",
    "        \n",
    "        # extract all tracks in playlists\n",
    "        load_batch = []\n",
    "        series = new_batch['playlist_uri'].to_dict()\n",
    "        for playlist in tqdm(series.values()):\n",
    "                try:\n",
    "                        tracks = get_playlist_tracks(playlist)\n",
    "                        if len(tracks) >= 100:\n",
    "                                tracks2 = pd.json_normalize(sp.playlist_tracks(playlist, offset=100), record_path=['items'])\n",
    "                                tracks3 = pd.json_normalize(sp.playlist_tracks(playlist, offset=200), record_path=['items'])\n",
    "                                tracks = pd.concat([tracks, tracks2, tracks3])\n",
    "                                secondary_data = pd.json_normalize(sp.playlist(playlist))\n",
    "                                tracks['playlist_uri'] = playlist\n",
    "                                tracks = tracks.merge(secondary_data, left_on='playlist_uri', right_on='uri')\n",
    "                                tracks = tracks.rename(columns={\"name\":\"playlist_name\", \"track.name\":\"track_name\", \"track.uri\":\"track_uri\", \"track.album.name\":\"album_name\", \"track.explicit\":\"isExplicit\", \"track.album.release_date\":\"release_date\", \"track.duration_ms\":\"duration_ms\", \"track.album.uri\":\"album_uri\", \"added_by.external_urls.spotify\": \"added_by_external_urls_spotify\", 'added_by.href':\"added_by_href\", \"added_by.id\":\"added_by_id\", \"added_by.type\":\"added_by_type\", \"added_by.uri\":\"added_by_uri\", \"track.album.album_type\":\"track_album_album_type\", \"track.album.external_urls.spotify\":\"track_album_external_urls_spotify\", \"track.album.href\":\"track_album_href\", \"track.album.id\":\"track_album_id\", \"track.album.release_date_precision\":\"track_album_release_date_precision\", \"track.album.total_tracks\":\"track_album_total_tracks\",\"track.album.type\":\"track_album_type\", \"track.disc_number\":\"track_disc_number\", \"track.episode\":\"track_episode\", \"track.external_ids.isrc\":\"track_external_ids_isrc\", \"track.external_urls.spotify\":\"track_external_ids_spotify\", \"track.href\":\"track_href\", \"track.id\":\"track_id\", \"track.is_local\":\"track_is_local\", \"track.popularity\":\"track_popularity\", \"track.preview_url\":\"track_preview_url\", \"track.track\":\"track_track\", \"track.track_number\":\"track_track_number\", \"track.type\":\"track_type\", \"video_thumbnail.url\":\"video_thumbnail_url\", \"external_urls.spotify\":\"external_urls_spotify\", \"followers.href\":\"followers_href\", \"followers.total\":\"followers_total\", \"owner.display_name\":\"owner_display_name\", \"owner.external_urls.spotify\":\"owner_external_urls_spotify\", \"owner.href\":\"owner_href\", \"owner.id\":\"owner_id\", \"owner.type\":\"owner_type\", \"owner.uri\":\"owner_uri\", \"tracks.href\":\"tracks_href\", \"tracks.limit\":\"tracks_limit\", \"tracks.next\":\"tracks_next\", \"tracks.offset\":\"tracks_offset\", \"tracks.previous\":\"tracks_previous\", \"tracks.total\":\"tracks_total\"})\n",
    "                                tracks = tracks.drop(columns=['track.album.artists', 'track.album.available_markets', 'track.album.images', 'track.artists', 'track.available_markets', 'images', 'tracks.items'])\n",
    "\n",
    "                                load_batch.append(tracks)\n",
    "                        else:\n",
    "                                secondary_data = pd.json_normalize(sp.playlist(playlist))\n",
    "                                tracks['playlist_uri'] = playlist\n",
    "                                tracks = tracks.merge(secondary_data, left_on='playlist_uri', right_on='uri')\n",
    "                                tracks = tracks.rename(columns={\"name\":\"playlist_name\", \"track.name\":\"track_name\", \"track.uri\":\"track_uri\", \"track.album.name\":\"album_name\", \"track.explicit\":\"isExplicit\", \"track.album.release_date\":\"release_date\", \"track.duration_ms\":\"duration_ms\", \"track.album.uri\":\"album_uri\", \"added_by.external_urls.spotify\": \"added_by_external_urls_spotify\", 'added_by.href':\"added_by_href\", \"added_by.id\":\"added_by_id\", \"added_by.type\":\"added_by_type\", \"added_by.uri\":\"added_by_uri\", \"track.album.album_type\":\"track_album_album_type\", \"track.album.external_urls.spotify\":\"track_album_external_urls_spotify\", \"track.album.href\":\"track_album_href\", \"track.album.id\":\"track_album_id\", \"track.album.release_date_precision\":\"track_album_release_date_precision\", \"track.album.total_tracks\":\"track_album_total_tracks\",\"track.album.type\":\"track_album_type\", \"track.disc_number\":\"track_disc_number\", \"track.episode\":\"track_episode\", \"track.external_ids.isrc\":\"track_external_ids_isrc\", \"track.external_urls.spotify\":\"track_external_ids_spotify\", \"track.href\":\"track_href\", \"track.id\":\"track_id\", \"track.is_local\":\"track_is_local\", \"track.popularity\":\"track_popularity\", \"track.preview_url\":\"track_preview_url\", \"track.track\":\"track_track\", \"track.track_number\":\"track_track_number\", \"track.type\":\"track_type\", \"video_thumbnail.url\":\"video_thumbnail_url\", \"external_urls.spotify\":\"external_urls_spotify\", \"followers.href\":\"followers_href\", \"followers.total\":\"followers_total\", \"owner.display_name\":\"owner_display_name\", \"owner.external_urls.spotify\":\"owner_external_urls_spotify\", \"owner.href\":\"owner_href\", \"owner.id\":\"owner_id\", \"owner.type\":\"owner_type\", \"owner.uri\":\"owner_uri\", \"tracks.href\":\"tracks_href\", \"tracks.limit\":\"tracks_limit\", \"tracks.next\":\"tracks_next\", \"tracks.offset\":\"tracks_offset\", \"tracks.previous\":\"tracks_previous\", \"tracks.total\":\"tracks_total\"})\n",
    "                                tracks = tracks.drop(columns=['track.album.artists', 'track.album.available_markets', 'track.album.images', 'track.artists', 'track.available_markets', 'images', 'tracks.items'])\n",
    "                                load_batch.append(tracks)\n",
    "                except:\n",
    "                        pass\n",
    "        load_batch = pd.concat(load_batch)\n",
    "        if set(['track.album.is_playable','track.album.restrictions.reason', 'track.external_ids.spotify', 'track.album.album_group']).issubset(load_batch.columns):\n",
    "                load_batch = load_batch.drop(columns=['track.album.is_playable', 'track.album.restrictions.reason', 'track.external_ids.spotify', 'track.is_playable', 'track.album.album_group'])\n",
    "        else:\n",
    "                load_batch\n",
    "        load_batch.to_sql('playlist_tracks', engine, if_exists='append')\n",
    "        print(f'playlist_tracks updated #{i}')\n",
    "        \n",
    "        # extract all artists\n",
    "        # query = \"\"\"SELECT DISTINCT playlist_tracks.track_uri, playlist_tracks.track_name, artists.artist1, artists.artist2 FROM artists RIGHT JOIN playlist_tracks ON artists.track_uri = playlist_tracks.track_uri WHERE artist1 IS NULL AND LEFT(playlist_tracks.track_uri, 13) = 'spotify:track' ORDER BY playlist_tracks.track_uri, artist1 LIMIT 500\"\"\"\n",
    "        # df = pd.read_sql(query, engine)\n",
    "\n",
    "        # df = pd.Series(df['track_uri'])\n",
    "        # base_list = []\n",
    "        # for track in tqdm(df):\n",
    "        #         try:\n",
    "        #                 df2 = pd.json_normalize(sp.track(track), record_path=['artists'])\n",
    "        #                 df2['track_uri'] = track\n",
    "        #                 df2 = df2[['name', 'track_uri']]\n",
    "        #                 base_list.append(df2)\n",
    "        #         except:\n",
    "        #                 pass\n",
    "        # df2 = pd.concat(base_list)\n",
    "        \n",
    "        # df2['RN'] = df2.groupby(\"track_uri\")[\"name\"].rank(method=\"first\", ascending=True)\n",
    "        # df2 = df2.pivot(index='track_uri', columns=['RN'], values='name').reset_index()\n",
    "        # df2 = df2.rename(columns={1.0:'artist1', 2.0:'artist2', 3.0:'artist3', 4.0:'artist4', 5.0:'artist5'})\n",
    "        # try:\n",
    "        #         df2 = df2[['track_uri', 'artist1', 'artist2', 'artist3', 'artist4', 'artist5']]\n",
    "        # except(KeyError):\n",
    "        #         df2 = df2[['track_uri', 'artist1', 'artist2']]\n",
    "        \n",
    "        # df2.to_sql('artists', engine, if_exists='append')\n",
    "        # print(f'artists updated #{i}')\n",
    "        \n",
    "        # # extract all audio_features\n",
    "        # query = \"\"\"SELECT DISTINCT playlist_tracks.track_uri, playlist_tracks.track_name, audio_features.danceability FROM audio_features RIGHT JOIN playlist_tracks ON audio_features.track_uri = playlist_tracks.track_uri WHERE danceability IS NULL AND LEFT(playlist_tracks.track_uri,13) = 'spotify:track' ORDER BY playlist_tracks.track_uri, danceability LIMIT 500\"\"\"\n",
    "        # df = pd.read_sql(query, engine)\n",
    "\n",
    "        # df = pd.Series(df['track_uri'])\n",
    "\n",
    "        # base_list = []\n",
    "        # for track in tqdm(df):\n",
    "        #         try:\n",
    "        #                 df3 = pd.json_normalize(sp.audio_features(track))\n",
    "        #                 df3['track_uri'] = track\n",
    "        #                 df3 = df3[['track_uri', 'danceability', 'energy', 'key', 'loudness', 'mode', 'speechiness', 'acousticness', 'instrumentalness', 'liveness', 'valence', 'tempo', 'duration_ms', 'time_signature']]\n",
    "        #                 base_list.append(df3)\n",
    "        #         except:\n",
    "        #                 pass\n",
    "        # df3 = pd.concat(base_list)\n",
    "        \n",
    "        # df3.to_sql('audio_features', con=engine, if_exists='append')\n",
    "        # print(f'audio_features updated #{i}')"
   ]
  },
  {
   "cell_type": "code",
   "execution_count": 6,
   "metadata": {
    "dotnet_interactive": {
     "language": "csharp"
    },
    "polyglot_notebook": {
     "kernelName": "csharp"
    }
   },
   "outputs": [
    {
     "name": "stderr",
     "output_type": "stream",
     "text": [
      "  0%|          | 0/50 [00:00<?, ?it/s]"
     ]
    }
   ],
   "source": [
    "i = 1\n",
    "\n",
    "while i <= 8:\n",
    "    load_all_data()\n",
    "    i += 1"
   ]
  },
  {
   "cell_type": "code",
   "execution_count": null,
   "metadata": {
    "dotnet_interactive": {
     "language": "csharp"
    },
    "polyglot_notebook": {
     "kernelName": "csharp"
    }
   },
   "outputs": [],
   "source": [
    "all_data1 = pd.read_sql('''SELECT DISTINCT playlist_uri, playlist_name, owner_uri, owner_display_name, collaborative, description, followers_total,\n",
    "af.track_uri, track_name, artist1, artist2, artist3, artist4, artist5, album_uri, album_name, release_date, \n",
    "added_by_uri, added_at, track_album_total_tracks, af.duration_ms, \"isExplicit\", track_popularity, \n",
    "track_preview_url, video_thumbnail_url, danceability, energy, loudness, key, mode, acousticness, speechiness, \n",
    "instrumentalness, liveness, valence, tempo, time_signature\n",
    "FROM playlist_tracks pt\n",
    "JOIN artists a ON pt.track_uri = a.track_uri\n",
    "JOIN audio_features af ON pt.track_uri = af.track_uri\n",
    "ORDER BY playlist_uri, track_uri\n",
    "LIMIT 1894425;''', engine)\n",
    "f = open(\"C:\\\\Users\\\\Chase\\\\OneDrive\\\\Documents\\\\Career Development\\\\Data Science Club\\\\Spring 2023 Club Project\\\\oltp_output1.csv\", \"w\")\n",
    "f.truncate()\n",
    "f.close()\n",
    "\n",
    "all_data1.to_csv('C:\\\\Users\\\\Chase\\\\OneDrive\\\\Documents\\\\Career Development\\\\Data Science Club\\\\Spring 2023 Club Project\\\\oltp_output1.csv', mode=\"w+\", index=False)"
   ]
  },
  {
   "cell_type": "code",
   "execution_count": null,
   "metadata": {
    "dotnet_interactive": {
     "language": "csharp"
    },
    "polyglot_notebook": {
     "kernelName": "csharp"
    }
   },
   "outputs": [],
   "source": [
    "all_data2 = pd.read_sql('''SELECT DISTINCT playlist_uri, playlist_name, owner_uri, owner_display_name, collaborative, description, followers_total,\n",
    "af.track_uri, track_name, artist1, artist2, artist3, artist4, artist5, album_uri, album_name, release_date, \n",
    "added_by_uri, added_at, track_album_total_tracks, af.duration_ms, \"isExplicit\", track_popularity, \n",
    "track_preview_url, video_thumbnail_url, danceability, energy, loudness, key, mode, acousticness, speechiness, \n",
    "instrumentalness, liveness, valence, tempo, time_signature\n",
    "FROM playlist_tracks pt\n",
    "JOIN artists a ON pt.track_uri = a.track_uri\n",
    "JOIN audio_features af ON pt.track_uri = af.track_uri\n",
    "ORDER BY playlist_uri, track_uri\n",
    "OFFSET 1894425;''', engine)\n",
    "f = open(\"C:\\\\Users\\\\Chase\\\\OneDrive\\\\Documents\\\\Career Development\\\\Data Science Club\\\\Spring 2023 Club Project\\\\oltp_output2.csv\", \"w\")\n",
    "f.truncate()\n",
    "f.close()\n",
    "\n",
    "all_data2.to_csv('C:\\\\Users\\\\Chase\\\\OneDrive\\\\Documents\\\\Career Development\\\\Data Science Club\\\\Spring 2023 Club Project\\\\oltp_output2.csv', mode=\"w+\", index=False)"
   ]
  },
  {
   "cell_type": "code",
   "execution_count": null,
   "metadata": {
    "dotnet_interactive": {
     "language": "csharp"
    },
    "polyglot_notebook": {
     "kernelName": "csharp"
    }
   },
   "outputs": [],
   "source": [
    "features1 = all_data1[['track_uri', 'track_name', 'artist1', 'artist2', 'artist3', 'artist4', 'artist5', 'album_name', 'release_date', 'danceability', 'energy', 'track_popularity', 'acousticness', 'valence', 'tempo']]\n",
    "features2 = all_data2[['track_uri', 'track_name', 'artist1', 'artist2', 'artist3', 'artist4', 'artist5', 'album_name', 'release_date', 'danceability', 'energy', 'track_popularity', 'acousticness', 'valence', 'tempo']]\n",
    "features = pd.concat([features1, features2])\n",
    "features = features.drop_duplicates(subset='track_uri')\n",
    "features.to_parquet('C:\\\\Users\\\\Chase\\\\OneDrive\\\\Documents\\\\UVU-2022-2023\\\\features.parquet.gzip', compression='gzip')"
   ]
  }
 ],
 "metadata": {
  "kernelspec": {
   "display_name": "Python 3",
   "language": "python",
   "name": "python3"
  },
  "language_info": {
   "codemirror_mode": {
    "name": "ipython",
    "version": 3
   },
   "file_extension": ".py",
   "mimetype": "text/x-python",
   "name": "python",
   "nbconvert_exporter": "python",
   "pygments_lexer": "ipython3",
   "version": "3.9.12"
  },
  "polyglot_notebook": {
   "kernelInfo": {
    "defaultKernelName": "csharp",
    "items": [
     {
      "aliases": [
       "c#",
       "C#"
      ],
      "languageName": "C#",
      "name": "csharp"
     },
     {
      "aliases": [
       "frontend"
      ],
      "languageName": null,
      "name": "vscode"
     },
     {
      "aliases": [],
      "name": ".NET"
     },
     {
      "aliases": [
       "f#",
       "F#"
      ],
      "languageName": "F#",
      "name": "fsharp"
     },
     {
      "aliases": [],
      "languageName": "HTML",
      "name": "html"
     },
     {
      "aliases": [],
      "languageName": "KQL",
      "name": "kql"
     },
     {
      "aliases": [],
      "languageName": "Mermaid",
      "name": "mermaid"
     },
     {
      "aliases": [
       "powershell"
      ],
      "languageName": "PowerShell",
      "name": "pwsh"
     },
     {
      "aliases": [],
      "languageName": "SQL",
      "name": "sql"
     },
     {
      "aliases": [],
      "name": "value"
     }
    ]
   }
  }
 },
 "nbformat": 4,
 "nbformat_minor": 2
}
