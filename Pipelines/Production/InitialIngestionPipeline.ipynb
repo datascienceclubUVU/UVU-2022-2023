{
 "cells": [
  {
   "attachments": {},
   "cell_type": "markdown",
   "metadata": {},
   "source": [
    "## Import All Required Libraries"
   ]
  },
  {
   "cell_type": "code",
   "execution_count": 1,
   "metadata": {},
   "outputs": [],
   "source": [
    "# Import all connection libraries\n",
    "\n",
    "from spotipy import SpotifyClientCredentials\n",
    "import spotipy\n",
    "import sqlalchemy as sql\n",
    "\n",
    "# Import all data manipulation libraries\n",
    "\n",
    "import pandas as pd\n",
    "from pandarallel import pandarallel\n",
    "from tqdm import tqdm\n",
    "pandarallel.initialize(verbose=0, nb_workers=8)"
   ]
  },
  {
   "cell_type": "code",
   "execution_count": 2,
   "metadata": {},
   "outputs": [],
   "source": [
    "from functools import lru_cache\n",
    "\n",
    "# Use the lru_cache decorator to cache the result of the function\n",
    "# maxsize=1000 means the cache will store the result of up to 1000 items\n",
    "@lru_cache(maxsize=1000)\n",
    "def get_playlist_tracks(playlist_uri):\n",
    "    \"\"\"\n",
    "    This function uses the Spotify API to get the tracks of a given playlist.\n",
    "    The function is decorated with the lru_cache decorator to cache the result for each unique playlist_uri.\n",
    "    So, if the same playlist_uri is passed to the function again, the cached result will be returned\n",
    "    instead of making a new API call.\n",
    "    :param playlist_uri: The Spotify URI of the playlist\n",
    "    :return: A DataFrame containing the tracks of the playlist\n",
    "    \"\"\"\n",
    "    # Use the Spotify API to get the tracks of the playlist\n",
    "    tracks = pd.json_normalize(sp.playlist_tracks(playlist_uri), record_path=['items'])\n",
    "    return tracks"
   ]
  },
  {
   "attachments": {},
   "cell_type": "markdown",
   "metadata": {},
   "source": [
    "## Establish External Connections"
   ]
  },
  {
   "cell_type": "code",
   "execution_count": 3,
   "metadata": {},
   "outputs": [],
   "source": [
    "# establish connection to Spotify API\n",
    "\n",
    "cid = 'e5448a8a4fdc4b5d98b44e956d50546d'\n",
    "secret = '8924c0394d3f49a4a569fc03e891aa1b'\n",
    "client_credentials = SpotifyClientCredentials(client_id=cid, client_secret=secret)\n",
    "sp = spotipy.Spotify(client_credentials_manager=client_credentials, requests_timeout=15, retries=10)\n",
    "\n",
    "# establish connection to Postgres\n",
    "\n",
    "engine = sql.create_engine('postgresql+psycopg2://postgres:DataNerd2023!!\\\n",
    "@localhost/spotify')"
   ]
  },
  {
   "attachments": {},
   "cell_type": "markdown",
   "metadata": {},
   "source": [
    "## Load Initial Training Data"
   ]
  },
  {
   "cell_type": "code",
   "execution_count": 4,
   "metadata": {},
   "outputs": [
    {
     "data": {
      "text/html": [
       "<div>\n",
       "<style scoped>\n",
       "    .dataframe tbody tr th:only-of-type {\n",
       "        vertical-align: middle;\n",
       "    }\n",
       "\n",
       "    .dataframe tbody tr th {\n",
       "        vertical-align: top;\n",
       "    }\n",
       "\n",
       "    .dataframe thead th {\n",
       "        text-align: right;\n",
       "    }\n",
       "</style>\n",
       "<table border=\"1\" class=\"dataframe\">\n",
       "  <thead>\n",
       "    <tr style=\"text-align: right;\">\n",
       "      <th></th>\n",
       "      <th>playlist_uri</th>\n",
       "      <th>playlist_name</th>\n",
       "    </tr>\n",
       "  </thead>\n",
       "  <tbody>\n",
       "    <tr>\n",
       "      <th>25303</th>\n",
       "      <td>spotify:playlist:3dZtMbtwYDyZKsF6ff6LmI</td>\n",
       "      <td>New Flavor</td>\n",
       "    </tr>\n",
       "    <tr>\n",
       "      <th>25311</th>\n",
       "      <td>spotify:playlist:3XNR5Xh8RCxO4EAOA9atC1</td>\n",
       "      <td>High Fashion</td>\n",
       "    </tr>\n",
       "    <tr>\n",
       "      <th>25313</th>\n",
       "      <td>spotify:playlist:37i9dQZF1DX0jNl6iUx9qC</td>\n",
       "      <td>FINAL FANTASY -relax-</td>\n",
       "    </tr>\n",
       "    <tr>\n",
       "      <th>25455</th>\n",
       "      <td>spotify:playlist:1M35HrKYW1dSAkeExKz5o5</td>\n",
       "      <td>Final Fantasy LoFi Mix</td>\n",
       "    </tr>\n",
       "    <tr>\n",
       "      <th>25456</th>\n",
       "      <td>spotify:playlist:37i9dQZF1DX11VZ9hcBiq6</td>\n",
       "      <td>Traditional Scottish Folk</td>\n",
       "    </tr>\n",
       "    <tr>\n",
       "      <th>25457</th>\n",
       "      <td>spotify:playlist:5vqoxc95T2Q1TfFaJwoVWc</td>\n",
       "      <td>TAGGA TILL FÖR FAAN🤪🚀</td>\n",
       "    </tr>\n",
       "    <tr>\n",
       "      <th>25458</th>\n",
       "      <td>spotify:playlist:7Mszg2SSclbM2lkr1iR5jx</td>\n",
       "      <td>Feeling songs Kannada</td>\n",
       "    </tr>\n",
       "    <tr>\n",
       "      <th>25459</th>\n",
       "      <td>spotify:playlist:75VfCRPrqQqvtFxPNTgafd</td>\n",
       "      <td>fuck fake friends.</td>\n",
       "    </tr>\n",
       "    <tr>\n",
       "      <th>25460</th>\n",
       "      <td>spotify:playlist:5RprNn6f2p0PsjrAdvaexJ</td>\n",
       "      <td>Frankie Ruiz exitos</td>\n",
       "    </tr>\n",
       "    <tr>\n",
       "      <th>25461</th>\n",
       "      <td>spotify:playlist:3Bpys5SxSxiuHoZoolwRvA</td>\n",
       "      <td>Förfest 2023 🥂 förfesta &amp; känn peppen</td>\n",
       "    </tr>\n",
       "  </tbody>\n",
       "</table>\n",
       "</div>"
      ],
      "text/plain": [
       "                                  playlist_uri  \\\n",
       "25303  spotify:playlist:3dZtMbtwYDyZKsF6ff6LmI   \n",
       "25311  spotify:playlist:3XNR5Xh8RCxO4EAOA9atC1   \n",
       "25313  spotify:playlist:37i9dQZF1DX0jNl6iUx9qC   \n",
       "25455  spotify:playlist:1M35HrKYW1dSAkeExKz5o5   \n",
       "25456  spotify:playlist:37i9dQZF1DX11VZ9hcBiq6   \n",
       "25457  spotify:playlist:5vqoxc95T2Q1TfFaJwoVWc   \n",
       "25458  spotify:playlist:7Mszg2SSclbM2lkr1iR5jx   \n",
       "25459  spotify:playlist:75VfCRPrqQqvtFxPNTgafd   \n",
       "25460  spotify:playlist:5RprNn6f2p0PsjrAdvaexJ   \n",
       "25461  spotify:playlist:3Bpys5SxSxiuHoZoolwRvA   \n",
       "\n",
       "                               playlist_name  \n",
       "25303                             New Flavor  \n",
       "25311                           High Fashion  \n",
       "25313                  FINAL FANTASY -relax-  \n",
       "25455                 Final Fantasy LoFi Mix  \n",
       "25456              Traditional Scottish Folk  \n",
       "25457                  TAGGA TILL FÖR FAAN🤪🚀  \n",
       "25458                  Feeling songs Kannada  \n",
       "25459                    fuck fake friends.   \n",
       "25460                    Frankie Ruiz exitos  \n",
       "25461  Förfest 2023 🥂 förfesta & känn peppen  "
      ]
     },
     "execution_count": 4,
     "metadata": {},
     "output_type": "execute_result"
    }
   ],
   "source": [
    "# load training data\n",
    "new_batch = pd.read_csv('C:\\\\Users\\\\Chase\\\\OneDrive\\\\Documents\\\\UVU-2022-2023\\\\distinct_playlists_new.csv')[['playlist_uri', 'playlist_name']]\n",
    "new_batch['playlist_uri'] = new_batch['playlist_uri'].str.strip()\n",
    "\n",
    "db_query = pd.read_sql('SELECT DISTINCT playlist_uri FROM playlist_tracks', engine)\n",
    "\n",
    "outer = new_batch.merge(db_query, how='outer', indicator=True)\n",
    "anti_join = outer[(outer._merge=='left_only')].drop('_merge', axis=1)\n",
    "\n",
    "new_batch = pd.DataFrame(anti_join)\n",
    "new_batch.head(10)"
   ]
  },
  {
   "attachments": {},
   "cell_type": "markdown",
   "metadata": {},
   "source": [
    "## Iterate Through Training Data to Change Grain of Data"
   ]
  },
  {
   "cell_type": "code",
   "execution_count": 5,
   "metadata": {},
   "outputs": [],
   "source": [
    "def load_all_data():\n",
    "        # load training data\n",
    "        new_batch = pd.read_csv('C:\\\\Users\\\\Chase\\\\OneDrive\\\\Documents\\\\UVU-2022-2023\\\\distinct_playlists_new.csv')[['playlist_uri', 'playlist_name']]\n",
    "        new_batch['playlist_uri'] = new_batch['playlist_uri'].str.strip()\n",
    "\n",
    "        db_query = pd.read_sql('SELECT DISTINCT playlist_uri FROM playlist_tracks', engine)\n",
    "\n",
    "        outer = new_batch.merge(db_query, how='outer', indicator=True)\n",
    "        anti_join = outer[(outer._merge=='left_only')].drop('_merge', axis=1)\n",
    "\n",
    "        new_batch = pd.DataFrame(anti_join)\n",
    "        new_batch = new_batch[0:18]\n",
    "        \n",
    "        # extract all tracks in playlists\n",
    "        load_batch = []\n",
    "        series = new_batch['playlist_uri'].to_dict()\n",
    "        for playlist in tqdm(series.values()):\n",
    "                try:\n",
    "                        tracks = get_playlist_tracks(playlist)\n",
    "                        if len(tracks) >= 100:\n",
    "                                tracks2 = pd.json_normalize(sp.playlist_tracks(playlist, offset=100), record_path=['items'])\n",
    "                                tracks3 = pd.json_normalize(sp.playlist_tracks(playlist, offset=200), record_path=['items'])\n",
    "                                tracks = pd.concat([tracks, tracks2, tracks3])\n",
    "                                secondary_data = pd.json_normalize(sp.playlist(playlist))\n",
    "                                tracks['playlist_uri'] = playlist\n",
    "                                tracks = tracks.merge(secondary_data, left_on='playlist_uri', right_on='uri')\n",
    "                                tracks = tracks.rename(columns={\"name\":\"playlist_name\", \"track.name\":\"track_name\", \"track.uri\":\"track_uri\", \"track.album.name\":\"album_name\", \"track.explicit\":\"isExplicit\", \"track.album.release_date\":\"release_date\", \"track.duration_ms\":\"duration_ms\", \"track.album.uri\":\"album_uri\", \"added_by.external_urls.spotify\": \"added_by_external_urls_spotify\", 'added_by.href':\"added_by_href\", \"added_by.id\":\"added_by_id\", \"added_by.type\":\"added_by_type\", \"added_by.uri\":\"added_by_uri\", \"track.album.album_type\":\"track_album_album_type\", \"track.album.external_urls.spotify\":\"track_album_external_urls_spotify\", \"track.album.href\":\"track_album_href\", \"track.album.id\":\"track_album_id\", \"track.album.release_date_precision\":\"track_album_release_date_precision\", \"track.album.total_tracks\":\"track_album_total_tracks\",\"track.album.type\":\"track_album_type\", \"track.disc_number\":\"track_disc_number\", \"track.episode\":\"track_episode\", \"track.external_ids.isrc\":\"track_external_ids_isrc\", \"track.external_urls.spotify\":\"track_external_ids_spotify\", \"track.href\":\"track_href\", \"track.id\":\"track_id\", \"track.is_local\":\"track_is_local\", \"track.popularity\":\"track_popularity\", \"track.preview_url\":\"track_preview_url\", \"track.track\":\"track_track\", \"track.track_number\":\"track_track_number\", \"track.type\":\"track_type\", \"video_thumbnail.url\":\"video_thumbnail_url\", \"external_urls.spotify\":\"external_urls_spotify\", \"followers.href\":\"followers_href\", \"followers.total\":\"followers_total\", \"owner.display_name\":\"owner_display_name\", \"owner.external_urls.spotify\":\"owner_external_urls_spotify\", \"owner.href\":\"owner_href\", \"owner.id\":\"owner_id\", \"owner.type\":\"owner_type\", \"owner.uri\":\"owner_uri\", \"tracks.href\":\"tracks_href\", \"tracks.limit\":\"tracks_limit\", \"tracks.next\":\"tracks_next\", \"tracks.offset\":\"tracks_offset\", \"tracks.previous\":\"tracks_previous\", \"tracks.total\":\"tracks_total\"})\n",
    "                                tracks = tracks.drop(columns=['track.album.artists', 'track.album.available_markets', 'track.album.images', 'track.artists', 'track.available_markets', 'images', 'tracks.items'])\n",
    "\n",
    "                                load_batch.append(tracks)\n",
    "                        else:\n",
    "                                secondary_data = pd.json_normalize(sp.playlist(playlist))\n",
    "                                tracks['playlist_uri'] = playlist\n",
    "                                tracks = tracks.merge(secondary_data, left_on='playlist_uri', right_on='uri')\n",
    "                                tracks = tracks.rename(columns={\"name\":\"playlist_name\", \"track.name\":\"track_name\", \"track.uri\":\"track_uri\", \"track.album.name\":\"album_name\", \"track.explicit\":\"isExplicit\", \"track.album.release_date\":\"release_date\", \"track.duration_ms\":\"duration_ms\", \"track.album.uri\":\"album_uri\", \"added_by.external_urls.spotify\": \"added_by_external_urls_spotify\", 'added_by.href':\"added_by_href\", \"added_by.id\":\"added_by_id\", \"added_by.type\":\"added_by_type\", \"added_by.uri\":\"added_by_uri\", \"track.album.album_type\":\"track_album_album_type\", \"track.album.external_urls.spotify\":\"track_album_external_urls_spotify\", \"track.album.href\":\"track_album_href\", \"track.album.id\":\"track_album_id\", \"track.album.release_date_precision\":\"track_album_release_date_precision\", \"track.album.total_tracks\":\"track_album_total_tracks\",\"track.album.type\":\"track_album_type\", \"track.disc_number\":\"track_disc_number\", \"track.episode\":\"track_episode\", \"track.external_ids.isrc\":\"track_external_ids_isrc\", \"track.external_urls.spotify\":\"track_external_ids_spotify\", \"track.href\":\"track_href\", \"track.id\":\"track_id\", \"track.is_local\":\"track_is_local\", \"track.popularity\":\"track_popularity\", \"track.preview_url\":\"track_preview_url\", \"track.track\":\"track_track\", \"track.track_number\":\"track_track_number\", \"track.type\":\"track_type\", \"video_thumbnail.url\":\"video_thumbnail_url\", \"external_urls.spotify\":\"external_urls_spotify\", \"followers.href\":\"followers_href\", \"followers.total\":\"followers_total\", \"owner.display_name\":\"owner_display_name\", \"owner.external_urls.spotify\":\"owner_external_urls_spotify\", \"owner.href\":\"owner_href\", \"owner.id\":\"owner_id\", \"owner.type\":\"owner_type\", \"owner.uri\":\"owner_uri\", \"tracks.href\":\"tracks_href\", \"tracks.limit\":\"tracks_limit\", \"tracks.next\":\"tracks_next\", \"tracks.offset\":\"tracks_offset\", \"tracks.previous\":\"tracks_previous\", \"tracks.total\":\"tracks_total\"})\n",
    "                                tracks = tracks.drop(columns=['track.album.artists', 'track.album.available_markets', 'track.album.images', 'track.artists', 'track.available_markets', 'images', 'tracks.items'])\n",
    "                                load_batch.append(tracks)\n",
    "                except:\n",
    "                        pass\n",
    "        load_batch = pd.concat(load_batch)\n",
    "        if set(['track.album.is_playable','track.album.restrictions.reason', 'track.external_ids.spotify', 'track.album.album_group']).issubset(load_batch.columns):\n",
    "                load_batch = load_batch.drop(columns=['track.album.is_playable', 'track.album.restrictions.reason', 'track.external_ids.spotify', 'track.is_playable', 'track.album.album_group'])\n",
    "        else:\n",
    "                load_batch\n",
    "        load_batch.to_sql('playlist_tracks', engine, if_exists='append')\n",
    "        print(f'playlist_tracks updated #{i}')\n",
    "        \n",
    "        # extract all artists\n",
    "        df = pd.read_sql('''SELECT DISTINCT track_uri FROM artists''', engine)\n",
    "        outer = load_batch.merge(df, how='outer', indicator=True)\n",
    "        anti_join = outer[(outer._merge=='left_only')].drop('_merge', axis=1)\n",
    "\n",
    "        df = pd.Series(anti_join['track_uri'])\n",
    "        base_list = []\n",
    "        for track in tqdm(df):\n",
    "                try:\n",
    "                        df2 = pd.json_normalize(sp.track(track), record_path=['artists'])\n",
    "                        df2['track_uri'] = track\n",
    "                        df2 = df2[['name', 'track_uri']]\n",
    "                        base_list.append(df2)\n",
    "                except:\n",
    "                        pass\n",
    "        df2 = pd.concat(base_list)\n",
    "        \n",
    "        df2['RN'] = df2.groupby(\"track_uri\")[\"name\"].rank(method=\"first\", ascending=True)\n",
    "        df2 = df2.pivot(index='track_uri', columns=['RN'], values='name').reset_index()\n",
    "        df2 = df2.rename(columns={1.0:'artist1', 2.0:'artist2', 3.0:'artist3', 4.0:'artist4', 5.0:'artist5'})\n",
    "        df2 = df2[['track_uri', 'artist1', 'artist2', 'artist3', 'artist4', 'artist5']]\n",
    "        \n",
    "        df2.to_sql('artists', engine, if_exists='append')\n",
    "        print(f'artists updated #{i}')\n",
    "        \n",
    "        # extract all audio_features\n",
    "        df = pd.read_sql('''SELECT DISTINCT track_uri FROM audio_features''', engine)\n",
    "        outer = load_batch.merge(df, how='outer', indicator=True)\n",
    "        anti_join = outer[(outer._merge=='left_only')].drop('_merge', axis=1)\n",
    "\n",
    "        df = pd.Series(anti_join['track_uri'])\n",
    "\n",
    "        base_list = []\n",
    "        for track in tqdm(df):\n",
    "                try:\n",
    "                        df3 = pd.json_normalize(sp.audio_features(track))\n",
    "                        df3['track_uri'] = track\n",
    "                        df3 = df3[['track_uri', 'danceability', 'energy', 'key', 'loudness', 'mode', 'speechiness', 'acousticness', 'instrumentalness', 'liveness', 'valence', 'tempo', 'duration_ms', 'time_signature']]\n",
    "                        base_list.append(df3)\n",
    "                except:\n",
    "                        pass\n",
    "        df3 = pd.concat(base_list)\n",
    "        \n",
    "        df3.to_sql('audio_features', con=engine, if_exists='append')\n",
    "        print(f'audio_features updated #{i}')"
   ]
  },
  {
   "cell_type": "code",
   "execution_count": 6,
   "metadata": {},
   "outputs": [
    {
     "name": "stderr",
     "output_type": "stream",
     "text": [
      " 11%|█         | 2/18 [00:00<00:05,  2.86it/s]HTTP Error for GET to https://api.spotify.com/v1/playlists/37i9dQZF1DX0jNl6iUx9qC/tracks with Params: {'limit': 100, 'offset': 0, 'fields': None, 'market': None, 'additional_types': 'track'} returned 404 due to Not found.\n",
      "100%|██████████| 18/18 [00:15<00:00,  1.16it/s]\n"
     ]
    },
    {
     "name": "stdout",
     "output_type": "stream",
     "text": [
      "playlist_tracks updated #1\n"
     ]
    },
    {
     "name": "stderr",
     "output_type": "stream",
     "text": [
      "100%|██████████| 524/524 [00:56<00:00,  9.27it/s]\n"
     ]
    },
    {
     "name": "stdout",
     "output_type": "stream",
     "text": [
      "artists updated #1\n"
     ]
    },
    {
     "name": "stderr",
     "output_type": "stream",
     "text": [
      "100%|██████████| 524/524 [00:45<00:00, 11.56it/s]\n"
     ]
    },
    {
     "name": "stdout",
     "output_type": "stream",
     "text": [
      "audio_features updated #1\n"
     ]
    },
    {
     "name": "stderr",
     "output_type": "stream",
     "text": [
      " 11%|█         | 2/18 [00:00<00:01,  8.53it/s]HTTP Error for GET to https://api.spotify.com/v1/playlists/37i9dQZF1DX0jNl6iUx9qC/tracks with Params: {'limit': 100, 'offset': 0, 'fields': None, 'market': None, 'additional_types': 'track'} returned 404 due to Not found.\n",
      "100%|██████████| 18/18 [00:13<00:00,  1.37it/s]\n"
     ]
    },
    {
     "name": "stdout",
     "output_type": "stream",
     "text": [
      "playlist_tracks updated #2\n"
     ]
    },
    {
     "name": "stderr",
     "output_type": "stream",
     "text": [
      "100%|██████████| 700/700 [01:16<00:00,  9.18it/s]\n"
     ]
    },
    {
     "name": "stdout",
     "output_type": "stream",
     "text": [
      "artists updated #2\n"
     ]
    },
    {
     "name": "stderr",
     "output_type": "stream",
     "text": [
      "100%|██████████| 700/700 [00:55<00:00, 12.63it/s]\n"
     ]
    },
    {
     "name": "stdout",
     "output_type": "stream",
     "text": [
      "audio_features updated #2\n"
     ]
    },
    {
     "name": "stderr",
     "output_type": "stream",
     "text": [
      " 11%|█         | 2/18 [00:00<00:02,  6.98it/s]HTTP Error for GET to https://api.spotify.com/v1/playlists/37i9dQZF1DX0jNl6iUx9qC/tracks with Params: {'limit': 100, 'offset': 0, 'fields': None, 'market': None, 'additional_types': 'track'} returned 404 due to Not found.\n",
      "100%|██████████| 18/18 [00:15<00:00,  1.15it/s]\n"
     ]
    },
    {
     "name": "stdout",
     "output_type": "stream",
     "text": [
      "playlist_tracks updated #3\n"
     ]
    },
    {
     "name": "stderr",
     "output_type": "stream",
     "text": [
      "  1%|          | 4/576 [00:00<01:46,  5.40it/s]Expected id of type track but found type episode spotify:episode:5xvcT60J0eoVXttoDh9hOn\n",
      "HTTP Error for GET to https://api.spotify.com/v1/tracks/5xvcT60J0eoVXttoDh9hOn with Params: {'market': None} returned 404 due to Non existing id: 'spotify:track:5xvcT60J0eoVXttoDh9hOn'\n",
      "  1%|          | 6/576 [00:01<01:31,  6.22it/s]Expected id of type track but found type episode spotify:episode:1NxaVvqibwKieA576RF9v3\n",
      "HTTP Error for GET to https://api.spotify.com/v1/tracks/1NxaVvqibwKieA576RF9v3 with Params: {'market': None} returned 404 due to Non existing id: 'spotify:track:1NxaVvqibwKieA576RF9v3'\n",
      "  1%|          | 7/576 [00:01<01:32,  6.14it/s]Expected id of type track but found type episode spotify:episode:0H8EqR2SzyfC5nOeYi2AMa\n",
      "HTTP Error for GET to https://api.spotify.com/v1/tracks/0H8EqR2SzyfC5nOeYi2AMa with Params: {'market': None} returned 404 due to Non existing id: 'spotify:track:0H8EqR2SzyfC5nOeYi2AMa'\n",
      "  1%|▏         | 8/576 [00:01<01:21,  6.93it/s]Expected id of type track but found type episode spotify:episode:0vjh0ByqByJ3lOQKD3CwXj\n",
      "HTTP Error for GET to https://api.spotify.com/v1/tracks/0vjh0ByqByJ3lOQKD3CwXj with Params: {'market': None} returned 404 due to Non existing id: 'spotify:track:0vjh0ByqByJ3lOQKD3CwXj'\n",
      "  2%|▏         | 9/576 [00:01<01:39,  5.73it/s]Expected id of type track but found type episode spotify:episode:3MPTdDzCRi1hGIiDGqqO6C\n",
      "HTTP Error for GET to https://api.spotify.com/v1/tracks/3MPTdDzCRi1hGIiDGqqO6C with Params: {'market': None} returned 404 due to Non existing id: 'spotify:track:3MPTdDzCRi1hGIiDGqqO6C'\n",
      "  2%|▏         | 10/576 [00:01<01:37,  5.79it/s]Expected id of type track but found type episode spotify:episode:178hThCmkecg9Zuoj1GJWu\n",
      "HTTP Error for GET to https://api.spotify.com/v1/tracks/178hThCmkecg9Zuoj1GJWu with Params: {'market': None} returned 404 due to Non existing id: 'spotify:track:178hThCmkecg9Zuoj1GJWu'\n",
      "  2%|▏         | 11/576 [00:01<01:42,  5.52it/s]Expected id of type track but found type episode spotify:episode:23gLbTEXmhluZNYMP4ASb0\n",
      "HTTP Error for GET to https://api.spotify.com/v1/tracks/23gLbTEXmhluZNYMP4ASb0 with Params: {'market': None} returned 404 due to Non existing id: 'spotify:track:23gLbTEXmhluZNYMP4ASb0'\n",
      "  6%|▌         | 35/576 [00:06<01:58,  4.55it/s]Expected id of type track but found type episode spotify:episode:1eyY8771G9pLhyQM7dt1ct\n",
      "HTTP Error for GET to https://api.spotify.com/v1/tracks/1eyY8771G9pLhyQM7dt1ct with Params: {'market': None} returned 404 due to Non existing id: 'spotify:track:1eyY8771G9pLhyQM7dt1ct'\n",
      "  7%|▋         | 40/576 [00:07<01:45,  5.09it/s]Expected id of type track but found type episode spotify:episode:4QOrHtllq3KXO35ly9wNf8\n",
      "HTTP Error for GET to https://api.spotify.com/v1/tracks/4QOrHtllq3KXO35ly9wNf8 with Params: {'market': None} returned 404 due to Non existing id: 'spotify:track:4QOrHtllq3KXO35ly9wNf8'\n",
      "  7%|▋         | 42/576 [00:08<01:27,  6.08it/s]Expected id of type track but found type episode spotify:episode:2ddjxa8FCjc3J8DkDZ5RiG\n",
      "HTTP Error for GET to https://api.spotify.com/v1/tracks/2ddjxa8FCjc3J8DkDZ5RiG with Params: {'market': None} returned 404 due to Non existing id: 'spotify:track:2ddjxa8FCjc3J8DkDZ5RiG'\n",
      "Expected id of type track but found type episode spotify:episode:6Uebd8dEimsU2Ey9f32SGN\n",
      "HTTP Error for GET to https://api.spotify.com/v1/tracks/6Uebd8dEimsU2Ey9f32SGN with Params: {'market': None} returned 404 due to Non existing id: 'spotify:track:6Uebd8dEimsU2Ey9f32SGN'\n",
      "  8%|▊         | 44/576 [00:08<01:11,  7.48it/s]Expected id of type track but found type episode spotify:episode:6qLCsex6vbdKNYkzLTj9XP\n",
      "HTTP Error for GET to https://api.spotify.com/v1/tracks/6qLCsex6vbdKNYkzLTj9XP with Params: {'market': None} returned 404 due to Non existing id: 'spotify:track:6qLCsex6vbdKNYkzLTj9XP'\n",
      "Expected id of type track but found type episode spotify:episode:7wLcXaKk21TGKD6KSKAnO6\n",
      "HTTP Error for GET to https://api.spotify.com/v1/tracks/7wLcXaKk21TGKD6KSKAnO6 with Params: {'market': None} returned 404 due to Non existing id: 'spotify:track:7wLcXaKk21TGKD6KSKAnO6'\n",
      "100%|██████████| 576/576 [01:05<00:00,  8.78it/s]\n"
     ]
    },
    {
     "name": "stdout",
     "output_type": "stream",
     "text": [
      "artists updated #3\n"
     ]
    },
    {
     "name": "stderr",
     "output_type": "stream",
     "text": [
      "  1%|          | 4/576 [00:00<00:51, 11.10it/s]Expected id of type track but found type episode spotify:episode:5xvcT60J0eoVXttoDh9hOn\n",
      "  1%|          | 6/576 [00:00<00:47, 11.95it/s]Expected id of type track but found type episode spotify:episode:1NxaVvqibwKieA576RF9v3\n",
      "Expected id of type track but found type episode spotify:episode:0H8EqR2SzyfC5nOeYi2AMa\n",
      "  1%|▏         | 8/576 [00:00<00:43, 12.95it/s]Expected id of type track but found type episode spotify:episode:0vjh0ByqByJ3lOQKD3CwXj\n",
      "Expected id of type track but found type episode spotify:episode:3MPTdDzCRi1hGIiDGqqO6C\n",
      "  2%|▏         | 10/576 [00:00<00:41, 13.48it/s]Expected id of type track but found type episode spotify:episode:178hThCmkecg9Zuoj1GJWu\n",
      "Expected id of type track but found type episode spotify:episode:23gLbTEXmhluZNYMP4ASb0\n",
      "  6%|▌         | 34/576 [00:02<00:35, 15.21it/s]Expected id of type track but found type episode spotify:episode:1eyY8771G9pLhyQM7dt1ct\n",
      "  7%|▋         | 40/576 [00:02<00:35, 15.17it/s]Expected id of type track but found type episode spotify:episode:4QOrHtllq3KXO35ly9wNf8\n",
      "  7%|▋         | 42/576 [00:02<00:34, 15.35it/s]Expected id of type track but found type episode spotify:episode:2ddjxa8FCjc3J8DkDZ5RiG\n",
      "Expected id of type track but found type episode spotify:episode:6Uebd8dEimsU2Ey9f32SGN\n",
      "  8%|▊         | 44/576 [00:03<00:38, 14.00it/s]Expected id of type track but found type episode spotify:episode:6qLCsex6vbdKNYkzLTj9XP\n",
      "Expected id of type track but found type episode spotify:episode:7wLcXaKk21TGKD6KSKAnO6\n",
      "100%|██████████| 576/576 [00:49<00:00, 11.56it/s]\n"
     ]
    },
    {
     "name": "stdout",
     "output_type": "stream",
     "text": [
      "audio_features updated #3\n"
     ]
    },
    {
     "name": "stderr",
     "output_type": "stream",
     "text": [
      " 11%|█         | 2/18 [00:00<00:02,  6.82it/s]HTTP Error for GET to https://api.spotify.com/v1/playlists/37i9dQZF1DX0jNl6iUx9qC/tracks with Params: {'limit': 100, 'offset': 0, 'fields': None, 'market': None, 'additional_types': 'track'} returned 404 due to Not found.\n",
      " 67%|██████▋   | 12/18 [00:11<00:08,  1.35s/it]HTTP Error for GET to https://api.spotify.com/v1/playlists/6YYMc3ghgOHVE8aC2N2vMw/tracks with Params: {'limit': 100, 'offset': 0, 'fields': None, 'market': None, 'additional_types': 'track'} returned 404 due to Not found.\n",
      "100%|██████████| 18/18 [00:16<00:00,  1.11it/s]\n"
     ]
    },
    {
     "name": "stdout",
     "output_type": "stream",
     "text": [
      "playlist_tracks updated #4\n"
     ]
    },
    {
     "name": "stderr",
     "output_type": "stream",
     "text": [
      "100%|██████████| 987/987 [01:43<00:00,  9.51it/s]\n"
     ]
    },
    {
     "name": "stdout",
     "output_type": "stream",
     "text": [
      "artists updated #4\n"
     ]
    },
    {
     "name": "stderr",
     "output_type": "stream",
     "text": [
      "100%|██████████| 988/988 [01:20<00:00, 12.21it/s]\n"
     ]
    },
    {
     "name": "stdout",
     "output_type": "stream",
     "text": [
      "audio_features updated #4\n"
     ]
    },
    {
     "name": "stderr",
     "output_type": "stream",
     "text": [
      " 11%|█         | 2/18 [00:00<00:02,  7.30it/s]HTTP Error for GET to https://api.spotify.com/v1/playlists/37i9dQZF1DX0jNl6iUx9qC/tracks with Params: {'limit': 100, 'offset': 0, 'fields': None, 'market': None, 'additional_types': 'track'} returned 404 due to Not found.\n",
      "HTTP Error for GET to https://api.spotify.com/v1/playlists/6YYMc3ghgOHVE8aC2N2vMw/tracks with Params: {'limit': 100, 'offset': 0, 'fields': None, 'market': None, 'additional_types': 'track'} returned 404 due to Not found.\n",
      "100%|██████████| 18/18 [00:15<00:00,  1.15it/s]\n"
     ]
    },
    {
     "name": "stdout",
     "output_type": "stream",
     "text": [
      "playlist_tracks updated #5\n"
     ]
    },
    {
     "name": "stderr",
     "output_type": "stream",
     "text": [
      "100%|██████████| 822/822 [01:31<00:00,  8.96it/s]\n"
     ]
    },
    {
     "name": "stdout",
     "output_type": "stream",
     "text": [
      "artists updated #5\n"
     ]
    },
    {
     "name": "stderr",
     "output_type": "stream",
     "text": [
      "100%|██████████| 822/822 [01:02<00:00, 13.05it/s]\n"
     ]
    },
    {
     "name": "stdout",
     "output_type": "stream",
     "text": [
      "audio_features updated #5\n"
     ]
    },
    {
     "name": "stderr",
     "output_type": "stream",
     "text": [
      "  6%|▌         | 1/18 [00:00<00:03,  4.30it/s]HTTP Error for GET to https://api.spotify.com/v1/playlists/37i9dQZF1DX0jNl6iUx9qC/tracks with Params: {'limit': 100, 'offset': 0, 'fields': None, 'market': None, 'additional_types': 'track'} returned 404 due to Not found.\n",
      " 11%|█         | 2/18 [00:00<00:03,  5.09it/s]HTTP Error for GET to https://api.spotify.com/v1/playlists/6YYMc3ghgOHVE8aC2N2vMw/tracks with Params: {'limit': 100, 'offset': 0, 'fields': None, 'market': None, 'additional_types': 'track'} returned 404 due to Not found.\n",
      "100%|██████████| 18/18 [00:12<00:00,  1.47it/s]\n"
     ]
    },
    {
     "name": "stdout",
     "output_type": "stream",
     "text": [
      "playlist_tracks updated #6\n"
     ]
    },
    {
     "name": "stderr",
     "output_type": "stream",
     "text": [
      "100%|██████████| 569/569 [00:56<00:00, 10.05it/s]\n"
     ]
    },
    {
     "name": "stdout",
     "output_type": "stream",
     "text": [
      "artists updated #6\n"
     ]
    },
    {
     "name": "stderr",
     "output_type": "stream",
     "text": [
      "100%|██████████| 570/570 [00:52<00:00, 10.94it/s]\n"
     ]
    },
    {
     "name": "stdout",
     "output_type": "stream",
     "text": [
      "audio_features updated #6\n"
     ]
    },
    {
     "name": "stderr",
     "output_type": "stream",
     "text": [
      "  0%|          | 0/18 [00:00<?, ?it/s]HTTP Error for GET to https://api.spotify.com/v1/playlists/37i9dQZF1DX0jNl6iUx9qC/tracks with Params: {'limit': 100, 'offset': 0, 'fields': None, 'market': None, 'additional_types': 'track'} returned 404 due to Not found.\n",
      " 11%|█         | 2/18 [00:00<00:02,  5.70it/s]HTTP Error for GET to https://api.spotify.com/v1/playlists/6YYMc3ghgOHVE8aC2N2vMw/tracks with Params: {'limit': 100, 'offset': 0, 'fields': None, 'market': None, 'additional_types': 'track'} returned 404 due to Not found.\n",
      "100%|██████████| 18/18 [00:17<00:00,  1.01it/s]\n"
     ]
    },
    {
     "name": "stdout",
     "output_type": "stream",
     "text": [
      "playlist_tracks updated #7\n"
     ]
    },
    {
     "name": "stderr",
     "output_type": "stream",
     "text": [
      " 24%|██▎       | 196/829 [00:20<01:00, 10.40it/s]Expected id of type track but found type episode spotify:episode:1cGMaqvEzDEWAD7ZMIxWFQ\n",
      "HTTP Error for GET to https://api.spotify.com/v1/tracks/1cGMaqvEzDEWAD7ZMIxWFQ with Params: {'market': None} returned 404 due to Non existing id: 'spotify:track:1cGMaqvEzDEWAD7ZMIxWFQ'\n",
      " 38%|███▊      | 318/829 [00:32<00:47, 10.86it/s]Expected id of type track but found type episode spotify:episode:3zCR9HGr0GIQnZhRIxBUvK\n",
      "HTTP Error for GET to https://api.spotify.com/v1/tracks/3zCR9HGr0GIQnZhRIxBUvK with Params: {'market': None} returned 404 due to Non existing id: 'spotify:track:3zCR9HGr0GIQnZhRIxBUvK'\n",
      "100%|██████████| 829/829 [01:26<00:00,  9.55it/s]\n"
     ]
    },
    {
     "name": "stdout",
     "output_type": "stream",
     "text": [
      "artists updated #7\n"
     ]
    },
    {
     "name": "stderr",
     "output_type": "stream",
     "text": [
      " 24%|██▍       | 198/831 [00:18<00:40, 15.52it/s]Expected id of type track but found type episode spotify:episode:1cGMaqvEzDEWAD7ZMIxWFQ\n",
      " 39%|███▊      | 320/831 [00:26<00:32, 15.73it/s]Expected id of type track but found type episode spotify:episode:3zCR9HGr0GIQnZhRIxBUvK\n",
      "100%|██████████| 831/831 [01:14<00:00, 11.10it/s]\n"
     ]
    },
    {
     "name": "stdout",
     "output_type": "stream",
     "text": [
      "audio_features updated #7\n"
     ]
    },
    {
     "name": "stderr",
     "output_type": "stream",
     "text": [
      "  6%|▌         | 1/18 [00:00<00:01,  9.87it/s]HTTP Error for GET to https://api.spotify.com/v1/playlists/37i9dQZF1DX0jNl6iUx9qC/tracks with Params: {'limit': 100, 'offset': 0, 'fields': None, 'market': None, 'additional_types': 'track'} returned 404 due to Not found.\n",
      " 11%|█         | 2/18 [00:00<00:01,  8.90it/s]HTTP Error for GET to https://api.spotify.com/v1/playlists/6YYMc3ghgOHVE8aC2N2vMw/tracks with Params: {'limit': 100, 'offset': 0, 'fields': None, 'market': None, 'additional_types': 'track'} returned 404 due to Not found.\n",
      " 50%|█████     | 9/18 [00:04<00:06,  1.48it/s]HTTP Error for GET to https://api.spotify.com/v1/playlists/37i9dQZF1DXcyPBAlQvdpJ/tracks with Params: {'limit': 100, 'offset': 0, 'fields': None, 'market': None, 'additional_types': 'track'} returned 404 due to Not found.\n",
      "100%|██████████| 18/18 [00:14<00:00,  1.26it/s]\n"
     ]
    },
    {
     "name": "stdout",
     "output_type": "stream",
     "text": [
      "playlist_tracks updated #8\n"
     ]
    },
    {
     "name": "stderr",
     "output_type": "stream",
     "text": [
      "100%|██████████| 1151/1151 [01:55<00:00, 10.00it/s]\n"
     ]
    },
    {
     "name": "stdout",
     "output_type": "stream",
     "text": [
      "artists updated #8\n"
     ]
    },
    {
     "name": "stderr",
     "output_type": "stream",
     "text": [
      "100%|██████████| 1152/1152 [01:36<00:00, 11.92it/s]\n"
     ]
    },
    {
     "name": "stdout",
     "output_type": "stream",
     "text": [
      "audio_features updated #8\n"
     ]
    }
   ],
   "source": [
    "i = 1\n",
    "\n",
    "while i <= 8:\n",
    "    load_all_data()\n",
    "    i += 1"
   ]
  },
  {
   "cell_type": "code",
   "execution_count": 7,
   "metadata": {},
   "outputs": [],
   "source": [
    "all_data1 = pd.read_sql('''SELECT DISTINCT playlist_uri, playlist_name, owner_uri, owner_display_name, collaborative, description, followers_total,\n",
    "af.track_uri, track_name, artist1, artist2, artist3, artist4, artist5, album_uri, album_name, release_date, \n",
    "added_by_uri, added_at, track_album_total_tracks, af.duration_ms, \"isExplicit\", track_popularity, \n",
    "track_preview_url, video_thumbnail_url, danceability, energy, loudness, key, mode, acousticness, speechiness, \n",
    "instrumentalness, liveness, valence, tempo, time_signature\n",
    "FROM playlist_tracks pt\n",
    "JOIN artists a ON pt.track_uri = a.track_uri\n",
    "JOIN audio_features af ON pt.track_uri = af.track_uri\n",
    "ORDER BY playlist_uri, track_uri\n",
    "LIMIT 1894425;''', engine)\n",
    "f = open(\"C:\\\\Users\\\\Chase\\\\OneDrive\\\\Documents\\\\Career Development\\\\Data Science Club\\\\Spring 2023 Club Project\\\\oltp_output1.csv\", \"w\")\n",
    "f.truncate()\n",
    "f.close()\n",
    "\n",
    "all_data1.to_csv('C:\\\\Users\\\\Chase\\\\OneDrive\\\\Documents\\\\Career Development\\\\Data Science Club\\\\Spring 2023 Club Project\\\\oltp_output1.csv', mode=\"w+\", index=False)"
   ]
  },
  {
   "cell_type": "code",
   "execution_count": 8,
   "metadata": {},
   "outputs": [],
   "source": [
    "all_data2 = pd.read_sql('''SELECT DISTINCT playlist_uri, playlist_name, owner_uri, owner_display_name, collaborative, description, followers_total,\n",
    "af.track_uri, track_name, artist1, artist2, artist3, artist4, artist5, album_uri, album_name, release_date, \n",
    "added_by_uri, added_at, track_album_total_tracks, af.duration_ms, \"isExplicit\", track_popularity, \n",
    "track_preview_url, video_thumbnail_url, danceability, energy, loudness, key, mode, acousticness, speechiness, \n",
    "instrumentalness, liveness, valence, tempo, time_signature\n",
    "FROM playlist_tracks pt\n",
    "JOIN artists a ON pt.track_uri = a.track_uri\n",
    "JOIN audio_features af ON pt.track_uri = af.track_uri\n",
    "ORDER BY playlist_uri, track_uri\n",
    "OFFSET 1894425;''', engine)\n",
    "f = open(\"C:\\\\Users\\\\Chase\\\\OneDrive\\\\Documents\\\\Career Development\\\\Data Science Club\\\\Spring 2023 Club Project\\\\oltp_output2.csv\", \"w\")\n",
    "f.truncate()\n",
    "f.close()\n",
    "\n",
    "all_data2.to_csv('C:\\\\Users\\\\Chase\\\\OneDrive\\\\Documents\\\\Career Development\\\\Data Science Club\\\\Spring 2023 Club Project\\\\oltp_output2.csv', mode=\"w+\", index=False)"
   ]
  },
  {
   "cell_type": "code",
   "execution_count": 9,
   "metadata": {},
   "outputs": [],
   "source": [
    "features1 = all_data1[['track_uri', 'track_name', 'artist1', 'artist2', 'artist3', 'artist4', 'artist5', 'album_name', 'release_date', 'danceability', 'energy', 'track_popularity', 'acousticness', 'valence', 'tempo']]\n",
    "features2 = all_data2[['track_uri', 'track_name', 'artist1', 'artist2', 'artist3', 'artist4', 'artist5', 'album_name', 'release_date', 'danceability', 'energy', 'track_popularity', 'acousticness', 'valence', 'tempo']]\n",
    "features = pd.concat([features1, features2])\n",
    "features = features.drop_duplicates(subset='track_uri')\n",
    "features.to_parquet('C:\\\\Users\\\\Chase\\\\OneDrive\\\\Documents\\\\UVU-2022-2023\\\\features.parquet.gzip', compression='gzip')"
   ]
  }
 ],
 "metadata": {
  "kernelspec": {
   "display_name": "base",
   "language": "python",
   "name": "python3"
  },
  "language_info": {
   "codemirror_mode": {
    "name": "ipython",
    "version": 3
   },
   "file_extension": ".py",
   "mimetype": "text/x-python",
   "name": "python",
   "nbconvert_exporter": "python",
   "pygments_lexer": "ipython3",
   "version": "3.9.12"
  },
  "vscode": {
   "interpreter": {
    "hash": "93b5e9cdcd0e28194f38e9cc58755c27f28a497cb713889038a7c6359ab34ab6"
   }
  }
 },
 "nbformat": 4,
 "nbformat_minor": 2
}
