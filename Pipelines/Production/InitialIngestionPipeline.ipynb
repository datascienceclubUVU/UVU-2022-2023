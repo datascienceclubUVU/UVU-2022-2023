{
 "cells": [
  {
   "attachments": {},
   "cell_type": "markdown",
   "metadata": {},
   "source": [
    "## Import All Required Libraries"
   ]
  },
  {
   "cell_type": "code",
   "execution_count": 8,
   "metadata": {},
   "outputs": [],
   "source": [
    "# Import all connection libraries\n",
    "\n",
    "from spotipy import SpotifyClientCredentials\n",
    "import spotipy\n",
    "import sqlalchemy as sql\n",
    "\n",
    "# Import all data manipulation libraries\n",
    "\n",
    "import pandas as pd\n",
    "from pandarallel import pandarallel\n",
    "from tqdm import tqdm\n",
    "pandarallel.initialize(verbose=0, nb_workers=8)"
   ]
  },
  {
   "cell_type": "code",
   "execution_count": 9,
   "metadata": {},
   "outputs": [],
   "source": [
    "from functools import lru_cache\n",
    "\n",
    "# Use the lru_cache decorator to cache the result of the function\n",
    "# maxsize=1000 means the cache will store the result of up to 1000 items\n",
    "@lru_cache(maxsize=1000)\n",
    "def get_playlist_tracks(playlist_uri):\n",
    "    \"\"\"\n",
    "    This function uses the Spotify API to get the tracks of a given playlist.\n",
    "    The function is decorated with the lru_cache decorator to cache the result for each unique playlist_uri.\n",
    "    So, if the same playlist_uri is passed to the function again, the cached result will be returned\n",
    "    instead of making a new API call.\n",
    "    :param playlist_uri: The Spotify URI of the playlist\n",
    "    :return: A DataFrame containing the tracks of the playlist\n",
    "    \"\"\"\n",
    "    # Use the Spotify API to get the tracks of the playlist\n",
    "    tracks = pd.json_normalize(sp.playlist_tracks(playlist_uri), record_path=['items'])\n",
    "    return tracks"
   ]
  },
  {
   "attachments": {},
   "cell_type": "markdown",
   "metadata": {},
   "source": [
    "## Establish External Connections"
   ]
  },
  {
   "cell_type": "code",
   "execution_count": 10,
   "metadata": {},
   "outputs": [],
   "source": [
    "# establish connection to Spotify API\n",
    "\n",
    "cid = 'e5448a8a4fdc4b5d98b44e956d50546d'\n",
    "secret = '8924c0394d3f49a4a569fc03e891aa1b'\n",
    "client_credentials = SpotifyClientCredentials(client_id=cid, client_secret=secret)\n",
    "sp = spotipy.Spotify(client_credentials_manager=client_credentials, requests_timeout=15, retries=10)\n",
    "\n",
    "# establish connection to Postgres\n",
    "\n",
    "engine = sql.create_engine('postgresql+psycopg2://postgres:DataNerd2023!!\\\n",
    "@localhost/spotify')"
   ]
  },
  {
   "attachments": {},
   "cell_type": "markdown",
   "metadata": {},
   "source": [
    "## Load Initial Training Data"
   ]
  },
  {
   "cell_type": "code",
   "execution_count": 11,
   "metadata": {},
   "outputs": [
    {
     "data": {
      "text/html": [
       "<div>\n",
       "<style scoped>\n",
       "    .dataframe tbody tr th:only-of-type {\n",
       "        vertical-align: middle;\n",
       "    }\n",
       "\n",
       "    .dataframe tbody tr th {\n",
       "        vertical-align: top;\n",
       "    }\n",
       "\n",
       "    .dataframe thead th {\n",
       "        text-align: right;\n",
       "    }\n",
       "</style>\n",
       "<table border=\"1\" class=\"dataframe\">\n",
       "  <thead>\n",
       "    <tr style=\"text-align: right;\">\n",
       "      <th></th>\n",
       "      <th>playlist_uri</th>\n",
       "      <th>playlist_name</th>\n",
       "    </tr>\n",
       "  </thead>\n",
       "  <tbody>\n",
       "    <tr>\n",
       "      <th>21594</th>\n",
       "      <td>spotify:playlist:6sMA1iVw7FJITbNiyQ61gN</td>\n",
       "      <td>Deep House</td>\n",
       "    </tr>\n",
       "    <tr>\n",
       "      <th>21630</th>\n",
       "      <td>spotify:playlist:6Ty7qmLRJ9VtQNRqWnJ2Ri</td>\n",
       "      <td>Deep House Hits Of 2022 ????</td>\n",
       "    </tr>\n",
       "    <tr>\n",
       "      <th>21648</th>\n",
       "      <td>spotify:playlist:6uKNmcODYgHdXLQMIk39TL</td>\n",
       "      <td>Melodic/Future Edm ??????</td>\n",
       "    </tr>\n",
       "    <tr>\n",
       "      <th>21649</th>\n",
       "      <td>spotify:playlist:6uLCXnxhKOzRUPxKaOLXOT</td>\n",
       "      <td>EDM GYM??</td>\n",
       "    </tr>\n",
       "    <tr>\n",
       "      <th>21650</th>\n",
       "      <td>spotify:playlist:6umLNzqKyMs1vLkiJ9Rvck</td>\n",
       "      <td>House Vibes</td>\n",
       "    </tr>\n",
       "    <tr>\n",
       "      <th>21651</th>\n",
       "      <td>spotify:playlist:6Ummwp97WvACOWWMLHwH3X</td>\n",
       "      <td>Party EDM Pop 2010-2023</td>\n",
       "    </tr>\n",
       "    <tr>\n",
       "      <th>21652</th>\n",
       "      <td>spotify:playlist:6UnkPIOyfeM7rn05wPQxkQ</td>\n",
       "      <td>90s and 2000s country singalong</td>\n",
       "    </tr>\n",
       "    <tr>\n",
       "      <th>21653</th>\n",
       "      <td>spotify:playlist:6UofYj6sUZMta7p5HxwtRP</td>\n",
       "      <td>Melhor do POP ROCK 2022</td>\n",
       "    </tr>\n",
       "    <tr>\n",
       "      <th>21654</th>\n",
       "      <td>spotify:playlist:6UoRPw77RjifgKdN7jB84h</td>\n",
       "      <td>Club House Music</td>\n",
       "    </tr>\n",
       "    <tr>\n",
       "      <th>21655</th>\n",
       "      <td>spotify:playlist:6uptNznGPqfE14mFYKLnMl</td>\n",
       "      <td>Pop-Rock Català: Clàssics</td>\n",
       "    </tr>\n",
       "  </tbody>\n",
       "</table>\n",
       "</div>"
      ],
      "text/plain": [
       "                                  playlist_uri  \\\n",
       "21594  spotify:playlist:6sMA1iVw7FJITbNiyQ61gN   \n",
       "21630  spotify:playlist:6Ty7qmLRJ9VtQNRqWnJ2Ri   \n",
       "21648  spotify:playlist:6uKNmcODYgHdXLQMIk39TL   \n",
       "21649  spotify:playlist:6uLCXnxhKOzRUPxKaOLXOT   \n",
       "21650  spotify:playlist:6umLNzqKyMs1vLkiJ9Rvck   \n",
       "21651  spotify:playlist:6Ummwp97WvACOWWMLHwH3X   \n",
       "21652  spotify:playlist:6UnkPIOyfeM7rn05wPQxkQ   \n",
       "21653  spotify:playlist:6UofYj6sUZMta7p5HxwtRP   \n",
       "21654  spotify:playlist:6UoRPw77RjifgKdN7jB84h   \n",
       "21655  spotify:playlist:6uptNznGPqfE14mFYKLnMl   \n",
       "\n",
       "                         playlist_name  \n",
       "21594                       Deep House  \n",
       "21630     Deep House Hits Of 2022 ????  \n",
       "21648        Melodic/Future Edm ??????  \n",
       "21649                        EDM GYM??  \n",
       "21650                      House Vibes  \n",
       "21651          Party EDM Pop 2010-2023  \n",
       "21652  90s and 2000s country singalong  \n",
       "21653          Melhor do POP ROCK 2022  \n",
       "21654                 Club House Music  \n",
       "21655        Pop-Rock Català: Clàssics  "
      ]
     },
     "execution_count": 11,
     "metadata": {},
     "output_type": "execute_result"
    }
   ],
   "source": [
    "# load training data\n",
    "new_batch = pd.read_csv('C:\\\\Users\\\\Chase\\\\OneDrive\\\\Documents\\\\UVU-2022-2023\\\\distinct_playlists_new.csv')[['playlist_uri', 'playlist_name']]\n",
    "new_batch['playlist_uri'] = new_batch['playlist_uri'].str.strip()\n",
    "\n",
    "db_query = pd.read_sql('SELECT DISTINCT playlist_uri FROM playlist_tracks', engine)\n",
    "\n",
    "outer = new_batch.merge(db_query, how='outer', indicator=True)\n",
    "anti_join = outer[(outer._merge=='left_only')].drop('_merge', axis=1)\n",
    "\n",
    "new_batch = pd.DataFrame(anti_join)\n",
    "new_batch.head(10)"
   ]
  },
  {
   "attachments": {},
   "cell_type": "markdown",
   "metadata": {},
   "source": [
    "## Iterate Through Training Data to Change Grain of Data"
   ]
  },
  {
   "cell_type": "code",
   "execution_count": 12,
   "metadata": {},
   "outputs": [],
   "source": [
    "def load_all_data():\n",
    "        # load training data\n",
    "        new_batch = pd.read_csv('C:\\\\Users\\\\Chase\\\\OneDrive\\\\Documents\\\\UVU-2022-2023\\\\distinct_playlists_new.csv')[['playlist_uri', 'playlist_name']]\n",
    "        new_batch['playlist_uri'] = new_batch['playlist_uri'].str.strip()\n",
    "\n",
    "        db_query = pd.read_sql('SELECT DISTINCT playlist_uri FROM playlist_tracks', engine)\n",
    "\n",
    "        outer = new_batch.merge(db_query, how='outer', indicator=True)\n",
    "        anti_join = outer[(outer._merge=='left_only')].drop('_merge', axis=1)\n",
    "\n",
    "        new_batch = pd.DataFrame(anti_join)\n",
    "        new_batch = new_batch[0:20]\n",
    "        \n",
    "        # extract all tracks in playlists\n",
    "        load_batch = []\n",
    "        series = new_batch['playlist_uri'].to_dict()\n",
    "        for playlist in tqdm(series.values()):\n",
    "                try:\n",
    "                        tracks = get_playlist_tracks(playlist)\n",
    "                        if len(tracks) >= 100:\n",
    "                                tracks2 = pd.json_normalize(sp.playlist_tracks(playlist, offset=100), record_path=['items'])\n",
    "                                tracks3 = pd.json_normalize(sp.playlist_tracks(playlist, offset=200), record_path=['items'])\n",
    "                                tracks = pd.concat([tracks, tracks2, tracks3])\n",
    "                                secondary_data = pd.json_normalize(sp.playlist(playlist))\n",
    "                                tracks['playlist_uri'] = playlist\n",
    "                                tracks = tracks.merge(secondary_data, left_on='playlist_uri', right_on='uri')\n",
    "                                tracks = tracks.rename(columns={\"name\":\"playlist_name\", \"track.name\":\"track_name\", \"track.uri\":\"track_uri\", \"track.album.name\":\"album_name\", \"track.explicit\":\"isExplicit\", \"track.album.release_date\":\"release_date\", \"track.duration_ms\":\"duration_ms\", \"track.album.uri\":\"album_uri\", \"added_by.external_urls.spotify\": \"added_by_external_urls_spotify\", 'added_by.href':\"added_by_href\", \"added_by.id\":\"added_by_id\", \"added_by.type\":\"added_by_type\", \"added_by.uri\":\"added_by_uri\", \"track.album.album_type\":\"track_album_album_type\", \"track.album.external_urls.spotify\":\"track_album_external_urls_spotify\", \"track.album.href\":\"track_album_href\", \"track.album.id\":\"track_album_id\", \"track.album.release_date_precision\":\"track_album_release_date_precision\", \"track.album.total_tracks\":\"track_album_total_tracks\",\"track.album.type\":\"track_album_type\", \"track.disc_number\":\"track_disc_number\", \"track.episode\":\"track_episode\", \"track.external_ids.isrc\":\"track_external_ids_isrc\", \"track.external_urls.spotify\":\"track_external_ids_spotify\", \"track.href\":\"track_href\", \"track.id\":\"track_id\", \"track.is_local\":\"track_is_local\", \"track.popularity\":\"track_popularity\", \"track.preview_url\":\"track_preview_url\", \"track.track\":\"track_track\", \"track.track_number\":\"track_track_number\", \"track.type\":\"track_type\", \"video_thumbnail.url\":\"video_thumbnail_url\", \"external_urls.spotify\":\"external_urls_spotify\", \"followers.href\":\"followers_href\", \"followers.total\":\"followers_total\", \"owner.display_name\":\"owner_display_name\", \"owner.external_urls.spotify\":\"owner_external_urls_spotify\", \"owner.href\":\"owner_href\", \"owner.id\":\"owner_id\", \"owner.type\":\"owner_type\", \"owner.uri\":\"owner_uri\", \"tracks.href\":\"tracks_href\", \"tracks.limit\":\"tracks_limit\", \"tracks.next\":\"tracks_next\", \"tracks.offset\":\"tracks_offset\", \"tracks.previous\":\"tracks_previous\", \"tracks.total\":\"tracks_total\"})\n",
    "                                tracks = tracks.drop(columns=['track.album.artists', 'track.album.available_markets', 'track.album.images', 'track.artists', 'track.available_markets', 'images', 'tracks.items'])\n",
    "\n",
    "                                load_batch.append(tracks)\n",
    "                        else:\n",
    "                                secondary_data = pd.json_normalize(sp.playlist(playlist))\n",
    "                                tracks['playlist_uri'] = playlist\n",
    "                                tracks = tracks.merge(secondary_data, left_on='playlist_uri', right_on='uri')\n",
    "                                tracks = tracks.rename(columns={\"name\":\"playlist_name\", \"track.name\":\"track_name\", \"track.uri\":\"track_uri\", \"track.album.name\":\"album_name\", \"track.explicit\":\"isExplicit\", \"track.album.release_date\":\"release_date\", \"track.duration_ms\":\"duration_ms\", \"track.album.uri\":\"album_uri\", \"added_by.external_urls.spotify\": \"added_by_external_urls_spotify\", 'added_by.href':\"added_by_href\", \"added_by.id\":\"added_by_id\", \"added_by.type\":\"added_by_type\", \"added_by.uri\":\"added_by_uri\", \"track.album.album_type\":\"track_album_album_type\", \"track.album.external_urls.spotify\":\"track_album_external_urls_spotify\", \"track.album.href\":\"track_album_href\", \"track.album.id\":\"track_album_id\", \"track.album.release_date_precision\":\"track_album_release_date_precision\", \"track.album.total_tracks\":\"track_album_total_tracks\",\"track.album.type\":\"track_album_type\", \"track.disc_number\":\"track_disc_number\", \"track.episode\":\"track_episode\", \"track.external_ids.isrc\":\"track_external_ids_isrc\", \"track.external_urls.spotify\":\"track_external_ids_spotify\", \"track.href\":\"track_href\", \"track.id\":\"track_id\", \"track.is_local\":\"track_is_local\", \"track.popularity\":\"track_popularity\", \"track.preview_url\":\"track_preview_url\", \"track.track\":\"track_track\", \"track.track_number\":\"track_track_number\", \"track.type\":\"track_type\", \"video_thumbnail.url\":\"video_thumbnail_url\", \"external_urls.spotify\":\"external_urls_spotify\", \"followers.href\":\"followers_href\", \"followers.total\":\"followers_total\", \"owner.display_name\":\"owner_display_name\", \"owner.external_urls.spotify\":\"owner_external_urls_spotify\", \"owner.href\":\"owner_href\", \"owner.id\":\"owner_id\", \"owner.type\":\"owner_type\", \"owner.uri\":\"owner_uri\", \"tracks.href\":\"tracks_href\", \"tracks.limit\":\"tracks_limit\", \"tracks.next\":\"tracks_next\", \"tracks.offset\":\"tracks_offset\", \"tracks.previous\":\"tracks_previous\", \"tracks.total\":\"tracks_total\"})\n",
    "                                tracks = tracks.drop(columns=['track.album.artists', 'track.album.available_markets', 'track.album.images', 'track.artists', 'track.available_markets', 'images', 'tracks.items'])\n",
    "                                load_batch.append(tracks)\n",
    "                except:\n",
    "                        pass\n",
    "        load_batch = pd.concat(load_batch)\n",
    "        if set(['track.album.is_playable','track.album.restrictions.reason', 'track.external_ids.spotify']).issubset(load_batch.columns):\n",
    "                load_batch = load_batch.drop(columns=['track.album.is_playable', 'track.album.restrictions.reason', 'track.external_ids.spotify', 'track.is_playable'])\n",
    "        else:\n",
    "                load_batch\n",
    "        load_batch.to_sql('playlist_tracks', engine, if_exists='append')\n",
    "        print(f'playlist_tracks updated #{i}')\n",
    "        \n",
    "        # extract all artists\n",
    "        df = pd.read_sql('''SELECT DISTINCT track_uri FROM artists''', engine)\n",
    "        outer = load_batch.merge(df, how='outer', indicator=True)\n",
    "        anti_join = outer[(outer._merge=='left_only')].drop('_merge', axis=1)\n",
    "\n",
    "        df = pd.Series(anti_join['track_uri'])\n",
    "        base_list = []\n",
    "        for track in tqdm(df):\n",
    "                try:\n",
    "                        df2 = pd.json_normalize(sp.track(track), record_path=['artists'])\n",
    "                        df2['track_uri'] = track\n",
    "                        df2 = df2[['name', 'track_uri']]\n",
    "                        base_list.append(df2)\n",
    "                except:\n",
    "                        pass\n",
    "        df2 = pd.concat(base_list)\n",
    "        \n",
    "        df2['RN'] = df2.groupby(\"track_uri\")[\"name\"].rank(method=\"first\", ascending=True)\n",
    "        df2 = df2.pivot(index='track_uri', columns=['RN'], values='name').reset_index()\n",
    "        df2 = df2.rename(columns={1.0:'artist1', 2.0:'artist2', 3.0:'artist3', 4.0:'artist4', 5.0:'artist5'})\n",
    "        df2 = df2[['track_uri', 'artist1', 'artist2', 'artist3', 'artist4', 'artist5']]\n",
    "        \n",
    "        df2.to_sql('artists', engine, if_exists='append')\n",
    "        print(f'artists updated #{i}')\n",
    "        \n",
    "        # extract all audio_features\n",
    "        df = pd.read_sql('''SELECT DISTINCT track_uri FROM audio_features''', engine)\n",
    "        outer = load_batch.merge(df, how='outer', indicator=True)\n",
    "        anti_join = outer[(outer._merge=='left_only')].drop('_merge', axis=1)\n",
    "\n",
    "        df = pd.Series(anti_join['track_uri'])\n",
    "\n",
    "        base_list = []\n",
    "        for track in tqdm(df):\n",
    "                try:\n",
    "                        df3 = pd.json_normalize(sp.audio_features(track))\n",
    "                        df3['track_uri'] = track\n",
    "                        df3 = df3[['track_uri', 'danceability', 'energy', 'key', 'loudness', 'mode', 'speechiness', 'acousticness', 'instrumentalness', 'liveness', 'valence', 'tempo', 'duration_ms', 'time_signature']]\n",
    "                        base_list.append(df3)\n",
    "                except:\n",
    "                        pass\n",
    "        df3 = pd.concat(base_list)\n",
    "        \n",
    "        df3.to_sql('audio_features', con=engine, if_exists='append')\n",
    "        print(f'audio_features updated #{i}')"
   ]
  },
  {
   "cell_type": "code",
   "execution_count": 13,
   "metadata": {},
   "outputs": [
    {
     "name": "stderr",
     "output_type": "stream",
     "text": [
      "  0%|          | 0/20 [00:00<?, ?it/s]HTTP Error for GET to https://api.spotify.com/v1/playlists/6sMA1iVw7FJITbNiyQ61gN/tracks with Params: {'limit': 100, 'offset': 0, 'fields': None, 'market': None, 'additional_types': 'track'} returned 404 due to Not found.\n",
      "  5%|▌         | 1/20 [00:00<00:04,  4.03it/s]HTTP Error for GET to https://api.spotify.com/v1/playlists/6Ty7qmLRJ9VtQNRqWnJ2Ri/tracks with Params: {'limit': 100, 'offset': 0, 'fields': None, 'market': None, 'additional_types': 'track'} returned 404 due to Not found.\n",
      "100%|██████████| 20/20 [00:22<00:00,  1.12s/it]\n"
     ]
    },
    {
     "name": "stdout",
     "output_type": "stream",
     "text": [
      "playlist_tracks updated #1\n"
     ]
    },
    {
     "name": "stderr",
     "output_type": "stream",
     "text": [
      " 53%|█████▎    | 408/764 [00:55<00:43,  8.26it/s]Expected id of type track but found type Denk+an+mich spotify:local:Kontra+K::Denk+an+mich:216\n",
      "HTTP Error for GET to https://api.spotify.com/v1/tracks/216 with Params: {'market': None} returned 400 due to invalid id\n",
      "100%|██████████| 764/764 [01:39<00:00,  7.69it/s]\n"
     ]
    },
    {
     "name": "stdout",
     "output_type": "stream",
     "text": [
      "artists updated #1\n"
     ]
    },
    {
     "name": "stderr",
     "output_type": "stream",
     "text": [
      " 53%|█████▎    | 408/764 [00:38<00:30, 11.77it/s]Expected id of type track but found type Denk+an+mich spotify:local:Kontra+K::Denk+an+mich:216\n",
      "100%|██████████| 764/764 [01:12<00:00, 10.47it/s]\n"
     ]
    },
    {
     "name": "stdout",
     "output_type": "stream",
     "text": [
      "audio_features updated #1\n"
     ]
    },
    {
     "name": "stderr",
     "output_type": "stream",
     "text": [
      "100%|██████████| 20/20 [00:25<00:00,  1.26s/it]\n"
     ]
    },
    {
     "name": "stdout",
     "output_type": "stream",
     "text": [
      "playlist_tracks updated #2\n"
     ]
    },
    {
     "name": "stderr",
     "output_type": "stream",
     "text": [
      " 11%|█         | 98/904 [00:14<02:15,  5.95it/s]Expected id of type track but found type Das+Geht+Ab+%28HBz+Hard spotify:local:Die+Atzen::Das+Geht+Ab+%28HBz+Hard:196\n",
      "HTTP Error for GET to https://api.spotify.com/v1/tracks/196 with Params: {'market': None} returned 400 due to invalid id\n",
      " 43%|████▎     | 389/904 [00:51<00:59,  8.66it/s]Expected id of type track but found type episode spotify:episode:5L5Dt56bFw0BMHol0pdCfB\n",
      "HTTP Error for GET to https://api.spotify.com/v1/tracks/5L5Dt56bFw0BMHol0pdCfB with Params: {'market': None} returned 404 due to Non existing id: 'spotify:track:5L5Dt56bFw0BMHol0pdCfB'\n",
      "100%|██████████| 904/904 [01:57<00:00,  7.71it/s]\n"
     ]
    },
    {
     "name": "stdout",
     "output_type": "stream",
     "text": [
      "artists updated #2\n"
     ]
    },
    {
     "name": "stderr",
     "output_type": "stream",
     "text": [
      " 11%|█         | 98/905 [00:08<01:12, 11.20it/s]Expected id of type track but found type Das+Geht+Ab+%28HBz+Hard spotify:local:Die+Atzen::Das+Geht+Ab+%28HBz+Hard:196\n",
      " 43%|████▎     | 389/905 [00:35<00:45, 11.34it/s]Expected id of type track but found type episode spotify:episode:5L5Dt56bFw0BMHol0pdCfB\n",
      "100%|██████████| 905/905 [01:24<00:00, 10.67it/s]\n"
     ]
    },
    {
     "name": "stdout",
     "output_type": "stream",
     "text": [
      "audio_features updated #2\n"
     ]
    },
    {
     "name": "stderr",
     "output_type": "stream",
     "text": [
      " 10%|█         | 2/20 [00:02<00:23,  1.30s/it]HTTP Error for GET to https://api.spotify.com/v1/playlists/6VSEVPK0exqkWmqT9UffNT/tracks with Params: {'limit': 100, 'offset': 0, 'fields': None, 'market': None, 'additional_types': 'track'} returned 404 due to Not found.\n",
      " 60%|██████    | 12/20 [00:12<00:09,  1.19s/it]HTTP Error for GET to https://api.spotify.com/v1/playlists/6W8q0BbGWaFUitOOY2pF9f/tracks with Params: {'limit': 100, 'offset': 0, 'fields': None, 'market': None, 'additional_types': 'track'} returned 404 due to Not found.\n",
      "100%|██████████| 20/20 [00:19<00:00,  1.04it/s]\n"
     ]
    },
    {
     "name": "stdout",
     "output_type": "stream",
     "text": [
      "playlist_tracks updated #3\n"
     ]
    },
    {
     "name": "stderr",
     "output_type": "stream",
     "text": [
      "100%|██████████| 1051/1051 [02:15<00:00,  7.78it/s]\n"
     ]
    },
    {
     "name": "stdout",
     "output_type": "stream",
     "text": [
      "artists updated #3\n"
     ]
    },
    {
     "name": "stderr",
     "output_type": "stream",
     "text": [
      "100%|██████████| 1052/1052 [01:44<00:00, 10.11it/s]\n"
     ]
    },
    {
     "name": "stdout",
     "output_type": "stream",
     "text": [
      "audio_features updated #3\n"
     ]
    },
    {
     "name": "stderr",
     "output_type": "stream",
     "text": [
      "  0%|          | 0/20 [00:00<?, ?it/s]HTTP Error for GET to https://api.spotify.com/v1/playlists/6VSEVPK0exqkWmqT9UffNT/tracks with Params: {'limit': 100, 'offset': 0, 'fields': None, 'market': None, 'additional_types': 'track'} returned 404 due to Not found.\n",
      "  5%|▌         | 1/20 [00:00<00:04,  4.00it/s]HTTP Error for GET to https://api.spotify.com/v1/playlists/6W8q0BbGWaFUitOOY2pF9f/tracks with Params: {'limit': 100, 'offset': 0, 'fields': None, 'market': None, 'additional_types': 'track'} returned 404 due to Not found.\n",
      " 50%|█████     | 10/20 [00:08<00:09,  1.05it/s]HTTP Error for GET to https://api.spotify.com/v1/playlists/6wQ7NHxYu3VaaRDX8Ie4T1/tracks with Params: {'limit': 100, 'offset': 0, 'fields': None, 'market': None, 'additional_types': 'track'} returned 404 due to Not found.\n",
      "100%|██████████| 20/20 [00:18<00:00,  1.05it/s]\n"
     ]
    },
    {
     "name": "stdout",
     "output_type": "stream",
     "text": [
      "playlist_tracks updated #4\n"
     ]
    },
    {
     "name": "stderr",
     "output_type": "stream",
     "text": [
      " 97%|█████████▋| 663/684 [01:21<00:02,  7.67it/s]Expected id of type track but found type 07+-+Rels+-+Change+or+Die+%28con+Nelo%29+%5BVersosPerfectos.com%5D spotify:local:::07+-+Rels+-+Change+or+Die+%28con+Nelo%29+%5BVersosPerfectos.com%5D:171\n",
      "HTTP Error for GET to https://api.spotify.com/v1/tracks/171 with Params: {'market': None} returned 400 due to invalid id\n",
      " 97%|█████████▋| 664/684 [01:21<00:02,  8.23it/s]Expected id of type track but found type Por+Siempre spotify:local:Rels+B+Ft+Dollar:MediaMuv+Discos:Por+Siempre:179\n",
      "HTTP Error for GET to https://api.spotify.com/v1/tracks/179 with Params: {'market': None} returned 400 due to invalid id\n",
      "Expected id of type track but found type 02+-+Rels+-+Rock+you+%5BVersosPerfectos.com%5D spotify:local:::02+-+Rels+-+Rock+you+%5BVersosPerfectos.com%5D:197\n",
      "HTTP Error for GET to https://api.spotify.com/v1/tracks/197 with Params: {'market': None} returned 400 due to invalid id\n",
      " 97%|█████████▋| 666/684 [01:21<00:01,  9.63it/s]Expected id of type track but found type 03+-+Rels+-+21+gramos+%5BVersosPerfectos.com%5D spotify:local:::03+-+Rels+-+21+gramos+%5BVersosPerfectos.com%5D:181\n",
      "HTTP Error for GET to https://api.spotify.com/v1/tracks/181 with Params: {'market': None} returned 400 due to invalid id\n",
      "Expected id of type track but found type 04+-+Rels+-+On+Air+%28con+Dj+Flamb%29+%5BVersosPerfectos.com%5D spotify:local:::04+-+Rels+-+On+Air+%28con+Dj+Flamb%29+%5BVersosPerfectos.com%5D:158\n",
      "HTTP Error for GET to https://api.spotify.com/v1/tracks/158 with Params: {'market': None} returned 400 due to invalid id\n",
      " 98%|█████████▊| 668/684 [01:21<00:01, 10.31it/s]Expected id of type track but found type 06+-+Rels+-+FishBowl+%28con+Cr%C3%A1neo%29+%5BVersosPerfectos.com%5D spotify:local:::06+-+Rels+-+FishBowl+%28con+Cr%C3%A1neo%29+%5BVersosPerfectos.com%5D:183\n",
      "HTTP Error for GET to https://api.spotify.com/v1/tracks/183 with Params: {'market': None} returned 400 due to invalid id\n",
      "Expected id of type track but found type Dollar spotify:local:Rels+B:MediaMuv+Discos:Dollar:205\n",
      "HTTP Error for GET to https://api.spotify.com/v1/tracks/205 with Params: {'market': None} returned 400 due to invalid id\n",
      "100%|██████████| 684/684 [01:23<00:00,  8.17it/s]\n"
     ]
    },
    {
     "name": "stdout",
     "output_type": "stream",
     "text": [
      "artists updated #4\n"
     ]
    },
    {
     "name": "stderr",
     "output_type": "stream",
     "text": [
      " 97%|█████████▋| 664/685 [01:04<00:02,  9.99it/s]Expected id of type track but found type 07+-+Rels+-+Change+or+Die+%28con+Nelo%29+%5BVersosPerfectos.com%5D spotify:local:::07+-+Rels+-+Change+or+Die+%28con+Nelo%29+%5BVersosPerfectos.com%5D:171\n",
      "Expected id of type track but found type Por+Siempre spotify:local:Rels+B+Ft+Dollar:MediaMuv+Discos:Por+Siempre:179\n",
      " 97%|█████████▋| 666/685 [01:04<00:01, 10.66it/s]Expected id of type track but found type 02+-+Rels+-+Rock+you+%5BVersosPerfectos.com%5D spotify:local:::02+-+Rels+-+Rock+you+%5BVersosPerfectos.com%5D:197\n",
      "Expected id of type track but found type 03+-+Rels+-+21+gramos+%5BVersosPerfectos.com%5D spotify:local:::03+-+Rels+-+21+gramos+%5BVersosPerfectos.com%5D:181\n",
      " 98%|█████████▊| 668/685 [01:04<00:01, 11.32it/s]Expected id of type track but found type 04+-+Rels+-+On+Air+%28con+Dj+Flamb%29+%5BVersosPerfectos.com%5D spotify:local:::04+-+Rels+-+On+Air+%28con+Dj+Flamb%29+%5BVersosPerfectos.com%5D:158\n",
      "Expected id of type track but found type 06+-+Rels+-+FishBowl+%28con+Cr%C3%A1neo%29+%5BVersosPerfectos.com%5D spotify:local:::06+-+Rels+-+FishBowl+%28con+Cr%C3%A1neo%29+%5BVersosPerfectos.com%5D:183\n",
      " 98%|█████████▊| 670/685 [01:05<00:01, 11.54it/s]Expected id of type track but found type Dollar spotify:local:Rels+B:MediaMuv+Discos:Dollar:205\n",
      "100%|██████████| 685/685 [01:06<00:00, 10.33it/s]\n"
     ]
    },
    {
     "name": "stdout",
     "output_type": "stream",
     "text": [
      "audio_features updated #4\n"
     ]
    },
    {
     "name": "stderr",
     "output_type": "stream",
     "text": [
      "  0%|          | 0/20 [00:00<?, ?it/s]HTTP Error for GET to https://api.spotify.com/v1/playlists/6VSEVPK0exqkWmqT9UffNT/tracks with Params: {'limit': 100, 'offset': 0, 'fields': None, 'market': None, 'additional_types': 'track'} returned 404 due to Not found.\n",
      "  5%|▌         | 1/20 [00:00<00:11,  1.70it/s]HTTP Error for GET to https://api.spotify.com/v1/playlists/6W8q0BbGWaFUitOOY2pF9f/tracks with Params: {'limit': 100, 'offset': 0, 'fields': None, 'market': None, 'additional_types': 'track'} returned 404 due to Not found.\n",
      "HTTP Error for GET to https://api.spotify.com/v1/playlists/6wQ7NHxYu3VaaRDX8Ie4T1/tracks with Params: {'limit': 100, 'offset': 0, 'fields': None, 'market': None, 'additional_types': 'track'} returned 404 due to Not found.\n",
      "100%|██████████| 20/20 [00:20<00:00,  1.00s/it]\n"
     ]
    },
    {
     "name": "stdout",
     "output_type": "stream",
     "text": [
      "playlist_tracks updated #5\n"
     ]
    },
    {
     "name": "stderr",
     "output_type": "stream",
     "text": [
      "100%|██████████| 525/525 [01:12<00:00,  7.25it/s]\n"
     ]
    },
    {
     "name": "stdout",
     "output_type": "stream",
     "text": [
      "artists updated #5\n"
     ]
    },
    {
     "name": "stderr",
     "output_type": "stream",
     "text": [
      "100%|██████████| 525/525 [00:52<00:00, 10.02it/s]\n"
     ]
    },
    {
     "name": "stdout",
     "output_type": "stream",
     "text": [
      "audio_features updated #5\n"
     ]
    },
    {
     "name": "stderr",
     "output_type": "stream",
     "text": [
      "  0%|          | 0/20 [00:00<?, ?it/s]HTTP Error for GET to https://api.spotify.com/v1/playlists/6VSEVPK0exqkWmqT9UffNT/tracks with Params: {'limit': 100, 'offset': 0, 'fields': None, 'market': None, 'additional_types': 'track'} returned 404 due to Not found.\n",
      "  5%|▌         | 1/20 [00:00<00:02,  9.12it/s]HTTP Error for GET to https://api.spotify.com/v1/playlists/6W8q0BbGWaFUitOOY2pF9f/tracks with Params: {'limit': 100, 'offset': 0, 'fields': None, 'market': None, 'additional_types': 'track'} returned 404 due to Not found.\n",
      " 10%|█         | 2/20 [00:00<00:01,  9.58it/s]HTTP Error for GET to https://api.spotify.com/v1/playlists/6wQ7NHxYu3VaaRDX8Ie4T1/tracks with Params: {'limit': 100, 'offset': 0, 'fields': None, 'market': None, 'additional_types': 'track'} returned 404 due to Not found.\n",
      "100%|██████████| 20/20 [00:22<00:00,  1.13s/it]\n"
     ]
    },
    {
     "name": "stdout",
     "output_type": "stream",
     "text": [
      "playlist_tracks updated #6\n"
     ]
    },
    {
     "name": "stderr",
     "output_type": "stream",
     "text": [
      " 40%|████      | 255/631 [00:33<00:40,  9.27it/s]Expected id of type track but found type Nek+Unek+Ft+Davido spotify:local:Mc+Galaxy::Nek+Unek+Ft+Davido:228\n",
      "HTTP Error for GET to https://api.spotify.com/v1/tracks/228 with Params: {'market': None} returned 400 due to invalid id\n",
      "Expected id of type track but found type Coupe+Decale+Ft+Iyanya spotify:local:Minjin::Coupe+Decale+Ft+Iyanya:234\n",
      "HTTP Error for GET to https://api.spotify.com/v1/tracks/234 with Params: {'market': None} returned 400 due to invalid id\n",
      " 42%|████▏     | 262/631 [00:34<00:38,  9.70it/s]Expected id of type track but found type Touching+Body+Ft+Arafat+DJ spotify:local:J+Martins::Touching+Body+Ft+Arafat+DJ:250\n",
      "HTTP Error for GET to https://api.spotify.com/v1/tracks/250 with Params: {'market': None} returned 400 due to invalid id\n",
      " 42%|████▏     | 266/631 [00:34<00:41,  8.80it/s]Expected id of type track but found type Mama+Africa spotify:local:Bracket::Mama+Africa:201\n",
      "HTTP Error for GET to https://api.spotify.com/v1/tracks/201 with Params: {'market': None} returned 400 due to invalid id\n",
      "Expected id of type track but found type On+Top+Your+Matter spotify:local:Wizkid::On+Top+Your+Matter:284\n",
      "HTTP Error for GET to https://api.spotify.com/v1/tracks/284 with Params: {'market': None} returned 400 due to invalid id\n",
      " 45%|████▌     | 287/631 [00:37<00:46,  7.42it/s]Expected id of type track but found type SAUTI+SOL+Ft+IYANYA+-+Sura+Yako+REMIX+%28Official+Music+Video%29 spotify:local:::SAUTI+SOL+Ft+IYANYA+-+Sura+Yako+REMIX+%28Official+Music+Video%29:240\n",
      "HTTP Error for GET to https://api.spotify.com/v1/tracks/240 with Params: {'market': None} returned 400 due to invalid id\n",
      "100%|██████████| 631/631 [01:23<00:00,  7.54it/s]\n"
     ]
    },
    {
     "name": "stdout",
     "output_type": "stream",
     "text": [
      "artists updated #6\n"
     ]
    },
    {
     "name": "stderr",
     "output_type": "stream",
     "text": [
      " 40%|████      | 254/632 [00:23<00:33, 11.39it/s]Expected id of type track but found type Nek+Unek+Ft+Davido spotify:local:Mc+Galaxy::Nek+Unek+Ft+Davido:228\n",
      " 41%|████      | 256/632 [00:23<00:32, 11.72it/s]Expected id of type track but found type Coupe+Decale+Ft+Iyanya spotify:local:Minjin::Coupe+Decale+Ft+Iyanya:234\n",
      " 41%|████▏     | 262/632 [00:23<00:31, 11.68it/s]Expected id of type track but found type Touching+Body+Ft+Arafat+DJ spotify:local:J+Martins::Touching+Body+Ft+Arafat+DJ:250\n",
      " 42%|████▏     | 266/632 [00:24<00:30, 11.96it/s]Expected id of type track but found type Mama+Africa spotify:local:Bracket::Mama+Africa:201\n",
      "Expected id of type track but found type On+Top+Your+Matter spotify:local:Wizkid::On+Top+Your+Matter:284\n",
      " 45%|████▌     | 286/632 [00:26<00:34,  9.94it/s]Expected id of type track but found type SAUTI+SOL+Ft+IYANYA+-+Sura+Yako+REMIX+%28Official+Music+Video%29 spotify:local:::SAUTI+SOL+Ft+IYANYA+-+Sura+Yako+REMIX+%28Official+Music+Video%29:240\n",
      "100%|██████████| 632/632 [00:58<00:00, 10.78it/s]\n"
     ]
    },
    {
     "name": "stdout",
     "output_type": "stream",
     "text": [
      "audio_features updated #6\n"
     ]
    },
    {
     "name": "stderr",
     "output_type": "stream",
     "text": [
      "  0%|          | 0/20 [00:00<?, ?it/s]HTTP Error for GET to https://api.spotify.com/v1/playlists/6VSEVPK0exqkWmqT9UffNT/tracks with Params: {'limit': 100, 'offset': 0, 'fields': None, 'market': None, 'additional_types': 'track'} returned 404 due to Not found.\n",
      "HTTP Error for GET to https://api.spotify.com/v1/playlists/6W8q0BbGWaFUitOOY2pF9f/tracks with Params: {'limit': 100, 'offset': 0, 'fields': None, 'market': None, 'additional_types': 'track'} returned 404 due to Not found.\n",
      " 10%|█         | 2/20 [00:00<00:01, 10.44it/s]HTTP Error for GET to https://api.spotify.com/v1/playlists/6wQ7NHxYu3VaaRDX8Ie4T1/tracks with Params: {'limit': 100, 'offset': 0, 'fields': None, 'market': None, 'additional_types': 'track'} returned 404 due to Not found.\n",
      "100%|██████████| 20/20 [00:18<00:00,  1.06it/s]\n"
     ]
    },
    {
     "name": "stdout",
     "output_type": "stream",
     "text": [
      "playlist_tracks updated #7\n"
     ]
    },
    {
     "name": "stderr",
     "output_type": "stream",
     "text": [
      "  0%|          | 0/574 [00:00<?, ?it/s]"
     ]
    }
   ],
   "source": [
    "i = 1\n",
    "\n",
    "while i <= 8:\n",
    "    load_all_data()\n",
    "    i += 1"
   ]
  },
  {
   "cell_type": "code",
   "execution_count": null,
   "metadata": {},
   "outputs": [],
   "source": [
    "all_data = pd.read_sql('''SELECT DISTINCT playlist_uri, playlist_name, owner_uri, owner_display_name, collaborative, description, followers_total,\n",
    "af.track_uri, track_name, artist1, artist2, artist3, artist4, artist5, album_uri, album_name, release_date, \n",
    "added_by_uri, added_at, track_album_total_tracks, af.duration_ms, \"isExplicit\", track_popularity, \n",
    "track_preview_url, video_thumbnail_url, danceability, energy, loudness, key, mode, acousticness, speechiness, \n",
    "instrumentalness, liveness, valence, tempo, time_signature\n",
    "FROM playlist_tracks pt\n",
    "JOIN artists a ON pt.track_uri = a.track_uri\n",
    "JOIN audio_features af ON pt.track_uri = af.track_uri;''', engine)\n",
    "f = open(\"s3.csv\", \"w\")\n",
    "f.truncate()\n",
    "f.close()\n",
    "\n",
    "all_data.to_csv('C:\\\\Users\\\\Chase\\\\OneDrive\\\\Documents\\\\Career Development\\\\Data Science Club\\\\Spring 2023 Club Project\\\\s3.csv', mode=\"w+\", index=False)"
   ]
  }
 ],
 "metadata": {
  "kernelspec": {
   "display_name": "base",
   "language": "python",
   "name": "python3"
  },
  "language_info": {
   "codemirror_mode": {
    "name": "ipython",
    "version": 3
   },
   "file_extension": ".py",
   "mimetype": "text/x-python",
   "name": "python",
   "nbconvert_exporter": "python",
   "pygments_lexer": "ipython3",
   "version": "3.9.12"
  },
  "vscode": {
   "interpreter": {
    "hash": "93b5e9cdcd0e28194f38e9cc58755c27f28a497cb713889038a7c6359ab34ab6"
   }
  }
 },
 "nbformat": 4,
 "nbformat_minor": 2
}
