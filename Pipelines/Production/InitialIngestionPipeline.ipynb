{
 "cells": [
  {
   "attachments": {},
   "cell_type": "markdown",
   "metadata": {},
   "source": [
    "## Import All Required Libraries"
   ]
  },
  {
   "cell_type": "code",
   "execution_count": 8,
   "metadata": {},
   "outputs": [],
   "source": [
    "# Import all connection libraries\n",
    "\n",
    "from spotipy import SpotifyClientCredentials\n",
    "import spotipy\n",
    "import sqlalchemy as sql\n",
    "\n",
    "# Import all data manipulation libraries\n",
    "\n",
    "import pandas as pd\n",
    "from pandarallel import pandarallel\n",
    "from tqdm import tqdm\n",
    "pandarallel.initialize(verbose=0, nb_workers=8)"
   ]
  },
  {
   "cell_type": "code",
   "execution_count": 9,
   "metadata": {},
   "outputs": [],
   "source": [
    "from functools import lru_cache\n",
    "\n",
    "# Use the lru_cache decorator to cache the result of the function\n",
    "# maxsize=1000 means the cache will store the result of up to 1000 items\n",
    "@lru_cache(maxsize=1000)\n",
    "def get_playlist_tracks(playlist_uri):\n",
    "    \"\"\"\n",
    "    This function uses the Spotify API to get the tracks of a given playlist.\n",
    "    The function is decorated with the lru_cache decorator to cache the result for each unique playlist_uri.\n",
    "    So, if the same playlist_uri is passed to the function again, the cached result will be returned\n",
    "    instead of making a new API call.\n",
    "    :param playlist_uri: The Spotify URI of the playlist\n",
    "    :return: A DataFrame containing the tracks of the playlist\n",
    "    \"\"\"\n",
    "    # Use the Spotify API to get the tracks of the playlist\n",
    "    tracks = pd.json_normalize(sp.playlist_tracks(playlist_uri), record_path=['items'])\n",
    "    return tracks"
   ]
  },
  {
   "attachments": {},
   "cell_type": "markdown",
   "metadata": {},
   "source": [
    "## Establish External Connections"
   ]
  },
  {
   "cell_type": "code",
   "execution_count": 10,
   "metadata": {},
   "outputs": [],
   "source": [
    "# establish connection to Spotify API\n",
    "\n",
    "cid = 'e5448a8a4fdc4b5d98b44e956d50546d'\n",
    "secret = '8924c0394d3f49a4a569fc03e891aa1b'\n",
    "client_credentials = SpotifyClientCredentials(client_id=cid, client_secret=secret)\n",
    "sp = spotipy.Spotify(client_credentials_manager=client_credentials, requests_timeout=15, retries=10)\n",
    "\n",
    "# establish connection to Postgres\n",
    "\n",
    "engine = sql.create_engine('postgresql+psycopg2://postgres:DataNerd2023!!\\\n",
    "@localhost/spotify')"
   ]
  },
  {
   "attachments": {},
   "cell_type": "markdown",
   "metadata": {},
   "source": [
    "## Load Initial Training Data"
   ]
  },
  {
   "cell_type": "code",
   "execution_count": 11,
   "metadata": {},
   "outputs": [
    {
     "data": {
      "text/html": [
       "<div>\n",
       "<style scoped>\n",
       "    .dataframe tbody tr th:only-of-type {\n",
       "        vertical-align: middle;\n",
       "    }\n",
       "\n",
       "    .dataframe tbody tr th {\n",
       "        vertical-align: top;\n",
       "    }\n",
       "\n",
       "    .dataframe thead th {\n",
       "        text-align: right;\n",
       "    }\n",
       "</style>\n",
       "<table border=\"1\" class=\"dataframe\">\n",
       "  <thead>\n",
       "    <tr style=\"text-align: right;\">\n",
       "      <th></th>\n",
       "      <th>playlist_uri</th>\n",
       "      <th>playlist_name</th>\n",
       "    </tr>\n",
       "  </thead>\n",
       "  <tbody>\n",
       "    <tr>\n",
       "      <th>16841</th>\n",
       "      <td>spotify:playlist:37i9dQZF1DZ06evO4nZC1y</td>\n",
       "      <td>This Is Microwave</td>\n",
       "    </tr>\n",
       "    <tr>\n",
       "      <th>16842</th>\n",
       "      <td>spotify:playlist:37i9dQZF1DZ06evO4o1hoM</td>\n",
       "      <td>This Is Sparks</td>\n",
       "    </tr>\n",
       "    <tr>\n",
       "      <th>16843</th>\n",
       "      <td>spotify:playlist:37i9dQZF1DZ06evO4o1xmM</td>\n",
       "      <td>This Is Nessa Barrett</td>\n",
       "    </tr>\n",
       "    <tr>\n",
       "      <th>16844</th>\n",
       "      <td>spotify:playlist:37i9dQZF1DZ06evO4o2DyV</td>\n",
       "      <td>This Is Sky Ferreira</td>\n",
       "    </tr>\n",
       "    <tr>\n",
       "      <th>16845</th>\n",
       "      <td>spotify:playlist:37i9dQZF1DZ06evO4o5F6h</td>\n",
       "      <td>This Is Kieran the Light</td>\n",
       "    </tr>\n",
       "    <tr>\n",
       "      <th>16846</th>\n",
       "      <td>spotify:playlist:37i9dQZF1DZ06evO4o6Lio</td>\n",
       "      <td>This Is Desiigner</td>\n",
       "    </tr>\n",
       "    <tr>\n",
       "      <th>16847</th>\n",
       "      <td>spotify:playlist:37i9dQZF1DZ06evO4o6ufn</td>\n",
       "      <td>This Is Atlus</td>\n",
       "    </tr>\n",
       "    <tr>\n",
       "      <th>16848</th>\n",
       "      <td>spotify:playlist:37i9dQZF1DZ06evO4o7Aru</td>\n",
       "      <td>This Is K'NAAN</td>\n",
       "    </tr>\n",
       "    <tr>\n",
       "      <th>16849</th>\n",
       "      <td>spotify:playlist:37i9dQZF1DZ06evO4oaBYR</td>\n",
       "      <td>This Is RSP &amp; Thomax</td>\n",
       "    </tr>\n",
       "    <tr>\n",
       "      <th>16850</th>\n",
       "      <td>spotify:playlist:37i9dQZF1DZ06evO4oC80z</td>\n",
       "      <td>This Is Sara Evans</td>\n",
       "    </tr>\n",
       "    <tr>\n",
       "      <th>16851</th>\n",
       "      <td>spotify:playlist:37i9dQZF1DZ06evO4oCSVt</td>\n",
       "      <td>This Is Zayda</td>\n",
       "    </tr>\n",
       "    <tr>\n",
       "      <th>16852</th>\n",
       "      <td>spotify:playlist:37i9dQZF1DZ06evO4od5q8</td>\n",
       "      <td>This Is Jess Ray</td>\n",
       "    </tr>\n",
       "    <tr>\n",
       "      <th>16853</th>\n",
       "      <td>spotify:playlist:37i9dQZF1DZ06evO4odlV7</td>\n",
       "      <td>This Is José Afonso</td>\n",
       "    </tr>\n",
       "    <tr>\n",
       "      <th>16854</th>\n",
       "      <td>spotify:playlist:37i9dQZF1DZ06evO4odUze</td>\n",
       "      <td>This Is The Westerlies</td>\n",
       "    </tr>\n",
       "    <tr>\n",
       "      <th>16855</th>\n",
       "      <td>spotify:playlist:37i9dQZF1DZ06evO4oEAjm</td>\n",
       "      <td>This Is Wxlf</td>\n",
       "    </tr>\n",
       "    <tr>\n",
       "      <th>16856</th>\n",
       "      <td>spotify:playlist:37i9dQZF1DZ06evO4oF8pr</td>\n",
       "      <td>This Is Manuel Carrasco</td>\n",
       "    </tr>\n",
       "    <tr>\n",
       "      <th>16857</th>\n",
       "      <td>spotify:playlist:37i9dQZF1DZ06evO4ofPUs</td>\n",
       "      <td>This Is Büyük Ev Ablukada</td>\n",
       "    </tr>\n",
       "    <tr>\n",
       "      <th>16858</th>\n",
       "      <td>spotify:playlist:37i9dQZF1DZ06evO4ofXbN</td>\n",
       "      <td>This Is Israel Houghton</td>\n",
       "    </tr>\n",
       "    <tr>\n",
       "      <th>16859</th>\n",
       "      <td>spotify:playlist:37i9dQZF1DZ06evO4oGMHC</td>\n",
       "      <td>This Is DJ Challenge X</td>\n",
       "    </tr>\n",
       "    <tr>\n",
       "      <th>16860</th>\n",
       "      <td>spotify:playlist:37i9dQZF1DZ06evO4ohLfG</td>\n",
       "      <td>This Is Vulfpeck</td>\n",
       "    </tr>\n",
       "  </tbody>\n",
       "</table>\n",
       "</div>"
      ],
      "text/plain": [
       "                                  playlist_uri              playlist_name\n",
       "16841  spotify:playlist:37i9dQZF1DZ06evO4nZC1y          This Is Microwave\n",
       "16842  spotify:playlist:37i9dQZF1DZ06evO4o1hoM             This Is Sparks\n",
       "16843  spotify:playlist:37i9dQZF1DZ06evO4o1xmM      This Is Nessa Barrett\n",
       "16844  spotify:playlist:37i9dQZF1DZ06evO4o2DyV       This Is Sky Ferreira\n",
       "16845  spotify:playlist:37i9dQZF1DZ06evO4o5F6h   This Is Kieran the Light\n",
       "16846  spotify:playlist:37i9dQZF1DZ06evO4o6Lio          This Is Desiigner\n",
       "16847  spotify:playlist:37i9dQZF1DZ06evO4o6ufn              This Is Atlus\n",
       "16848  spotify:playlist:37i9dQZF1DZ06evO4o7Aru             This Is K'NAAN\n",
       "16849  spotify:playlist:37i9dQZF1DZ06evO4oaBYR       This Is RSP & Thomax\n",
       "16850  spotify:playlist:37i9dQZF1DZ06evO4oC80z         This Is Sara Evans\n",
       "16851  spotify:playlist:37i9dQZF1DZ06evO4oCSVt              This Is Zayda\n",
       "16852  spotify:playlist:37i9dQZF1DZ06evO4od5q8           This Is Jess Ray\n",
       "16853  spotify:playlist:37i9dQZF1DZ06evO4odlV7        This Is José Afonso\n",
       "16854  spotify:playlist:37i9dQZF1DZ06evO4odUze     This Is The Westerlies\n",
       "16855  spotify:playlist:37i9dQZF1DZ06evO4oEAjm               This Is Wxlf\n",
       "16856  spotify:playlist:37i9dQZF1DZ06evO4oF8pr    This Is Manuel Carrasco\n",
       "16857  spotify:playlist:37i9dQZF1DZ06evO4ofPUs  This Is Büyük Ev Ablukada\n",
       "16858  spotify:playlist:37i9dQZF1DZ06evO4ofXbN    This Is Israel Houghton\n",
       "16859  spotify:playlist:37i9dQZF1DZ06evO4oGMHC     This Is DJ Challenge X\n",
       "16860  spotify:playlist:37i9dQZF1DZ06evO4ohLfG           This Is Vulfpeck"
      ]
     },
     "execution_count": 11,
     "metadata": {},
     "output_type": "execute_result"
    }
   ],
   "source": [
    "# load training data\n",
    "new_batch = pd.read_csv('C:\\\\Users\\\\Chase\\\\OneDrive\\\\Documents\\\\UVU-2022-2023\\\\distinct_playlists_new.csv')[['playlist_uri', 'playlist_name']]\n",
    "new_batch['playlist_uri'] = new_batch['playlist_uri'].str.strip()\n",
    "\n",
    "db_query = pd.read_sql('SELECT DISTINCT playlist_uri FROM playlist_tracks', engine)\n",
    "\n",
    "outer = new_batch.merge(db_query, how='outer', indicator=True)\n",
    "anti_join = outer[(outer._merge=='left_only')].drop('_merge', axis=1)\n",
    "\n",
    "new_batch = pd.DataFrame(anti_join)\n",
    "new_batch = new_batch[0:20]\n",
    "new_batch.head(20)"
   ]
  },
  {
   "attachments": {},
   "cell_type": "markdown",
   "metadata": {},
   "source": [
    "## Iterate Through Training Data to Change Grain of Data"
   ]
  },
  {
   "cell_type": "code",
   "execution_count": 12,
   "metadata": {},
   "outputs": [],
   "source": [
    "def load_all_data():\n",
    "        # load training data\n",
    "        new_batch = pd.read_csv('C:\\\\Users\\\\Chase\\\\OneDrive\\\\Documents\\\\UVU-2022-2023\\\\distinct_playlists_new.csv')[['playlist_uri', 'playlist_name']]\n",
    "        new_batch['playlist_uri'] = new_batch['playlist_uri'].str.strip()\n",
    "\n",
    "        db_query = pd.read_sql('SELECT DISTINCT playlist_uri FROM playlist_tracks', engine)\n",
    "\n",
    "        outer = new_batch.merge(db_query, how='outer', indicator=True)\n",
    "        anti_join = outer[(outer._merge=='left_only')].drop('_merge', axis=1)\n",
    "\n",
    "        new_batch = pd.DataFrame(anti_join)\n",
    "        new_batch = new_batch[0:20]\n",
    "        \n",
    "        # extract all tracks in playlists\n",
    "        load_batch = []\n",
    "        series = new_batch['playlist_uri'].to_dict()\n",
    "        for playlist in tqdm(series.values()):\n",
    "                try:\n",
    "                        tracks = get_playlist_tracks(playlist)\n",
    "                        if len(tracks) >= 100:\n",
    "                                tracks2 = pd.json_normalize(sp.playlist_tracks(playlist, offset=100), record_path=['items'])\n",
    "                                tracks3 = pd.json_normalize(sp.playlist_tracks(playlist, offset=200), record_path=['items'])\n",
    "                                tracks = pd.concat([tracks, tracks2, tracks3])\n",
    "                                secondary_data = pd.json_normalize(sp.playlist(playlist))\n",
    "                                tracks['playlist_uri'] = playlist\n",
    "                                tracks = tracks.merge(secondary_data, left_on='playlist_uri', right_on='uri')\n",
    "                                tracks = tracks.rename(columns={\"name\":\"playlist_name\", \"track.name\":\"track_name\", \"track.uri\":\"track_uri\", \"track.album.name\":\"album_name\", \"track.explicit\":\"isExplicit\", \"track.album.release_date\":\"release_date\", \"track.duration_ms\":\"duration_ms\", \"track.album.uri\":\"album_uri\", \"added_by.external_urls.spotify\": \"added_by_external_urls_spotify\", 'added_by.href':\"added_by_href\", \"added_by.id\":\"added_by_id\", \"added_by.type\":\"added_by_type\", \"added_by.uri\":\"added_by_uri\", \"track.album.album_type\":\"track_album_album_type\", \"track.album.external_urls.spotify\":\"track_album_external_urls_spotify\", \"track.album.href\":\"track_album_href\", \"track.album.id\":\"track_album_id\", \"track.album.release_date_precision\":\"track_album_release_date_precision\", \"track.album.total_tracks\":\"track_album_total_tracks\",\"track.album.type\":\"track_album_type\", \"track.disc_number\":\"track_disc_number\", \"track.episode\":\"track_episode\", \"track.external_ids.isrc\":\"track_external_ids_isrc\", \"track.external_urls.spotify\":\"track_external_ids_spotify\", \"track.href\":\"track_href\", \"track.id\":\"track_id\", \"track.is_local\":\"track_is_local\", \"track.popularity\":\"track_popularity\", \"track.preview_url\":\"track_preview_url\", \"track.track\":\"track_track\", \"track.track_number\":\"track_track_number\", \"track.type\":\"track_type\", \"video_thumbnail.url\":\"video_thumbnail_url\", \"external_urls.spotify\":\"external_urls_spotify\", \"followers.href\":\"followers_href\", \"followers.total\":\"followers_total\", \"owner.display_name\":\"owner_display_name\", \"owner.external_urls.spotify\":\"owner_external_urls_spotify\", \"owner.href\":\"owner_href\", \"owner.id\":\"owner_id\", \"owner.type\":\"owner_type\", \"owner.uri\":\"owner_uri\", \"tracks.href\":\"tracks_href\", \"tracks.limit\":\"tracks_limit\", \"tracks.next\":\"tracks_next\", \"tracks.offset\":\"tracks_offset\", \"tracks.previous\":\"tracks_previous\", \"tracks.total\":\"tracks_total\"})\n",
    "                                tracks = tracks.drop(columns=['track.album.artists', 'track.album.available_markets', 'track.album.images', 'track.artists', 'track.available_markets', 'images', 'tracks.items'])\n",
    "\n",
    "                                load_batch.append(tracks)\n",
    "                        else:\n",
    "                                secondary_data = pd.json_normalize(sp.playlist(playlist))\n",
    "                                tracks['playlist_uri'] = playlist\n",
    "                                tracks = tracks.merge(secondary_data, left_on='playlist_uri', right_on='uri')\n",
    "                                tracks = tracks.rename(columns={\"name\":\"playlist_name\", \"track.name\":\"track_name\", \"track.uri\":\"track_uri\", \"track.album.name\":\"album_name\", \"track.explicit\":\"isExplicit\", \"track.album.release_date\":\"release_date\", \"track.duration_ms\":\"duration_ms\", \"track.album.uri\":\"album_uri\", \"added_by.external_urls.spotify\": \"added_by_external_urls_spotify\", 'added_by.href':\"added_by_href\", \"added_by.id\":\"added_by_id\", \"added_by.type\":\"added_by_type\", \"added_by.uri\":\"added_by_uri\", \"track.album.album_type\":\"track_album_album_type\", \"track.album.external_urls.spotify\":\"track_album_external_urls_spotify\", \"track.album.href\":\"track_album_href\", \"track.album.id\":\"track_album_id\", \"track.album.release_date_precision\":\"track_album_release_date_precision\", \"track.album.total_tracks\":\"track_album_total_tracks\",\"track.album.type\":\"track_album_type\", \"track.disc_number\":\"track_disc_number\", \"track.episode\":\"track_episode\", \"track.external_ids.isrc\":\"track_external_ids_isrc\", \"track.external_urls.spotify\":\"track_external_ids_spotify\", \"track.href\":\"track_href\", \"track.id\":\"track_id\", \"track.is_local\":\"track_is_local\", \"track.popularity\":\"track_popularity\", \"track.preview_url\":\"track_preview_url\", \"track.track\":\"track_track\", \"track.track_number\":\"track_track_number\", \"track.type\":\"track_type\", \"video_thumbnail.url\":\"video_thumbnail_url\", \"external_urls.spotify\":\"external_urls_spotify\", \"followers.href\":\"followers_href\", \"followers.total\":\"followers_total\", \"owner.display_name\":\"owner_display_name\", \"owner.external_urls.spotify\":\"owner_external_urls_spotify\", \"owner.href\":\"owner_href\", \"owner.id\":\"owner_id\", \"owner.type\":\"owner_type\", \"owner.uri\":\"owner_uri\", \"tracks.href\":\"tracks_href\", \"tracks.limit\":\"tracks_limit\", \"tracks.next\":\"tracks_next\", \"tracks.offset\":\"tracks_offset\", \"tracks.previous\":\"tracks_previous\", \"tracks.total\":\"tracks_total\"})\n",
    "                                tracks = tracks.drop(columns=['track.album.artists', 'track.album.available_markets', 'track.album.images', 'track.artists', 'track.available_markets', 'images', 'tracks.items'])\n",
    "                                load_batch.append(tracks)\n",
    "                except:\n",
    "                        pass\n",
    "        load_batch = pd.concat(load_batch)\n",
    "        if set(['track.album.is_playable','track.album.restrictions.reason', 'track.external_ids.spotify']).issubset(load_batch.columns):\n",
    "                load_batch = load_batch.drop(columns=['track.album.is_playable', 'track.album.restrictions.reason', 'track.external_ids.spotify', 'track.is_playable'])\n",
    "        else:\n",
    "                load_batch\n",
    "        load_batch.to_sql('playlist_tracks', engine, if_exists='append')\n",
    "        print(f'playlist_tracks updated #{i}')\n",
    "        \n",
    "        # extract all artists\n",
    "        df = pd.read_sql('''SELECT DISTINCT track_uri FROM artists''', engine)\n",
    "        outer = load_batch.merge(df, how='outer', indicator=True)\n",
    "        anti_join = outer[(outer._merge=='left_only')].drop('_merge', axis=1)\n",
    "\n",
    "        df = pd.Series(anti_join['track_uri'])\n",
    "        base_list = []\n",
    "        for track in tqdm(df):\n",
    "                try:\n",
    "                        df2 = pd.json_normalize(sp.track(track), record_path=['artists'])\n",
    "                        df2['track_uri'] = track\n",
    "                        df2 = df2[['name', 'track_uri']]\n",
    "                        base_list.append(df2)\n",
    "                except:\n",
    "                        pass\n",
    "        df2 = pd.concat(base_list)\n",
    "        \n",
    "        df2['RN'] = df2.groupby(\"track_uri\")[\"name\"].rank(method=\"first\", ascending=True)\n",
    "        df2 = df2.pivot(index='track_uri', columns=['RN'], values='name').reset_index()\n",
    "        df2 = df2.rename(columns={1.0:'artist1', 2.0:'artist2', 3.0:'artist3', 4.0:'artist4', 5.0:'artist5'})\n",
    "        df2 = df2[['track_uri', 'artist1', 'artist2', 'artist3', 'artist4', 'artist5']]\n",
    "        \n",
    "        df2.to_sql('artists', engine, if_exists='append')\n",
    "        print(f'artists updata #{i}')\n",
    "        \n",
    "        # extract all audio_features\n",
    "        df = pd.read_sql('''SELECT DISTINCT track_uri FROM audio_features''', engine)\n",
    "        outer = load_batch.merge(df, how='outer', indicator=True)\n",
    "        anti_join = outer[(outer._merge=='left_only')].drop('_merge', axis=1)\n",
    "\n",
    "        df = pd.Series(anti_join['track_uri'])\n",
    "\n",
    "        base_list = []\n",
    "        for track in tqdm(df):\n",
    "                try:\n",
    "                        df3 = pd.json_normalize(sp.audio_features(track))\n",
    "                        df3['track_uri'] = track\n",
    "                        df3 = df3[['track_uri', 'danceability', 'energy', 'key', 'loudness', 'mode', 'speechiness', 'acousticness', 'instrumentalness', 'liveness', 'valence', 'tempo', 'duration_ms', 'time_signature']]\n",
    "                        base_list.append(df3)\n",
    "                except:\n",
    "                        pass\n",
    "        df3 = pd.concat(base_list)\n",
    "        \n",
    "        df3.to_sql('audio_features', con=engine, if_exists='append')\n",
    "        print(f'audio_features updated #{i}')"
   ]
  },
  {
   "cell_type": "code",
   "execution_count": 13,
   "metadata": {},
   "outputs": [
    {
     "name": "stderr",
     "output_type": "stream",
     "text": [
      "100%|██████████| 20/20 [00:14<00:00,  1.43it/s]\n"
     ]
    },
    {
     "name": "stdout",
     "output_type": "stream",
     "text": [
      "playlist_tracks updated #1\n"
     ]
    },
    {
     "name": "stderr",
     "output_type": "stream",
     "text": [
      "100%|██████████| 714/714 [01:44<00:00,  6.84it/s]\n"
     ]
    },
    {
     "name": "stdout",
     "output_type": "stream",
     "text": [
      "artists updata #1\n"
     ]
    },
    {
     "name": "stderr",
     "output_type": "stream",
     "text": [
      "100%|██████████| 714/714 [01:09<00:00, 10.32it/s]\n"
     ]
    },
    {
     "name": "stdout",
     "output_type": "stream",
     "text": [
      "audio_features updated #1\n"
     ]
    },
    {
     "name": "stderr",
     "output_type": "stream",
     "text": [
      "100%|██████████| 20/20 [00:14<00:00,  1.35it/s]\n"
     ]
    },
    {
     "name": "stdout",
     "output_type": "stream",
     "text": [
      "playlist_tracks updated #2\n"
     ]
    },
    {
     "name": "stderr",
     "output_type": "stream",
     "text": [
      "100%|██████████| 749/749 [01:53<00:00,  6.62it/s]\n"
     ]
    },
    {
     "name": "stdout",
     "output_type": "stream",
     "text": [
      "artists updata #2\n"
     ]
    },
    {
     "name": "stderr",
     "output_type": "stream",
     "text": [
      "100%|██████████| 749/749 [01:29<00:00,  8.41it/s]\n"
     ]
    },
    {
     "name": "stdout",
     "output_type": "stream",
     "text": [
      "audio_features updated #2\n"
     ]
    },
    {
     "name": "stderr",
     "output_type": "stream",
     "text": [
      "100%|██████████| 20/20 [00:15<00:00,  1.26it/s]\n"
     ]
    },
    {
     "name": "stdout",
     "output_type": "stream",
     "text": [
      "playlist_tracks updated #3\n"
     ]
    },
    {
     "name": "stderr",
     "output_type": "stream",
     "text": [
      " 62%|██████▏   | 420/675 [01:06<00:31,  8.07it/s]"
     ]
    }
   ],
   "source": [
    "i = 1\n",
    "\n",
    "while i <= 8:\n",
    "    load_all_data()\n",
    "    i += 1"
   ]
  },
  {
   "cell_type": "code",
   "execution_count": null,
   "metadata": {},
   "outputs": [],
   "source": [
    "all_data = pd.read_sql('''SELECT DISTINCT playlist_uri, playlist_name, owner_uri, owner_display_name, collaborative, description, followers_total,\n",
    "af.track_uri, track_name, artist1, artist2, artist3, artist4, artist5, album_uri, album_name, release_date, \n",
    "added_by_uri, added_at, track_album_total_tracks, af.duration_ms, \"isExplicit\", track_popularity, \n",
    "track_preview_url, video_thumbnail_url, danceability, energy, loudness, key, mode, acousticness, speechiness, \n",
    "instrumentalness, liveness, valence, tempo, time_signature\n",
    "FROM playlist_tracks pt\n",
    "JOIN artists a ON pt.track_uri = a.track_uri\n",
    "JOIN audio_features af ON pt.track_uri = af.track_uri;''', engine)\n",
    "f = open(\"s3.csv\", \"w\")\n",
    "f.truncate()\n",
    "f.close()\n",
    "\n",
    "all_data.to_csv('C:\\\\Users\\\\Chase\\\\OneDrive\\\\Documents\\\\Career Development\\\\Data Science Club\\\\Spring 2023 Club Project\\\\s3.csv', mode=\"w+\", index=False)"
   ]
  }
 ],
 "metadata": {
  "kernelspec": {
   "display_name": "base",
   "language": "python",
   "name": "python3"
  },
  "language_info": {
   "codemirror_mode": {
    "name": "ipython",
    "version": 3
   },
   "file_extension": ".py",
   "mimetype": "text/x-python",
   "name": "python",
   "nbconvert_exporter": "python",
   "pygments_lexer": "ipython3",
   "version": "3.9.12"
  },
  "vscode": {
   "interpreter": {
    "hash": "93b5e9cdcd0e28194f38e9cc58755c27f28a497cb713889038a7c6359ab34ab6"
   }
  }
 },
 "nbformat": 4,
 "nbformat_minor": 2
}
