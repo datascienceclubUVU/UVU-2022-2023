{
 "cells": [
  {
   "cell_type": "code",
   "execution_count": 1,
   "metadata": {},
   "outputs": [],
   "source": [
    "import pandas as pd\n",
    "import sqlalchemy as sql"
   ]
  },
  {
   "cell_type": "code",
   "execution_count": 2,
   "metadata": {},
   "outputs": [],
   "source": [
    "engine = sql.create_engine('postgresql+psycopg2://postgres:DataNerd2023!!\\\n",
    "@localhost/spotify')"
   ]
  },
  {
   "cell_type": "code",
   "execution_count": 3,
   "metadata": {},
   "outputs": [
    {
     "ename": "FileNotFoundError",
     "evalue": "[WinError 2] The system cannot find the file specified: './OLTP Tables/artists.parquet.parquet.gzip'",
     "output_type": "error",
     "traceback": [
      "\u001b[1;31m---------------------------------------------------------------------------\u001b[0m",
      "\u001b[1;31mFileNotFoundError\u001b[0m                         Traceback (most recent call last)",
      "\u001b[1;32mUntitled-1.ipynb Cell 3\u001b[0m in \u001b[0;36m<cell line: 5>\u001b[1;34m()\u001b[0m\n\u001b[0;32m      <a href='vscode-notebook-cell:Untitled-1.ipynb?jupyter-notebook#W5sdW50aXRsZWQ%3D?line=2'>3</a>\u001b[0m file_path_1 \u001b[39m=\u001b[39m \u001b[39m'\u001b[39m\u001b[39m./OLTP Tables/artists.parquet.parquet.gzip\u001b[39m\u001b[39m'\u001b[39m\n\u001b[0;32m      <a href='vscode-notebook-cell:Untitled-1.ipynb?jupyter-notebook#W5sdW50aXRsZWQ%3D?line=3'>4</a>\u001b[0m file_path_2 \u001b[39m=\u001b[39m \u001b[39m'\u001b[39m\u001b[39m./OLTP Tables/audio_features.parquet.gzip\u001b[39m\u001b[39m'\u001b[39m\n\u001b[1;32m----> <a href='vscode-notebook-cell:Untitled-1.ipynb?jupyter-notebook#W5sdW50aXRsZWQ%3D?line=4'>5</a>\u001b[0m os\u001b[39m.\u001b[39;49mremove(file_path_1)\n\u001b[0;32m      <a href='vscode-notebook-cell:Untitled-1.ipynb?jupyter-notebook#W5sdW50aXRsZWQ%3D?line=5'>6</a>\u001b[0m os\u001b[39m.\u001b[39mremove(file_path_2)\n",
      "\u001b[1;31mFileNotFoundError\u001b[0m: [WinError 2] The system cannot find the file specified: './OLTP Tables/artists.parquet.parquet.gzip'"
     ]
    }
   ],
   "source": [
    "import os\n",
    "\n",
    "file_path_1 = './OLTP Tables/artists.parquet.parquet.gzip'\n",
    "file_path_2 = './OLTP Tables/audio_features.parquet.gzip'\n",
    "os.remove(file_path_1)\n",
    "os.remove(file_path_2)"
   ]
  },
  {
   "cell_type": "code",
   "execution_count": null,
   "metadata": {},
   "outputs": [],
   "source": [
    "artists = pd.read_sql('SELECT DISTINCT * FROM artists', engine)\n",
    "audio_features = pd.read_sql('SELECT DISTINCT * FROM audio_features', engine)\n",
    "with pd.option_context(\"mode.dtype_backend\", \"pyarrow\"):\n",
    "    playlist_tracks = pd.read_csv('C:\\\\Users\\\\Public\\\\Documents\\\\playlist_tracks.csv', engine=\"pyarrow\")\n",
    "artists.to_parquet('./OLTP Tables/artists.parquet.gzip', compression='gzip')\n",
    "audio_features.to_parquet('./OLTP Tables/audio_features.parquet.gzip', compression='gzip')\n",
    "playlist_tracks.to_parquet('./OLTP Tables/playlist_tracks.parquet.gzip', compression='gzip')"
   ]
  }
 ],
 "metadata": {
  "kernelspec": {
   "display_name": "Python 3",
   "language": "python",
   "name": "python3"
  },
  "language_info": {
   "codemirror_mode": {
    "name": "ipython",
    "version": 3
   },
   "file_extension": ".py",
   "mimetype": "text/x-python",
   "name": "python",
   "nbconvert_exporter": "python",
   "pygments_lexer": "ipython3",
   "version": "3.9.12"
  },
  "orig_nbformat": 4
 },
 "nbformat": 4,
 "nbformat_minor": 2
}
