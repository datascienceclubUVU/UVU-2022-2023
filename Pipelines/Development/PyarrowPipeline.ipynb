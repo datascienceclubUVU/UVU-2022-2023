{
 "cells": [
  {
   "cell_type": "code",
   "execution_count": 1,
   "metadata": {
    "dotnet_interactive": {
     "language": "csharp"
    },
    "polyglot_notebook": {
     "kernelName": "csharp"
    }
   },
   "outputs": [],
   "source": [
    "# Import all connection libraries\n",
    "\n",
    "from spotipy import SpotifyClientCredentials\n",
    "import spotipy\n",
    "import sqlalchemy as sql\n",
    "\n",
    "# Import all data manipulation libraries\n",
    "\n",
    "import pandas as pd\n",
    "from pandarallel import pandarallel\n",
    "from tqdm import tqdm\n",
    "\n",
    "pandarallel.initialize(verbose=0, nb_workers=8)"
   ]
  },
  {
   "cell_type": "code",
   "execution_count": 2,
   "metadata": {
    "dotnet_interactive": {
     "language": "csharp"
    },
    "polyglot_notebook": {
     "kernelName": "csharp"
    }
   },
   "outputs": [],
   "source": [
    "# establish connection to Spotify API\n",
    "\n",
    "cid = 'e5448a8a4fdc4b5d98b44e956d50546d'\n",
    "secret = '8924c0394d3f49a4a569fc03e891aa1b'\n",
    "client_credentials = SpotifyClientCredentials(client_id=cid, client_secret=secret)\n",
    "sp = spotipy.Spotify(client_credentials_manager=client_credentials, requests_timeout=15, retries=10)\n",
    "\n",
    "# establish connection to Postgres\n",
    "\n",
    "engine = sql.create_engine('postgresql+psycopg2://postgres:DataNerd2023!!\\\n",
    "@localhost/spotify')"
   ]
  },
  {
   "cell_type": "code",
   "execution_count": 3,
   "metadata": {
    "dotnet_interactive": {
     "language": "csharp"
    },
    "polyglot_notebook": {
     "kernelName": "csharp"
    }
   },
   "outputs": [],
   "source": [
    "from functools import lru_cache\n",
    "\n",
    "# Use the lru_cache decorator to cache the result of the function\n",
    "# maxsize=1000 means the cache will store the result of up to 1000 items\n",
    "@lru_cache(maxsize=1000)\n",
    "def get_playlist_tracks(playlist_uri):\n",
    "    \"\"\"\n",
    "    This function uses the Spotify API to get the tracks of a given playlist.\n",
    "    The function is decorated with the lru_cache decorator to cache the result for each unique playlist_uri.\n",
    "    So, if the same playlist_uri is passed to the function again, the cached result will be returned\n",
    "    instead of making a new API call.\n",
    "    :param playlist_uri: The Spotify URI of the playlist\n",
    "    :return: A DataFrame containing the tracks of the playlist\n",
    "    \"\"\"\n",
    "    # Use the Spotify API to get the tracks of the playlist\n",
    "    tracks = pd.json_normalize(sp.playlist_tracks(playlist_uri), record_path=['items'])\n",
    "    return tracks"
   ]
  },
  {
   "cell_type": "code",
   "execution_count": 4,
   "metadata": {},
   "outputs": [],
   "source": [
    "# import time\n",
    "\n",
    "# with pd.option_context(\"mode.dtype_backend\", \"pandas\"):\n",
    "#     start_time = time.time()\n",
    "#     df = pd.read_csv('C:\\\\Users\\\\Chase\\\\OneDrive\\\\Documents\\\\Career Development\\\\Data Science Club\\\\Spring 2023 Club Project\\\\oltp_output1.csv')\n",
    "#     end_time = time.time()\n",
    "#     result= round(end_time - start_time, 2)\n",
    "#     print(f'Pandas: {result} seconds')\n",
    "\n",
    "# with pd.option_context(\"mode.dtype_backend\", \"pyarrow\"):\n",
    "#     start_time = time.time()\n",
    "#     df = pd.read_csv('C:\\\\Users\\\\Chase\\\\OneDrive\\\\Documents\\\\Career Development\\\\Data Science Club\\\\Spring 2023 Club Project\\\\oltp_output1.csv', engine='pyarrow')\n",
    "#     end_time = time.time()\n",
    "#     result= round(end_time - start_time, 2)\n",
    "#     print(f'Pyarrow: {result} seconds')"
   ]
  },
  {
   "cell_type": "code",
   "execution_count": 5,
   "metadata": {
    "dotnet_interactive": {
     "language": "csharp"
    },
    "polyglot_notebook": {
     "kernelName": "csharp"
    }
   },
   "outputs": [
    {
     "data": {
      "text/html": [
       "<div>\n",
       "<style scoped>\n",
       "    .dataframe tbody tr th:only-of-type {\n",
       "        vertical-align: middle;\n",
       "    }\n",
       "\n",
       "    .dataframe tbody tr th {\n",
       "        vertical-align: top;\n",
       "    }\n",
       "\n",
       "    .dataframe thead th {\n",
       "        text-align: right;\n",
       "    }\n",
       "</style>\n",
       "<table border=\"1\" class=\"dataframe\">\n",
       "  <thead>\n",
       "    <tr style=\"text-align: right;\">\n",
       "      <th></th>\n",
       "      <th>playlist_uri</th>\n",
       "      <th>playlist_name</th>\n",
       "    </tr>\n",
       "  </thead>\n",
       "  <tbody>\n",
       "    <tr>\n",
       "      <th>25762</th>\n",
       "      <td>spotify:playlist:37i9dQZF1DWSfODohdgUzS</td>\n",
       "      <td>Gama Gama Samayal</td>\n",
       "    </tr>\n",
       "    <tr>\n",
       "      <th>25866</th>\n",
       "      <td>spotify:playlist:5PUG9coi4jMWXxC78jwYle</td>\n",
       "      <td>grwm</td>\n",
       "    </tr>\n",
       "    <tr>\n",
       "      <th>25867</th>\n",
       "      <td>spotify:playlist:08AhDTHGv4LFLO2ArRRZby</td>\n",
       "      <td>GOOD VIBES RAP</td>\n",
       "    </tr>\n",
       "    <tr>\n",
       "      <th>25868</th>\n",
       "      <td>spotify:playlist:37i9dQZF1DX9fZ7amiNVu6</td>\n",
       "      <td>Feel Good Summer</td>\n",
       "    </tr>\n",
       "    <tr>\n",
       "      <th>25869</th>\n",
       "      <td>spotify:playlist:4VZULVqRx3jc9n7Qnw5IIJ</td>\n",
       "      <td>getting ready 🍻😈</td>\n",
       "    </tr>\n",
       "    <tr>\n",
       "      <th>25870</th>\n",
       "      <td>spotify:playlist:34uy1BBGYvOZIYCSWJy5AY</td>\n",
       "      <td>New Gen Rap</td>\n",
       "    </tr>\n",
       "    <tr>\n",
       "      <th>25871</th>\n",
       "      <td>spotify:playlist:3VsFifkbvvQ07fMV8nLYQY</td>\n",
       "      <td>GYM</td>\n",
       "    </tr>\n",
       "    <tr>\n",
       "      <th>25872</th>\n",
       "      <td>spotify:playlist:2jSPS9SOdZ6fEnfxZcMVPd</td>\n",
       "      <td>Gangsta rap</td>\n",
       "    </tr>\n",
       "    <tr>\n",
       "      <th>25873</th>\n",
       "      <td>spotify:playlist:37i9dQZF1DXbENHm2OgowX</td>\n",
       "      <td>gloomcore</td>\n",
       "    </tr>\n",
       "    <tr>\n",
       "      <th>25874</th>\n",
       "      <td>spotify:playlist:0aL7M6qKDacHCtUUch3AhB</td>\n",
       "      <td>Maroon 5 Greatest Hits</td>\n",
       "    </tr>\n",
       "  </tbody>\n",
       "</table>\n",
       "</div>"
      ],
      "text/plain": [
       "                                  playlist_uri           playlist_name\n",
       "25762  spotify:playlist:37i9dQZF1DWSfODohdgUzS       Gama Gama Samayal\n",
       "25866  spotify:playlist:5PUG9coi4jMWXxC78jwYle                    grwm\n",
       "25867  spotify:playlist:08AhDTHGv4LFLO2ArRRZby          GOOD VIBES RAP\n",
       "25868  spotify:playlist:37i9dQZF1DX9fZ7amiNVu6        Feel Good Summer\n",
       "25869  spotify:playlist:4VZULVqRx3jc9n7Qnw5IIJ        getting ready 🍻😈\n",
       "25870  spotify:playlist:34uy1BBGYvOZIYCSWJy5AY             New Gen Rap\n",
       "25871  spotify:playlist:3VsFifkbvvQ07fMV8nLYQY                     GYM\n",
       "25872  spotify:playlist:2jSPS9SOdZ6fEnfxZcMVPd             Gangsta rap\n",
       "25873  spotify:playlist:37i9dQZF1DXbENHm2OgowX               gloomcore\n",
       "25874  spotify:playlist:0aL7M6qKDacHCtUUch3AhB  Maroon 5 Greatest Hits"
      ]
     },
     "execution_count": 5,
     "metadata": {},
     "output_type": "execute_result"
    }
   ],
   "source": [
    "# load training data\n",
    "\n",
    "with pd.option_context(\"mode.dtype_backend\", \"pyarrow\"):\n",
    "    new_batch = pd.read_csv('C:\\\\Users\\\\Chase\\\\OneDrive\\\\Documents\\\\UVU-2022-2023\\\\distinct_playlists_new.csv', engine='pyarrow')[['playlist_uri', 'playlist_name']]\n",
    "    new_batch['playlist_uri'] = new_batch['playlist_uri'].str.strip()\n",
    "\n",
    "    db_query = pd.read_sql('SELECT DISTINCT playlist_uri FROM playlist_tracks', engine)\n",
    "\n",
    "    outer = new_batch.merge(db_query, how='outer', indicator=True)\n",
    "    anti_join = outer[(outer._merge=='left_only')].drop('_merge', axis=1)\n",
    "\n",
    "    new_batch = pd.DataFrame(anti_join)\n",
    "new_batch.head(10)"
   ]
  },
  {
   "cell_type": "code",
   "execution_count": 6,
   "metadata": {
    "dotnet_interactive": {
     "language": "csharp"
    },
    "polyglot_notebook": {
     "kernelName": "csharp"
    }
   },
   "outputs": [],
   "source": [
    "def load_all_data():\n",
    "    with pd.option_context(\"mode.dtype_backend\", \"pyarrow\"):\n",
    "        # load training data\n",
    "        new_batch = pd.read_csv('C:\\\\Users\\\\Chase\\\\OneDrive\\\\Documents\\\\UVU-2022-2023\\\\distinct_playlists_new.csv', engine='pyarrow')[['playlist_uri', 'playlist_name']]\n",
    "        new_batch['playlist_uri'] = new_batch['playlist_uri'].str.strip()\n",
    "\n",
    "        db_query = pd.read_sql('SELECT DISTINCT playlist_uri FROM playlist_tracks', engine)\n",
    "\n",
    "        outer = new_batch.merge(db_query, how='outer', indicator=True)\n",
    "        anti_join = outer[(outer._merge=='left_only')].drop('_merge', axis=1)\n",
    "\n",
    "        new_batch = pd.DataFrame(anti_join)\n",
    "        new_batch = new_batch[0:18]\n",
    "        \n",
    "        # extract all tracks in playlists\n",
    "        load_batch = []\n",
    "        series = new_batch['playlist_uri'].to_dict()\n",
    "        for playlist in tqdm(series.values()):\n",
    "                try:\n",
    "                        tracks = get_playlist_tracks(playlist)\n",
    "                        if len(tracks) >= 100:\n",
    "                                tracks2 = pd.json_normalize(sp.playlist_tracks(playlist, offset=100), record_path=['items'])\n",
    "                                tracks3 = pd.json_normalize(sp.playlist_tracks(playlist, offset=200), record_path=['items'])\n",
    "                                tracks = pd.concat([tracks, tracks2, tracks3])\n",
    "                                secondary_data = pd.json_normalize(sp.playlist(playlist))\n",
    "                                tracks['playlist_uri'] = playlist\n",
    "                                tracks = tracks.merge(secondary_data, left_on='playlist_uri', right_on='uri')\n",
    "                                tracks = tracks.rename(columns={\"name\":\"playlist_name\", \"track.name\":\"track_name\", \"track.uri\":\"track_uri\", \"track.album.name\":\"album_name\", \"track.explicit\":\"isExplicit\", \"track.album.release_date\":\"release_date\", \"track.duration_ms\":\"duration_ms\", \"track.album.uri\":\"album_uri\", \"added_by.external_urls.spotify\": \"added_by_external_urls_spotify\", 'added_by.href':\"added_by_href\", \"added_by.id\":\"added_by_id\", \"added_by.type\":\"added_by_type\", \"added_by.uri\":\"added_by_uri\", \"track.album.album_type\":\"track_album_album_type\", \"track.album.external_urls.spotify\":\"track_album_external_urls_spotify\", \"track.album.href\":\"track_album_href\", \"track.album.id\":\"track_album_id\", \"track.album.release_date_precision\":\"track_album_release_date_precision\", \"track.album.total_tracks\":\"track_album_total_tracks\",\"track.album.type\":\"track_album_type\", \"track.disc_number\":\"track_disc_number\", \"track.episode\":\"track_episode\", \"track.external_ids.isrc\":\"track_external_ids_isrc\", \"track.external_urls.spotify\":\"track_external_ids_spotify\", \"track.href\":\"track_href\", \"track.id\":\"track_id\", \"track.is_local\":\"track_is_local\", \"track.popularity\":\"track_popularity\", \"track.preview_url\":\"track_preview_url\", \"track.track\":\"track_track\", \"track.track_number\":\"track_track_number\", \"track.type\":\"track_type\", \"video_thumbnail.url\":\"video_thumbnail_url\", \"external_urls.spotify\":\"external_urls_spotify\", \"followers.href\":\"followers_href\", \"followers.total\":\"followers_total\", \"owner.display_name\":\"owner_display_name\", \"owner.external_urls.spotify\":\"owner_external_urls_spotify\", \"owner.href\":\"owner_href\", \"owner.id\":\"owner_id\", \"owner.type\":\"owner_type\", \"owner.uri\":\"owner_uri\", \"tracks.href\":\"tracks_href\", \"tracks.limit\":\"tracks_limit\", \"tracks.next\":\"tracks_next\", \"tracks.offset\":\"tracks_offset\", \"tracks.previous\":\"tracks_previous\", \"tracks.total\":\"tracks_total\"})\n",
    "                                tracks = tracks.drop(columns=['track.album.artists', 'track.album.available_markets', 'track.album.images', 'track.artists', 'track.available_markets', 'images', 'tracks.items'])\n",
    "\n",
    "                                load_batch.append(tracks)\n",
    "                        else:\n",
    "                                secondary_data = pd.json_normalize(sp.playlist(playlist))\n",
    "                                tracks['playlist_uri'] = playlist\n",
    "                                tracks = tracks.merge(secondary_data, left_on='playlist_uri', right_on='uri')\n",
    "                                tracks = tracks.rename(columns={\"name\":\"playlist_name\", \"track.name\":\"track_name\", \"track.uri\":\"track_uri\", \"track.album.name\":\"album_name\", \"track.explicit\":\"isExplicit\", \"track.album.release_date\":\"release_date\", \"track.duration_ms\":\"duration_ms\", \"track.album.uri\":\"album_uri\", \"added_by.external_urls.spotify\": \"added_by_external_urls_spotify\", 'added_by.href':\"added_by_href\", \"added_by.id\":\"added_by_id\", \"added_by.type\":\"added_by_type\", \"added_by.uri\":\"added_by_uri\", \"track.album.album_type\":\"track_album_album_type\", \"track.album.external_urls.spotify\":\"track_album_external_urls_spotify\", \"track.album.href\":\"track_album_href\", \"track.album.id\":\"track_album_id\", \"track.album.release_date_precision\":\"track_album_release_date_precision\", \"track.album.total_tracks\":\"track_album_total_tracks\",\"track.album.type\":\"track_album_type\", \"track.disc_number\":\"track_disc_number\", \"track.episode\":\"track_episode\", \"track.external_ids.isrc\":\"track_external_ids_isrc\", \"track.external_urls.spotify\":\"track_external_ids_spotify\", \"track.href\":\"track_href\", \"track.id\":\"track_id\", \"track.is_local\":\"track_is_local\", \"track.popularity\":\"track_popularity\", \"track.preview_url\":\"track_preview_url\", \"track.track\":\"track_track\", \"track.track_number\":\"track_track_number\", \"track.type\":\"track_type\", \"video_thumbnail.url\":\"video_thumbnail_url\", \"external_urls.spotify\":\"external_urls_spotify\", \"followers.href\":\"followers_href\", \"followers.total\":\"followers_total\", \"owner.display_name\":\"owner_display_name\", \"owner.external_urls.spotify\":\"owner_external_urls_spotify\", \"owner.href\":\"owner_href\", \"owner.id\":\"owner_id\", \"owner.type\":\"owner_type\", \"owner.uri\":\"owner_uri\", \"tracks.href\":\"tracks_href\", \"tracks.limit\":\"tracks_limit\", \"tracks.next\":\"tracks_next\", \"tracks.offset\":\"tracks_offset\", \"tracks.previous\":\"tracks_previous\", \"tracks.total\":\"tracks_total\"})\n",
    "                                tracks = tracks.drop(columns=['track.album.artists', 'track.album.available_markets', 'track.album.images', 'track.artists', 'track.available_markets', 'images', 'tracks.items'])\n",
    "                                load_batch.append(tracks)\n",
    "                except:\n",
    "                        pass\n",
    "        load_batch = pd.concat(load_batch)\n",
    "        if set(['track.album.is_playable','track.album.restrictions.reason', 'track.external_ids.spotify', 'track.album.album_group']).issubset(load_batch.columns):\n",
    "                load_batch = load_batch.drop(columns=['track.album.is_playable', 'track.album.restrictions.reason', 'track.external_ids.spotify', 'track.is_playable', 'track.album.album_group'])\n",
    "        else:\n",
    "                load_batch\n",
    "        load_batch.to_sql('playlist_tracks', engine, if_exists='append')\n",
    "        print(f'playlist_tracks updated #{i}')\n",
    "        \n",
    "        # extract all artists\n",
    "        df = pd.read_sql('''SELECT DISTINCT track_uri FROM artists''', engine)\n",
    "        outer = load_batch.merge(df, how='outer', indicator=True)\n",
    "        anti_join = outer[(outer._merge=='left_only')].drop('_merge', axis=1)\n",
    "\n",
    "        df = pd.Series(anti_join['track_uri'])\n",
    "        base_list = []\n",
    "        for track in tqdm(df):\n",
    "                try:\n",
    "                        df2 = pd.json_normalize(sp.track(track), record_path=['artists'])\n",
    "                        df2['track_uri'] = track\n",
    "                        df2 = df2[['name', 'track_uri']]\n",
    "                        base_list.append(df2)\n",
    "                except:\n",
    "                        pass\n",
    "        df2 = pd.concat(base_list)\n",
    "        \n",
    "        df2['RN'] = df2.groupby(\"track_uri\")[\"name\"].rank(method=\"first\", ascending=True)\n",
    "        df2 = df2.pivot(index='track_uri', columns=['RN'], values='name').reset_index()\n",
    "        df2 = df2.rename(columns={1.0:'artist1', 2.0:'artist2', 3.0:'artist3', 4.0:'artist4', 5.0:'artist5'})\n",
    "        df2 = df2[['track_uri', 'artist1', 'artist2', 'artist3', 'artist4', 'artist5']]\n",
    "        \n",
    "        df2.to_sql('artists', engine, if_exists='append')\n",
    "        print(f'artists updated #{i}')\n",
    "        \n",
    "        # extract all audio_features\n",
    "        df = pd.read_sql('''SELECT DISTINCT track_uri FROM audio_features''', engine)\n",
    "        outer = load_batch.merge(df, how='outer', indicator=True)\n",
    "        anti_join = outer[(outer._merge=='left_only')].drop('_merge', axis=1)\n",
    "\n",
    "        df = pd.Series(anti_join['track_uri'])\n",
    "\n",
    "        base_list = []\n",
    "        for track in tqdm(df):\n",
    "                try:\n",
    "                        df3 = pd.json_normalize(sp.audio_features(track))\n",
    "                        df3['track_uri'] = track\n",
    "                        df3 = df3[['track_uri', 'danceability', 'energy', 'key', 'loudness', 'mode', 'speechiness', 'acousticness', 'instrumentalness', 'liveness', 'valence', 'tempo', 'duration_ms', 'time_signature']]\n",
    "                        base_list.append(df3)\n",
    "                except:\n",
    "                        pass\n",
    "        df3 = pd.concat(base_list)\n",
    "        \n",
    "        df3.to_sql('audio_features', con=engine, if_exists='append')\n",
    "        print(f'audio_features updated #{i}')"
   ]
  },
  {
   "cell_type": "code",
   "execution_count": 7,
   "metadata": {
    "dotnet_interactive": {
     "language": "csharp"
    },
    "polyglot_notebook": {
     "kernelName": "csharp"
    }
   },
   "outputs": [
    {
     "name": "stderr",
     "output_type": "stream",
     "text": [
      "  0%|          | 0/18 [00:00<?, ?it/s]HTTP Error for GET to https://api.spotify.com/v1/playlists/37i9dQZF1DWSfODohdgUzS/tracks with Params: {'limit': 100, 'offset': 0, 'fields': None, 'market': None, 'additional_types': 'track'} returned 404 due to Not found.\n",
      "100%|██████████| 18/18 [00:16<00:00,  1.06it/s]\n"
     ]
    },
    {
     "name": "stdout",
     "output_type": "stream",
     "text": [
      "playlist_tracks updated #1\n"
     ]
    },
    {
     "name": "stderr",
     "output_type": "stream",
     "text": [
      "100%|██████████| 341/341 [00:33<00:00, 10.12it/s]\n"
     ]
    },
    {
     "name": "stdout",
     "output_type": "stream",
     "text": [
      "artists updated #1\n"
     ]
    },
    {
     "name": "stderr",
     "output_type": "stream",
     "text": [
      "100%|██████████| 342/342 [00:26<00:00, 12.91it/s]\n"
     ]
    },
    {
     "name": "stdout",
     "output_type": "stream",
     "text": [
      "audio_features updated #1\n"
     ]
    },
    {
     "name": "stderr",
     "output_type": "stream",
     "text": [
      "  0%|          | 0/18 [00:00<?, ?it/s]HTTP Error for GET to https://api.spotify.com/v1/playlists/37i9dQZF1DWSfODohdgUzS/tracks with Params: {'limit': 100, 'offset': 0, 'fields': None, 'market': None, 'additional_types': 'track'} returned 404 due to Not found.\n",
      "100%|██████████| 18/18 [00:12<00:00,  1.50it/s]\n"
     ]
    },
    {
     "name": "stdout",
     "output_type": "stream",
     "text": [
      "playlist_tracks updated #2\n"
     ]
    },
    {
     "name": "stderr",
     "output_type": "stream",
     "text": [
      "100%|██████████| 546/546 [00:57<00:00,  9.56it/s]\n"
     ]
    },
    {
     "name": "stdout",
     "output_type": "stream",
     "text": [
      "artists updated #2\n"
     ]
    },
    {
     "name": "stderr",
     "output_type": "stream",
     "text": [
      "100%|██████████| 546/546 [00:49<00:00, 11.02it/s]\n"
     ]
    },
    {
     "name": "stdout",
     "output_type": "stream",
     "text": [
      "audio_features updated #2\n"
     ]
    },
    {
     "name": "stderr",
     "output_type": "stream",
     "text": [
      "  0%|          | 0/18 [00:00<?, ?it/s]HTTP Error for GET to https://api.spotify.com/v1/playlists/37i9dQZF1DWSfODohdgUzS/tracks with Params: {'limit': 100, 'offset': 0, 'fields': None, 'market': None, 'additional_types': 'track'} returned 404 due to Not found.\n",
      "100%|██████████| 18/18 [00:13<00:00,  1.33it/s]\n"
     ]
    },
    {
     "name": "stdout",
     "output_type": "stream",
     "text": [
      "playlist_tracks updated #3\n"
     ]
    },
    {
     "name": "stderr",
     "output_type": "stream",
     "text": [
      " 56%|█████▌    | 473/851 [00:47<00:35, 10.61it/s]Expected id of type track but found type Growing+Up+%28Tom+Lord-Alge+Mix%29 spotify:local:Peter+Gabriel:Greatest+Hits+%28CD2%29:Growing+Up+%28Tom+Lord-Alge+Mix%29:291\n",
      "HTTP Error for GET to https://api.spotify.com/v1/tracks/291 with Params: {'market': None} returned 400 due to invalid id\n",
      " 56%|█████▌    | 477/851 [00:47<00:33, 11.12it/s]Expected id of type track but found type Shaking+The+Tree+%2797 spotify:local:Peter+Gabriel:Greatest+Hits+%28CD2%29:Shaking+The+Tree+%2797:337\n",
      "HTTP Error for GET to https://api.spotify.com/v1/tracks/337 with Params: {'market': None} returned 400 due to invalid id\n",
      "Expected id of type track but found type While+The+Earth+Sleeps+%28feat.+Deep+Forest%29 spotify:local:Peter+Gabriel:Greatest+Hits+%28CD2%29:While+The+Earth+Sleeps+%28feat.+Deep+Forest%29:234\n",
      "HTTP Error for GET to https://api.spotify.com/v1/tracks/234 with Params: {'market': None} returned 400 due to invalid id\n",
      "100%|██████████| 851/851 [01:25<00:00,  9.94it/s]\n"
     ]
    },
    {
     "name": "stdout",
     "output_type": "stream",
     "text": [
      "artists updated #3\n"
     ]
    },
    {
     "name": "stderr",
     "output_type": "stream",
     "text": [
      " 56%|█████▌    | 474/852 [00:35<00:24, 15.39it/s]Expected id of type track but found type Growing+Up+%28Tom+Lord-Alge+Mix%29 spotify:local:Peter+Gabriel:Greatest+Hits+%28CD2%29:Growing+Up+%28Tom+Lord-Alge+Mix%29:291\n",
      " 56%|█████▌    | 478/852 [00:35<00:23, 15.67it/s]Expected id of type track but found type Shaking+The+Tree+%2797 spotify:local:Peter+Gabriel:Greatest+Hits+%28CD2%29:Shaking+The+Tree+%2797:337\n",
      "Expected id of type track but found type While+The+Earth+Sleeps+%28feat.+Deep+Forest%29 spotify:local:Peter+Gabriel:Greatest+Hits+%28CD2%29:While+The+Earth+Sleeps+%28feat.+Deep+Forest%29:234\n",
      "100%|██████████| 852/852 [01:08<00:00, 12.43it/s]\n"
     ]
    },
    {
     "name": "stdout",
     "output_type": "stream",
     "text": [
      "audio_features updated #3\n"
     ]
    },
    {
     "name": "stderr",
     "output_type": "stream",
     "text": [
      "  0%|          | 0/18 [00:00<?, ?it/s]HTTP Error for GET to https://api.spotify.com/v1/playlists/37i9dQZF1DWSfODohdgUzS/tracks with Params: {'limit': 100, 'offset': 0, 'fields': None, 'market': None, 'additional_types': 'track'} returned 404 due to Not found.\n",
      "100%|██████████| 18/18 [00:13<00:00,  1.32it/s]\n"
     ]
    },
    {
     "name": "stdout",
     "output_type": "stream",
     "text": [
      "playlist_tracks updated #4\n"
     ]
    },
    {
     "name": "stderr",
     "output_type": "stream",
     "text": [
      "100%|██████████| 844/844 [01:25<00:00,  9.84it/s]\n"
     ]
    },
    {
     "name": "stdout",
     "output_type": "stream",
     "text": [
      "artists updated #4\n"
     ]
    },
    {
     "name": "stderr",
     "output_type": "stream",
     "text": [
      "100%|██████████| 881/881 [01:10<00:00, 12.50it/s]\n"
     ]
    },
    {
     "name": "stdout",
     "output_type": "stream",
     "text": [
      "audio_features updated #4\n"
     ]
    },
    {
     "name": "stderr",
     "output_type": "stream",
     "text": [
      "  0%|          | 0/18 [00:00<?, ?it/s]HTTP Error for GET to https://api.spotify.com/v1/playlists/37i9dQZF1DWSfODohdgUzS/tracks with Params: {'limit': 100, 'offset': 0, 'fields': None, 'market': None, 'additional_types': 'track'} returned 404 due to Not found.\n",
      "100%|██████████| 18/18 [00:14<00:00,  1.24it/s]\n"
     ]
    },
    {
     "name": "stdout",
     "output_type": "stream",
     "text": [
      "playlist_tracks updated #5\n"
     ]
    },
    {
     "name": "stderr",
     "output_type": "stream",
     "text": [
      "  8%|▊         | 51/669 [00:05<00:56, 10.88it/s]Expected id of type track but found type Bee+Gees+Greatest+Hits+Full+Album+-+Best+Songs+Of+Bee+Gees spotify:local:::Bee+Gees+Greatest+Hits+Full+Album+-+Best+Songs+Of+Bee+Gees:4149\n",
      "HTTP Error for GET to https://api.spotify.com/v1/tracks/4149 with Params: {'market': None} returned 400 due to invalid id\n",
      "100%|██████████| 669/669 [01:04<00:00, 10.40it/s]\n"
     ]
    },
    {
     "name": "stdout",
     "output_type": "stream",
     "text": [
      "artists updated #5\n"
     ]
    },
    {
     "name": "stderr",
     "output_type": "stream",
     "text": [
      "  7%|▋         | 50/670 [00:04<00:38, 16.12it/s]Expected id of type track but found type Bee+Gees+Greatest+Hits+Full+Album+-+Best+Songs+Of+Bee+Gees spotify:local:::Bee+Gees+Greatest+Hits+Full+Album+-+Best+Songs+Of+Bee+Gees:4149\n",
      "100%|██████████| 670/670 [00:54<00:00, 12.26it/s]\n"
     ]
    },
    {
     "name": "stdout",
     "output_type": "stream",
     "text": [
      "audio_features updated #5\n"
     ]
    },
    {
     "name": "stderr",
     "output_type": "stream",
     "text": [
      "  0%|          | 0/18 [00:00<?, ?it/s]HTTP Error for GET to https://api.spotify.com/v1/playlists/37i9dQZF1DWSfODohdgUzS/tracks with Params: {'limit': 100, 'offset': 0, 'fields': None, 'market': None, 'additional_types': 'track'} returned 404 due to Not found.\n",
      "100%|██████████| 18/18 [00:14<00:00,  1.26it/s]\n"
     ]
    },
    {
     "name": "stdout",
     "output_type": "stream",
     "text": [
      "playlist_tracks updated #6\n"
     ]
    },
    {
     "name": "stderr",
     "output_type": "stream",
     "text": [
      "100%|██████████| 1150/1150 [01:56<00:00,  9.85it/s]\n"
     ]
    },
    {
     "name": "stdout",
     "output_type": "stream",
     "text": [
      "artists updated #6\n"
     ]
    },
    {
     "name": "stderr",
     "output_type": "stream",
     "text": [
      "100%|██████████| 1152/1152 [01:41<00:00, 11.35it/s]\n"
     ]
    },
    {
     "name": "stdout",
     "output_type": "stream",
     "text": [
      "audio_features updated #6\n"
     ]
    },
    {
     "name": "stderr",
     "output_type": "stream",
     "text": [
      "  0%|          | 0/18 [00:00<?, ?it/s]HTTP Error for GET to https://api.spotify.com/v1/playlists/37i9dQZF1DWSfODohdgUzS/tracks with Params: {'limit': 100, 'offset': 0, 'fields': None, 'market': None, 'additional_types': 'track'} returned 404 due to Not found.\n",
      "100%|██████████| 18/18 [00:14<00:00,  1.26it/s]\n"
     ]
    },
    {
     "name": "stdout",
     "output_type": "stream",
     "text": [
      "playlist_tracks updated #7\n"
     ]
    },
    {
     "name": "stderr",
     "output_type": "stream",
     "text": [
      "100%|██████████| 444/444 [00:45<00:00,  9.67it/s]\n"
     ]
    },
    {
     "name": "stdout",
     "output_type": "stream",
     "text": [
      "artists updated #7\n"
     ]
    },
    {
     "name": "stderr",
     "output_type": "stream",
     "text": [
      "100%|██████████| 444/444 [00:39<00:00, 11.26it/s]\n"
     ]
    },
    {
     "name": "stdout",
     "output_type": "stream",
     "text": [
      "audio_features updated #7\n"
     ]
    },
    {
     "name": "stderr",
     "output_type": "stream",
     "text": [
      "  0%|          | 0/18 [00:00<?, ?it/s]HTTP Error for GET to https://api.spotify.com/v1/playlists/37i9dQZF1DWSfODohdgUzS/tracks with Params: {'limit': 100, 'offset': 0, 'fields': None, 'market': None, 'additional_types': 'track'} returned 404 due to Not found.\n",
      "100%|██████████| 18/18 [00:15<00:00,  1.17it/s]\n"
     ]
    },
    {
     "name": "stdout",
     "output_type": "stream",
     "text": [
      "playlist_tracks updated #8\n"
     ]
    },
    {
     "name": "stderr",
     "output_type": "stream",
     "text": [
      " 75%|███████▌  | 363/482 [00:35<00:10, 11.05it/s]Expected id of type track but found type dxnnyfxntom+x+trippie+redd+-+the+grinch+%28guitar+remix%29 spotify:local:::dxnnyfxntom+x+trippie+redd+-+the+grinch+%28guitar+remix%29:100\n",
      "HTTP Error for GET to https://api.spotify.com/v1/tracks/100 with Params: {'market': None} returned 400 due to invalid id\n",
      "100%|██████████| 482/482 [00:47<00:00, 10.24it/s]\n"
     ]
    },
    {
     "name": "stdout",
     "output_type": "stream",
     "text": [
      "artists updated #8\n"
     ]
    },
    {
     "name": "stderr",
     "output_type": "stream",
     "text": [
      " 75%|███████▍  | 362/483 [00:32<01:03,  1.89it/s]Expected id of type track but found type dxnnyfxntom+x+trippie+redd+-+the+grinch+%28guitar+remix%29 spotify:local:::dxnnyfxntom+x+trippie+redd+-+the+grinch+%28guitar+remix%29:100\n",
      "100%|██████████| 483/483 [00:43<00:00, 11.11it/s]\n"
     ]
    },
    {
     "name": "stdout",
     "output_type": "stream",
     "text": [
      "audio_features updated #8\n"
     ]
    }
   ],
   "source": [
    "i = 1\n",
    "\n",
    "while i <= 8:\n",
    "    load_all_data()\n",
    "    i += 1"
   ]
  },
  {
   "cell_type": "code",
   "execution_count": 8,
   "metadata": {
    "dotnet_interactive": {
     "language": "csharp"
    },
    "polyglot_notebook": {
     "kernelName": "csharp"
    }
   },
   "outputs": [],
   "source": [
    "all_data1 = pd.read_sql('''SELECT DISTINCT playlist_uri, playlist_name, owner_uri, owner_display_name, collaborative, description, followers_total,\n",
    "af.track_uri, track_name, artist1, artist2, artist3, artist4, artist5, album_uri, album_name, release_date, \n",
    "added_by_uri, added_at, track_album_total_tracks, af.duration_ms, \"isExplicit\", track_popularity, \n",
    "track_preview_url, video_thumbnail_url, danceability, energy, loudness, key, mode, acousticness, speechiness, \n",
    "instrumentalness, liveness, valence, tempo, time_signature\n",
    "FROM playlist_tracks pt\n",
    "JOIN artists a ON pt.track_uri = a.track_uri\n",
    "JOIN audio_features af ON pt.track_uri = af.track_uri\n",
    "ORDER BY playlist_uri, track_uri\n",
    "LIMIT 1894425;''', engine)\n",
    "f = open(\"C:\\\\Users\\\\Chase\\\\OneDrive\\\\Documents\\\\Career Development\\\\Data Science Club\\\\Spring 2023 Club Project\\\\oltp_output1.csv\", \"w\")\n",
    "f.truncate()\n",
    "f.close()\n",
    "\n",
    "all_data1.to_csv('C:\\\\Users\\\\Chase\\\\OneDrive\\\\Documents\\\\Career Development\\\\Data Science Club\\\\Spring 2023 Club Project\\\\oltp_output1.csv', mode=\"w+\", index=False)"
   ]
  },
  {
   "cell_type": "code",
   "execution_count": 9,
   "metadata": {
    "dotnet_interactive": {
     "language": "csharp"
    },
    "polyglot_notebook": {
     "kernelName": "csharp"
    }
   },
   "outputs": [],
   "source": [
    "all_data2 = pd.read_sql('''SELECT DISTINCT playlist_uri, playlist_name, owner_uri, owner_display_name, collaborative, description, followers_total,\n",
    "af.track_uri, track_name, artist1, artist2, artist3, artist4, artist5, album_uri, album_name, release_date, \n",
    "added_by_uri, added_at, track_album_total_tracks, af.duration_ms, \"isExplicit\", track_popularity, \n",
    "track_preview_url, video_thumbnail_url, danceability, energy, loudness, key, mode, acousticness, speechiness, \n",
    "instrumentalness, liveness, valence, tempo, time_signature\n",
    "FROM playlist_tracks pt\n",
    "JOIN artists a ON pt.track_uri = a.track_uri\n",
    "JOIN audio_features af ON pt.track_uri = af.track_uri\n",
    "ORDER BY playlist_uri, track_uri\n",
    "OFFSET 1894425;''', engine)\n",
    "f = open(\"C:\\\\Users\\\\Chase\\\\OneDrive\\\\Documents\\\\Career Development\\\\Data Science Club\\\\Spring 2023 Club Project\\\\oltp_output2.csv\", \"w\")\n",
    "f.truncate()\n",
    "f.close()\n",
    "\n",
    "all_data2.to_csv('C:\\\\Users\\\\Chase\\\\OneDrive\\\\Documents\\\\Career Development\\\\Data Science Club\\\\Spring 2023 Club Project\\\\oltp_output2.csv', mode=\"w+\", index=False)"
   ]
  },
  {
   "cell_type": "code",
   "execution_count": 10,
   "metadata": {
    "dotnet_interactive": {
     "language": "csharp"
    },
    "polyglot_notebook": {
     "kernelName": "csharp"
    }
   },
   "outputs": [],
   "source": [
    "features1 = all_data1[['track_uri', 'track_name', 'artist1', 'artist2', 'artist3', 'artist4', 'artist5', 'album_name', 'release_date', 'danceability', 'energy', 'track_popularity', 'acousticness', 'valence', 'tempo']]\n",
    "features2 = all_data2[['track_uri', 'track_name', 'artist1', 'artist2', 'artist3', 'artist4', 'artist5', 'album_name', 'release_date', 'danceability', 'energy', 'track_popularity', 'acousticness', 'valence', 'tempo']]\n",
    "features = pd.concat([features1, features2])\n",
    "features = features.drop_duplicates(subset='track_uri')\n",
    "features.to_parquet('C:\\\\Users\\\\Chase\\\\OneDrive\\\\Documents\\\\UVU-2022-2023\\\\features.parquet.gzip', compression='gzip')"
   ]
  }
 ],
 "metadata": {
  "kernelspec": {
   "display_name": "Python 3",
   "language": "python",
   "name": "python3"
  },
  "language_info": {
   "codemirror_mode": {
    "name": "ipython",
    "version": 3
   },
   "file_extension": ".py",
   "mimetype": "text/x-python",
   "name": "python",
   "nbconvert_exporter": "python",
   "pygments_lexer": "ipython3",
   "version": "3.9.12"
  },
  "polyglot_notebook": {
   "kernelInfo": {
    "defaultKernelName": "csharp",
    "items": [
     {
      "aliases": [
       "c#",
       "C#"
      ],
      "languageName": "C#",
      "name": "csharp"
     },
     {
      "aliases": [
       "frontend"
      ],
      "languageName": null,
      "name": "vscode"
     },
     {
      "aliases": [],
      "name": ".NET"
     },
     {
      "aliases": [
       "f#",
       "F#"
      ],
      "languageName": "F#",
      "name": "fsharp"
     },
     {
      "aliases": [],
      "languageName": "HTML",
      "name": "html"
     },
     {
      "aliases": [],
      "languageName": "KQL",
      "name": "kql"
     },
     {
      "aliases": [],
      "languageName": "Mermaid",
      "name": "mermaid"
     },
     {
      "aliases": [
       "powershell"
      ],
      "languageName": "PowerShell",
      "name": "pwsh"
     },
     {
      "aliases": [],
      "languageName": "SQL",
      "name": "sql"
     },
     {
      "aliases": [],
      "name": "value"
     }
    ]
   }
  }
 },
 "nbformat": 4,
 "nbformat_minor": 2
}
