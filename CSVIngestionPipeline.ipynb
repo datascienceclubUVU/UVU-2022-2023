{
 "cells": [
  {
   "attachments": {},
   "cell_type": "markdown",
   "metadata": {},
   "source": [
    "## Import All Required Libraries"
   ]
  },
  {
   "cell_type": "code",
   "execution_count": 1,
   "metadata": {},
   "outputs": [],
   "source": [
    "# Import all connection libraries\n",
    "\n",
    "from spotipy import SpotifyClientCredentials\n",
    "import spotipy\n",
    "\n",
    "# Import all data manipulation libraries\n",
    "\n",
    "import pandas as pd\n",
    "from pandarallel import pandarallel\n",
    "import numpy as np\n",
    "from tqdm import tqdm\n",
    "pandarallel.initialize(verbose=0, nb_workers=8)"
   ]
  },
  {
   "cell_type": "code",
   "execution_count": 2,
   "metadata": {},
   "outputs": [],
   "source": [
    "from functools import lru_cache\n",
    "\n",
    "# Use the lru_cache decorator to cache the result of the function\n",
    "# maxsize=1000 means the cache will store the result of up to 1000 items\n",
    "@lru_cache(maxsize=1000)\n",
    "def get_playlist_tracks(playlist_uri):\n",
    "    \"\"\"\n",
    "    This function uses the Spotify API to get the tracks of a given playlist.\n",
    "    The function is decorated with the lru_cache decorator to cache the result for each unique playlist_uri.\n",
    "    So, if the same playlist_uri is passed to the function again, the cached result will be returned\n",
    "    instead of making a new API call.\n",
    "    :param playlist_uri: The Spotify URI of the playlist\n",
    "    :return: A DataFrame containing the tracks of the playlist\n",
    "    \"\"\"\n",
    "    # Use the Spotify API to get the tracks of the playlist\n",
    "    tracks = pd.json_normalize(sp.playlist_tracks(playlist_uri), record_path=['items'])\n",
    "    return tracks"
   ]
  },
  {
   "attachments": {},
   "cell_type": "markdown",
   "metadata": {},
   "source": [
    "## Load Initial Training Data"
   ]
  },
  {
   "cell_type": "code",
   "execution_count": 3,
   "metadata": {},
   "outputs": [
    {
     "data": {
      "text/html": [
       "<div>\n",
       "<style scoped>\n",
       "    .dataframe tbody tr th:only-of-type {\n",
       "        vertical-align: middle;\n",
       "    }\n",
       "\n",
       "    .dataframe tbody tr th {\n",
       "        vertical-align: top;\n",
       "    }\n",
       "\n",
       "    .dataframe thead th {\n",
       "        text-align: right;\n",
       "    }\n",
       "</style>\n",
       "<table border=\"1\" class=\"dataframe\">\n",
       "  <thead>\n",
       "    <tr style=\"text-align: right;\">\n",
       "      <th></th>\n",
       "      <th>playlist_uri</th>\n",
       "      <th>playlist_name</th>\n",
       "    </tr>\n",
       "  </thead>\n",
       "  <tbody>\n",
       "    <tr>\n",
       "      <th>0</th>\n",
       "      <td>spotify:playlist:000J1zgXTT67NmjEPF4oFa</td>\n",
       "      <td>cleaning my room and getting distracted by old...</td>\n",
       "    </tr>\n",
       "    <tr>\n",
       "      <th>601</th>\n",
       "      <td>spotify:playlist:009iSBUVKTJv0UFCfQow2t</td>\n",
       "      <td>Rap Workout 2022: Hip Hop Music For The Gym ??</td>\n",
       "    </tr>\n",
       "    <tr>\n",
       "      <th>972</th>\n",
       "      <td>spotify:playlist:00K8YK8wHcMqrUjQA4KOub</td>\n",
       "      <td>????MANYAO//EDM//TECHNO//NIGHTCORE??</td>\n",
       "    </tr>\n",
       "    <tr>\n",
       "      <th>1036</th>\n",
       "      <td>spotify:playlist:00L9Fq1fvpmCk6pjEkh1vZ</td>\n",
       "      <td>Hip Hop Party 2022 - Best Hip Hop Club Music 2...</td>\n",
       "    </tr>\n",
       "    <tr>\n",
       "      <th>1037</th>\n",
       "      <td>spotify:playlist:00qrX0Ex3Pv0Q5QPlequr6</td>\n",
       "      <td>DEEP HOUSE YOGA</td>\n",
       "    </tr>\n",
       "  </tbody>\n",
       "</table>\n",
       "</div>"
      ],
      "text/plain": [
       "                                 playlist_uri  \\\n",
       "0     spotify:playlist:000J1zgXTT67NmjEPF4oFa   \n",
       "601   spotify:playlist:009iSBUVKTJv0UFCfQow2t   \n",
       "972   spotify:playlist:00K8YK8wHcMqrUjQA4KOub   \n",
       "1036  spotify:playlist:00L9Fq1fvpmCk6pjEkh1vZ   \n",
       "1037  spotify:playlist:00qrX0Ex3Pv0Q5QPlequr6   \n",
       "\n",
       "                                          playlist_name  \n",
       "0     cleaning my room and getting distracted by old...  \n",
       "601      Rap Workout 2022: Hip Hop Music For The Gym ??  \n",
       "972                ????MANYAO//EDM//TECHNO//NIGHTCORE??  \n",
       "1036  Hip Hop Party 2022 - Best Hip Hop Club Music 2...  \n",
       "1037                                    DEEP HOUSE YOGA  "
      ]
     },
     "execution_count": 3,
     "metadata": {},
     "output_type": "execute_result"
    }
   ],
   "source": [
    "# establish connection to Spotify API\n",
    "\n",
    "cid = 'e5448a8a4fdc4b5d98b44e956d50546d'\n",
    "secret = '8924c0394d3f49a4a569fc03e891aa1b'\n",
    "client_credentials = SpotifyClientCredentials(client_id=cid, client_secret=secret)\n",
    "sp = spotipy.Spotify(client_credentials_manager=client_credentials, requests_timeout=15, retries=10)\n",
    "\n",
    "\n",
    "# load training data\n",
    "data = pd.read_csv('distinct_playlists.csv')[['playlist_uri', 'playlist_name']]\n",
    "data['playlist_uri'] = data['playlist_uri'].str.strip()\n",
    "\n",
    "data2 = pd.read_csv(r'C:\\Users\\Chase\\OneDrive\\Documents\\Career Development\\Data Science Club\\Spring 2023 Club Project\\output.csv')\n",
    "data2 = data2[['playlist_uri', 'playlist_name']]\n",
    "outer = data.merge(data2, how='outer', indicator=True)\n",
    "anti_join = outer[(outer._merge=='left_only')].drop('_merge', axis=1)\n",
    "\n",
    "data = pd.DataFrame(anti_join)\n",
    "data = data[0:5]\n",
    "data.head()"
   ]
  },
  {
   "attachments": {},
   "cell_type": "markdown",
   "metadata": {},
   "source": [
    "## Iterate Through Training Data to Change Grain of Data"
   ]
  },
  {
   "cell_type": "code",
   "execution_count": 4,
   "metadata": {},
   "outputs": [
    {
     "name": "stderr",
     "output_type": "stream",
     "text": [
      "100%|██████████| 5/5 [00:04<00:00,  1.01it/s]\n"
     ]
    },
    {
     "data": {
      "text/plain": [
       "(556, 63)"
      ]
     },
     "execution_count": 4,
     "metadata": {},
     "output_type": "execute_result"
    }
   ],
   "source": [
    "test_list = []\n",
    "series = data['playlist_uri'].to_dict()\n",
    "for playlist in tqdm(series.values()):\n",
    "    try:\n",
    "        tracks = get_playlist_tracks(playlist)\n",
    "        if len(tracks) >= 100:\n",
    "                tracks2 = pd.json_normalize(sp.playlist_tracks(playlist, offset=100), record_path=['items'])\n",
    "                tracks3 = pd.json_normalize(sp.playlist_tracks(playlist, offset=200), record_path=['items'])\n",
    "                tracks = pd.concat([tracks, tracks2, tracks3])\n",
    "                secondary_data = pd.json_normalize(sp.playlist(playlist))\n",
    "                tracks['playlist_uri'] = playlist\n",
    "                tracks = tracks.merge(secondary_data, left_on='playlist_uri', right_on='uri')\n",
    "                tracks = tracks.rename(columns={\"name\":\"playlist_name\", \"track.name\":\"track_name\", \"track.uri\":\"track_uri\", \"track.album.name\":\"album_name\", \"track.explicit\":\"isExplicit\", \"track.album.release_date\":\"release_date\", \"track.duration_ms\":\"duration_ms\", \"track.album.uri\":\"album_uri\"})\n",
    "                tracks = tracks.drop(columns=['track.album.artists', 'track.album.available_markets', 'track.album.images', 'track.artists', 'track.available_markets', 'images', 'tracks.items'])\n",
    "\n",
    "                test_list.append(tracks)\n",
    "        else:\n",
    "                secondary_data = pd.json_normalize(sp.playlist(playlist))\n",
    "                tracks['playlist_uri'] = playlist\n",
    "                tracks = tracks.merge(secondary_data, left_on='playlist_uri', right_on='uri')\n",
    "                tracks = tracks.rename(columns={\"name\":\"playlist_name\", \"track.name\":\"track_name\", \"track.uri\":\"track_uri\", \"track.album.name\":\"album_name\", \"track.explicit\":\"isExplicit\", \"track.album.release_date\":\"release_date\", \"track.duration_ms\":\"duration_ms\", \"track.album.uri\":\"album_uri\"})\n",
    "                tracks = tracks.drop(columns=['track.album.artists', 'track.album.available_markets', 'track.album.images', 'track.artists', 'track.available_markets', 'images', 'tracks.items'])\n",
    "                test_list.append(tracks)\n",
    "    except:\n",
    "            pass\n",
    "test_list = pd.concat(test_list)\n",
    "test_list.shape"
   ]
  },
  {
   "attachments": {},
   "cell_type": "markdown",
   "metadata": {},
   "source": [
    "## Upload Training Data to playlist_tracks Table"
   ]
  },
  {
   "cell_type": "code",
   "execution_count": 5,
   "metadata": {},
   "outputs": [],
   "source": [
    "test_list.to_csv(r'C:\\Users\\Chase\\OneDrive\\Documents\\Career Development\\Data Science Club\\Spring 2023 Club Project\\output.csv', mode='a')"
   ]
  }
 ],
 "metadata": {
  "kernelspec": {
   "display_name": "Python 3 (ipykernel)",
   "language": "python",
   "name": "python3"
  },
  "language_info": {
   "codemirror_mode": {
    "name": "ipython",
    "version": 3
   },
   "file_extension": ".py",
   "mimetype": "text/x-python",
   "name": "python",
   "nbconvert_exporter": "python",
   "pygments_lexer": "ipython3",
   "version": "3.9.12"
  },
  "vscode": {
   "interpreter": {
    "hash": "e509a2683bb710c9bd3cef57d5381e640e8483d6e683f75b983dd6327c90c1d7"
   }
  }
 },
 "nbformat": 4,
 "nbformat_minor": 2
}
