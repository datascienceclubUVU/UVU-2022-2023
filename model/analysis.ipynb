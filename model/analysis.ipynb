{
 "cells": [
  {
   "cell_type": "code",
   "execution_count": 5,
   "metadata": {},
   "outputs": [],
   "source": [
    "import pandas as pd\n",
    "import sklearn\n",
    "import matplotlib.pyplot as plt"
   ]
  },
  {
   "cell_type": "code",
   "execution_count": 22,
   "metadata": {},
   "outputs": [],
   "source": [
    "df = pd.read_parquet(r'features.parquet.gzip',engine='pyarrow')"
   ]
  },
  {
   "cell_type": "code",
   "execution_count": 23,
   "metadata": {},
   "outputs": [
    {
     "name": "stdout",
     "output_type": "stream",
     "text": [
      "Unexpected exception formatting exception. Falling back to standard exception\n"
     ]
    },
    {
     "name": "stderr",
     "output_type": "stream",
     "text": [
      "Traceback (most recent call last):\n",
      "  File \"c:\\Users\\danny\\Desktop\\UVU\\Spring 2023\\Data Science Club\\UVU-2022-2023\\venv\\lib\\site-packages\\IPython\\core\\interactiveshell.py\", line 3460, in run_code\n",
      "  File \"C:\\Users\\danny\\AppData\\Local\\Temp\\ipykernel_27128\\3781546021.py\", line 2, in <module>\n",
      "    cumulative = df.cumsum()\n",
      "  File \"c:\\Users\\danny\\Desktop\\UVU\\Spring 2023\\Data Science Club\\UVU-2022-2023\\venv\\lib\\site-packages\\pandas\\core\\generic.py\", line 11439, in cumsum\n",
      "    return NDFrame.cumsum(self, axis, skipna, *args, **kwargs)\n",
      "  File \"c:\\Users\\danny\\Desktop\\UVU\\Spring 2023\\Data Science Club\\UVU-2022-2023\\venv\\lib\\site-packages\\pandas\\core\\generic.py\", line 11047, in cumsum\n",
      "    return self._accum_func(\"cumsum\", np.cumsum, axis, skipna, *args, **kwargs)\n",
      "  File \"c:\\Users\\danny\\Desktop\\UVU\\Spring 2023\\Data Science Club\\UVU-2022-2023\\venv\\lib\\site-packages\\pandas\\core\\generic.py\", line 11032, in _accum_func\n",
      "    result = self._mgr.apply(block_accum_func)\n",
      "  File \"c:\\Users\\danny\\Desktop\\UVU\\Spring 2023\\Data Science Club\\UVU-2022-2023\\venv\\lib\\site-packages\\pandas\\core\\internals\\managers.py\", line 344, in apply\n",
      "    applied = b.apply(f, **kwargs)\n",
      "  File \"c:\\Users\\danny\\Desktop\\UVU\\Spring 2023\\Data Science Club\\UVU-2022-2023\\venv\\lib\\site-packages\\pandas\\core\\internals\\blocks.py\", line 327, in apply\n",
      "    result = func(self.values, **kwargs)\n",
      "  File \"c:\\Users\\danny\\Desktop\\UVU\\Spring 2023\\Data Science Club\\UVU-2022-2023\\venv\\lib\\site-packages\\pandas\\core\\generic.py\", line 11027, in block_accum_func\n",
      "    result = nanops.na_accum_func(values, func, skipna=skipna)\n",
      "  File \"c:\\Users\\danny\\Desktop\\UVU\\Spring 2023\\Data Science Club\\UVU-2022-2023\\venv\\lib\\site-packages\\pandas\\core\\nanops.py\", line 1762, in na_accum_func\n",
      "    result = accum_func(vals, axis=0)\n",
      "  File \"<__array_function__ internals>\", line 200, in cumsum\n",
      "  File \"c:\\Users\\danny\\Desktop\\UVU\\Spring 2023\\Data Science Club\\UVU-2022-2023\\venv\\lib\\site-packages\\numpy\\core\\fromnumeric.py\", line 2597, in cumsum\n",
      "    return _wrapfunc(a, 'cumsum', axis=axis, dtype=dtype, out=out)\n",
      "  File \"c:\\Users\\danny\\Desktop\\UVU\\Spring 2023\\Data Science Club\\UVU-2022-2023\\venv\\lib\\site-packages\\numpy\\core\\fromnumeric.py\", line 57, in _wrapfunc\n",
      "    return bound(*args, **kwds)\n",
      "MemoryError\n",
      "\n",
      "During handling of the above exception, another exception occurred:\n",
      "\n",
      "Traceback (most recent call last):\n",
      "  File \"c:\\Users\\danny\\Desktop\\UVU\\Spring 2023\\Data Science Club\\UVU-2022-2023\\venv\\lib\\site-packages\\IPython\\core\\interactiveshell.py\", line 2057, in showtraceback\n",
      "  File \"c:\\Users\\danny\\Desktop\\UVU\\Spring 2023\\Data Science Club\\UVU-2022-2023\\venv\\lib\\site-packages\\IPython\\core\\ultratb.py\", line 1288, in structured_traceback\n",
      "  File \"c:\\Users\\danny\\Desktop\\UVU\\Spring 2023\\Data Science Club\\UVU-2022-2023\\venv\\lib\\site-packages\\IPython\\core\\ultratb.py\", line 1177, in structured_traceback\n",
      "  File \"c:\\Users\\danny\\Desktop\\UVU\\Spring 2023\\Data Science Club\\UVU-2022-2023\\venv\\lib\\site-packages\\IPython\\core\\ultratb.py\", line 1030, in structured_traceback\n",
      "  File \"c:\\Users\\danny\\Desktop\\UVU\\Spring 2023\\Data Science Club\\UVU-2022-2023\\venv\\lib\\site-packages\\IPython\\core\\ultratb.py\", line 935, in format_exception_as_a_whole\n",
      "  File \"c:\\Users\\danny\\Desktop\\UVU\\Spring 2023\\Data Science Club\\UVU-2022-2023\\venv\\lib\\site-packages\\IPython\\core\\ultratb.py\", line 1003, in get_records\n",
      "  File \"C:\\Users\\danny\\AppData\\Local\\Programs\\Python\\Python310\\lib\\inspect.py\", line 1129, in getsourcelines\n",
      "    lines, lnum = findsource(object)\n",
      "  File \"C:\\Users\\danny\\AppData\\Local\\Programs\\Python\\Python310\\lib\\inspect.py\", line 958, in findsource\n",
      "    raise OSError('could not get source code')\n",
      "OSError: could not get source code\n"
     ]
    }
   ],
   "source": [
    "# display averages, median, mode of each column from df? standard deviation? maybe not relevant\n",
    "cumulative = df.cumsum()\n",
    "plt.figure()\n",
    "cumulative.plot()\n",
    "# \n",
    "# # # or maybe...\n",
    "# # plt.imshow(cumulative,cmap=plt.cm.Greys_r)\n",
    "# # plt.show()\n",
    "# # \n",
    "# plt.plot(df.columns['idk1'],label='idk1',color='red')\n",
    "# plt.plot(df.columns['idk2'],label='idk2',color='blue')\n",
    "# plt.plot(df.columns['idk3'],label='idk3',color='green')\n",
    "# \n",
    "# blah"
   ]
  },
  {
   "cell_type": "code",
   "execution_count": null,
   "metadata": {},
   "outputs": [],
   "source": []
  }
 ],
 "metadata": {
  "kernelspec": {
   "display_name": "Python 3",
   "language": "python",
   "name": "python3"
  },
  "language_info": {
   "codemirror_mode": {
    "name": "ipython",
    "version": 3
   },
   "file_extension": ".py",
   "mimetype": "text/x-python",
   "name": "python",
   "nbconvert_exporter": "python",
   "pygments_lexer": "ipython3",
   "version": "3.10.1"
  },
  "orig_nbformat": 4
 },
 "nbformat": 4,
 "nbformat_minor": 2
}
