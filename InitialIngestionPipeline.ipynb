{
 "cells": [
  {
   "attachments": {},
   "cell_type": "markdown",
   "metadata": {},
   "source": [
    "## Import All Required Libraries"
   ]
  },
  {
   "cell_type": "code",
   "execution_count": 1,
   "metadata": {},
   "outputs": [],
   "source": [
    "# Import all connection libraries\n",
    "\n",
    "from spotipy import SpotifyClientCredentials\n",
    "import spotipy\n",
    "import sqlalchemy as sql\n",
    "import psycopg2\n",
    "import requests\n",
    "\n",
    "# Import all data manipulation libraries\n",
    "\n",
    "import pandas as pd\n",
    "from pandarallel import pandarallel\n",
    "import numpy as np\n",
    "from tqdm import tqdm\n",
    "pandarallel.initialize(verbose=0, nb_workers=8)"
   ]
  },
  {
   "cell_type": "code",
   "execution_count": 2,
   "metadata": {},
   "outputs": [],
   "source": [
    "from functools import lru_cache\n",
    "\n",
    "# Use the lru_cache decorator to cache the result of the function\n",
    "# maxsize=1000 means the cache will store the result of up to 1000 items\n",
    "@lru_cache(maxsize=1000)\n",
    "def get_playlist_tracks(playlist_uri):\n",
    "    \"\"\"\n",
    "    This function uses the Spotify API to get the tracks of a given playlist.\n",
    "    The function is decorated with the lru_cache decorator to cache the result for each unique playlist_uri.\n",
    "    So, if the same playlist_uri is passed to the function again, the cached result will be returned\n",
    "    instead of making a new API call.\n",
    "    :param playlist_uri: The Spotify URI of the playlist\n",
    "    :return: A DataFrame containing the tracks of the playlist\n",
    "    \"\"\"\n",
    "    # Use the Spotify API to get the tracks of the playlist\n",
    "    tracks = pd.json_normalize(sp.playlist_tracks(playlist_uri), record_path=['items'])\n",
    "    return tracks\n",
    "\n",
    "@lru_cache(maxsize=500)\n",
    "def get_track_artists(track_uri):\n",
    "    \"\"\"\n",
    "    This function uses the Spotify API to get the tracks of a given playlist.\n",
    "    The function is decorated with the lru_cache decorator to cache the result for each unique playlist_uri.\n",
    "    So, if the same playlist_uri is passed to the function again, the cached result will be returned\n",
    "    instead of making a new API call.\n",
    "    :param playlist_uri: The Spotify URI of the playlist\n",
    "    :return: A DataFrame containing the tracks of the playlist\n",
    "    \"\"\"\n",
    "    # Use the Spotify API to get the tracks of the playlist\n",
    "    tracks = pd.json_normalize(sp.track(track_uri), record_path=['artists'])\n",
    "    return tracks\n",
    "\n",
    "\n",
    "@lru_cache(maxsize=50000)\n",
    "# https://developer.spotify.com/web-api/get-related-artists/\n",
    "def get_audio_features(track_uri):\n",
    "    \"\"\"\n",
    "    This function uses the Spotify API to get the tracks of a given playlist.\n",
    "    The function is decorated with the lru_cache decorator to cache the result for each unique playlist_uri.\n",
    "    So, if the same playlist_uri is passed to the function again, the cached result will be returned\n",
    "    instead of making a new API call.\n",
    "    :param playlist_uri: The Spotify URI of the playlist\n",
    "    :return: A DataFrame containing the tracks of the playlist\n",
    "    \"\"\"\n",
    "    # Use the Spotify API to get the tracks of the playlist\n",
    "    tracks = pd.json_normalize(sp.track(track_uri))\n",
    "    return tracks"
   ]
  },
  {
   "attachments": {},
   "cell_type": "markdown",
   "metadata": {},
   "source": [
    "## Establish External Connections"
   ]
  },
  {
   "cell_type": "code",
   "execution_count": 3,
   "metadata": {},
   "outputs": [],
   "source": [
    "# establish connection to Spotify API\n",
    "\n",
    "cid = '3fda75b7146a4769b207ee44017b3abe'\n",
    "secret = 'aaaa11ed71604ff19d592070be0f6bbd'\n",
    "client_credentials = SpotifyClientCredentials(client_id=cid, client_secret=secret)\n",
    "sp = spotipy.Spotify(client_credentials_manager=client_credentials, requests_timeout=15, retries=10)\n",
    "\n",
    "# establish connection to Postgres\n",
    "\n",
    "host_name = 'localhost'\n",
    "database_name = 'Spotify'\n",
    "engine = sql.create_engine('postgresql+psycopg2://postgres:DataNerd2023!!\\\n",
    "@localhost/Spotify')"
   ]
  },
  {
   "attachments": {},
   "cell_type": "markdown",
   "metadata": {},
   "source": [
    "## Load Initial Training Data"
   ]
  },
  {
   "cell_type": "code",
   "execution_count": 4,
   "metadata": {},
   "outputs": [
    {
     "data": {
      "text/html": [
       "<div>\n",
       "<style scoped>\n",
       "    .dataframe tbody tr th:only-of-type {\n",
       "        vertical-align: middle;\n",
       "    }\n",
       "\n",
       "    .dataframe tbody tr th {\n",
       "        vertical-align: top;\n",
       "    }\n",
       "\n",
       "    .dataframe thead th {\n",
       "        text-align: right;\n",
       "    }\n",
       "</style>\n",
       "<table border=\"1\" class=\"dataframe\">\n",
       "  <thead>\n",
       "    <tr style=\"text-align: right;\">\n",
       "      <th></th>\n",
       "      <th>playlist_uri</th>\n",
       "      <th>playlist_name</th>\n",
       "    </tr>\n",
       "  </thead>\n",
       "  <tbody>\n",
       "    <tr>\n",
       "      <th>687</th>\n",
       "      <td>spotify:playlist:0Pq0GkVjNxLtZHskNbi1mu</td>\n",
       "      <td>soft pop/sleep</td>\n",
       "    </tr>\n",
       "    <tr>\n",
       "      <th>786</th>\n",
       "      <td>spotify:playlist:0SCQsbTDt28cQk65wy9GHC</td>\n",
       "      <td>What emotion is this ?</td>\n",
       "    </tr>\n",
       "    <tr>\n",
       "      <th>808</th>\n",
       "      <td>spotify:playlist:0swGUguhRt0tUwqoPYvDae</td>\n",
       "      <td>This Is XXX Tentacion</td>\n",
       "    </tr>\n",
       "    <tr>\n",
       "      <th>809</th>\n",
       "      <td>spotify:playlist:0sWyckJ8KrH2HbdiRGliyl</td>\n",
       "      <td>Rock Workout 2022 ??</td>\n",
       "    </tr>\n",
       "    <tr>\n",
       "      <th>810</th>\n",
       "      <td>spotify:playlist:0SwZLNBL0NFTWW0pTA5RkB</td>\n",
       "      <td>Clean Hits 2022</td>\n",
       "    </tr>\n",
       "  </tbody>\n",
       "</table>\n",
       "</div>"
      ],
      "text/plain": [
       "                                playlist_uri           playlist_name\n",
       "687  spotify:playlist:0Pq0GkVjNxLtZHskNbi1mu          soft pop/sleep\n",
       "786  spotify:playlist:0SCQsbTDt28cQk65wy9GHC  What emotion is this ?\n",
       "808  spotify:playlist:0swGUguhRt0tUwqoPYvDae   This Is XXX Tentacion\n",
       "809  spotify:playlist:0sWyckJ8KrH2HbdiRGliyl    Rock Workout 2022 ??\n",
       "810  spotify:playlist:0SwZLNBL0NFTWW0pTA5RkB         Clean Hits 2022"
      ]
     },
     "execution_count": 4,
     "metadata": {},
     "output_type": "execute_result"
    }
   ],
   "source": [
    "\n",
    "# load training data\n",
    "new_batch = pd.read_csv('distinct_playlists.csv')[['playlist_uri', 'playlist_name']]\n",
    "new_batch['playlist_uri'] = new_batch['playlist_uri'].str.strip()\n",
    "\n",
    "db_query = pd.read_sql('SELECT DISTINCT playlist_uri FROM playlist_tracks', engine)\n",
    "\n",
    "outer = new_batch.merge(db_query, how='outer', indicator=True)\n",
    "anti_join = outer[(outer._merge=='left_only')].drop('_merge', axis=1)\n",
    "\n",
    "new_batch = pd.DataFrame(anti_join)\n",
    "new_batch = new_batch[5:10]\n",
    "new_batch.head()"
   ]
  },
  {
   "attachments": {},
   "cell_type": "markdown",
   "metadata": {},
   "source": [
    "## Iterate Through Training Data to Change Grain of Data"
   ]
  },
  {
   "cell_type": "code",
   "execution_count": 5,
   "metadata": {},
   "outputs": [
    {
     "name": "stderr",
     "output_type": "stream",
     "text": [
      "  0%|          | 0/5 [00:00<?, ?it/s]HTTP Error for GET to https://api.spotify.com/v1/playlists/0Pq0GkVjNxLtZHskNbi1mu/tracks with Params: {'limit': 100, 'offset': 0, 'fields': None, 'market': None, 'additional_types': 'track'} returned 404 due to Not found.\n",
      " 20%|██        | 1/5 [00:00<00:01,  3.20it/s]HTTP Error for GET to https://api.spotify.com/v1/playlists/0SCQsbTDt28cQk65wy9GHC/tracks with Params: {'limit': 100, 'offset': 0, 'fields': None, 'market': None, 'additional_types': 'track'} returned 404 due to Not found.\n",
      "100%|██████████| 5/5 [00:04<00:00,  1.19it/s]\n"
     ]
    },
    {
     "data": {
      "text/html": [
       "<div>\n",
       "<style scoped>\n",
       "    .dataframe tbody tr th:only-of-type {\n",
       "        vertical-align: middle;\n",
       "    }\n",
       "\n",
       "    .dataframe tbody tr th {\n",
       "        vertical-align: top;\n",
       "    }\n",
       "\n",
       "    .dataframe thead th {\n",
       "        text-align: right;\n",
       "    }\n",
       "</style>\n",
       "<table border=\"1\" class=\"dataframe\">\n",
       "  <thead>\n",
       "    <tr style=\"text-align: right;\">\n",
       "      <th></th>\n",
       "      <th>added_at</th>\n",
       "      <th>is_local</th>\n",
       "      <th>primary_color_x</th>\n",
       "      <th>added_by_external_urls_spotify</th>\n",
       "      <th>added_by_href</th>\n",
       "      <th>added_by_id</th>\n",
       "      <th>added_by_type</th>\n",
       "      <th>added_by_uri</th>\n",
       "      <th>track_album_album_type</th>\n",
       "      <th>track_album_external_urls_spotify</th>\n",
       "      <th>...</th>\n",
       "      <th>owner_href</th>\n",
       "      <th>owner_id</th>\n",
       "      <th>owner_type</th>\n",
       "      <th>owner_uri</th>\n",
       "      <th>tracks_href</th>\n",
       "      <th>tracks_limit</th>\n",
       "      <th>tracks_next</th>\n",
       "      <th>tracks_offset</th>\n",
       "      <th>tracks_previous</th>\n",
       "      <th>tracks_total</th>\n",
       "    </tr>\n",
       "  </thead>\n",
       "  <tbody>\n",
       "    <tr>\n",
       "      <th>0</th>\n",
       "      <td>2021-04-05T08:53:49Z</td>\n",
       "      <td>False</td>\n",
       "      <td>None</td>\n",
       "      <td>https://open.spotify.com/user/tbgsqyu7lf4v8git...</td>\n",
       "      <td>https://api.spotify.com/v1/users/tbgsqyu7lf4v8...</td>\n",
       "      <td>tbgsqyu7lf4v8gitc7hq43fbw</td>\n",
       "      <td>user</td>\n",
       "      <td>spotify:user:tbgsqyu7lf4v8gitc7hq43fbw</td>\n",
       "      <td>album</td>\n",
       "      <td>https://open.spotify.com/album/2Ti79nwTsont5ZH...</td>\n",
       "      <td>...</td>\n",
       "      <td>https://api.spotify.com/v1/users/tbgsqyu7lf4v8...</td>\n",
       "      <td>tbgsqyu7lf4v8gitc7hq43fbw</td>\n",
       "      <td>user</td>\n",
       "      <td>spotify:user:tbgsqyu7lf4v8gitc7hq43fbw</td>\n",
       "      <td>https://api.spotify.com/v1/playlists/0swGUguhR...</td>\n",
       "      <td>100</td>\n",
       "      <td>None</td>\n",
       "      <td>0</td>\n",
       "      <td>None</td>\n",
       "      <td>33</td>\n",
       "    </tr>\n",
       "    <tr>\n",
       "      <th>1</th>\n",
       "      <td>2021-04-05T08:53:51Z</td>\n",
       "      <td>False</td>\n",
       "      <td>None</td>\n",
       "      <td>https://open.spotify.com/user/tbgsqyu7lf4v8git...</td>\n",
       "      <td>https://api.spotify.com/v1/users/tbgsqyu7lf4v8...</td>\n",
       "      <td>tbgsqyu7lf4v8gitc7hq43fbw</td>\n",
       "      <td>user</td>\n",
       "      <td>spotify:user:tbgsqyu7lf4v8gitc7hq43fbw</td>\n",
       "      <td>album</td>\n",
       "      <td>https://open.spotify.com/album/5VdyJkLe3yvOs0l...</td>\n",
       "      <td>...</td>\n",
       "      <td>https://api.spotify.com/v1/users/tbgsqyu7lf4v8...</td>\n",
       "      <td>tbgsqyu7lf4v8gitc7hq43fbw</td>\n",
       "      <td>user</td>\n",
       "      <td>spotify:user:tbgsqyu7lf4v8gitc7hq43fbw</td>\n",
       "      <td>https://api.spotify.com/v1/playlists/0swGUguhR...</td>\n",
       "      <td>100</td>\n",
       "      <td>None</td>\n",
       "      <td>0</td>\n",
       "      <td>None</td>\n",
       "      <td>33</td>\n",
       "    </tr>\n",
       "    <tr>\n",
       "      <th>2</th>\n",
       "      <td>2021-04-05T08:53:55Z</td>\n",
       "      <td>False</td>\n",
       "      <td>None</td>\n",
       "      <td>https://open.spotify.com/user/tbgsqyu7lf4v8git...</td>\n",
       "      <td>https://api.spotify.com/v1/users/tbgsqyu7lf4v8...</td>\n",
       "      <td>tbgsqyu7lf4v8gitc7hq43fbw</td>\n",
       "      <td>user</td>\n",
       "      <td>spotify:user:tbgsqyu7lf4v8gitc7hq43fbw</td>\n",
       "      <td>album</td>\n",
       "      <td>https://open.spotify.com/album/51wp3EOOp2mBIjh...</td>\n",
       "      <td>...</td>\n",
       "      <td>https://api.spotify.com/v1/users/tbgsqyu7lf4v8...</td>\n",
       "      <td>tbgsqyu7lf4v8gitc7hq43fbw</td>\n",
       "      <td>user</td>\n",
       "      <td>spotify:user:tbgsqyu7lf4v8gitc7hq43fbw</td>\n",
       "      <td>https://api.spotify.com/v1/playlists/0swGUguhR...</td>\n",
       "      <td>100</td>\n",
       "      <td>None</td>\n",
       "      <td>0</td>\n",
       "      <td>None</td>\n",
       "      <td>33</td>\n",
       "    </tr>\n",
       "    <tr>\n",
       "      <th>3</th>\n",
       "      <td>2021-04-05T08:54:09Z</td>\n",
       "      <td>False</td>\n",
       "      <td>None</td>\n",
       "      <td>https://open.spotify.com/user/tbgsqyu7lf4v8git...</td>\n",
       "      <td>https://api.spotify.com/v1/users/tbgsqyu7lf4v8...</td>\n",
       "      <td>tbgsqyu7lf4v8gitc7hq43fbw</td>\n",
       "      <td>user</td>\n",
       "      <td>spotify:user:tbgsqyu7lf4v8gitc7hq43fbw</td>\n",
       "      <td>single</td>\n",
       "      <td>https://open.spotify.com/album/3cyyJALrHc8Lawn...</td>\n",
       "      <td>...</td>\n",
       "      <td>https://api.spotify.com/v1/users/tbgsqyu7lf4v8...</td>\n",
       "      <td>tbgsqyu7lf4v8gitc7hq43fbw</td>\n",
       "      <td>user</td>\n",
       "      <td>spotify:user:tbgsqyu7lf4v8gitc7hq43fbw</td>\n",
       "      <td>https://api.spotify.com/v1/playlists/0swGUguhR...</td>\n",
       "      <td>100</td>\n",
       "      <td>None</td>\n",
       "      <td>0</td>\n",
       "      <td>None</td>\n",
       "      <td>33</td>\n",
       "    </tr>\n",
       "    <tr>\n",
       "      <th>4</th>\n",
       "      <td>2021-04-05T08:54:11Z</td>\n",
       "      <td>False</td>\n",
       "      <td>None</td>\n",
       "      <td>https://open.spotify.com/user/tbgsqyu7lf4v8git...</td>\n",
       "      <td>https://api.spotify.com/v1/users/tbgsqyu7lf4v8...</td>\n",
       "      <td>tbgsqyu7lf4v8gitc7hq43fbw</td>\n",
       "      <td>user</td>\n",
       "      <td>spotify:user:tbgsqyu7lf4v8gitc7hq43fbw</td>\n",
       "      <td>single</td>\n",
       "      <td>https://open.spotify.com/album/3J0AWftMu0tsXw2...</td>\n",
       "      <td>...</td>\n",
       "      <td>https://api.spotify.com/v1/users/tbgsqyu7lf4v8...</td>\n",
       "      <td>tbgsqyu7lf4v8gitc7hq43fbw</td>\n",
       "      <td>user</td>\n",
       "      <td>spotify:user:tbgsqyu7lf4v8gitc7hq43fbw</td>\n",
       "      <td>https://api.spotify.com/v1/playlists/0swGUguhR...</td>\n",
       "      <td>100</td>\n",
       "      <td>None</td>\n",
       "      <td>0</td>\n",
       "      <td>None</td>\n",
       "      <td>33</td>\n",
       "    </tr>\n",
       "  </tbody>\n",
       "</table>\n",
       "<p>5 rows × 61 columns</p>\n",
       "</div>"
      ],
      "text/plain": [
       "               added_at  is_local primary_color_x  \\\n",
       "0  2021-04-05T08:53:49Z     False            None   \n",
       "1  2021-04-05T08:53:51Z     False            None   \n",
       "2  2021-04-05T08:53:55Z     False            None   \n",
       "3  2021-04-05T08:54:09Z     False            None   \n",
       "4  2021-04-05T08:54:11Z     False            None   \n",
       "\n",
       "                      added_by_external_urls_spotify  \\\n",
       "0  https://open.spotify.com/user/tbgsqyu7lf4v8git...   \n",
       "1  https://open.spotify.com/user/tbgsqyu7lf4v8git...   \n",
       "2  https://open.spotify.com/user/tbgsqyu7lf4v8git...   \n",
       "3  https://open.spotify.com/user/tbgsqyu7lf4v8git...   \n",
       "4  https://open.spotify.com/user/tbgsqyu7lf4v8git...   \n",
       "\n",
       "                                       added_by_href  \\\n",
       "0  https://api.spotify.com/v1/users/tbgsqyu7lf4v8...   \n",
       "1  https://api.spotify.com/v1/users/tbgsqyu7lf4v8...   \n",
       "2  https://api.spotify.com/v1/users/tbgsqyu7lf4v8...   \n",
       "3  https://api.spotify.com/v1/users/tbgsqyu7lf4v8...   \n",
       "4  https://api.spotify.com/v1/users/tbgsqyu7lf4v8...   \n",
       "\n",
       "                 added_by_id added_by_type  \\\n",
       "0  tbgsqyu7lf4v8gitc7hq43fbw          user   \n",
       "1  tbgsqyu7lf4v8gitc7hq43fbw          user   \n",
       "2  tbgsqyu7lf4v8gitc7hq43fbw          user   \n",
       "3  tbgsqyu7lf4v8gitc7hq43fbw          user   \n",
       "4  tbgsqyu7lf4v8gitc7hq43fbw          user   \n",
       "\n",
       "                             added_by_uri track_album_album_type  \\\n",
       "0  spotify:user:tbgsqyu7lf4v8gitc7hq43fbw                  album   \n",
       "1  spotify:user:tbgsqyu7lf4v8gitc7hq43fbw                  album   \n",
       "2  spotify:user:tbgsqyu7lf4v8gitc7hq43fbw                  album   \n",
       "3  spotify:user:tbgsqyu7lf4v8gitc7hq43fbw                 single   \n",
       "4  spotify:user:tbgsqyu7lf4v8gitc7hq43fbw                 single   \n",
       "\n",
       "                   track_album_external_urls_spotify  ...  \\\n",
       "0  https://open.spotify.com/album/2Ti79nwTsont5ZH...  ...   \n",
       "1  https://open.spotify.com/album/5VdyJkLe3yvOs0l...  ...   \n",
       "2  https://open.spotify.com/album/51wp3EOOp2mBIjh...  ...   \n",
       "3  https://open.spotify.com/album/3cyyJALrHc8Lawn...  ...   \n",
       "4  https://open.spotify.com/album/3J0AWftMu0tsXw2...  ...   \n",
       "\n",
       "                                          owner_href  \\\n",
       "0  https://api.spotify.com/v1/users/tbgsqyu7lf4v8...   \n",
       "1  https://api.spotify.com/v1/users/tbgsqyu7lf4v8...   \n",
       "2  https://api.spotify.com/v1/users/tbgsqyu7lf4v8...   \n",
       "3  https://api.spotify.com/v1/users/tbgsqyu7lf4v8...   \n",
       "4  https://api.spotify.com/v1/users/tbgsqyu7lf4v8...   \n",
       "\n",
       "                    owner_id owner_type  \\\n",
       "0  tbgsqyu7lf4v8gitc7hq43fbw       user   \n",
       "1  tbgsqyu7lf4v8gitc7hq43fbw       user   \n",
       "2  tbgsqyu7lf4v8gitc7hq43fbw       user   \n",
       "3  tbgsqyu7lf4v8gitc7hq43fbw       user   \n",
       "4  tbgsqyu7lf4v8gitc7hq43fbw       user   \n",
       "\n",
       "                                owner_uri  \\\n",
       "0  spotify:user:tbgsqyu7lf4v8gitc7hq43fbw   \n",
       "1  spotify:user:tbgsqyu7lf4v8gitc7hq43fbw   \n",
       "2  spotify:user:tbgsqyu7lf4v8gitc7hq43fbw   \n",
       "3  spotify:user:tbgsqyu7lf4v8gitc7hq43fbw   \n",
       "4  spotify:user:tbgsqyu7lf4v8gitc7hq43fbw   \n",
       "\n",
       "                                         tracks_href  tracks_limit  \\\n",
       "0  https://api.spotify.com/v1/playlists/0swGUguhR...           100   \n",
       "1  https://api.spotify.com/v1/playlists/0swGUguhR...           100   \n",
       "2  https://api.spotify.com/v1/playlists/0swGUguhR...           100   \n",
       "3  https://api.spotify.com/v1/playlists/0swGUguhR...           100   \n",
       "4  https://api.spotify.com/v1/playlists/0swGUguhR...           100   \n",
       "\n",
       "  tracks_next tracks_offset  tracks_previous  tracks_total  \n",
       "0        None             0             None            33  \n",
       "1        None             0             None            33  \n",
       "2        None             0             None            33  \n",
       "3        None             0             None            33  \n",
       "4        None             0             None            33  \n",
       "\n",
       "[5 rows x 61 columns]"
      ]
     },
     "execution_count": 5,
     "metadata": {},
     "output_type": "execute_result"
    }
   ],
   "source": [
    "load_batch = []\n",
    "series = new_batch['playlist_uri'].to_dict()\n",
    "for playlist in tqdm(series.values()):\n",
    "    try:\n",
    "        tracks = get_playlist_tracks(playlist)\n",
    "        if len(tracks) >= 100:\n",
    "                tracks2 = pd.json_normalize(sp.playlist_tracks(playlist, offset=100), record_path=['items'])\n",
    "                tracks3 = pd.json_normalize(sp.playlist_tracks(playlist, offset=200), record_path=['items'])\n",
    "                tracks = pd.concat([tracks, tracks2, tracks3])\n",
    "                secondary_data = pd.json_normalize(sp.playlist(playlist))\n",
    "                tracks['playlist_uri'] = playlist\n",
    "                tracks = tracks.merge(secondary_data, left_on='playlist_uri', right_on='uri')\n",
    "                tracks = tracks.rename(columns={\"name\":\"playlist_name\", \"track.name\":\"track_name\", \"track.uri\":\"track_uri\", \"track.album.name\":\"album_name\", \"track.explicit\":\"isExplicit\", \"track.album.release_date\":\"release_date\", \"track.duration_ms\":\"duration_ms\", \"track.album.uri\":\"album_uri\", \"added_by.external_urls.spotify\": \"added_by_external_urls_spotify\", 'added_by.href':\"added_by_href\", \"added_by.id\":\"added_by_id\", \"added_by.type\":\"added_by_type\", \"added_by.uri\":\"added_by_uri\", \"track.album.album_type\":\"track_album_album_type\", \"track.album.external_urls.spotify\":\"track_album_external_urls_spotify\", \"track.album.href\":\"track_album_href\", \"track.album.id\":\"track_album_id\", \"track.album.release_date_precision\":\"track_album_release_date_precision\", \"track.album.total_tracks\":\"track_album_total_tracks\",\"track.album.type\":\"track_album_type\", \"track.disc_number\":\"track_disc_number\", \"track.episode\":\"track_episode\", \"track.external_ids.isrc\":\"track_external_ids_isrc\", \"track.external_urls.spotify\":\"track_external_ids_spotify\", \"track.href\":\"track_href\", \"track.id\":\"track_id\", \"track.is_local\":\"track_is_local\", \"track.popularity\":\"track_popularity\", \"track.preview_url\":\"track_preview_url\", \"track.track\":\"track_track\", \"track.track_number\":\"track_track_number\", \"track.type\":\"track_type\", \"video_thumbnail.url\":\"video_thumbnail_url\", \"external_urls.spotify\":\"external_urls_spotify\", \"followers.href\":\"followers_href\", \"followers.total\":\"followers_total\", \"owner.display_name\":\"owner_display_name\", \"owner.external_urls.spotify\":\"owner_external_urls_spotify\", \"owner.href\":\"owner_href\", \"owner.id\":\"owner_id\", \"owner.type\":\"owner_type\", \"owner.uri\":\"owner_uri\", \"tracks.href\":\"tracks_href\", \"tracks.limit\":\"tracks_limit\", \"tracks.next\":\"tracks_next\", \"tracks.offset\":\"tracks_offset\", \"tracks.previous\":\"tracks_previous\", \"tracks.total\":\"tracks_total\"})\n",
    "                tracks = tracks.drop(columns=['track.album.artists', 'track.album.available_markets', 'track.album.images', 'track.artists', 'track.available_markets', 'images', 'tracks.items'])\n",
    "\n",
    "                load_batch.append(tracks)\n",
    "        else:\n",
    "                secondary_data = pd.json_normalize(sp.playlist(playlist))\n",
    "                tracks['playlist_uri'] = playlist\n",
    "                tracks = tracks.merge(secondary_data, left_on='playlist_uri', right_on='uri')\n",
    "                tracks = tracks.rename(columns={\"name\":\"playlist_name\", \"track.name\":\"track_name\", \"track.uri\":\"track_uri\", \"track.album.name\":\"album_name\", \"track.explicit\":\"isExplicit\", \"track.album.release_date\":\"release_date\", \"track.duration_ms\":\"duration_ms\", \"track.album.uri\":\"album_uri\", \"added_by.external_urls.spotify\": \"added_by_external_urls_spotify\", 'added_by.href':\"added_by_href\", \"added_by.id\":\"added_by_id\", \"added_by.type\":\"added_by_type\", \"added_by.uri\":\"added_by_uri\", \"track.album.album_type\":\"track_album_album_type\", \"track.album.external_urls.spotify\":\"track_album_external_urls_spotify\", \"track.album.href\":\"track_album_href\", \"track.album.id\":\"track_album_id\", \"track.album.release_date_precision\":\"track_album_release_date_precision\", \"track.album.total_tracks\":\"track_album_total_tracks\",\"track.album.type\":\"track_album_type\", \"track.disc_number\":\"track_disc_number\", \"track.episode\":\"track_episode\", \"track.external_ids.isrc\":\"track_external_ids_isrc\", \"track.external_urls.spotify\":\"track_external_ids_spotify\", \"track.href\":\"track_href\", \"track.id\":\"track_id\", \"track.is_local\":\"track_is_local\", \"track.popularity\":\"track_popularity\", \"track.preview_url\":\"track_preview_url\", \"track.track\":\"track_track\", \"track.track_number\":\"track_track_number\", \"track.type\":\"track_type\", \"video_thumbnail.url\":\"video_thumbnail_url\", \"external_urls.spotify\":\"external_urls_spotify\", \"followers.href\":\"followers_href\", \"followers.total\":\"followers_total\", \"owner.display_name\":\"owner_display_name\", \"owner.external_urls.spotify\":\"owner_external_urls_spotify\", \"owner.href\":\"owner_href\", \"owner.id\":\"owner_id\", \"owner.type\":\"owner_type\", \"owner.uri\":\"owner_uri\", \"tracks.href\":\"tracks_href\", \"tracks.limit\":\"tracks_limit\", \"tracks.next\":\"tracks_next\", \"tracks.offset\":\"tracks_offset\", \"tracks.previous\":\"tracks_previous\", \"tracks.total\":\"tracks_total\"})\n",
    "                tracks = tracks.drop(columns=['track.album.artists', 'track.album.available_markets', 'track.album.images', 'track.artists', 'track.available_markets', 'images', 'tracks.items'])\n",
    "                load_batch.append(tracks)\n",
    "    except:\n",
    "            pass\n",
    "load_batch = pd.concat(load_batch)\n",
    "load_batch.head()"
   ]
  },
  {
   "attachments": {},
   "cell_type": "markdown",
   "metadata": {},
   "source": [
    "## Upload Training Data to playlist_tracks Table"
   ]
  },
  {
   "cell_type": "code",
   "execution_count": 6,
   "metadata": {},
   "outputs": [
    {
     "data": {
      "text/plain": [
       "175"
      ]
     },
     "execution_count": 6,
     "metadata": {},
     "output_type": "execute_result"
    }
   ],
   "source": [
    "load_batch.to_sql('playlist_tracks', engine, if_exists='append')"
   ]
  },
  {
   "attachments": {},
   "cell_type": "markdown",
   "metadata": {},
   "source": [
    "## Identify All Artists in Every Song"
   ]
  },
  {
   "cell_type": "code",
   "execution_count": 7,
   "metadata": {},
   "outputs": [],
   "source": [
    "# df = pd.read_sql('''SELECT DISTINCT track_uri FROM playlist_tracks''', engine)\n",
    "# outer = df.merge(load_batch, how='outer', indicator=True)\n",
    "# anti_join = outer[(outer._merge=='left_only')].drop('_merge', axis=1)\n",
    "\n",
    "# df = pd.Series(anti_join['track_uri'].head(10000))\n",
    "# base_list = []\n",
    "# for track in tqdm(df):\n",
    "#     try:\n",
    "#         print(\"It's me\")\n",
    "#         df2 = pd.json_normalize(sp.track(track), record_path=['artists'])\n",
    "#         print(\"It works?\")\n",
    "#         df2['track_uri'] = track\n",
    "#         df2 = df2[['name', 'track_uri']]\n",
    "#         base_list.append(df2)\n",
    "#     except:\n",
    "#         print('Hello')\n",
    "# df2 = pd.concat(base_list)\n",
    "# df2"
   ]
  },
  {
   "attachments": {},
   "cell_type": "markdown",
   "metadata": {},
   "source": [
    "## Get Row Numbers for Pivoting"
   ]
  },
  {
   "cell_type": "code",
   "execution_count": 8,
   "metadata": {},
   "outputs": [],
   "source": [
    "# df2['RN'] = df2.groupby(\"track_uri\")[\"name\"].rank(method=\"first\", ascending=True)\n",
    "# df2"
   ]
  },
  {
   "attachments": {},
   "cell_type": "markdown",
   "metadata": {},
   "source": [
    "## Pivot DataFrame to Fit all Artists in DataFrame"
   ]
  },
  {
   "cell_type": "code",
   "execution_count": 9,
   "metadata": {},
   "outputs": [],
   "source": [
    "# df2 = df2.pivot(index='track_uri', columns=['RN'], values='name').reset_index()\n",
    "# df2 = df2.rename(columns={1.0:'artist1', 2.0:'artist2', 3.0:'artist3', 4.0:'artist4', 5.0:'artist5'})\n",
    "# df2 = df2[['track_uri', 'artist1', 'artist2', 'artist3', 'artist4', 'artist5']]\n",
    "# df2"
   ]
  },
  {
   "attachments": {},
   "cell_type": "markdown",
   "metadata": {},
   "source": [
    "## Upload All Artist Data to Database"
   ]
  },
  {
   "cell_type": "code",
   "execution_count": 10,
   "metadata": {},
   "outputs": [],
   "source": [
    "#df2.to_sql('artists', con=engine, if_exists='append')"
   ]
  },
  {
   "attachments": {},
   "cell_type": "markdown",
   "metadata": {},
   "source": [
    "## Get All Audio Features"
   ]
  },
  {
   "cell_type": "code",
   "execution_count": 11,
   "metadata": {},
   "outputs": [
    {
     "name": "stderr",
     "output_type": "stream",
     "text": [
      "  0%|          | 0/5000 [00:00<?, ?it/s]"
     ]
    }
   ],
   "source": [
    "df = pd.read_sql('''SELECT DISTINCT track_uri FROM playlist_tracks''', engine)\n",
    "outer = df.merge(load_batch, how='outer', indicator=True)\n",
    "anti_join = outer[(outer._merge=='left_only')].drop('_merge', axis=1)\n",
    "df = pd.Series(anti_join['track_uri'].head(5000))\n",
    "\n",
    "base_list = []\n",
    "for track in tqdm(df):\n",
    "    try:\n",
    "        df3 = get_audio_features(track)\n",
    "        base_list.append(df3)\n",
    "    except:\n",
    "        pass\n",
    "df3 = pd.concat(base_list)\n",
    "df3"
   ]
  },
  {
   "attachments": {},
   "cell_type": "markdown",
   "metadata": {},
   "source": [
    "## Upload Audio Features to Database"
   ]
  },
  {
   "cell_type": "code",
   "execution_count": null,
   "metadata": {},
   "outputs": [
    {
     "data": {
      "text/plain": [
       "995"
      ]
     },
     "execution_count": 35,
     "metadata": {},
     "output_type": "execute_result"
    }
   ],
   "source": [
    "df3.to_sql('audio_features', con=engine, if_exists='append')"
   ]
  },
  {
   "cell_type": "code",
   "execution_count": null,
   "metadata": {},
   "outputs": [],
   "source": [
    "all_data = pd.read_sql('''SELECT DISTINCT playlist_uri, playlist_name, owner_uri, owner_display_name, collaborative, description, followers_total\n",
    "track_uri, track_name, artist1, artist2, artist3, artist4, artist5, album_uri, album_name, release_date, \n",
    "added_by_uri, added_at, track_album_total_tracks, af.duration_ms, \"isExplicit\", track_popularity, \n",
    "track_preview_url, video_thumbnail_url, danceability, energy, loudness, key, mode, acousticness, speechiness, \n",
    "instrumentalness, liveness, valence, tempo, time_signature\n",
    "FROM playlist_tracks pt\n",
    "JOIN artists a ON pt.track_uri = a.track_uri\n",
    "JOIN audio_features af ON pt.track_uri = af.track_uri;''', engine)\n",
    "f = open(\"s3.csv\", \"w\")\n",
    "f.truncate()\n",
    "f.close()\n",
    "\n",
    "all_data.to_csv('s3.csv', mode=\"w+\")"
   ]
  }
 ],
 "metadata": {
  "kernelspec": {
   "display_name": "base",
   "language": "python",
   "name": "python3"
  },
  "language_info": {
   "codemirror_mode": {
    "name": "ipython",
    "version": 3
   },
   "file_extension": ".py",
   "mimetype": "text/x-python",
   "name": "python",
   "nbconvert_exporter": "python",
   "pygments_lexer": "ipython3",
   "version": "3.9.12"
  },
  "vscode": {
   "interpreter": {
    "hash": "93b5e9cdcd0e28194f38e9cc58755c27f28a497cb713889038a7c6359ab34ab6"
   }
  }
 },
 "nbformat": 4,
 "nbformat_minor": 2
}
