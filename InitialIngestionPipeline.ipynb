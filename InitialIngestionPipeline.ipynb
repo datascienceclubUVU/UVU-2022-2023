{
 "cells": [
  {
   "attachments": {},
   "cell_type": "markdown",
   "metadata": {},
   "source": [
    "## Import All Required Libraries"
   ]
  },
  {
   "cell_type": "code",
   "execution_count": 1,
   "metadata": {},
   "outputs": [],
   "source": [
    "# Import all connection libraries\n",
    "\n",
    "from spotipy import SpotifyClientCredentials\n",
    "import spotipy\n",
    "import sqlalchemy as sql\n",
    "import psycopg2\n",
    "import requests\n",
    "\n",
    "# Import all data manipulation libraries\n",
    "\n",
    "import pandas as pd\n",
    "from pandarallel import pandarallel\n",
    "import numpy as np\n",
    "from tqdm import tqdm\n",
    "pandarallel.initialize(verbose=0, nb_workers=8)"
   ]
  },
  {
   "cell_type": "code",
   "execution_count": 2,
   "metadata": {},
   "outputs": [],
   "source": [
    "from functools import lru_cache\n",
    "\n",
    "# Use the lru_cache decorator to cache the result of the function\n",
    "# maxsize=1000 means the cache will store the result of up to 1000 items\n",
    "@lru_cache(maxsize=1000)\n",
    "def get_playlist_tracks(playlist_uri):\n",
    "    \"\"\"\n",
    "    This function uses the Spotify API to get the tracks of a given playlist.\n",
    "    The function is decorated with the lru_cache decorator to cache the result for each unique playlist_uri.\n",
    "    So, if the same playlist_uri is passed to the function again, the cached result will be returned\n",
    "    instead of making a new API call.\n",
    "    :param playlist_uri: The Spotify URI of the playlist\n",
    "    :return: A DataFrame containing the tracks of the playlist\n",
    "    \"\"\"\n",
    "    # Use the Spotify API to get the tracks of the playlist\n",
    "    tracks = pd.json_normalize(sp.playlist_tracks(playlist_uri), record_path=['items'])\n",
    "    return tracks"
   ]
  },
  {
   "attachments": {},
   "cell_type": "markdown",
   "metadata": {},
   "source": [
    "## Establish External Connections"
   ]
  },
  {
   "cell_type": "code",
   "execution_count": 3,
   "metadata": {},
   "outputs": [],
   "source": [
    "# establish connection to Spotify API\n",
    "\n",
    "cid = 'e5448a8a4fdc4b5d98b44e956d50546d'\n",
    "secret = '8924c0394d3f49a4a569fc03e891aa1b'\n",
    "client_credentials = SpotifyClientCredentials(client_id=cid, client_secret=secret)\n",
    "sp = spotipy.Spotify(client_credentials_manager=client_credentials, requests_timeout=15, retries=10)\n",
    "\n",
    "# establish connection to Postgres\n",
    "\n",
    "host_name = 'localhost'\n",
    "database_name = 'Spotify'\n",
    "engine = sql.create_engine('postgresql+psycopg2://postgres:DataNerd2023!!\\\n",
    "@localhost/Spotify')"
   ]
  },
  {
   "attachments": {},
   "cell_type": "markdown",
   "metadata": {},
   "source": [
    "## Load Initial Training Data"
   ]
  },
  {
   "cell_type": "code",
   "execution_count": 4,
   "metadata": {},
   "outputs": [],
   "source": [
    "\n",
    "# load training data\n",
    "# new_batch = pd.read_csv('distinct_playlists.csv')[['playlist_uri', 'playlist_name']]\n",
    "# new_batch['playlist_uri'] = new_batch['playlist_uri'].str.strip()\n",
    "\n",
    "# db_query = pd.read_sql('SELECT DISTINCT playlist_uri FROM playlist_tracks', engine)\n",
    "\n",
    "# outer = new_batch.merge(db_query, how='outer', indicator=True)\n",
    "# anti_join = outer[(outer._merge=='left_only')].drop('_merge', axis=1)\n",
    "\n",
    "# new_batch = pd.DataFrame(anti_join)\n",
    "# new_batch = new_batch[9:29]\n",
    "# new_batch.head()"
   ]
  },
  {
   "attachments": {},
   "cell_type": "markdown",
   "metadata": {},
   "source": [
    "## Iterate Through Training Data to Change Grain of Data"
   ]
  },
  {
   "cell_type": "code",
   "execution_count": 5,
   "metadata": {},
   "outputs": [],
   "source": [
    "# load_batch = []\n",
    "# series = new_batch['playlist_uri'].to_dict()\n",
    "# for playlist in tqdm(series.values()):\n",
    "#     try:\n",
    "#         tracks = get_playlist_tracks(playlist)\n",
    "#         if len(tracks) >= 100:\n",
    "#                 tracks2 = pd.json_normalize(sp.playlist_tracks(playlist, offset=100), record_path=['items'])\n",
    "#                 tracks3 = pd.json_normalize(sp.playlist_tracks(playlist, offset=200), record_path=['items'])\n",
    "#                 tracks = pd.concat([tracks, tracks2, tracks3])\n",
    "#                 secondary_data = pd.json_normalize(sp.playlist(playlist))\n",
    "#                 tracks['playlist_uri'] = playlist\n",
    "#                 tracks = tracks.merge(secondary_data, left_on='playlist_uri', right_on='uri')\n",
    "#                 tracks = tracks.rename(columns={\"name\":\"playlist_name\", \"track.name\":\"track_name\", \"track.uri\":\"track_uri\", \"track.album.name\":\"album_name\", \"track.explicit\":\"isExplicit\", \"track.album.release_date\":\"release_date\", \"track.duration_ms\":\"duration_ms\", \"track.album.uri\":\"album_uri\", \"added_by.external_urls.spotify\": \"added_by_external_urls_spotify\", 'added_by.href':\"added_by_href\", \"added_by.id\":\"added_by_id\", \"added_by.type\":\"added_by_type\", \"added_by.uri\":\"added_by_uri\", \"track.album.album_type\":\"track_album_album_type\", \"track.album.external_urls.spotify\":\"track_album_external_urls_spotify\", \"track.album.href\":\"track_album_href\", \"track.album.id\":\"track_album_id\", \"track.album.release_date_precision\":\"track_album_release_date_precision\", \"track.album.total_tracks\":\"track_album_total_tracks\",\"track.album.type\":\"track_album_type\", \"track.disc_number\":\"track_disc_number\", \"track.episode\":\"track_episode\", \"track.external_ids.isrc\":\"track_external_ids_isrc\", \"track.external_urls.spotify\":\"track_external_ids_spotify\", \"track.href\":\"track_href\", \"track.id\":\"track_id\", \"track.is_local\":\"track_is_local\", \"track.popularity\":\"track_popularity\", \"track.preview_url\":\"track_preview_url\", \"track.track\":\"track_track\", \"track.track_number\":\"track_track_number\", \"track.type\":\"track_type\", \"video_thumbnail.url\":\"video_thumbnail_url\", \"external_urls.spotify\":\"external_urls_spotify\", \"followers.href\":\"followers_href\", \"followers.total\":\"followers_total\", \"owner.display_name\":\"owner_display_name\", \"owner.external_urls.spotify\":\"owner_external_urls_spotify\", \"owner.href\":\"owner_href\", \"owner.id\":\"owner_id\", \"owner.type\":\"owner_type\", \"owner.uri\":\"owner_uri\", \"tracks.href\":\"tracks_href\", \"tracks.limit\":\"tracks_limit\", \"tracks.next\":\"tracks_next\", \"tracks.offset\":\"tracks_offset\", \"tracks.previous\":\"tracks_previous\", \"tracks.total\":\"tracks_total\"})\n",
    "#                 tracks = tracks.drop(columns=['track.album.artists', 'track.album.available_markets', 'track.album.images', 'track.artists', 'track.available_markets', 'images', 'tracks.items'])\n",
    "\n",
    "#                 load_batch.append(tracks)\n",
    "#         else:\n",
    "#                 secondary_data = pd.json_normalize(sp.playlist(playlist))\n",
    "#                 tracks['playlist_uri'] = playlist\n",
    "#                 tracks = tracks.merge(secondary_data, left_on='playlist_uri', right_on='uri')\n",
    "#                 tracks = tracks.rename(columns={\"name\":\"playlist_name\", \"track.name\":\"track_name\", \"track.uri\":\"track_uri\", \"track.album.name\":\"album_name\", \"track.explicit\":\"isExplicit\", \"track.album.release_date\":\"release_date\", \"track.duration_ms\":\"duration_ms\", \"track.album.uri\":\"album_uri\", \"added_by.external_urls.spotify\": \"added_by_external_urls_spotify\", 'added_by.href':\"added_by_href\", \"added_by.id\":\"added_by_id\", \"added_by.type\":\"added_by_type\", \"added_by.uri\":\"added_by_uri\", \"track.album.album_type\":\"track_album_album_type\", \"track.album.external_urls.spotify\":\"track_album_external_urls_spotify\", \"track.album.href\":\"track_album_href\", \"track.album.id\":\"track_album_id\", \"track.album.release_date_precision\":\"track_album_release_date_precision\", \"track.album.total_tracks\":\"track_album_total_tracks\",\"track.album.type\":\"track_album_type\", \"track.disc_number\":\"track_disc_number\", \"track.episode\":\"track_episode\", \"track.external_ids.isrc\":\"track_external_ids_isrc\", \"track.external_urls.spotify\":\"track_external_ids_spotify\", \"track.href\":\"track_href\", \"track.id\":\"track_id\", \"track.is_local\":\"track_is_local\", \"track.popularity\":\"track_popularity\", \"track.preview_url\":\"track_preview_url\", \"track.track\":\"track_track\", \"track.track_number\":\"track_track_number\", \"track.type\":\"track_type\", \"video_thumbnail.url\":\"video_thumbnail_url\", \"external_urls.spotify\":\"external_urls_spotify\", \"followers.href\":\"followers_href\", \"followers.total\":\"followers_total\", \"owner.display_name\":\"owner_display_name\", \"owner.external_urls.spotify\":\"owner_external_urls_spotify\", \"owner.href\":\"owner_href\", \"owner.id\":\"owner_id\", \"owner.type\":\"owner_type\", \"owner.uri\":\"owner_uri\", \"tracks.href\":\"tracks_href\", \"tracks.limit\":\"tracks_limit\", \"tracks.next\":\"tracks_next\", \"tracks.offset\":\"tracks_offset\", \"tracks.previous\":\"tracks_previous\", \"tracks.total\":\"tracks_total\"})\n",
    "#                 tracks = tracks.drop(columns=['track.album.artists', 'track.album.available_markets', 'track.album.images', 'track.artists', 'track.available_markets', 'images', 'tracks.items'])\n",
    "#                 load_batch.append(tracks)\n",
    "#     except:\n",
    "#             pass\n",
    "# load_batch = pd.concat(load_batch)\n",
    "# load_batch.head()"
   ]
  },
  {
   "attachments": {},
   "cell_type": "markdown",
   "metadata": {},
   "source": [
    "## Upload Training Data to playlist_tracks Table"
   ]
  },
  {
   "cell_type": "code",
   "execution_count": 6,
   "metadata": {},
   "outputs": [],
   "source": [
    "#load_batch.to_sql('playlist_tracks', engine, if_exists='append')"
   ]
  },
  {
   "attachments": {},
   "cell_type": "markdown",
   "metadata": {},
   "source": [
    "## Identify All Artists in Every Song"
   ]
  },
  {
   "cell_type": "code",
   "execution_count": 7,
   "metadata": {},
   "outputs": [
    {
     "name": "stderr",
     "output_type": "stream",
     "text": [
      "100%|██████████| 2000/2000 [04:27<00:00,  7.48it/s]\n"
     ]
    },
    {
     "data": {
      "text/html": [
       "<div>\n",
       "<style scoped>\n",
       "    .dataframe tbody tr th:only-of-type {\n",
       "        vertical-align: middle;\n",
       "    }\n",
       "\n",
       "    .dataframe tbody tr th {\n",
       "        vertical-align: top;\n",
       "    }\n",
       "\n",
       "    .dataframe thead th {\n",
       "        text-align: right;\n",
       "    }\n",
       "</style>\n",
       "<table border=\"1\" class=\"dataframe\">\n",
       "  <thead>\n",
       "    <tr style=\"text-align: right;\">\n",
       "      <th></th>\n",
       "      <th>name</th>\n",
       "      <th>track_uri</th>\n",
       "    </tr>\n",
       "  </thead>\n",
       "  <tbody>\n",
       "    <tr>\n",
       "      <th>0</th>\n",
       "      <td>Nicki Minaj</td>\n",
       "      <td>spotify:track:0WtVtCK5SEFvyyA5V8D9CI</td>\n",
       "    </tr>\n",
       "    <tr>\n",
       "      <th>1</th>\n",
       "      <td>Drake</td>\n",
       "      <td>spotify:track:0WtVtCK5SEFvyyA5V8D9CI</td>\n",
       "    </tr>\n",
       "    <tr>\n",
       "      <th>2</th>\n",
       "      <td>Lil Wayne</td>\n",
       "      <td>spotify:track:0WtVtCK5SEFvyyA5V8D9CI</td>\n",
       "    </tr>\n",
       "    <tr>\n",
       "      <th>0</th>\n",
       "      <td>A$AP Ferg</td>\n",
       "      <td>spotify:track:7gbs274CmEorDmQuOYzaud</td>\n",
       "    </tr>\n",
       "    <tr>\n",
       "      <th>1</th>\n",
       "      <td>Meek Mill</td>\n",
       "      <td>spotify:track:7gbs274CmEorDmQuOYzaud</td>\n",
       "    </tr>\n",
       "    <tr>\n",
       "      <th>...</th>\n",
       "      <td>...</td>\n",
       "      <td>...</td>\n",
       "    </tr>\n",
       "    <tr>\n",
       "      <th>1</th>\n",
       "      <td>Davido</td>\n",
       "      <td>spotify:track:6XDHjqVzv0JzS9fnQEVJ1W</td>\n",
       "    </tr>\n",
       "    <tr>\n",
       "      <th>0</th>\n",
       "      <td>Shlohmo</td>\n",
       "      <td>spotify:track:629Cjw0fUyZUMkBjnjttDR</td>\n",
       "    </tr>\n",
       "    <tr>\n",
       "      <th>0</th>\n",
       "      <td>Rema</td>\n",
       "      <td>spotify:track:3BnDvpeuGOj21Ir2aVEtQo</td>\n",
       "    </tr>\n",
       "    <tr>\n",
       "      <th>0</th>\n",
       "      <td>Joshua Micah</td>\n",
       "      <td>spotify:track:7ozXoMBdjxtS3U2tbzo9Ay</td>\n",
       "    </tr>\n",
       "    <tr>\n",
       "      <th>1</th>\n",
       "      <td>My Buddy Mike</td>\n",
       "      <td>spotify:track:7ozXoMBdjxtS3U2tbzo9Ay</td>\n",
       "    </tr>\n",
       "  </tbody>\n",
       "</table>\n",
       "<p>2982 rows × 2 columns</p>\n",
       "</div>"
      ],
      "text/plain": [
       "             name                             track_uri\n",
       "0     Nicki Minaj  spotify:track:0WtVtCK5SEFvyyA5V8D9CI\n",
       "1           Drake  spotify:track:0WtVtCK5SEFvyyA5V8D9CI\n",
       "2       Lil Wayne  spotify:track:0WtVtCK5SEFvyyA5V8D9CI\n",
       "0       A$AP Ferg  spotify:track:7gbs274CmEorDmQuOYzaud\n",
       "1       Meek Mill  spotify:track:7gbs274CmEorDmQuOYzaud\n",
       "..            ...                                   ...\n",
       "1          Davido  spotify:track:6XDHjqVzv0JzS9fnQEVJ1W\n",
       "0         Shlohmo  spotify:track:629Cjw0fUyZUMkBjnjttDR\n",
       "0            Rema  spotify:track:3BnDvpeuGOj21Ir2aVEtQo\n",
       "0    Joshua Micah  spotify:track:7ozXoMBdjxtS3U2tbzo9Ay\n",
       "1   My Buddy Mike  spotify:track:7ozXoMBdjxtS3U2tbzo9Ay\n",
       "\n",
       "[2982 rows x 2 columns]"
      ]
     },
     "execution_count": 7,
     "metadata": {},
     "output_type": "execute_result"
    }
   ],
   "source": [
    "df = pd.read_sql('''SELECT DISTINCT track_uri FROM artists''', engine)\n",
    "df2 = pd.read_sql('''SELECT DISTINCT track_uri FROM audio_features''', engine)\n",
    "outer = df2.merge(df, how='outer', indicator=True)\n",
    "anti_join = outer[(outer._merge=='left_only')].drop('_merge', axis=1)\n",
    "\n",
    "df = pd.Series(anti_join['track_uri'].head(2000))\n",
    "base_list = []\n",
    "for track in tqdm(df):\n",
    "    try:\n",
    "        df2 = pd.json_normalize(sp.track(track), record_path=['artists'])\n",
    "        df2['track_uri'] = track\n",
    "        df2 = df2[['name', 'track_uri']]\n",
    "        base_list.append(df2)\n",
    "    except:\n",
    "        pass\n",
    "df2 = pd.concat(base_list)\n",
    "df2"
   ]
  },
  {
   "attachments": {},
   "cell_type": "markdown",
   "metadata": {},
   "source": [
    "## Get Row Numbers for Pivoting"
   ]
  },
  {
   "cell_type": "code",
   "execution_count": 8,
   "metadata": {},
   "outputs": [
    {
     "data": {
      "text/html": [
       "<div>\n",
       "<style scoped>\n",
       "    .dataframe tbody tr th:only-of-type {\n",
       "        vertical-align: middle;\n",
       "    }\n",
       "\n",
       "    .dataframe tbody tr th {\n",
       "        vertical-align: top;\n",
       "    }\n",
       "\n",
       "    .dataframe thead th {\n",
       "        text-align: right;\n",
       "    }\n",
       "</style>\n",
       "<table border=\"1\" class=\"dataframe\">\n",
       "  <thead>\n",
       "    <tr style=\"text-align: right;\">\n",
       "      <th></th>\n",
       "      <th>name</th>\n",
       "      <th>track_uri</th>\n",
       "      <th>RN</th>\n",
       "    </tr>\n",
       "  </thead>\n",
       "  <tbody>\n",
       "    <tr>\n",
       "      <th>0</th>\n",
       "      <td>Nicki Minaj</td>\n",
       "      <td>spotify:track:0WtVtCK5SEFvyyA5V8D9CI</td>\n",
       "      <td>3.0</td>\n",
       "    </tr>\n",
       "    <tr>\n",
       "      <th>1</th>\n",
       "      <td>Drake</td>\n",
       "      <td>spotify:track:0WtVtCK5SEFvyyA5V8D9CI</td>\n",
       "      <td>1.0</td>\n",
       "    </tr>\n",
       "    <tr>\n",
       "      <th>2</th>\n",
       "      <td>Lil Wayne</td>\n",
       "      <td>spotify:track:0WtVtCK5SEFvyyA5V8D9CI</td>\n",
       "      <td>2.0</td>\n",
       "    </tr>\n",
       "    <tr>\n",
       "      <th>0</th>\n",
       "      <td>A$AP Ferg</td>\n",
       "      <td>spotify:track:7gbs274CmEorDmQuOYzaud</td>\n",
       "      <td>1.0</td>\n",
       "    </tr>\n",
       "    <tr>\n",
       "      <th>1</th>\n",
       "      <td>Meek Mill</td>\n",
       "      <td>spotify:track:7gbs274CmEorDmQuOYzaud</td>\n",
       "      <td>2.0</td>\n",
       "    </tr>\n",
       "    <tr>\n",
       "      <th>...</th>\n",
       "      <td>...</td>\n",
       "      <td>...</td>\n",
       "      <td>...</td>\n",
       "    </tr>\n",
       "    <tr>\n",
       "      <th>1</th>\n",
       "      <td>Davido</td>\n",
       "      <td>spotify:track:6XDHjqVzv0JzS9fnQEVJ1W</td>\n",
       "      <td>1.0</td>\n",
       "    </tr>\n",
       "    <tr>\n",
       "      <th>0</th>\n",
       "      <td>Shlohmo</td>\n",
       "      <td>spotify:track:629Cjw0fUyZUMkBjnjttDR</td>\n",
       "      <td>1.0</td>\n",
       "    </tr>\n",
       "    <tr>\n",
       "      <th>0</th>\n",
       "      <td>Rema</td>\n",
       "      <td>spotify:track:3BnDvpeuGOj21Ir2aVEtQo</td>\n",
       "      <td>1.0</td>\n",
       "    </tr>\n",
       "    <tr>\n",
       "      <th>0</th>\n",
       "      <td>Joshua Micah</td>\n",
       "      <td>spotify:track:7ozXoMBdjxtS3U2tbzo9Ay</td>\n",
       "      <td>1.0</td>\n",
       "    </tr>\n",
       "    <tr>\n",
       "      <th>1</th>\n",
       "      <td>My Buddy Mike</td>\n",
       "      <td>spotify:track:7ozXoMBdjxtS3U2tbzo9Ay</td>\n",
       "      <td>2.0</td>\n",
       "    </tr>\n",
       "  </tbody>\n",
       "</table>\n",
       "<p>2982 rows × 3 columns</p>\n",
       "</div>"
      ],
      "text/plain": [
       "             name                             track_uri   RN\n",
       "0     Nicki Minaj  spotify:track:0WtVtCK5SEFvyyA5V8D9CI  3.0\n",
       "1           Drake  spotify:track:0WtVtCK5SEFvyyA5V8D9CI  1.0\n",
       "2       Lil Wayne  spotify:track:0WtVtCK5SEFvyyA5V8D9CI  2.0\n",
       "0       A$AP Ferg  spotify:track:7gbs274CmEorDmQuOYzaud  1.0\n",
       "1       Meek Mill  spotify:track:7gbs274CmEorDmQuOYzaud  2.0\n",
       "..            ...                                   ...  ...\n",
       "1          Davido  spotify:track:6XDHjqVzv0JzS9fnQEVJ1W  1.0\n",
       "0         Shlohmo  spotify:track:629Cjw0fUyZUMkBjnjttDR  1.0\n",
       "0            Rema  spotify:track:3BnDvpeuGOj21Ir2aVEtQo  1.0\n",
       "0    Joshua Micah  spotify:track:7ozXoMBdjxtS3U2tbzo9Ay  1.0\n",
       "1   My Buddy Mike  spotify:track:7ozXoMBdjxtS3U2tbzo9Ay  2.0\n",
       "\n",
       "[2982 rows x 3 columns]"
      ]
     },
     "execution_count": 8,
     "metadata": {},
     "output_type": "execute_result"
    }
   ],
   "source": [
    "df2['RN'] = df2.groupby(\"track_uri\")[\"name\"].rank(method=\"first\", ascending=True)\n",
    "df2"
   ]
  },
  {
   "attachments": {},
   "cell_type": "markdown",
   "metadata": {},
   "source": [
    "## Pivot DataFrame to Fit all Artists in DataFrame"
   ]
  },
  {
   "cell_type": "code",
   "execution_count": 9,
   "metadata": {},
   "outputs": [
    {
     "data": {
      "text/html": [
       "<div>\n",
       "<style scoped>\n",
       "    .dataframe tbody tr th:only-of-type {\n",
       "        vertical-align: middle;\n",
       "    }\n",
       "\n",
       "    .dataframe tbody tr th {\n",
       "        vertical-align: top;\n",
       "    }\n",
       "\n",
       "    .dataframe thead th {\n",
       "        text-align: right;\n",
       "    }\n",
       "</style>\n",
       "<table border=\"1\" class=\"dataframe\">\n",
       "  <thead>\n",
       "    <tr style=\"text-align: right;\">\n",
       "      <th>RN</th>\n",
       "      <th>track_uri</th>\n",
       "      <th>artist1</th>\n",
       "      <th>artist2</th>\n",
       "      <th>artist3</th>\n",
       "      <th>artist4</th>\n",
       "      <th>artist5</th>\n",
       "    </tr>\n",
       "  </thead>\n",
       "  <tbody>\n",
       "    <tr>\n",
       "      <th>0</th>\n",
       "      <td>spotify:track:00KHrXKOfWvloluo9OFgjl</td>\n",
       "      <td>Tom. G</td>\n",
       "      <td>XXXTENTACION</td>\n",
       "      <td>NaN</td>\n",
       "      <td>NaN</td>\n",
       "      <td>NaN</td>\n",
       "    </tr>\n",
       "    <tr>\n",
       "      <th>1</th>\n",
       "      <td>spotify:track:00iQ29Q9sF7SuRassUh5F8</td>\n",
       "      <td>Clay Walker</td>\n",
       "      <td>NaN</td>\n",
       "      <td>NaN</td>\n",
       "      <td>NaN</td>\n",
       "      <td>NaN</td>\n",
       "    </tr>\n",
       "    <tr>\n",
       "      <th>2</th>\n",
       "      <td>spotify:track:01mNrMDaDseSKzrTmRfqKa</td>\n",
       "      <td>Glup!</td>\n",
       "      <td>NaN</td>\n",
       "      <td>NaN</td>\n",
       "      <td>NaN</td>\n",
       "      <td>NaN</td>\n",
       "    </tr>\n",
       "    <tr>\n",
       "      <th>3</th>\n",
       "      <td>spotify:track:01wuIn1TP5FCvYyqBTdsGC</td>\n",
       "      <td>Jess Glynne</td>\n",
       "      <td>Tinie Tempah</td>\n",
       "      <td>NaN</td>\n",
       "      <td>NaN</td>\n",
       "      <td>NaN</td>\n",
       "    </tr>\n",
       "    <tr>\n",
       "      <th>4</th>\n",
       "      <td>spotify:track:022X40ctU5PIHD8YUjS9qZ</td>\n",
       "      <td>Safri Duo</td>\n",
       "      <td>NaN</td>\n",
       "      <td>NaN</td>\n",
       "      <td>NaN</td>\n",
       "      <td>NaN</td>\n",
       "    </tr>\n",
       "    <tr>\n",
       "      <th>...</th>\n",
       "      <td>...</td>\n",
       "      <td>...</td>\n",
       "      <td>...</td>\n",
       "      <td>...</td>\n",
       "      <td>...</td>\n",
       "      <td>...</td>\n",
       "    </tr>\n",
       "    <tr>\n",
       "      <th>1995</th>\n",
       "      <td>spotify:track:7ygpwy2qP3NbrxVkHvUhXY</td>\n",
       "      <td>Oasis</td>\n",
       "      <td>NaN</td>\n",
       "      <td>NaN</td>\n",
       "      <td>NaN</td>\n",
       "      <td>NaN</td>\n",
       "    </tr>\n",
       "    <tr>\n",
       "      <th>1996</th>\n",
       "      <td>spotify:track:7ytLGF9Ua5g5MylbwtxzZC</td>\n",
       "      <td>Gorilla Zoe</td>\n",
       "      <td>NaN</td>\n",
       "      <td>NaN</td>\n",
       "      <td>NaN</td>\n",
       "      <td>NaN</td>\n",
       "    </tr>\n",
       "    <tr>\n",
       "      <th>1997</th>\n",
       "      <td>spotify:track:7yyRTcZmCiyzzJlNzGC9Ol</td>\n",
       "      <td>DRAM</td>\n",
       "      <td>Lil Yachty</td>\n",
       "      <td>NaN</td>\n",
       "      <td>NaN</td>\n",
       "      <td>NaN</td>\n",
       "    </tr>\n",
       "    <tr>\n",
       "      <th>1998</th>\n",
       "      <td>spotify:track:7z1xQUZKgpXXdCquuSRjRC</td>\n",
       "      <td>Rascal Flatts</td>\n",
       "      <td>NaN</td>\n",
       "      <td>NaN</td>\n",
       "      <td>NaN</td>\n",
       "      <td>NaN</td>\n",
       "    </tr>\n",
       "    <tr>\n",
       "      <th>1999</th>\n",
       "      <td>spotify:track:7zhI9WKh529YwWqHulghx8</td>\n",
       "      <td>Chris Knight</td>\n",
       "      <td>NaN</td>\n",
       "      <td>NaN</td>\n",
       "      <td>NaN</td>\n",
       "      <td>NaN</td>\n",
       "    </tr>\n",
       "  </tbody>\n",
       "</table>\n",
       "<p>2000 rows × 6 columns</p>\n",
       "</div>"
      ],
      "text/plain": [
       "RN                               track_uri        artist1       artist2  \\\n",
       "0     spotify:track:00KHrXKOfWvloluo9OFgjl         Tom. G  XXXTENTACION   \n",
       "1     spotify:track:00iQ29Q9sF7SuRassUh5F8    Clay Walker           NaN   \n",
       "2     spotify:track:01mNrMDaDseSKzrTmRfqKa          Glup!           NaN   \n",
       "3     spotify:track:01wuIn1TP5FCvYyqBTdsGC    Jess Glynne  Tinie Tempah   \n",
       "4     spotify:track:022X40ctU5PIHD8YUjS9qZ      Safri Duo           NaN   \n",
       "...                                    ...            ...           ...   \n",
       "1995  spotify:track:7ygpwy2qP3NbrxVkHvUhXY          Oasis           NaN   \n",
       "1996  spotify:track:7ytLGF9Ua5g5MylbwtxzZC    Gorilla Zoe           NaN   \n",
       "1997  spotify:track:7yyRTcZmCiyzzJlNzGC9Ol           DRAM    Lil Yachty   \n",
       "1998  spotify:track:7z1xQUZKgpXXdCquuSRjRC  Rascal Flatts           NaN   \n",
       "1999  spotify:track:7zhI9WKh529YwWqHulghx8   Chris Knight           NaN   \n",
       "\n",
       "RN   artist3 artist4 artist5  \n",
       "0        NaN     NaN     NaN  \n",
       "1        NaN     NaN     NaN  \n",
       "2        NaN     NaN     NaN  \n",
       "3        NaN     NaN     NaN  \n",
       "4        NaN     NaN     NaN  \n",
       "...      ...     ...     ...  \n",
       "1995     NaN     NaN     NaN  \n",
       "1996     NaN     NaN     NaN  \n",
       "1997     NaN     NaN     NaN  \n",
       "1998     NaN     NaN     NaN  \n",
       "1999     NaN     NaN     NaN  \n",
       "\n",
       "[2000 rows x 6 columns]"
      ]
     },
     "execution_count": 9,
     "metadata": {},
     "output_type": "execute_result"
    }
   ],
   "source": [
    "df2 = df2.pivot(index='track_uri', columns=['RN'], values='name').reset_index()\n",
    "df2 = df2.rename(columns={1.0:'artist1', 2.0:'artist2', 3.0:'artist3', 4.0:'artist4', 5.0:'artist5'})\n",
    "df2 = df2[['track_uri', 'artist1', 'artist2', 'artist3', 'artist4', 'artist5']]\n",
    "df2"
   ]
  },
  {
   "attachments": {},
   "cell_type": "markdown",
   "metadata": {},
   "source": [
    "## Upload All Artist Data to Database"
   ]
  },
  {
   "cell_type": "code",
   "execution_count": 10,
   "metadata": {},
   "outputs": [
    {
     "data": {
      "text/plain": [
       "1000"
      ]
     },
     "execution_count": 10,
     "metadata": {},
     "output_type": "execute_result"
    }
   ],
   "source": [
    "df2.to_sql('artists', con=engine, if_exists='append')"
   ]
  },
  {
   "attachments": {},
   "cell_type": "markdown",
   "metadata": {},
   "source": [
    "## Get All Audio Features"
   ]
  },
  {
   "cell_type": "code",
   "execution_count": 11,
   "metadata": {},
   "outputs": [],
   "source": [
    "# df = pd.read_sql('''SELECT DISTINCT track_uri FROM audio_features''', engine)\n",
    "# outer = load_batch.merge(df, how='outer', indicator=True)\n",
    "# anti_join = outer[(outer._merge=='left_only')].drop('_merge', axis=1)\n",
    "# df = pd.Series(anti_join['track_uri'].head(5000))\n",
    "\n",
    "# base_list = []\n",
    "# for track in tqdm(df):\n",
    "#     try:\n",
    "#         df3 = pd.json_normalize(sp.audio_features(track))\n",
    "#         df3['track_uri'] = track\n",
    "#         df3 = df3[['track_uri', 'danceability', 'energy', 'key', 'loudness', 'mode', 'speechiness', 'acousticness', 'instrumentalness', 'liveness', 'valence', 'tempo', 'duration_ms', 'time_signature']]\n",
    "#         base_list.append(df3)\n",
    "#     except:\n",
    "#         pass\n",
    "# df3 = pd.concat(base_list)"
   ]
  },
  {
   "attachments": {},
   "cell_type": "markdown",
   "metadata": {},
   "source": [
    "## Upload Audio Features to Database"
   ]
  },
  {
   "cell_type": "code",
   "execution_count": 12,
   "metadata": {},
   "outputs": [],
   "source": [
    "#df3.to_sql('audio_features', con=engine, if_exists='append')"
   ]
  },
  {
   "cell_type": "code",
   "execution_count": 13,
   "metadata": {},
   "outputs": [],
   "source": [
    "all_data = pd.read_sql('''SELECT DISTINCT playlist_uri, playlist_name, owner_uri, owner_display_name, collaborative, description, followers_total,\n",
    "af.track_uri, track_name, artist1, artist2, artist3, artist4, artist5, album_uri, album_name, release_date, \n",
    "added_by_uri, added_at, track_album_total_tracks, af.duration_ms, \"isExplicit\", track_popularity, \n",
    "track_preview_url, video_thumbnail_url, danceability, energy, loudness, key, mode, acousticness, speechiness, \n",
    "instrumentalness, liveness, valence, tempo, time_signature\n",
    "FROM playlist_tracks pt\n",
    "JOIN artists a ON pt.track_uri = a.track_uri\n",
    "JOIN audio_features af ON pt.track_uri = af.track_uri;''', engine)\n",
    "f = open(\"s3.csv\", \"w\")\n",
    "f.truncate()\n",
    "f.close()\n",
    "\n",
    "all_data.to_csv('s3.csv', mode=\"w+\")"
   ]
  }
 ],
 "metadata": {
  "kernelspec": {
   "display_name": "Python 3",
   "language": "python",
   "name": "python3"
  },
  "language_info": {
   "codemirror_mode": {
    "name": "ipython",
    "version": 3
   },
   "file_extension": ".py",
   "mimetype": "text/x-python",
   "name": "python",
   "nbconvert_exporter": "python",
   "pygments_lexer": "ipython3",
   "version": "3.9.12"
  },
  "vscode": {
   "interpreter": {
    "hash": "e509a2683bb710c9bd3cef57d5381e640e8483d6e683f75b983dd6327c90c1d7"
   }
  }
 },
 "nbformat": 4,
 "nbformat_minor": 2
}
