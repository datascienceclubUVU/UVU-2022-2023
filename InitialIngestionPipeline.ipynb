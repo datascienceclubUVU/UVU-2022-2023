{
 "cells": [
  {
   "attachments": {},
   "cell_type": "markdown",
   "metadata": {},
   "source": [
    "## Import All Required Libraries"
   ]
  },
  {
   "cell_type": "code",
   "execution_count": 1,
   "metadata": {},
   "outputs": [],
   "source": [
    "# Import all connection libraries\n",
    "\n",
    "from spotipy import SpotifyClientCredentials\n",
    "import spotipy\n",
    "import sqlalchemy as sql\n",
    "import psycopg2\n",
    "\n",
    "# Import all data manipulation libraries\n",
    "\n",
    "import pandas as pd\n",
    "from pandarallel import pandarallel\n",
    "import numpy as np\n",
    "from tqdm import tqdm\n",
    "pandarallel.initialize(verbose=0, nb_workers=8)"
   ]
  },
  {
   "cell_type": "code",
   "execution_count": 2,
   "metadata": {},
   "outputs": [],
   "source": [
    "from functools import lru_cache\n",
    "\n",
    "# Use the lru_cache decorator to cache the result of the function\n",
    "# maxsize=1000 means the cache will store the result of up to 1000 items\n",
    "@lru_cache(maxsize=1000)\n",
    "def get_playlist_tracks(playlist_uri):\n",
    "    \"\"\"\n",
    "    This function uses the Spotify API to get the tracks of a given playlist.\n",
    "    The function is decorated with the lru_cache decorator to cache the result for each unique playlist_uri.\n",
    "    So, if the same playlist_uri is passed to the function again, the cached result will be returned\n",
    "    instead of making a new API call.\n",
    "    :param playlist_uri: The Spotify URI of the playlist\n",
    "    :return: A DataFrame containing the tracks of the playlist\n",
    "    \"\"\"\n",
    "    # Use the Spotify API to get the tracks of the playlist\n",
    "    tracks = pd.json_normalize(sp.playlist_tracks(playlist_uri), record_path=['items'])\n",
    "    return tracks"
   ]
  },
  {
   "attachments": {},
   "cell_type": "markdown",
   "metadata": {},
   "source": [
    "## Load Initial Training Data"
   ]
  },
  {
   "cell_type": "code",
   "execution_count": 3,
   "metadata": {},
   "outputs": [
    {
     "data": {
      "text/html": [
       "<div>\n",
       "<style scoped>\n",
       "    .dataframe tbody tr th:only-of-type {\n",
       "        vertical-align: middle;\n",
       "    }\n",
       "\n",
       "    .dataframe tbody tr th {\n",
       "        vertical-align: top;\n",
       "    }\n",
       "\n",
       "    .dataframe thead th {\n",
       "        text-align: right;\n",
       "    }\n",
       "</style>\n",
       "<table border=\"1\" class=\"dataframe\">\n",
       "  <thead>\n",
       "    <tr style=\"text-align: right;\">\n",
       "      <th></th>\n",
       "      <th>playlist_uri</th>\n",
       "      <th>playlist_name</th>\n",
       "    </tr>\n",
       "  </thead>\n",
       "  <tbody>\n",
       "    <tr>\n",
       "      <th>21</th>\n",
       "      <td>spotify:playlist:01clVI1RPrF8zHMxrqVIs0</td>\n",
       "      <td>2020 top rap and hiphop hits 2022</td>\n",
       "    </tr>\n",
       "    <tr>\n",
       "      <th>34</th>\n",
       "      <td>spotify:playlist:02eILNCPJV0hoYxMUreT0L</td>\n",
       "      <td>He is back</td>\n",
       "    </tr>\n",
       "    <tr>\n",
       "      <th>114</th>\n",
       "      <td>spotify:playlist:07Kw4TRKVUaIzJdiA86Kvu</td>\n",
       "      <td>slow down house</td>\n",
       "    </tr>\n",
       "    <tr>\n",
       "      <th>353</th>\n",
       "      <td>spotify:playlist:0GB7f8by4WIynljqdp4xmR</td>\n",
       "      <td>This is Titud</td>\n",
       "    </tr>\n",
       "    <tr>\n",
       "      <th>574</th>\n",
       "      <td>spotify:playlist:0mHKLcOLXBlzWpO7dpsviY</td>\n",
       "      <td>Rowdy Country Shit ????????</td>\n",
       "    </tr>\n",
       "  </tbody>\n",
       "</table>\n",
       "</div>"
      ],
      "text/plain": [
       "                                playlist_uri  \\\n",
       "21   spotify:playlist:01clVI1RPrF8zHMxrqVIs0   \n",
       "34   spotify:playlist:02eILNCPJV0hoYxMUreT0L   \n",
       "114  spotify:playlist:07Kw4TRKVUaIzJdiA86Kvu   \n",
       "353  spotify:playlist:0GB7f8by4WIynljqdp4xmR   \n",
       "574  spotify:playlist:0mHKLcOLXBlzWpO7dpsviY   \n",
       "\n",
       "                         playlist_name  \n",
       "21   2020 top rap and hiphop hits 2022  \n",
       "34                          He is back  \n",
       "114                    slow down house  \n",
       "353                      This is Titud  \n",
       "574       Rowdy Country Shit ????????   "
      ]
     },
     "execution_count": 3,
     "metadata": {},
     "output_type": "execute_result"
    }
   ],
   "source": [
    "# establish connection to Spotify API\n",
    "\n",
    "cid = 'e5448a8a4fdc4b5d98b44e956d50546d'\n",
    "secret = '8924c0394d3f49a4a569fc03e891aa1b'\n",
    "client_credentials = SpotifyClientCredentials(client_id=cid, client_secret=secret)\n",
    "sp = spotipy.Spotify(client_credentials_manager=client_credentials, requests_timeout=15, retries=10)\n",
    "\n",
    "# establish connection to Postgres\n",
    "\n",
    "host_name = 'localhost'\n",
    "database_name = 'Spotify'\n",
    "engine = sql.create_engine('postgresql+psycopg2://postgres:DataNerd2023!!\\\n",
    "@localhost/Spotify')\n",
    "\n",
    "# load training data\n",
    "new_batch = pd.read_csv('distinct_playlists.csv')[['playlist_uri', 'playlist_name']]\n",
    "new_batch['playlist_uri'] = new_batch['playlist_uri'].str.strip()\n",
    "\n",
    "db_query = pd.read_sql('SELECT DISTINCT playlist_uri FROM playlist_tracks', engine)\n",
    "\n",
    "outer = new_batch.merge(db_query, how='outer', indicator=True)\n",
    "anti_join = outer[(outer._merge=='left_only')].drop('_merge', axis=1)\n",
    "\n",
    "new_batch = pd.DataFrame(anti_join)\n",
    "new_batch = new_batch[0:25]\n",
    "new_batch.head()"
   ]
  },
  {
   "attachments": {},
   "cell_type": "markdown",
   "metadata": {},
   "source": [
    "## Iterate Through Training Data to Change Grain of Data"
   ]
  },
  {
   "cell_type": "code",
   "execution_count": 4,
   "metadata": {},
   "outputs": [
    {
     "name": "stderr",
     "output_type": "stream",
     "text": [
      "  0%|          | 0/25 [00:00<?, ?it/s]HTTP Error for GET to https://api.spotify.com/v1/playlists/01clVI1RPrF8zHMxrqVIs0/tracks with Params: {'limit': 100, 'offset': 0, 'fields': None, 'market': None, 'additional_types': 'track'} returned 404 due to Not found.\n",
      "  4%|▍         | 1/25 [00:00<00:05,  4.67it/s]HTTP Error for GET to https://api.spotify.com/v1/playlists/02eILNCPJV0hoYxMUreT0L/tracks with Params: {'limit': 100, 'offset': 0, 'fields': None, 'market': None, 'additional_types': 'track'} returned 404 due to Not found.\n",
      "  8%|▊         | 2/25 [00:00<00:03,  6.03it/s]HTTP Error for GET to https://api.spotify.com/v1/playlists/07Kw4TRKVUaIzJdiA86Kvu/tracks with Params: {'limit': 100, 'offset': 0, 'fields': None, 'market': None, 'additional_types': 'track'} returned 404 due to Not found.\n",
      "HTTP Error for GET to https://api.spotify.com/v1/playlists/0GB7f8by4WIynljqdp4xmR/tracks with Params: {'limit': 100, 'offset': 0, 'fields': None, 'market': None, 'additional_types': 'track'} returned 404 due to Not found.\n",
      "100%|██████████| 25/25 [00:22<00:00,  1.11it/s]\n"
     ]
    },
    {
     "data": {
      "text/html": [
       "<div>\n",
       "<style scoped>\n",
       "    .dataframe tbody tr th:only-of-type {\n",
       "        vertical-align: middle;\n",
       "    }\n",
       "\n",
       "    .dataframe tbody tr th {\n",
       "        vertical-align: top;\n",
       "    }\n",
       "\n",
       "    .dataframe thead th {\n",
       "        text-align: right;\n",
       "    }\n",
       "</style>\n",
       "<table border=\"1\" class=\"dataframe\">\n",
       "  <thead>\n",
       "    <tr style=\"text-align: right;\">\n",
       "      <th></th>\n",
       "      <th>added_at</th>\n",
       "      <th>is_local</th>\n",
       "      <th>primary_color_x</th>\n",
       "      <th>added_by_external_urls_spotify</th>\n",
       "      <th>added_by_href</th>\n",
       "      <th>added_by_id</th>\n",
       "      <th>added_by_type</th>\n",
       "      <th>added_by_uri</th>\n",
       "      <th>track_album_album_type</th>\n",
       "      <th>track_album_external_urls_spotify</th>\n",
       "      <th>...</th>\n",
       "      <th>owner_id</th>\n",
       "      <th>owner_type</th>\n",
       "      <th>owner_uri</th>\n",
       "      <th>tracks_href</th>\n",
       "      <th>tracks_limit</th>\n",
       "      <th>tracks_next</th>\n",
       "      <th>tracks_offset</th>\n",
       "      <th>tracks_previous</th>\n",
       "      <th>tracks_total</th>\n",
       "      <th>track</th>\n",
       "    </tr>\n",
       "  </thead>\n",
       "  <tbody>\n",
       "    <tr>\n",
       "      <th>0</th>\n",
       "      <td>2015-09-14T04:40:01Z</td>\n",
       "      <td>False</td>\n",
       "      <td>None</td>\n",
       "      <td>https://open.spotify.com/user/1266343558</td>\n",
       "      <td>https://api.spotify.com/v1/users/1266343558</td>\n",
       "      <td>1266343558</td>\n",
       "      <td>user</td>\n",
       "      <td>spotify:user:1266343558</td>\n",
       "      <td>single</td>\n",
       "      <td>https://open.spotify.com/album/30alXgSgwOuqtIb...</td>\n",
       "      <td>...</td>\n",
       "      <td>1266343558</td>\n",
       "      <td>user</td>\n",
       "      <td>spotify:user:1266343558</td>\n",
       "      <td>https://api.spotify.com/v1/playlists/0mHKLcOLX...</td>\n",
       "      <td>100</td>\n",
       "      <td>https://api.spotify.com/v1/playlists/0mHKLcOLX...</td>\n",
       "      <td>0</td>\n",
       "      <td>None</td>\n",
       "      <td>1562</td>\n",
       "      <td>NaN</td>\n",
       "    </tr>\n",
       "    <tr>\n",
       "      <th>1</th>\n",
       "      <td>2015-09-14T04:40:22Z</td>\n",
       "      <td>False</td>\n",
       "      <td>None</td>\n",
       "      <td>https://open.spotify.com/user/1266343558</td>\n",
       "      <td>https://api.spotify.com/v1/users/1266343558</td>\n",
       "      <td>1266343558</td>\n",
       "      <td>user</td>\n",
       "      <td>spotify:user:1266343558</td>\n",
       "      <td>single</td>\n",
       "      <td>https://open.spotify.com/album/3ebX1pJQ3q2Bq6d...</td>\n",
       "      <td>...</td>\n",
       "      <td>1266343558</td>\n",
       "      <td>user</td>\n",
       "      <td>spotify:user:1266343558</td>\n",
       "      <td>https://api.spotify.com/v1/playlists/0mHKLcOLX...</td>\n",
       "      <td>100</td>\n",
       "      <td>https://api.spotify.com/v1/playlists/0mHKLcOLX...</td>\n",
       "      <td>0</td>\n",
       "      <td>None</td>\n",
       "      <td>1562</td>\n",
       "      <td>NaN</td>\n",
       "    </tr>\n",
       "    <tr>\n",
       "      <th>2</th>\n",
       "      <td>2015-09-14T04:40:34Z</td>\n",
       "      <td>False</td>\n",
       "      <td>None</td>\n",
       "      <td>https://open.spotify.com/user/1266343558</td>\n",
       "      <td>https://api.spotify.com/v1/users/1266343558</td>\n",
       "      <td>1266343558</td>\n",
       "      <td>user</td>\n",
       "      <td>spotify:user:1266343558</td>\n",
       "      <td>single</td>\n",
       "      <td>https://open.spotify.com/album/1YwtWJA5CrdSeiD...</td>\n",
       "      <td>...</td>\n",
       "      <td>1266343558</td>\n",
       "      <td>user</td>\n",
       "      <td>spotify:user:1266343558</td>\n",
       "      <td>https://api.spotify.com/v1/playlists/0mHKLcOLX...</td>\n",
       "      <td>100</td>\n",
       "      <td>https://api.spotify.com/v1/playlists/0mHKLcOLX...</td>\n",
       "      <td>0</td>\n",
       "      <td>None</td>\n",
       "      <td>1562</td>\n",
       "      <td>NaN</td>\n",
       "    </tr>\n",
       "    <tr>\n",
       "      <th>3</th>\n",
       "      <td>2015-09-14T04:40:57Z</td>\n",
       "      <td>False</td>\n",
       "      <td>None</td>\n",
       "      <td>https://open.spotify.com/user/1266343558</td>\n",
       "      <td>https://api.spotify.com/v1/users/1266343558</td>\n",
       "      <td>1266343558</td>\n",
       "      <td>user</td>\n",
       "      <td>spotify:user:1266343558</td>\n",
       "      <td>album</td>\n",
       "      <td>https://open.spotify.com/album/06gZYBNkDbO8Rl3...</td>\n",
       "      <td>...</td>\n",
       "      <td>1266343558</td>\n",
       "      <td>user</td>\n",
       "      <td>spotify:user:1266343558</td>\n",
       "      <td>https://api.spotify.com/v1/playlists/0mHKLcOLX...</td>\n",
       "      <td>100</td>\n",
       "      <td>https://api.spotify.com/v1/playlists/0mHKLcOLX...</td>\n",
       "      <td>0</td>\n",
       "      <td>None</td>\n",
       "      <td>1562</td>\n",
       "      <td>NaN</td>\n",
       "    </tr>\n",
       "    <tr>\n",
       "      <th>4</th>\n",
       "      <td>2015-09-14T04:42:01Z</td>\n",
       "      <td>False</td>\n",
       "      <td>None</td>\n",
       "      <td>https://open.spotify.com/user/1266343558</td>\n",
       "      <td>https://api.spotify.com/v1/users/1266343558</td>\n",
       "      <td>1266343558</td>\n",
       "      <td>user</td>\n",
       "      <td>spotify:user:1266343558</td>\n",
       "      <td>album</td>\n",
       "      <td>https://open.spotify.com/album/1ZXM9jY3Bsg12KX...</td>\n",
       "      <td>...</td>\n",
       "      <td>1266343558</td>\n",
       "      <td>user</td>\n",
       "      <td>spotify:user:1266343558</td>\n",
       "      <td>https://api.spotify.com/v1/playlists/0mHKLcOLX...</td>\n",
       "      <td>100</td>\n",
       "      <td>https://api.spotify.com/v1/playlists/0mHKLcOLX...</td>\n",
       "      <td>0</td>\n",
       "      <td>None</td>\n",
       "      <td>1562</td>\n",
       "      <td>NaN</td>\n",
       "    </tr>\n",
       "  </tbody>\n",
       "</table>\n",
       "<p>5 rows × 62 columns</p>\n",
       "</div>"
      ],
      "text/plain": [
       "               added_at  is_local primary_color_x  \\\n",
       "0  2015-09-14T04:40:01Z     False            None   \n",
       "1  2015-09-14T04:40:22Z     False            None   \n",
       "2  2015-09-14T04:40:34Z     False            None   \n",
       "3  2015-09-14T04:40:57Z     False            None   \n",
       "4  2015-09-14T04:42:01Z     False            None   \n",
       "\n",
       "             added_by_external_urls_spotify  \\\n",
       "0  https://open.spotify.com/user/1266343558   \n",
       "1  https://open.spotify.com/user/1266343558   \n",
       "2  https://open.spotify.com/user/1266343558   \n",
       "3  https://open.spotify.com/user/1266343558   \n",
       "4  https://open.spotify.com/user/1266343558   \n",
       "\n",
       "                                 added_by_href added_by_id added_by_type  \\\n",
       "0  https://api.spotify.com/v1/users/1266343558  1266343558          user   \n",
       "1  https://api.spotify.com/v1/users/1266343558  1266343558          user   \n",
       "2  https://api.spotify.com/v1/users/1266343558  1266343558          user   \n",
       "3  https://api.spotify.com/v1/users/1266343558  1266343558          user   \n",
       "4  https://api.spotify.com/v1/users/1266343558  1266343558          user   \n",
       "\n",
       "              added_by_uri track_album_album_type  \\\n",
       "0  spotify:user:1266343558                 single   \n",
       "1  spotify:user:1266343558                 single   \n",
       "2  spotify:user:1266343558                 single   \n",
       "3  spotify:user:1266343558                  album   \n",
       "4  spotify:user:1266343558                  album   \n",
       "\n",
       "                   track_album_external_urls_spotify  ...    owner_id  \\\n",
       "0  https://open.spotify.com/album/30alXgSgwOuqtIb...  ...  1266343558   \n",
       "1  https://open.spotify.com/album/3ebX1pJQ3q2Bq6d...  ...  1266343558   \n",
       "2  https://open.spotify.com/album/1YwtWJA5CrdSeiD...  ...  1266343558   \n",
       "3  https://open.spotify.com/album/06gZYBNkDbO8Rl3...  ...  1266343558   \n",
       "4  https://open.spotify.com/album/1ZXM9jY3Bsg12KX...  ...  1266343558   \n",
       "\n",
       "  owner_type                owner_uri  \\\n",
       "0       user  spotify:user:1266343558   \n",
       "1       user  spotify:user:1266343558   \n",
       "2       user  spotify:user:1266343558   \n",
       "3       user  spotify:user:1266343558   \n",
       "4       user  spotify:user:1266343558   \n",
       "\n",
       "                                         tracks_href tracks_limit  \\\n",
       "0  https://api.spotify.com/v1/playlists/0mHKLcOLX...          100   \n",
       "1  https://api.spotify.com/v1/playlists/0mHKLcOLX...          100   \n",
       "2  https://api.spotify.com/v1/playlists/0mHKLcOLX...          100   \n",
       "3  https://api.spotify.com/v1/playlists/0mHKLcOLX...          100   \n",
       "4  https://api.spotify.com/v1/playlists/0mHKLcOLX...          100   \n",
       "\n",
       "                                         tracks_next tracks_offset  \\\n",
       "0  https://api.spotify.com/v1/playlists/0mHKLcOLX...             0   \n",
       "1  https://api.spotify.com/v1/playlists/0mHKLcOLX...             0   \n",
       "2  https://api.spotify.com/v1/playlists/0mHKLcOLX...             0   \n",
       "3  https://api.spotify.com/v1/playlists/0mHKLcOLX...             0   \n",
       "4  https://api.spotify.com/v1/playlists/0mHKLcOLX...             0   \n",
       "\n",
       "  tracks_previous  tracks_total  track  \n",
       "0            None          1562    NaN  \n",
       "1            None          1562    NaN  \n",
       "2            None          1562    NaN  \n",
       "3            None          1562    NaN  \n",
       "4            None          1562    NaN  \n",
       "\n",
       "[5 rows x 62 columns]"
      ]
     },
     "execution_count": 4,
     "metadata": {},
     "output_type": "execute_result"
    }
   ],
   "source": [
    "load_batch = []\n",
    "series = new_batch['playlist_uri'].to_dict()\n",
    "for playlist in tqdm(series.values()):\n",
    "    try:\n",
    "        tracks = get_playlist_tracks(playlist)\n",
    "        if len(tracks) >= 100:\n",
    "                tracks2 = pd.json_normalize(sp.playlist_tracks(playlist, offset=100), record_path=['items'])\n",
    "                tracks3 = pd.json_normalize(sp.playlist_tracks(playlist, offset=200), record_path=['items'])\n",
    "                tracks = pd.concat([tracks, tracks2, tracks3])\n",
    "                secondary_data = pd.json_normalize(sp.playlist(playlist))\n",
    "                tracks['playlist_uri'] = playlist\n",
    "                tracks = tracks.merge(secondary_data, left_on='playlist_uri', right_on='uri')\n",
    "                tracks = tracks.rename(columns={\"name\":\"playlist_name\", \"track.name\":\"track_name\", \"track.uri\":\"track_uri\", \"track.album.name\":\"album_name\", \"track.explicit\":\"isExplicit\", \"track.album.release_date\":\"release_date\", \"track.duration_ms\":\"duration_ms\", \"track.album.uri\":\"album_uri\", \"added_by.external_urls.spotify\": \"added_by_external_urls_spotify\", 'added_by.href':\"added_by_href\", \"added_by.id\":\"added_by_id\", \"added_by.type\":\"added_by_type\", \"added_by.uri\":\"added_by_uri\", \"track.album.album_type\":\"track_album_album_type\", \"track.album.external_urls.spotify\":\"track_album_external_urls_spotify\", \"track.album.href\":\"track_album_href\", \"track.album.id\":\"track_album_id\", \"track.album.release_date_precision\":\"track_album_release_date_precision\", \"track.album.total_tracks\":\"track_album_total_tracks\",\"track.album.type\":\"track_album_type\", \"track.disc_number\":\"track_disc_number\", \"track.episode\":\"track_episode\", \"track.external_ids.isrc\":\"track_external_ids_isrc\", \"track.external_urls.spotify\":\"track_external_ids_spotify\", \"track.href\":\"track_href\", \"track.id\":\"track_id\", \"track.is_local\":\"track_is_local\", \"track.popularity\":\"track_popularity\", \"track.preview_url\":\"track_preview_url\", \"track.track\":\"track_track\", \"track.track_number\":\"track_track_number\", \"track.type\":\"track_type\", \"video_thumbnail.url\":\"video_thumbnail_url\", \"external_urls.spotify\":\"external_urls_spotify\", \"followers.href\":\"followers_href\", \"followers.total\":\"followers_total\", \"owner.display_name\":\"owner_display_name\", \"owner.external_urls.spotify\":\"owner_external_urls_spotify\", \"owner.href\":\"owner_href\", \"owner.id\":\"owner_id\", \"owner.type\":\"owner_type\", \"owner.uri\":\"owner_uri\", \"tracks.href\":\"tracks_href\", \"tracks.limit\":\"tracks_limit\", \"tracks.next\":\"tracks_next\", \"tracks.offset\":\"tracks_offset\", \"tracks.previous\":\"tracks_previous\", \"tracks.total\":\"tracks_total\"})\n",
    "                tracks = tracks.drop(columns=['track.album.artists', 'track.album.available_markets', 'track.album.images', 'track.artists', 'track.available_markets', 'images', 'tracks.items'])\n",
    "\n",
    "                load_batch.append(tracks)\n",
    "        else:\n",
    "                secondary_data = pd.json_normalize(sp.playlist(playlist))\n",
    "                tracks['playlist_uri'] = playlist\n",
    "                tracks = tracks.merge(secondary_data, left_on='playlist_uri', right_on='uri')\n",
    "                tracks = tracks.rename(columns={\"name\":\"playlist_name\", \"track.name\":\"track_name\", \"track.uri\":\"track_uri\", \"track.album.name\":\"album_name\", \"track.explicit\":\"isExplicit\", \"track.album.release_date\":\"release_date\", \"track.duration_ms\":\"duration_ms\", \"track.album.uri\":\"album_uri\", \"added_by.external_urls.spotify\": \"added_by_external_urls_spotify\", 'added_by.href':\"added_by_href\", \"added_by.id\":\"added_by_id\", \"added_by.type\":\"added_by_type\", \"added_by.uri\":\"added_by_uri\", \"track.album.album_type\":\"track_album_album_type\", \"track.album.external_urls.spotify\":\"track_album_external_urls_spotify\", \"track.album.href\":\"track_album_href\", \"track.album.id\":\"track_album_id\", \"track.album.release_date_precision\":\"track_album_release_date_precision\", \"track.album.total_tracks\":\"track_album_total_tracks\",\"track.album.type\":\"track_album_type\", \"track.disc_number\":\"track_disc_number\", \"track.episode\":\"track_episode\", \"track.external_ids.isrc\":\"track_external_ids_isrc\", \"track.external_urls.spotify\":\"track_external_ids_spotify\", \"track.href\":\"track_href\", \"track.id\":\"track_id\", \"track.is_local\":\"track_is_local\", \"track.popularity\":\"track_popularity\", \"track.preview_url\":\"track_preview_url\", \"track.track\":\"track_track\", \"track.track_number\":\"track_track_number\", \"track.type\":\"track_type\", \"video_thumbnail.url\":\"video_thumbnail_url\", \"external_urls.spotify\":\"external_urls_spotify\", \"followers.href\":\"followers_href\", \"followers.total\":\"followers_total\", \"owner.display_name\":\"owner_display_name\", \"owner.external_urls.spotify\":\"owner_external_urls_spotify\", \"owner.href\":\"owner_href\", \"owner.id\":\"owner_id\", \"owner.type\":\"owner_type\", \"owner.uri\":\"owner_uri\", \"tracks.href\":\"tracks_href\", \"tracks.limit\":\"tracks_limit\", \"tracks.next\":\"tracks_next\", \"tracks.offset\":\"tracks_offset\", \"tracks.previous\":\"tracks_previous\", \"tracks.total\":\"tracks_total\"})\n",
    "                tracks = tracks.drop(columns=['track.album.artists', 'track.album.available_markets', 'track.album.images', 'track.artists', 'track.available_markets', 'images', 'tracks.items'])\n",
    "                load_batch.append(tracks)\n",
    "    except:\n",
    "            pass\n",
    "load_batch = pd.concat(load_batch)\n",
    "load_batch.head()"
   ]
  },
  {
   "attachments": {},
   "cell_type": "markdown",
   "metadata": {},
   "source": [
    "## Upload Training Data to playlist_tracks Table"
   ]
  },
  {
   "cell_type": "code",
   "execution_count": 5,
   "metadata": {},
   "outputs": [
    {
     "data": {
      "text/plain": [
       "824"
      ]
     },
     "execution_count": 5,
     "metadata": {},
     "output_type": "execute_result"
    }
   ],
   "source": [
    "load_batch.to_sql('playlist_tracks', engine, if_exists='append')"
   ]
  },
  {
   "attachments": {},
   "cell_type": "markdown",
   "metadata": {},
   "source": [
    "## Identify All Artists in Every Song"
   ]
  },
  {
   "cell_type": "code",
   "execution_count": 6,
   "metadata": {},
   "outputs": [
    {
     "name": "stderr",
     "output_type": "stream",
     "text": [
      "  0%|          | 0/9 [00:00<?, ?it/s]"
     ]
    }
   ],
   "source": [
    "df = pd.read_sql('''SELECT DISTINCT track_uri FROM playlist_tracks LIMIT 10''', engine)\n",
    "\n",
    "outer = df.merge(load_batch, how='outer', indicator=True)\n",
    "anti_join = outer[(outer._merge=='left_only')].drop('_merge', axis=1)\n",
    "\n",
    "df = pd.Series(anti_join['track_uri'])\n",
    "base_list = []\n",
    "for track in tqdm(df):\n",
    "    try:\n",
    "        df2 = pd.json_normalize(sp.track(track), record_path=['artists'])\n",
    "        df2['track_uri'] = track\n",
    "        df2 = df2[['name', 'track_uri']]\n",
    "        base_list.append(df2)\n",
    "    except:\n",
    "        pass\n",
    "df2 = pd.concat(base_list)\n",
    "df2"
   ]
  },
  {
   "attachments": {},
   "cell_type": "markdown",
   "metadata": {},
   "source": [
    "## Get Row Numbers for Pivoting"
   ]
  },
  {
   "cell_type": "code",
   "execution_count": null,
   "metadata": {},
   "outputs": [],
   "source": [
    "df2['RN'] = df2.groupby(\"track_uri\")[\"name\"].rank(method=\"first\", ascending=True)\n",
    "df2"
   ]
  },
  {
   "attachments": {},
   "cell_type": "markdown",
   "metadata": {},
   "source": [
    "## Pivot DataFrame to Fit all Artists in DataFrame"
   ]
  },
  {
   "cell_type": "code",
   "execution_count": null,
   "metadata": {},
   "outputs": [],
   "source": [
    "df2 = df2.pivot(index='track_uri', columns=['RN'], values='name').reset_index()\n",
    "df2 = df2.rename(columns={1.0:'artist1', 2.0:'artist2', 3.0:'artist3', 4.0:'artist4', 5.0:'artist5'})\n",
    "df2 = df2[['track_uri', 'artist1', 'artist2', 'artist3', 'artist4', 'artist5']]\n",
    "df2"
   ]
  },
  {
   "attachments": {},
   "cell_type": "markdown",
   "metadata": {},
   "source": [
    "## Upload All Artist Data to Database"
   ]
  },
  {
   "cell_type": "code",
   "execution_count": null,
   "metadata": {},
   "outputs": [],
   "source": [
    "df2.to_sql('artists', con=engine, if_exists='append')"
   ]
  },
  {
   "attachments": {},
   "cell_type": "markdown",
   "metadata": {},
   "source": [
    "## Get All Audio Features"
   ]
  },
  {
   "cell_type": "code",
   "execution_count": null,
   "metadata": {},
   "outputs": [],
   "source": [
    "df = pd.read_sql('''SELECT DISTINCT track_uri FROM playlist_tracks''', engine)\n",
    "outer = df.merge(load_batch, how='outer', indicator=True)\n",
    "anti_join = outer[(outer._merge=='left_only')].drop('_merge', axis=1)\n",
    "df = pd.Series(anti_join['track_uri'])\n",
    "\n",
    "base_list = []\n",
    "for track in tqdm(df):\n",
    "    try:\n",
    "        df3 = pd.json_normalize(sp.audio_features(track))\n",
    "        df3['track_uri'] = track\n",
    "        df3 = df3[['track_uri', 'danceability', 'energy', 'key', 'loudness', 'mode', 'speechiness', 'acousticness', 'instrumentalness', 'liveness', 'valence', 'tempo', 'duration_ms', 'time_signature']]\n",
    "        base_list.append(df3)\n",
    "    except:\n",
    "        pass\n",
    "df3 = pd.concat(base_list)\n",
    "df3"
   ]
  },
  {
   "attachments": {},
   "cell_type": "markdown",
   "metadata": {},
   "source": [
    "## Upload Audio Features to Database"
   ]
  },
  {
   "cell_type": "code",
   "execution_count": null,
   "metadata": {},
   "outputs": [],
   "source": [
    "df3.to_sql('audio_features', con=engine, if_exists='append')"
   ]
  },
  {
   "cell_type": "code",
   "execution_count": null,
   "metadata": {},
   "outputs": [],
   "source": [
    "all_data = pd.read_sql('''SELECT DISTINCT playlist_uri, playlist_name, owner_uri, owner_display_name, collaborative, description, followers_total\n",
    "track_uri, track_name, artist1, artist2, artist3, artist4, artist5, album_uri, album_name, release_date, \n",
    "added_by_uri, added_at, track_album_total_tracks, af.duration_ms, \"isExplicit\", track_popularity, \n",
    "track_preview_url, video_thumbnail_url, danceability, energy, loudness, key, mode, acousticness, speechiness, \n",
    "instrumentalness, liveness, valence, tempo, time_signature\n",
    "FROM playlist_tracks pt\n",
    "JOIN artists a ON pt.track_uri = a.track_uri\n",
    "JOIN audio_features af ON pt.track_uri = af.track_uri;''', engine)\n",
    "f = open(\"s3.csv\", \"w\")\n",
    "f.truncate()\n",
    "f.close()\n",
    "\n",
    "all_data.to_csv('s3.csv', mode=\"w+\")"
   ]
  }
 ],
 "metadata": {
  "kernelspec": {
   "display_name": "base",
   "language": "python",
   "name": "python3"
  },
  "language_info": {
   "codemirror_mode": {
    "name": "ipython",
    "version": 3
   },
   "file_extension": ".py",
   "mimetype": "text/x-python",
   "name": "python",
   "nbconvert_exporter": "python",
   "pygments_lexer": "ipython3",
   "version": "3.9.12"
  },
  "vscode": {
   "interpreter": {
    "hash": "93b5e9cdcd0e28194f38e9cc58755c27f28a497cb713889038a7c6359ab34ab6"
   }
  }
 },
 "nbformat": 4,
 "nbformat_minor": 2
}
