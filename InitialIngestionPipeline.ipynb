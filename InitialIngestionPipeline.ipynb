{
 "cells": [
  {
   "attachments": {},
   "cell_type": "markdown",
   "metadata": {},
   "source": [
    "## Import All Required Libraries"
   ]
  },
  {
   "cell_type": "code",
   "execution_count": 1,
   "metadata": {},
   "outputs": [],
   "source": [
    "# Import all connection libraries\n",
    "\n",
    "from spotipy import SpotifyClientCredentials\n",
    "import spotipy\n",
    "import sqlalchemy as sql\n",
    "import psycopg2\n",
    "import requests\n",
    "\n",
    "# Import all data manipulation libraries\n",
    "\n",
    "import pandas as pd\n",
    "from pandarallel import pandarallel\n",
    "import numpy as np\n",
    "from tqdm import tqdm\n",
    "pandarallel.initialize(verbose=0, nb_workers=8)"
   ]
  },
  {
   "cell_type": "code",
   "execution_count": 2,
   "metadata": {},
   "outputs": [],
   "source": [
    "from functools import lru_cache\n",
    "\n",
    "# Use the lru_cache decorator to cache the result of the function\n",
    "# maxsize=1000 means the cache will store the result of up to 1000 items\n",
    "@lru_cache(maxsize=1000)\n",
    "def get_playlist_tracks(playlist_uri):\n",
    "    \"\"\"\n",
    "    This function uses the Spotify API to get the tracks of a given playlist.\n",
    "    The function is decorated with the lru_cache decorator to cache the result for each unique playlist_uri.\n",
    "    So, if the same playlist_uri is passed to the function again, the cached result will be returned\n",
    "    instead of making a new API call.\n",
    "    :param playlist_uri: The Spotify URI of the playlist\n",
    "    :return: A DataFrame containing the tracks of the playlist\n",
    "    \"\"\"\n",
    "    # Use the Spotify API to get the tracks of the playlist\n",
    "    tracks = pd.json_normalize(sp.playlist_tracks(playlist_uri), record_path=['items'])\n",
    "    return tracks"
   ]
  },
  {
   "attachments": {},
   "cell_type": "markdown",
   "metadata": {},
   "source": [
    "## Establish External Connections"
   ]
  },
  {
   "cell_type": "code",
   "execution_count": 3,
   "metadata": {},
   "outputs": [],
   "source": [
    "# establish connection to Spotify API\n",
    "\n",
    "cid = 'e5448a8a4fdc4b5d98b44e956d50546d'\n",
    "secret = '8924c0394d3f49a4a569fc03e891aa1b'\n",
    "client_credentials = SpotifyClientCredentials(client_id=cid, client_secret=secret)\n",
    "sp = spotipy.Spotify(client_credentials_manager=client_credentials, requests_timeout=15, retries=10)\n",
    "\n",
    "# establish connection to Postgres\n",
    "\n",
    "host_name = 'localhost'\n",
    "database_name = 'Spotify'\n",
    "engine = sql.create_engine('postgresql+psycopg2://postgres:DataNerd2023!!\\\n",
    "@localhost/Spotify')"
   ]
  },
  {
   "attachments": {},
   "cell_type": "markdown",
   "metadata": {},
   "source": [
    "## Load Initial Training Data"
   ]
  },
  {
   "cell_type": "code",
   "execution_count": 4,
   "metadata": {},
   "outputs": [
    {
     "data": {
      "text/html": [
       "<div>\n",
       "<style scoped>\n",
       "    .dataframe tbody tr th:only-of-type {\n",
       "        vertical-align: middle;\n",
       "    }\n",
       "\n",
       "    .dataframe tbody tr th {\n",
       "        vertical-align: top;\n",
       "    }\n",
       "\n",
       "    .dataframe thead th {\n",
       "        text-align: right;\n",
       "    }\n",
       "</style>\n",
       "<table border=\"1\" class=\"dataframe\">\n",
       "  <thead>\n",
       "    <tr style=\"text-align: right;\">\n",
       "      <th></th>\n",
       "      <th>playlist_uri</th>\n",
       "      <th>playlist_name</th>\n",
       "    </tr>\n",
       "  </thead>\n",
       "  <tbody>\n",
       "    <tr>\n",
       "      <th>683</th>\n",
       "      <td>spotify:playlist:0Pq0GkVjNxLtZHskNbi1mu</td>\n",
       "      <td>soft pop/sleep</td>\n",
       "    </tr>\n",
       "    <tr>\n",
       "      <th>782</th>\n",
       "      <td>spotify:playlist:0SCQsbTDt28cQk65wy9GHC</td>\n",
       "      <td>What emotion is this ?</td>\n",
       "    </tr>\n",
       "    <tr>\n",
       "      <th>938</th>\n",
       "      <td>spotify:playlist:0wVgPIh9FKTK713SUiiZVs</td>\n",
       "      <td>Military Country</td>\n",
       "    </tr>\n",
       "    <tr>\n",
       "      <th>1025</th>\n",
       "      <td>spotify:playlist:0ZU4vErVYzUiKpOqy1cSNR</td>\n",
       "      <td>This is xiauling</td>\n",
       "    </tr>\n",
       "    <tr>\n",
       "      <th>1230</th>\n",
       "      <td>spotify:playlist:1caLT90Ed0Hq8XBy5xJ9Ss</td>\n",
       "      <td>festival bangers ~ progressive house ~ bass ho...</td>\n",
       "    </tr>\n",
       "  </tbody>\n",
       "</table>\n",
       "</div>"
      ],
      "text/plain": [
       "                                 playlist_uri  \\\n",
       "683   spotify:playlist:0Pq0GkVjNxLtZHskNbi1mu   \n",
       "782   spotify:playlist:0SCQsbTDt28cQk65wy9GHC   \n",
       "938   spotify:playlist:0wVgPIh9FKTK713SUiiZVs   \n",
       "1025  spotify:playlist:0ZU4vErVYzUiKpOqy1cSNR   \n",
       "1230  spotify:playlist:1caLT90Ed0Hq8XBy5xJ9Ss   \n",
       "\n",
       "                                          playlist_name  \n",
       "683                                      soft pop/sleep  \n",
       "782                              What emotion is this ?  \n",
       "938                                    Military Country  \n",
       "1025                                   This is xiauling  \n",
       "1230  festival bangers ~ progressive house ~ bass ho...  "
      ]
     },
     "execution_count": 4,
     "metadata": {},
     "output_type": "execute_result"
    }
   ],
   "source": [
    "# load training data\n",
    "new_batch = pd.read_csv('distinct_playlists_new.csv')[['playlist_uri', 'playlist_name']]\n",
    "new_batch['playlist_uri'] = new_batch['playlist_uri'].str.strip()\n",
    "\n",
    "db_query = pd.read_sql('SELECT DISTINCT playlist_uri FROM playlist_tracks', engine)\n",
    "\n",
    "outer = new_batch.merge(db_query, how='outer', indicator=True)\n",
    "anti_join = outer[(outer._merge=='left_only')].drop('_merge', axis=1)\n",
    "\n",
    "new_batch = pd.DataFrame(anti_join)\n",
    "new_batch = new_batch[0:40]\n",
    "new_batch.head()"
   ]
  },
  {
   "attachments": {},
   "cell_type": "markdown",
   "metadata": {},
   "source": [
    "## Iterate Through Training Data to Change Grain of Data"
   ]
  },
  {
   "cell_type": "code",
   "execution_count": 5,
   "metadata": {},
   "outputs": [
    {
     "name": "stderr",
     "output_type": "stream",
     "text": [
      "  0%|          | 0/40 [00:00<?, ?it/s]HTTP Error for GET to https://api.spotify.com/v1/playlists/0Pq0GkVjNxLtZHskNbi1mu/tracks with Params: {'limit': 100, 'offset': 0, 'fields': None, 'market': None, 'additional_types': 'track'} returned 404 due to Not found.\n",
      "  2%|▎         | 1/40 [00:00<00:09,  4.11it/s]HTTP Error for GET to https://api.spotify.com/v1/playlists/0SCQsbTDt28cQk65wy9GHC/tracks with Params: {'limit': 100, 'offset': 0, 'fields': None, 'market': None, 'additional_types': 'track'} returned 404 due to Not found.\n",
      "  5%|▌         | 2/40 [00:00<00:06,  5.67it/s]HTTP Error for GET to https://api.spotify.com/v1/playlists/0wVgPIh9FKTK713SUiiZVs/tracks with Params: {'limit': 100, 'offset': 0, 'fields': None, 'market': None, 'additional_types': 'track'} returned 404 due to Not found.\n",
      "HTTP Error for GET to https://api.spotify.com/v1/playlists/0ZU4vErVYzUiKpOqy1cSNR/tracks with Params: {'limit': 100, 'offset': 0, 'fields': None, 'market': None, 'additional_types': 'track'} returned 404 due to Not found.\n",
      " 10%|█         | 4/40 [00:00<00:04,  7.74it/s]HTTP Error for GET to https://api.spotify.com/v1/playlists/1caLT90Ed0Hq8XBy5xJ9Ss/tracks with Params: {'limit': 100, 'offset': 0, 'fields': None, 'market': None, 'additional_types': 'track'} returned 404 due to Not found.\n",
      "HTTP Error for GET to https://api.spotify.com/v1/playlists/1DbdRzLCKql2L91kbWijCn/tracks with Params: {'limit': 100, 'offset': 0, 'fields': None, 'market': None, 'additional_types': 'track'} returned 404 due to Not found.\n",
      " 15%|█▌        | 6/40 [00:00<00:03,  9.12it/s]HTTP Error for GET to https://api.spotify.com/v1/playlists/1dVmYjgeMCT9CVFGNmNT5j/tracks with Params: {'limit': 100, 'offset': 0, 'fields': None, 'market': None, 'additional_types': 'track'} returned 404 due to Not found.\n",
      " 18%|█▊        | 7/40 [00:00<00:03,  9.29it/s]HTTP Error for GET to https://api.spotify.com/v1/playlists/1j0yRynr9glAso7KRFyQUx/tracks with Params: {'limit': 100, 'offset': 0, 'fields': None, 'market': None, 'additional_types': 'track'} returned 404 due to Not found.\n",
      "HTTP Error for GET to https://api.spotify.com/v1/playlists/1L53GRVXQQa9FXwwHTHjrR/tracks with Params: {'limit': 100, 'offset': 0, 'fields': None, 'market': None, 'additional_types': 'track'} returned 404 due to Not found.\n",
      " 90%|█████████ | 36/40 [00:29<00:03,  1.13it/s]HTTP Error for GET to https://api.spotify.com/v1/playlists/1qgKkqTVTqOxKxdguTHOfv/tracks with Params: {'limit': 100, 'offset': 0, 'fields': None, 'market': None, 'additional_types': 'track'} returned 404 due to Not found.\n",
      "100%|██████████| 40/40 [00:33<00:00,  1.19it/s]\n"
     ]
    },
    {
     "data": {
      "text/html": [
       "<div>\n",
       "<style scoped>\n",
       "    .dataframe tbody tr th:only-of-type {\n",
       "        vertical-align: middle;\n",
       "    }\n",
       "\n",
       "    .dataframe tbody tr th {\n",
       "        vertical-align: top;\n",
       "    }\n",
       "\n",
       "    .dataframe thead th {\n",
       "        text-align: right;\n",
       "    }\n",
       "</style>\n",
       "<table border=\"1\" class=\"dataframe\">\n",
       "  <thead>\n",
       "    <tr style=\"text-align: right;\">\n",
       "      <th></th>\n",
       "      <th>added_at</th>\n",
       "      <th>is_local</th>\n",
       "      <th>primary_color_x</th>\n",
       "      <th>added_by_external_urls_spotify</th>\n",
       "      <th>added_by_href</th>\n",
       "      <th>added_by_id</th>\n",
       "      <th>added_by_type</th>\n",
       "      <th>added_by_uri</th>\n",
       "      <th>track_album_album_type</th>\n",
       "      <th>track_album_external_urls_spotify</th>\n",
       "      <th>...</th>\n",
       "      <th>owner_type</th>\n",
       "      <th>owner_uri</th>\n",
       "      <th>tracks_href</th>\n",
       "      <th>tracks_limit</th>\n",
       "      <th>tracks_next</th>\n",
       "      <th>tracks_offset</th>\n",
       "      <th>tracks_previous</th>\n",
       "      <th>tracks_total</th>\n",
       "      <th>track</th>\n",
       "      <th>video_thumbnail</th>\n",
       "    </tr>\n",
       "  </thead>\n",
       "  <tbody>\n",
       "    <tr>\n",
       "      <th>0</th>\n",
       "      <td>2021-09-14T23:33:02Z</td>\n",
       "      <td>False</td>\n",
       "      <td>None</td>\n",
       "      <td>https://open.spotify.com/user/v2y8jn0wbaioki32...</td>\n",
       "      <td>https://api.spotify.com/v1/users/v2y8jn0wbaiok...</td>\n",
       "      <td>v2y8jn0wbaioki329ot48utpb</td>\n",
       "      <td>user</td>\n",
       "      <td>spotify:user:v2y8jn0wbaioki329ot48utpb</td>\n",
       "      <td>album</td>\n",
       "      <td>https://open.spotify.com/album/4VF3eqZPTNHbN7X...</td>\n",
       "      <td>...</td>\n",
       "      <td>user</td>\n",
       "      <td>spotify:user:v2y8jn0wbaioki329ot48utpb</td>\n",
       "      <td>https://api.spotify.com/v1/playlists/1pfEOcSLx...</td>\n",
       "      <td>100</td>\n",
       "      <td>None</td>\n",
       "      <td>0</td>\n",
       "      <td>None</td>\n",
       "      <td>39</td>\n",
       "      <td>NaN</td>\n",
       "      <td>NaN</td>\n",
       "    </tr>\n",
       "    <tr>\n",
       "      <th>1</th>\n",
       "      <td>2021-09-14T23:33:15Z</td>\n",
       "      <td>False</td>\n",
       "      <td>None</td>\n",
       "      <td>https://open.spotify.com/user/v2y8jn0wbaioki32...</td>\n",
       "      <td>https://api.spotify.com/v1/users/v2y8jn0wbaiok...</td>\n",
       "      <td>v2y8jn0wbaioki329ot48utpb</td>\n",
       "      <td>user</td>\n",
       "      <td>spotify:user:v2y8jn0wbaioki329ot48utpb</td>\n",
       "      <td>album</td>\n",
       "      <td>https://open.spotify.com/album/6O83bICax3zruK7...</td>\n",
       "      <td>...</td>\n",
       "      <td>user</td>\n",
       "      <td>spotify:user:v2y8jn0wbaioki329ot48utpb</td>\n",
       "      <td>https://api.spotify.com/v1/playlists/1pfEOcSLx...</td>\n",
       "      <td>100</td>\n",
       "      <td>None</td>\n",
       "      <td>0</td>\n",
       "      <td>None</td>\n",
       "      <td>39</td>\n",
       "      <td>NaN</td>\n",
       "      <td>NaN</td>\n",
       "    </tr>\n",
       "    <tr>\n",
       "      <th>2</th>\n",
       "      <td>2021-09-14T23:33:30Z</td>\n",
       "      <td>False</td>\n",
       "      <td>None</td>\n",
       "      <td>https://open.spotify.com/user/v2y8jn0wbaioki32...</td>\n",
       "      <td>https://api.spotify.com/v1/users/v2y8jn0wbaiok...</td>\n",
       "      <td>v2y8jn0wbaioki329ot48utpb</td>\n",
       "      <td>user</td>\n",
       "      <td>spotify:user:v2y8jn0wbaioki329ot48utpb</td>\n",
       "      <td>album</td>\n",
       "      <td>https://open.spotify.com/album/5iLLVzBNgzEjgvU...</td>\n",
       "      <td>...</td>\n",
       "      <td>user</td>\n",
       "      <td>spotify:user:v2y8jn0wbaioki329ot48utpb</td>\n",
       "      <td>https://api.spotify.com/v1/playlists/1pfEOcSLx...</td>\n",
       "      <td>100</td>\n",
       "      <td>None</td>\n",
       "      <td>0</td>\n",
       "      <td>None</td>\n",
       "      <td>39</td>\n",
       "      <td>NaN</td>\n",
       "      <td>NaN</td>\n",
       "    </tr>\n",
       "    <tr>\n",
       "      <th>3</th>\n",
       "      <td>2021-09-15T22:08:07Z</td>\n",
       "      <td>False</td>\n",
       "      <td>None</td>\n",
       "      <td>https://open.spotify.com/user/v2y8jn0wbaioki32...</td>\n",
       "      <td>https://api.spotify.com/v1/users/v2y8jn0wbaiok...</td>\n",
       "      <td>v2y8jn0wbaioki329ot48utpb</td>\n",
       "      <td>user</td>\n",
       "      <td>spotify:user:v2y8jn0wbaioki329ot48utpb</td>\n",
       "      <td>album</td>\n",
       "      <td>https://open.spotify.com/album/2avOOMItM11fBEA...</td>\n",
       "      <td>...</td>\n",
       "      <td>user</td>\n",
       "      <td>spotify:user:v2y8jn0wbaioki329ot48utpb</td>\n",
       "      <td>https://api.spotify.com/v1/playlists/1pfEOcSLx...</td>\n",
       "      <td>100</td>\n",
       "      <td>None</td>\n",
       "      <td>0</td>\n",
       "      <td>None</td>\n",
       "      <td>39</td>\n",
       "      <td>NaN</td>\n",
       "      <td>NaN</td>\n",
       "    </tr>\n",
       "    <tr>\n",
       "      <th>4</th>\n",
       "      <td>2021-10-28T02:29:19Z</td>\n",
       "      <td>False</td>\n",
       "      <td>None</td>\n",
       "      <td>https://open.spotify.com/user/v2y8jn0wbaioki32...</td>\n",
       "      <td>https://api.spotify.com/v1/users/v2y8jn0wbaiok...</td>\n",
       "      <td>v2y8jn0wbaioki329ot48utpb</td>\n",
       "      <td>user</td>\n",
       "      <td>spotify:user:v2y8jn0wbaioki329ot48utpb</td>\n",
       "      <td>album</td>\n",
       "      <td>https://open.spotify.com/album/09HBh8LHnAjxwMP...</td>\n",
       "      <td>...</td>\n",
       "      <td>user</td>\n",
       "      <td>spotify:user:v2y8jn0wbaioki329ot48utpb</td>\n",
       "      <td>https://api.spotify.com/v1/playlists/1pfEOcSLx...</td>\n",
       "      <td>100</td>\n",
       "      <td>None</td>\n",
       "      <td>0</td>\n",
       "      <td>None</td>\n",
       "      <td>39</td>\n",
       "      <td>NaN</td>\n",
       "      <td>NaN</td>\n",
       "    </tr>\n",
       "  </tbody>\n",
       "</table>\n",
       "<p>5 rows × 63 columns</p>\n",
       "</div>"
      ],
      "text/plain": [
       "               added_at  is_local primary_color_x  \\\n",
       "0  2021-09-14T23:33:02Z     False            None   \n",
       "1  2021-09-14T23:33:15Z     False            None   \n",
       "2  2021-09-14T23:33:30Z     False            None   \n",
       "3  2021-09-15T22:08:07Z     False            None   \n",
       "4  2021-10-28T02:29:19Z     False            None   \n",
       "\n",
       "                      added_by_external_urls_spotify  \\\n",
       "0  https://open.spotify.com/user/v2y8jn0wbaioki32...   \n",
       "1  https://open.spotify.com/user/v2y8jn0wbaioki32...   \n",
       "2  https://open.spotify.com/user/v2y8jn0wbaioki32...   \n",
       "3  https://open.spotify.com/user/v2y8jn0wbaioki32...   \n",
       "4  https://open.spotify.com/user/v2y8jn0wbaioki32...   \n",
       "\n",
       "                                       added_by_href  \\\n",
       "0  https://api.spotify.com/v1/users/v2y8jn0wbaiok...   \n",
       "1  https://api.spotify.com/v1/users/v2y8jn0wbaiok...   \n",
       "2  https://api.spotify.com/v1/users/v2y8jn0wbaiok...   \n",
       "3  https://api.spotify.com/v1/users/v2y8jn0wbaiok...   \n",
       "4  https://api.spotify.com/v1/users/v2y8jn0wbaiok...   \n",
       "\n",
       "                 added_by_id added_by_type  \\\n",
       "0  v2y8jn0wbaioki329ot48utpb          user   \n",
       "1  v2y8jn0wbaioki329ot48utpb          user   \n",
       "2  v2y8jn0wbaioki329ot48utpb          user   \n",
       "3  v2y8jn0wbaioki329ot48utpb          user   \n",
       "4  v2y8jn0wbaioki329ot48utpb          user   \n",
       "\n",
       "                             added_by_uri track_album_album_type  \\\n",
       "0  spotify:user:v2y8jn0wbaioki329ot48utpb                  album   \n",
       "1  spotify:user:v2y8jn0wbaioki329ot48utpb                  album   \n",
       "2  spotify:user:v2y8jn0wbaioki329ot48utpb                  album   \n",
       "3  spotify:user:v2y8jn0wbaioki329ot48utpb                  album   \n",
       "4  spotify:user:v2y8jn0wbaioki329ot48utpb                  album   \n",
       "\n",
       "                   track_album_external_urls_spotify  ... owner_type  \\\n",
       "0  https://open.spotify.com/album/4VF3eqZPTNHbN7X...  ...       user   \n",
       "1  https://open.spotify.com/album/6O83bICax3zruK7...  ...       user   \n",
       "2  https://open.spotify.com/album/5iLLVzBNgzEjgvU...  ...       user   \n",
       "3  https://open.spotify.com/album/2avOOMItM11fBEA...  ...       user   \n",
       "4  https://open.spotify.com/album/09HBh8LHnAjxwMP...  ...       user   \n",
       "\n",
       "                                owner_uri  \\\n",
       "0  spotify:user:v2y8jn0wbaioki329ot48utpb   \n",
       "1  spotify:user:v2y8jn0wbaioki329ot48utpb   \n",
       "2  spotify:user:v2y8jn0wbaioki329ot48utpb   \n",
       "3  spotify:user:v2y8jn0wbaioki329ot48utpb   \n",
       "4  spotify:user:v2y8jn0wbaioki329ot48utpb   \n",
       "\n",
       "                                         tracks_href tracks_limit tracks_next  \\\n",
       "0  https://api.spotify.com/v1/playlists/1pfEOcSLx...          100        None   \n",
       "1  https://api.spotify.com/v1/playlists/1pfEOcSLx...          100        None   \n",
       "2  https://api.spotify.com/v1/playlists/1pfEOcSLx...          100        None   \n",
       "3  https://api.spotify.com/v1/playlists/1pfEOcSLx...          100        None   \n",
       "4  https://api.spotify.com/v1/playlists/1pfEOcSLx...          100        None   \n",
       "\n",
       "   tracks_offset tracks_previous tracks_total  track  video_thumbnail  \n",
       "0              0            None           39    NaN              NaN  \n",
       "1              0            None           39    NaN              NaN  \n",
       "2              0            None           39    NaN              NaN  \n",
       "3              0            None           39    NaN              NaN  \n",
       "4              0            None           39    NaN              NaN  \n",
       "\n",
       "[5 rows x 63 columns]"
      ]
     },
     "execution_count": 5,
     "metadata": {},
     "output_type": "execute_result"
    }
   ],
   "source": [
    "load_batch = []\n",
    "series = new_batch['playlist_uri'].to_dict()\n",
    "for playlist in tqdm(series.values()):\n",
    "    try:\n",
    "        tracks = get_playlist_tracks(playlist)\n",
    "        if len(tracks) >= 100:\n",
    "                tracks2 = pd.json_normalize(sp.playlist_tracks(playlist, offset=100), record_path=['items'])\n",
    "                tracks3 = pd.json_normalize(sp.playlist_tracks(playlist, offset=200), record_path=['items'])\n",
    "                tracks = pd.concat([tracks, tracks2, tracks3])\n",
    "                secondary_data = pd.json_normalize(sp.playlist(playlist))\n",
    "                tracks['playlist_uri'] = playlist\n",
    "                tracks = tracks.merge(secondary_data, left_on='playlist_uri', right_on='uri')\n",
    "                tracks = tracks.rename(columns={\"name\":\"playlist_name\", \"track.name\":\"track_name\", \"track.uri\":\"track_uri\", \"track.album.name\":\"album_name\", \"track.explicit\":\"isExplicit\", \"track.album.release_date\":\"release_date\", \"track.duration_ms\":\"duration_ms\", \"track.album.uri\":\"album_uri\", \"added_by.external_urls.spotify\": \"added_by_external_urls_spotify\", 'added_by.href':\"added_by_href\", \"added_by.id\":\"added_by_id\", \"added_by.type\":\"added_by_type\", \"added_by.uri\":\"added_by_uri\", \"track.album.album_type\":\"track_album_album_type\", \"track.album.external_urls.spotify\":\"track_album_external_urls_spotify\", \"track.album.href\":\"track_album_href\", \"track.album.id\":\"track_album_id\", \"track.album.release_date_precision\":\"track_album_release_date_precision\", \"track.album.total_tracks\":\"track_album_total_tracks\",\"track.album.type\":\"track_album_type\", \"track.disc_number\":\"track_disc_number\", \"track.episode\":\"track_episode\", \"track.external_ids.isrc\":\"track_external_ids_isrc\", \"track.external_urls.spotify\":\"track_external_ids_spotify\", \"track.href\":\"track_href\", \"track.id\":\"track_id\", \"track.is_local\":\"track_is_local\", \"track.popularity\":\"track_popularity\", \"track.preview_url\":\"track_preview_url\", \"track.track\":\"track_track\", \"track.track_number\":\"track_track_number\", \"track.type\":\"track_type\", \"video_thumbnail.url\":\"video_thumbnail_url\", \"external_urls.spotify\":\"external_urls_spotify\", \"followers.href\":\"followers_href\", \"followers.total\":\"followers_total\", \"owner.display_name\":\"owner_display_name\", \"owner.external_urls.spotify\":\"owner_external_urls_spotify\", \"owner.href\":\"owner_href\", \"owner.id\":\"owner_id\", \"owner.type\":\"owner_type\", \"owner.uri\":\"owner_uri\", \"tracks.href\":\"tracks_href\", \"tracks.limit\":\"tracks_limit\", \"tracks.next\":\"tracks_next\", \"tracks.offset\":\"tracks_offset\", \"tracks.previous\":\"tracks_previous\", \"tracks.total\":\"tracks_total\"})\n",
    "                tracks = tracks.drop(columns=['track.album.artists', 'track.album.available_markets', 'track.album.images', 'track.artists', 'track.available_markets', 'images', 'tracks.items'])\n",
    "\n",
    "                load_batch.append(tracks)\n",
    "        else:\n",
    "                secondary_data = pd.json_normalize(sp.playlist(playlist))\n",
    "                tracks['playlist_uri'] = playlist\n",
    "                tracks = tracks.merge(secondary_data, left_on='playlist_uri', right_on='uri')\n",
    "                tracks = tracks.rename(columns={\"name\":\"playlist_name\", \"track.name\":\"track_name\", \"track.uri\":\"track_uri\", \"track.album.name\":\"album_name\", \"track.explicit\":\"isExplicit\", \"track.album.release_date\":\"release_date\", \"track.duration_ms\":\"duration_ms\", \"track.album.uri\":\"album_uri\", \"added_by.external_urls.spotify\": \"added_by_external_urls_spotify\", 'added_by.href':\"added_by_href\", \"added_by.id\":\"added_by_id\", \"added_by.type\":\"added_by_type\", \"added_by.uri\":\"added_by_uri\", \"track.album.album_type\":\"track_album_album_type\", \"track.album.external_urls.spotify\":\"track_album_external_urls_spotify\", \"track.album.href\":\"track_album_href\", \"track.album.id\":\"track_album_id\", \"track.album.release_date_precision\":\"track_album_release_date_precision\", \"track.album.total_tracks\":\"track_album_total_tracks\",\"track.album.type\":\"track_album_type\", \"track.disc_number\":\"track_disc_number\", \"track.episode\":\"track_episode\", \"track.external_ids.isrc\":\"track_external_ids_isrc\", \"track.external_urls.spotify\":\"track_external_ids_spotify\", \"track.href\":\"track_href\", \"track.id\":\"track_id\", \"track.is_local\":\"track_is_local\", \"track.popularity\":\"track_popularity\", \"track.preview_url\":\"track_preview_url\", \"track.track\":\"track_track\", \"track.track_number\":\"track_track_number\", \"track.type\":\"track_type\", \"video_thumbnail.url\":\"video_thumbnail_url\", \"external_urls.spotify\":\"external_urls_spotify\", \"followers.href\":\"followers_href\", \"followers.total\":\"followers_total\", \"owner.display_name\":\"owner_display_name\", \"owner.external_urls.spotify\":\"owner_external_urls_spotify\", \"owner.href\":\"owner_href\", \"owner.id\":\"owner_id\", \"owner.type\":\"owner_type\", \"owner.uri\":\"owner_uri\", \"tracks.href\":\"tracks_href\", \"tracks.limit\":\"tracks_limit\", \"tracks.next\":\"tracks_next\", \"tracks.offset\":\"tracks_offset\", \"tracks.previous\":\"tracks_previous\", \"tracks.total\":\"tracks_total\"})\n",
    "                tracks = tracks.drop(columns=['track.album.artists', 'track.album.available_markets', 'track.album.images', 'track.artists', 'track.available_markets', 'images', 'tracks.items'])\n",
    "                load_batch.append(tracks)\n",
    "    except:\n",
    "            pass\n",
    "load_batch = pd.concat(load_batch)\n",
    "if set(['track.album.is_playable','track.album.restrictions.reason', 'track.external_ids.spotify']).issubset(load_batch.columns):\n",
    "        load_batch = load_batch.drop(columns=['track.album.is_playable', 'track.album.restrictions.reason', 'track.external_ids.spotify', 'track.is_playable'])\n",
    "else:\n",
    "        load_batch\n",
    "load_batch.head()"
   ]
  },
  {
   "attachments": {},
   "cell_type": "markdown",
   "metadata": {},
   "source": [
    "## Upload Training Data to playlist_tracks Table"
   ]
  },
  {
   "cell_type": "code",
   "execution_count": 6,
   "metadata": {},
   "outputs": [
    {
     "data": {
      "text/plain": [
       "546"
      ]
     },
     "execution_count": 6,
     "metadata": {},
     "output_type": "execute_result"
    }
   ],
   "source": [
    "load_batch.to_sql('playlist_tracks', engine, if_exists='append')"
   ]
  },
  {
   "attachments": {},
   "cell_type": "markdown",
   "metadata": {},
   "source": [
    "## Identify All Artists in Every Song"
   ]
  },
  {
   "cell_type": "code",
   "execution_count": 7,
   "metadata": {},
   "outputs": [
    {
     "name": "stderr",
     "output_type": "stream",
     "text": [
      "100%|██████████| 2565/2565 [05:20<00:00,  8.01it/s]\n"
     ]
    },
    {
     "data": {
      "text/html": [
       "<div>\n",
       "<style scoped>\n",
       "    .dataframe tbody tr th:only-of-type {\n",
       "        vertical-align: middle;\n",
       "    }\n",
       "\n",
       "    .dataframe tbody tr th {\n",
       "        vertical-align: top;\n",
       "    }\n",
       "\n",
       "    .dataframe thead th {\n",
       "        text-align: right;\n",
       "    }\n",
       "</style>\n",
       "<table border=\"1\" class=\"dataframe\">\n",
       "  <thead>\n",
       "    <tr style=\"text-align: right;\">\n",
       "      <th></th>\n",
       "      <th>name</th>\n",
       "      <th>track_uri</th>\n",
       "    </tr>\n",
       "  </thead>\n",
       "  <tbody>\n",
       "    <tr>\n",
       "      <th>0</th>\n",
       "      <td>La Contra</td>\n",
       "      <td>spotify:track:4yldjb1SmwLONGJqBk5rJW</td>\n",
       "    </tr>\n",
       "    <tr>\n",
       "      <th>0</th>\n",
       "      <td>Grupo Alegria de Santa Fe</td>\n",
       "      <td>spotify:track:6Vbc8vQ0W5nQvwIZEnUhrp</td>\n",
       "    </tr>\n",
       "    <tr>\n",
       "      <th>0</th>\n",
       "      <td>La K'onga</td>\n",
       "      <td>spotify:track:79pz16ngfYU2iZV0dvj3QU</td>\n",
       "    </tr>\n",
       "    <tr>\n",
       "      <th>0</th>\n",
       "      <td>Los Palmeras</td>\n",
       "      <td>spotify:track:5N3sD3fQVuUpeC5XENUXEx</td>\n",
       "    </tr>\n",
       "    <tr>\n",
       "      <th>0</th>\n",
       "      <td>Sérgio Mendes</td>\n",
       "      <td>spotify:track:36SJ7ZFx8J1f1RsewmUwMX</td>\n",
       "    </tr>\n",
       "    <tr>\n",
       "      <th>...</th>\n",
       "      <td>...</td>\n",
       "      <td>...</td>\n",
       "    </tr>\n",
       "    <tr>\n",
       "      <th>0</th>\n",
       "      <td>Paul Simpson</td>\n",
       "      <td>spotify:track:03mdrujTxB56CXdm3ApamU</td>\n",
       "    </tr>\n",
       "    <tr>\n",
       "      <th>0</th>\n",
       "      <td>Oasis</td>\n",
       "      <td>spotify:track:12dU3vAh6AFoJkisorfoUl</td>\n",
       "    </tr>\n",
       "    <tr>\n",
       "      <th>0</th>\n",
       "      <td>Tomas Bellwais</td>\n",
       "      <td>spotify:track:63iuseNM9M4zQ1KBRe7omL</td>\n",
       "    </tr>\n",
       "    <tr>\n",
       "      <th>0</th>\n",
       "      <td>Backstreet Boys</td>\n",
       "      <td>spotify:track:1btqbebzIS2IK0QkRUpShJ</td>\n",
       "    </tr>\n",
       "    <tr>\n",
       "      <th>0</th>\n",
       "      <td>Danny Elfman</td>\n",
       "      <td>spotify:track:1lJOpbGH9gjjgcIumHIBrT</td>\n",
       "    </tr>\n",
       "  </tbody>\n",
       "</table>\n",
       "<p>3791 rows × 2 columns</p>\n",
       "</div>"
      ],
      "text/plain": [
       "                         name                             track_uri\n",
       "0                   La Contra  spotify:track:4yldjb1SmwLONGJqBk5rJW\n",
       "0   Grupo Alegria de Santa Fe  spotify:track:6Vbc8vQ0W5nQvwIZEnUhrp\n",
       "0                   La K'onga  spotify:track:79pz16ngfYU2iZV0dvj3QU\n",
       "0                Los Palmeras  spotify:track:5N3sD3fQVuUpeC5XENUXEx\n",
       "0               Sérgio Mendes  spotify:track:36SJ7ZFx8J1f1RsewmUwMX\n",
       "..                        ...                                   ...\n",
       "0                Paul Simpson  spotify:track:03mdrujTxB56CXdm3ApamU\n",
       "0                       Oasis  spotify:track:12dU3vAh6AFoJkisorfoUl\n",
       "0              Tomas Bellwais  spotify:track:63iuseNM9M4zQ1KBRe7omL\n",
       "0             Backstreet Boys  spotify:track:1btqbebzIS2IK0QkRUpShJ\n",
       "0                Danny Elfman  spotify:track:1lJOpbGH9gjjgcIumHIBrT\n",
       "\n",
       "[3791 rows x 2 columns]"
      ]
     },
     "execution_count": 7,
     "metadata": {},
     "output_type": "execute_result"
    }
   ],
   "source": [
    "df = pd.read_sql('''SELECT DISTINCT track_uri FROM artists''', engine)\n",
    "outer = load_batch.merge(df, how='outer', indicator=True)\n",
    "anti_join = outer[(outer._merge=='left_only')].drop('_merge', axis=1)\n",
    "\n",
    "df = pd.Series(anti_join['track_uri'])\n",
    "base_list = []\n",
    "for track in tqdm(df):\n",
    "    try:\n",
    "        df2 = pd.json_normalize(sp.track(track), record_path=['artists'])\n",
    "        df2['track_uri'] = track\n",
    "        df2 = df2[['name', 'track_uri']]\n",
    "        base_list.append(df2)\n",
    "    except:\n",
    "        pass\n",
    "df2 = pd.concat(base_list)\n",
    "df2"
   ]
  },
  {
   "attachments": {},
   "cell_type": "markdown",
   "metadata": {},
   "source": [
    "## Get Row Numbers for Pivoting"
   ]
  },
  {
   "cell_type": "code",
   "execution_count": 8,
   "metadata": {},
   "outputs": [],
   "source": [
    "df2['RN'] = df2.groupby(\"track_uri\")[\"name\"].rank(method=\"first\", ascending=True)"
   ]
  },
  {
   "attachments": {},
   "cell_type": "markdown",
   "metadata": {},
   "source": [
    "## Pivot DataFrame to Fit all Artists in DataFrame"
   ]
  },
  {
   "cell_type": "code",
   "execution_count": 9,
   "metadata": {},
   "outputs": [],
   "source": [
    "df2 = df2.pivot(index='track_uri', columns=['RN'], values='name').reset_index()\n",
    "df2 = df2.rename(columns={1.0:'artist1', 2.0:'artist2', 3.0:'artist3', 4.0:'artist4', 5.0:'artist5'})\n",
    "df2 = df2[['track_uri', 'artist1', 'artist2', 'artist3', 'artist4', 'artist5']]"
   ]
  },
  {
   "attachments": {},
   "cell_type": "markdown",
   "metadata": {},
   "source": [
    "## Upload All Artist Data to Database"
   ]
  },
  {
   "cell_type": "code",
   "execution_count": 10,
   "metadata": {},
   "outputs": [
    {
     "data": {
      "text/plain": [
       "552"
      ]
     },
     "execution_count": 10,
     "metadata": {},
     "output_type": "execute_result"
    }
   ],
   "source": [
    "df2.to_sql('artists', con=engine, if_exists='append')"
   ]
  },
  {
   "attachments": {},
   "cell_type": "markdown",
   "metadata": {},
   "source": [
    "## Get All Audio Features"
   ]
  },
  {
   "cell_type": "code",
   "execution_count": 11,
   "metadata": {},
   "outputs": [
    {
     "name": "stderr",
     "output_type": "stream",
     "text": [
      "100%|██████████| 2566/2566 [04:07<00:00, 10.37it/s]\n"
     ]
    }
   ],
   "source": [
    "df = pd.read_sql('''SELECT DISTINCT track_uri FROM audio_features''', engine)\n",
    "outer = load_batch.merge(df, how='outer', indicator=True)\n",
    "anti_join = outer[(outer._merge=='left_only')].drop('_merge', axis=1)\n",
    "\n",
    "df = pd.Series(anti_join['track_uri'])\n",
    "\n",
    "base_list = []\n",
    "for track in tqdm(df):\n",
    "    try:\n",
    "        df3 = pd.json_normalize(sp.audio_features(track))\n",
    "        df3['track_uri'] = track\n",
    "        df3 = df3[['track_uri', 'danceability', 'energy', 'key', 'loudness', 'mode', 'speechiness', 'acousticness', 'instrumentalness', 'liveness', 'valence', 'tempo', 'duration_ms', 'time_signature']]\n",
    "        base_list.append(df3)\n",
    "    except:\n",
    "        pass\n",
    "df3 = pd.concat(base_list)"
   ]
  },
  {
   "attachments": {},
   "cell_type": "markdown",
   "metadata": {},
   "source": [
    "## Upload Audio Features to Database"
   ]
  },
  {
   "cell_type": "code",
   "execution_count": 12,
   "metadata": {},
   "outputs": [
    {
     "data": {
      "text/plain": [
       "564"
      ]
     },
     "execution_count": 12,
     "metadata": {},
     "output_type": "execute_result"
    }
   ],
   "source": [
    "df3.to_sql('audio_features', con=engine, if_exists='append')"
   ]
  },
  {
   "cell_type": "code",
   "execution_count": 13,
   "metadata": {},
   "outputs": [],
   "source": [
    "all_data = pd.read_sql('''SELECT DISTINCT playlist_uri, playlist_name, owner_uri, owner_display_name, collaborative, description, followers_total,\n",
    "af.track_uri, track_name, artist1, artist2, artist3, artist4, artist5, album_uri, album_name, release_date, \n",
    "added_by_uri, added_at, track_album_total_tracks, af.duration_ms, \"isExplicit\", track_popularity, \n",
    "track_preview_url, video_thumbnail_url, danceability, energy, loudness, key, mode, acousticness, speechiness, \n",
    "instrumentalness, liveness, valence, tempo, time_signature\n",
    "FROM playlist_tracks pt\n",
    "JOIN artists a ON pt.track_uri = a.track_uri\n",
    "JOIN audio_features af ON pt.track_uri = af.track_uri;''', engine)\n",
    "f = open(\"s3.csv\", \"w\")\n",
    "f.truncate()\n",
    "f.close()\n",
    "\n",
    "all_data.to_csv('s3.csv', mode=\"w+\", index=False)"
   ]
  }
 ],
 "metadata": {
  "kernelspec": {
   "display_name": "Python 3",
   "language": "python",
   "name": "python3"
  },
  "language_info": {
   "codemirror_mode": {
    "name": "ipython",
    "version": 3
   },
   "file_extension": ".py",
   "mimetype": "text/x-python",
   "name": "python",
   "nbconvert_exporter": "python",
   "pygments_lexer": "ipython3",
   "version": "3.9.12"
  },
  "vscode": {
   "interpreter": {
    "hash": "e509a2683bb710c9bd3cef57d5381e640e8483d6e683f75b983dd6327c90c1d7"
   }
  }
 },
 "nbformat": 4,
 "nbformat_minor": 2
}
