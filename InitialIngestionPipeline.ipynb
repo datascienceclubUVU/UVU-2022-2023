{
 "cells": [
  {
   "attachments": {},
   "cell_type": "markdown",
   "metadata": {},
   "source": [
    "## Import All Required Libraries"
   ]
  },
  {
   "cell_type": "code",
   "execution_count": 11,
   "metadata": {},
   "outputs": [],
   "source": [
    "# Import all connection libraries\n",
    "\n",
    "from spotipy import SpotifyClientCredentials\n",
    "import spotipy\n",
    "import sqlalchemy as sql\n",
    "import psycopg2\n",
    "\n",
    "# Import all data manipulation libraries\n",
    "\n",
    "import pandas as pd\n",
    "from pandarallel import pandarallel\n",
    "import numpy as np\n",
    "from tqdm import tqdm\n",
    "pandarallel.initialize(verbose=0, nb_workers=8)"
   ]
  },
  {
   "cell_type": "code",
   "execution_count": 12,
   "metadata": {},
   "outputs": [],
   "source": [
    "from functools import lru_cache\n",
    "\n",
    "# Use the lru_cache decorator to cache the result of the function\n",
    "# maxsize=1000 means the cache will store the result of up to 1000 items\n",
    "@lru_cache(maxsize=1000)\n",
    "def get_playlist_tracks(playlist_uri):\n",
    "    \"\"\"\n",
    "    This function uses the Spotify API to get the tracks of a given playlist.\n",
    "    The function is decorated with the lru_cache decorator to cache the result for each unique playlist_uri.\n",
    "    So, if the same playlist_uri is passed to the function again, the cached result will be returned\n",
    "    instead of making a new API call.\n",
    "    :param playlist_uri: The Spotify URI of the playlist\n",
    "    :return: A DataFrame containing the tracks of the playlist\n",
    "    \"\"\"\n",
    "    # Use the Spotify API to get the tracks of the playlist\n",
    "    tracks = pd.json_normalize(sp.playlist_tracks(playlist_uri), record_path=['items'])\n",
    "    return tracks"
   ]
  },
  {
   "attachments": {},
   "cell_type": "markdown",
   "metadata": {},
   "source": [
    "## Load Initial Training Data"
   ]
  },
  {
   "cell_type": "code",
   "execution_count": 13,
   "metadata": {},
   "outputs": [
    {
     "data": {
      "text/html": [
       "<div>\n",
       "<style scoped>\n",
       "    .dataframe tbody tr th:only-of-type {\n",
       "        vertical-align: middle;\n",
       "    }\n",
       "\n",
       "    .dataframe tbody tr th {\n",
       "        vertical-align: top;\n",
       "    }\n",
       "\n",
       "    .dataframe thead th {\n",
       "        text-align: right;\n",
       "    }\n",
       "</style>\n",
       "<table border=\"1\" class=\"dataframe\">\n",
       "  <thead>\n",
       "    <tr style=\"text-align: right;\">\n",
       "      <th></th>\n",
       "      <th>playlist_uri</th>\n",
       "      <th>playlist_name</th>\n",
       "    </tr>\n",
       "  </thead>\n",
       "  <tbody>\n",
       "    <tr>\n",
       "      <th>0</th>\n",
       "      <td>spotify:playlist:000J1zgXTT67NmjEPF4oFa</td>\n",
       "      <td>cleaning my room and getting distracted by old...</td>\n",
       "    </tr>\n",
       "    <tr>\n",
       "      <th>1</th>\n",
       "      <td>spotify:playlist:003nEQSeKn7WjQvTJL82Rd</td>\n",
       "      <td>Most Popular Rap Ever</td>\n",
       "    </tr>\n",
       "    <tr>\n",
       "      <th>2</th>\n",
       "      <td>spotify:playlist:004J3j7FrqRytkgHYeXo7E</td>\n",
       "      <td>angry edm vibes</td>\n",
       "    </tr>\n",
       "    <tr>\n",
       "      <th>3</th>\n",
       "      <td>spotify:playlist:0060A8jknJTfjlm4j57ifZ</td>\n",
       "      <td>Clean Hip-Hop Mix - 2015-17</td>\n",
       "    </tr>\n",
       "    <tr>\n",
       "      <th>4</th>\n",
       "      <td>spotify:playlist:008G1BbvK1NQvbAV8MHvDz</td>\n",
       "      <td>Pop Hits 2000's - Throwback Vibes</td>\n",
       "    </tr>\n",
       "  </tbody>\n",
       "</table>\n",
       "</div>"
      ],
      "text/plain": [
       "                              playlist_uri  \\\n",
       "0  spotify:playlist:000J1zgXTT67NmjEPF4oFa   \n",
       "1  spotify:playlist:003nEQSeKn7WjQvTJL82Rd   \n",
       "2  spotify:playlist:004J3j7FrqRytkgHYeXo7E   \n",
       "3  spotify:playlist:0060A8jknJTfjlm4j57ifZ   \n",
       "4  spotify:playlist:008G1BbvK1NQvbAV8MHvDz   \n",
       "\n",
       "                                       playlist_name  \n",
       "0  cleaning my room and getting distracted by old...  \n",
       "1                              Most Popular Rap Ever  \n",
       "2                                    angry edm vibes  \n",
       "3                        Clean Hip-Hop Mix - 2015-17  \n",
       "4                  Pop Hits 2000's - Throwback Vibes  "
      ]
     },
     "execution_count": 13,
     "metadata": {},
     "output_type": "execute_result"
    }
   ],
   "source": [
    "# establish connection to Spotify API\n",
    "\n",
    "cid = 'e5448a8a4fdc4b5d98b44e956d50546d'\n",
    "secret = '8924c0394d3f49a4a569fc03e891aa1b'\n",
    "client_credentials = SpotifyClientCredentials(client_id=cid, client_secret=secret)\n",
    "sp = spotipy.Spotify(client_credentials_manager=client_credentials, requests_timeout=15, retries=10)\n",
    "\n",
    "# establish connection to Postgres\n",
    "\n",
    "host_name = 'localhost'\n",
    "database_name = 'Spotify'\n",
    "engine = sql.create_engine('postgresql+psycopg2://postgres:DataNerd2023!!\\\n",
    "@localhost/Spotify')\n",
    "\n",
    "# load training data\n",
    "data = pd.read_csv('distinct_playlists.csv')[['playlist_uri', 'playlist_name']]\n",
    "data['playlist_uri'] = data['playlist_uri'].str.strip()\n",
    "\n",
    "data2 = pd.read_sql('SELECT DISTINCT playlist_uri FROM playlist_tracks', engine)\n",
    "\n",
    "outer = data.merge(data2, how='outer', indicator=True)\n",
    "anti_join = outer[(outer._merge=='left_only')].drop('_merge', axis=1)\n",
    "\n",
    "data = pd.DataFrame(anti_join)\n",
    "data = data[0:50]\n",
    "data.head()"
   ]
  },
  {
   "attachments": {},
   "cell_type": "markdown",
   "metadata": {},
   "source": [
    "## Iterate Through Training Data to Change Grain of Data"
   ]
  },
  {
   "cell_type": "code",
   "execution_count": 14,
   "metadata": {},
   "outputs": [
    {
     "name": "stderr",
     "output_type": "stream",
     "text": [
      " 42%|████▏     | 21/50 [00:25<00:28,  1.01it/s]HTTP Error for GET to https://api.spotify.com/v1/playlists/01clVI1RPrF8zHMxrqVIs0/tracks with Params: {'limit': 100, 'offset': 0, 'fields': None, 'market': None, 'additional_types': 'track'} returned 404 due to Not found.\n",
      " 68%|██████▊   | 34/50 [00:36<00:13,  1.18it/s]HTTP Error for GET to https://api.spotify.com/v1/playlists/02eILNCPJV0hoYxMUreT0L/tracks with Params: {'limit': 100, 'offset': 0, 'fields': None, 'market': None, 'additional_types': 'track'} returned 404 due to Not found.\n",
      "100%|██████████| 50/50 [00:52<00:00,  1.04s/it]\n"
     ]
    },
    {
     "data": {
      "text/plain": [
       "(5682, 63)"
      ]
     },
     "execution_count": 14,
     "metadata": {},
     "output_type": "execute_result"
    }
   ],
   "source": [
    "test_list = []\n",
    "series = data['playlist_uri'].to_dict()\n",
    "for playlist in tqdm(series.values()):\n",
    "    try:\n",
    "        tracks = get_playlist_tracks(playlist)\n",
    "        if len(tracks) >= 100:\n",
    "                tracks2 = pd.json_normalize(sp.playlist_tracks(playlist, offset=100), record_path=['items'])\n",
    "                tracks3 = pd.json_normalize(sp.playlist_tracks(playlist, offset=200), record_path=['items'])\n",
    "                tracks = pd.concat([tracks, tracks2, tracks3])\n",
    "                secondary_data = pd.json_normalize(sp.playlist(playlist))\n",
    "                tracks['playlist_uri'] = playlist\n",
    "                tracks = tracks.merge(secondary_data, left_on='playlist_uri', right_on='uri')\n",
    "                tracks = tracks.rename(columns={\"name\":\"playlist_name\", \"track.name\":\"track_name\", \"track.uri\":\"track_uri\", \"track.album.name\":\"album_name\", \"track.explicit\":\"isExplicit\", \"track.album.release_date\":\"release_date\", \"track.duration_ms\":\"duration_ms\", \"track.album.uri\":\"album_uri\"})\n",
    "                tracks = tracks.drop(columns=['track.album.artists', 'track.album.available_markets', 'track.album.images', 'track.artists', 'track.available_markets', 'images', 'tracks.items'])\n",
    "\n",
    "                test_list.append(tracks)\n",
    "        else:\n",
    "                secondary_data = pd.json_normalize(sp.playlist(playlist))\n",
    "                tracks['playlist_uri'] = playlist\n",
    "                tracks = tracks.merge(secondary_data, left_on='playlist_uri', right_on='uri')\n",
    "                tracks = tracks.rename(columns={\"name\":\"playlist_name\", \"track.name\":\"track_name\", \"track.uri\":\"track_uri\", \"track.album.name\":\"album_name\", \"track.explicit\":\"isExplicit\", \"track.album.release_date\":\"release_date\", \"track.duration_ms\":\"duration_ms\", \"track.album.uri\":\"album_uri\"})\n",
    "                tracks = tracks.drop(columns=['track.album.artists', 'track.album.available_markets', 'track.album.images', 'track.artists', 'track.available_markets', 'images', 'tracks.items'])\n",
    "                test_list.append(tracks)\n",
    "    except:\n",
    "            pass\n",
    "test_list = pd.concat(test_list)\n",
    "test_list.shape"
   ]
  },
  {
   "attachments": {},
   "cell_type": "markdown",
   "metadata": {},
   "source": [
    "## Upload Training Data to playlist_tracks Table"
   ]
  },
  {
   "cell_type": "code",
   "execution_count": 15,
   "metadata": {},
   "outputs": [
    {
     "data": {
      "text/plain": [
       "682"
      ]
     },
     "execution_count": 15,
     "metadata": {},
     "output_type": "execute_result"
    }
   ],
   "source": [
    "test_list.to_sql('playlist_tracks', engine, if_exists='append')"
   ]
  },
  {
   "attachments": {},
   "cell_type": "markdown",
   "metadata": {},
   "source": [
    "## Identify All Artists in Every Song"
   ]
  },
  {
   "cell_type": "code",
   "execution_count": 16,
   "metadata": {},
   "outputs": [
    {
     "name": "stderr",
     "output_type": "stream",
     "text": [
      "100%|██████████| 5181/5181 [10:28<00:00,  8.25it/s]\n"
     ]
    },
    {
     "data": {
      "text/html": [
       "<div>\n",
       "<style scoped>\n",
       "    .dataframe tbody tr th:only-of-type {\n",
       "        vertical-align: middle;\n",
       "    }\n",
       "\n",
       "    .dataframe tbody tr th {\n",
       "        vertical-align: top;\n",
       "    }\n",
       "\n",
       "    .dataframe thead th {\n",
       "        text-align: right;\n",
       "    }\n",
       "</style>\n",
       "<table border=\"1\" class=\"dataframe\">\n",
       "  <thead>\n",
       "    <tr style=\"text-align: right;\">\n",
       "      <th></th>\n",
       "      <th>name</th>\n",
       "      <th>track_uri</th>\n",
       "    </tr>\n",
       "  </thead>\n",
       "  <tbody>\n",
       "    <tr>\n",
       "      <th>0</th>\n",
       "      <td>Brooks &amp; Dunn</td>\n",
       "      <td>spotify:track:001UkMQHw4zXfFNdKpwXAF</td>\n",
       "    </tr>\n",
       "    <tr>\n",
       "      <th>1</th>\n",
       "      <td>Luke Combs</td>\n",
       "      <td>spotify:track:001UkMQHw4zXfFNdKpwXAF</td>\n",
       "    </tr>\n",
       "    <tr>\n",
       "      <th>0</th>\n",
       "      <td>蒋雪儿</td>\n",
       "      <td>spotify:track:007ibBncyX6qXsy3sSCpgV</td>\n",
       "    </tr>\n",
       "    <tr>\n",
       "      <th>0</th>\n",
       "      <td>The Weeknd</td>\n",
       "      <td>spotify:track:00gscXjMt09aOxodmaDeR4</td>\n",
       "    </tr>\n",
       "    <tr>\n",
       "      <th>0</th>\n",
       "      <td>Chris Young</td>\n",
       "      <td>spotify:track:00KyYtT6NaXwbPecina5Pj</td>\n",
       "    </tr>\n",
       "    <tr>\n",
       "      <th>...</th>\n",
       "      <td>...</td>\n",
       "      <td>...</td>\n",
       "    </tr>\n",
       "    <tr>\n",
       "      <th>1</th>\n",
       "      <td>2WEI</td>\n",
       "      <td>spotify:track:7zUS6YbAYq1lT9JTxuy7cw</td>\n",
       "    </tr>\n",
       "    <tr>\n",
       "      <th>0</th>\n",
       "      <td>Kane Brown</td>\n",
       "      <td>spotify:track:7zVCrzzEJU7u24sbJPXA5W</td>\n",
       "    </tr>\n",
       "    <tr>\n",
       "      <th>1</th>\n",
       "      <td>Lauren Alaina</td>\n",
       "      <td>spotify:track:7zVCrzzEJU7u24sbJPXA5W</td>\n",
       "    </tr>\n",
       "    <tr>\n",
       "      <th>0</th>\n",
       "      <td>Tiësto</td>\n",
       "      <td>spotify:track:7zWJ6Yu8DlIFxEANCkmsBb</td>\n",
       "    </tr>\n",
       "    <tr>\n",
       "      <th>1</th>\n",
       "      <td>Hardwell</td>\n",
       "      <td>spotify:track:7zWJ6Yu8DlIFxEANCkmsBb</td>\n",
       "    </tr>\n",
       "  </tbody>\n",
       "</table>\n",
       "<p>7978 rows × 2 columns</p>\n",
       "</div>"
      ],
      "text/plain": [
       "             name                             track_uri\n",
       "0   Brooks & Dunn  spotify:track:001UkMQHw4zXfFNdKpwXAF\n",
       "1      Luke Combs  spotify:track:001UkMQHw4zXfFNdKpwXAF\n",
       "0             蒋雪儿  spotify:track:007ibBncyX6qXsy3sSCpgV\n",
       "0      The Weeknd  spotify:track:00gscXjMt09aOxodmaDeR4\n",
       "0     Chris Young  spotify:track:00KyYtT6NaXwbPecina5Pj\n",
       "..            ...                                   ...\n",
       "1            2WEI  spotify:track:7zUS6YbAYq1lT9JTxuy7cw\n",
       "0      Kane Brown  spotify:track:7zVCrzzEJU7u24sbJPXA5W\n",
       "1   Lauren Alaina  spotify:track:7zVCrzzEJU7u24sbJPXA5W\n",
       "0          Tiësto  spotify:track:7zWJ6Yu8DlIFxEANCkmsBb\n",
       "1        Hardwell  spotify:track:7zWJ6Yu8DlIFxEANCkmsBb\n",
       "\n",
       "[7978 rows x 2 columns]"
      ]
     },
     "execution_count": 16,
     "metadata": {},
     "output_type": "execute_result"
    }
   ],
   "source": [
    "df = pd.read_sql('''SELECT DISTINCT track_uri FROM playlist_tracks ORDER BY track_uri''', engine)\n",
    "df = pd.Series(df['track_uri'])\n",
    "base_list = []\n",
    "for track in tqdm(df):\n",
    "    try:\n",
    "        df2 = pd.json_normalize(sp.track(track), record_path=['artists'])\n",
    "        df2['track_uri'] = track\n",
    "        df2 = df2[['name', 'track_uri']]\n",
    "        base_list.append(df2)\n",
    "    except:\n",
    "        pass\n",
    "df2 = pd.concat(base_list)\n",
    "df2"
   ]
  },
  {
   "attachments": {},
   "cell_type": "markdown",
   "metadata": {},
   "source": [
    "## Get Row Numbers for Pivoting"
   ]
  },
  {
   "cell_type": "code",
   "execution_count": 28,
   "metadata": {},
   "outputs": [
    {
     "ename": "KeyError",
     "evalue": "'Column not found: name'",
     "output_type": "error",
     "traceback": [
      "\u001b[1;31m---------------------------------------------------------------------------\u001b[0m",
      "\u001b[1;31mKeyError\u001b[0m                                  Traceback (most recent call last)",
      "\u001b[1;32mc:\\Users\\Chase\\OneDrive\\Documents\\GitHub\\UVU-2022-2023\\InitialIngestionPipeline.ipynb Cell 13\u001b[0m in \u001b[0;36m<cell line: 1>\u001b[1;34m()\u001b[0m\n\u001b[1;32m----> <a href='vscode-notebook-cell:/c%3A/Users/Chase/OneDrive/Documents/GitHub/UVU-2022-2023/InitialIngestionPipeline.ipynb#X15sZmlsZQ%3D%3D?line=0'>1</a>\u001b[0m df2[\u001b[39m'\u001b[39m\u001b[39mRN\u001b[39m\u001b[39m'\u001b[39m] \u001b[39m=\u001b[39m df2\u001b[39m.\u001b[39;49mgroupby(\u001b[39m\"\u001b[39;49m\u001b[39mtrack_uri\u001b[39;49m\u001b[39m\"\u001b[39;49m)[\u001b[39m\"\u001b[39;49m\u001b[39mname\u001b[39;49m\u001b[39m\"\u001b[39;49m]\u001b[39m.\u001b[39mrank(method\u001b[39m=\u001b[39m\u001b[39m\"\u001b[39m\u001b[39mfirst\u001b[39m\u001b[39m\"\u001b[39m, ascending\u001b[39m=\u001b[39m\u001b[39mTrue\u001b[39;00m)\n\u001b[0;32m      <a href='vscode-notebook-cell:/c%3A/Users/Chase/OneDrive/Documents/GitHub/UVU-2022-2023/InitialIngestionPipeline.ipynb#X15sZmlsZQ%3D%3D?line=1'>2</a>\u001b[0m df2\n",
      "File \u001b[1;32mc:\\Users\\Chase\\AppData\\Local\\Programs\\Python\\Python39\\lib\\site-packages\\pandas\\core\\groupby\\generic.py:1415\u001b[0m, in \u001b[0;36mDataFrameGroupBy.__getitem__\u001b[1;34m(self, key)\u001b[0m\n\u001b[0;32m   1406\u001b[0m \u001b[39mif\u001b[39;00m \u001b[39misinstance\u001b[39m(key, \u001b[39mtuple\u001b[39m) \u001b[39mand\u001b[39;00m \u001b[39mlen\u001b[39m(key) \u001b[39m>\u001b[39m \u001b[39m1\u001b[39m:\n\u001b[0;32m   1407\u001b[0m     \u001b[39m# if len == 1, then it becomes a SeriesGroupBy and this is actually\u001b[39;00m\n\u001b[0;32m   1408\u001b[0m     \u001b[39m# valid syntax, so don't raise warning\u001b[39;00m\n\u001b[0;32m   1409\u001b[0m     warnings\u001b[39m.\u001b[39mwarn(\n\u001b[0;32m   1410\u001b[0m         \u001b[39m\"\u001b[39m\u001b[39mIndexing with multiple keys (implicitly converted to a tuple \u001b[39m\u001b[39m\"\u001b[39m\n\u001b[0;32m   1411\u001b[0m         \u001b[39m\"\u001b[39m\u001b[39mof keys) will be deprecated, use a list instead.\u001b[39m\u001b[39m\"\u001b[39m,\n\u001b[0;32m   1412\u001b[0m         \u001b[39mFutureWarning\u001b[39;00m,\n\u001b[0;32m   1413\u001b[0m         stacklevel\u001b[39m=\u001b[39mfind_stack_level(),\n\u001b[0;32m   1414\u001b[0m     )\n\u001b[1;32m-> 1415\u001b[0m \u001b[39mreturn\u001b[39;00m \u001b[39msuper\u001b[39;49m()\u001b[39m.\u001b[39;49m\u001b[39m__getitem__\u001b[39;49m(key)\n",
      "File \u001b[1;32mc:\\Users\\Chase\\AppData\\Local\\Programs\\Python\\Python39\\lib\\site-packages\\pandas\\core\\base.py:248\u001b[0m, in \u001b[0;36mSelectionMixin.__getitem__\u001b[1;34m(self, key)\u001b[0m\n\u001b[0;32m    246\u001b[0m \u001b[39melse\u001b[39;00m:\n\u001b[0;32m    247\u001b[0m     \u001b[39mif\u001b[39;00m key \u001b[39mnot\u001b[39;00m \u001b[39min\u001b[39;00m \u001b[39mself\u001b[39m\u001b[39m.\u001b[39mobj:\n\u001b[1;32m--> 248\u001b[0m         \u001b[39mraise\u001b[39;00m \u001b[39mKeyError\u001b[39;00m(\u001b[39mf\u001b[39m\u001b[39m\"\u001b[39m\u001b[39mColumn not found: \u001b[39m\u001b[39m{\u001b[39;00mkey\u001b[39m}\u001b[39;00m\u001b[39m\"\u001b[39m)\n\u001b[0;32m    249\u001b[0m     subset \u001b[39m=\u001b[39m \u001b[39mself\u001b[39m\u001b[39m.\u001b[39mobj[key]\n\u001b[0;32m    250\u001b[0m     ndim \u001b[39m=\u001b[39m subset\u001b[39m.\u001b[39mndim\n",
      "\u001b[1;31mKeyError\u001b[0m: 'Column not found: name'"
     ]
    }
   ],
   "source": [
    "df2['RN'] = df2.groupby(\"track_uri\")[\"name\"].rank(method=\"first\", ascending=True)\n",
    "df2"
   ]
  },
  {
   "attachments": {},
   "cell_type": "markdown",
   "metadata": {},
   "source": [
    "## Pivot DataFrame to Fit all Artists in DataFrame"
   ]
  },
  {
   "cell_type": "code",
   "execution_count": 27,
   "metadata": {},
   "outputs": [
    {
     "ename": "KeyError",
     "evalue": "'RN'",
     "output_type": "error",
     "traceback": [
      "\u001b[1;31m---------------------------------------------------------------------------\u001b[0m",
      "\u001b[1;31mKeyError\u001b[0m                                  Traceback (most recent call last)",
      "File \u001b[1;32mc:\\Users\\Chase\\AppData\\Local\\Programs\\Python\\Python39\\lib\\site-packages\\pandas\\core\\indexes\\base.py:3803\u001b[0m, in \u001b[0;36mIndex.get_loc\u001b[1;34m(self, key, method, tolerance)\u001b[0m\n\u001b[0;32m   3802\u001b[0m \u001b[39mtry\u001b[39;00m:\n\u001b[1;32m-> 3803\u001b[0m     \u001b[39mreturn\u001b[39;00m \u001b[39mself\u001b[39;49m\u001b[39m.\u001b[39;49m_engine\u001b[39m.\u001b[39;49mget_loc(casted_key)\n\u001b[0;32m   3804\u001b[0m \u001b[39mexcept\u001b[39;00m \u001b[39mKeyError\u001b[39;00m \u001b[39mas\u001b[39;00m err:\n",
      "File \u001b[1;32mc:\\Users\\Chase\\AppData\\Local\\Programs\\Python\\Python39\\lib\\site-packages\\pandas\\_libs\\index.pyx:138\u001b[0m, in \u001b[0;36mpandas._libs.index.IndexEngine.get_loc\u001b[1;34m()\u001b[0m\n",
      "File \u001b[1;32mc:\\Users\\Chase\\AppData\\Local\\Programs\\Python\\Python39\\lib\\site-packages\\pandas\\_libs\\index.pyx:165\u001b[0m, in \u001b[0;36mpandas._libs.index.IndexEngine.get_loc\u001b[1;34m()\u001b[0m\n",
      "File \u001b[1;32mpandas\\_libs\\hashtable_class_helper.pxi:5745\u001b[0m, in \u001b[0;36mpandas._libs.hashtable.PyObjectHashTable.get_item\u001b[1;34m()\u001b[0m\n",
      "File \u001b[1;32mpandas\\_libs\\hashtable_class_helper.pxi:5753\u001b[0m, in \u001b[0;36mpandas._libs.hashtable.PyObjectHashTable.get_item\u001b[1;34m()\u001b[0m\n",
      "\u001b[1;31mKeyError\u001b[0m: 'RN'",
      "\nThe above exception was the direct cause of the following exception:\n",
      "\u001b[1;31mKeyError\u001b[0m                                  Traceback (most recent call last)",
      "\u001b[1;32mc:\\Users\\Chase\\OneDrive\\Documents\\GitHub\\UVU-2022-2023\\InitialIngestionPipeline.ipynb Cell 15\u001b[0m in \u001b[0;36m<cell line: 2>\u001b[1;34m()\u001b[0m\n\u001b[0;32m      <a href='vscode-notebook-cell:/c%3A/Users/Chase/OneDrive/Documents/GitHub/UVU-2022-2023/InitialIngestionPipeline.ipynb#X20sZmlsZQ%3D%3D?line=0'>1</a>\u001b[0m \u001b[39mimport\u001b[39;00m \u001b[39mnumpy\u001b[39;00m \u001b[39mas\u001b[39;00m \u001b[39mnp\u001b[39;00m\n\u001b[1;32m----> <a href='vscode-notebook-cell:/c%3A/Users/Chase/OneDrive/Documents/GitHub/UVU-2022-2023/InitialIngestionPipeline.ipynb#X20sZmlsZQ%3D%3D?line=1'>2</a>\u001b[0m conditions \u001b[39m=\u001b[39m [(df2[\u001b[39m'\u001b[39;49m\u001b[39mRN\u001b[39;49m\u001b[39m'\u001b[39;49m] \u001b[39m==\u001b[39m \u001b[39m1.0\u001b[39m), (df2[\u001b[39m'\u001b[39m\u001b[39mRN\u001b[39m\u001b[39m'\u001b[39m] \u001b[39m==\u001b[39m \u001b[39m2.0\u001b[39m), (df2[\u001b[39m'\u001b[39m\u001b[39mRN\u001b[39m\u001b[39m'\u001b[39m] \u001b[39m==\u001b[39m \u001b[39m3.0\u001b[39m), (df2[\u001b[39m'\u001b[39m\u001b[39mRN\u001b[39m\u001b[39m'\u001b[39m] \u001b[39m==\u001b[39m \u001b[39m4.0\u001b[39m)]\n\u001b[0;32m      <a href='vscode-notebook-cell:/c%3A/Users/Chase/OneDrive/Documents/GitHub/UVU-2022-2023/InitialIngestionPipeline.ipynb#X20sZmlsZQ%3D%3D?line=2'>3</a>\u001b[0m choices \u001b[39m=\u001b[39m [\u001b[39m'\u001b[39m\u001b[39martist1\u001b[39m\u001b[39m'\u001b[39m, \u001b[39m'\u001b[39m\u001b[39martist2\u001b[39m\u001b[39m'\u001b[39m, \u001b[39m'\u001b[39m\u001b[39martist3\u001b[39m\u001b[39m'\u001b[39m, \u001b[39m'\u001b[39m\u001b[39martist4\u001b[39m\u001b[39m'\u001b[39m]\n\u001b[0;32m      <a href='vscode-notebook-cell:/c%3A/Users/Chase/OneDrive/Documents/GitHub/UVU-2022-2023/InitialIngestionPipeline.ipynb#X20sZmlsZQ%3D%3D?line=3'>4</a>\u001b[0m df2[\u001b[39m'\u001b[39m\u001b[39martists\u001b[39m\u001b[39m'\u001b[39m] \u001b[39m=\u001b[39m np\u001b[39m.\u001b[39mselect(conditions, choices, default\u001b[39m=\u001b[39m\u001b[39m'\u001b[39m\u001b[39mnull\u001b[39m\u001b[39m'\u001b[39m)\n",
      "File \u001b[1;32mc:\\Users\\Chase\\AppData\\Local\\Programs\\Python\\Python39\\lib\\site-packages\\pandas\\core\\frame.py:3804\u001b[0m, in \u001b[0;36mDataFrame.__getitem__\u001b[1;34m(self, key)\u001b[0m\n\u001b[0;32m   3802\u001b[0m \u001b[39mif\u001b[39;00m \u001b[39mself\u001b[39m\u001b[39m.\u001b[39mcolumns\u001b[39m.\u001b[39mnlevels \u001b[39m>\u001b[39m \u001b[39m1\u001b[39m:\n\u001b[0;32m   3803\u001b[0m     \u001b[39mreturn\u001b[39;00m \u001b[39mself\u001b[39m\u001b[39m.\u001b[39m_getitem_multilevel(key)\n\u001b[1;32m-> 3804\u001b[0m indexer \u001b[39m=\u001b[39m \u001b[39mself\u001b[39;49m\u001b[39m.\u001b[39;49mcolumns\u001b[39m.\u001b[39;49mget_loc(key)\n\u001b[0;32m   3805\u001b[0m \u001b[39mif\u001b[39;00m is_integer(indexer):\n\u001b[0;32m   3806\u001b[0m     indexer \u001b[39m=\u001b[39m [indexer]\n",
      "File \u001b[1;32mc:\\Users\\Chase\\AppData\\Local\\Programs\\Python\\Python39\\lib\\site-packages\\pandas\\core\\indexes\\base.py:3805\u001b[0m, in \u001b[0;36mIndex.get_loc\u001b[1;34m(self, key, method, tolerance)\u001b[0m\n\u001b[0;32m   3803\u001b[0m     \u001b[39mreturn\u001b[39;00m \u001b[39mself\u001b[39m\u001b[39m.\u001b[39m_engine\u001b[39m.\u001b[39mget_loc(casted_key)\n\u001b[0;32m   3804\u001b[0m \u001b[39mexcept\u001b[39;00m \u001b[39mKeyError\u001b[39;00m \u001b[39mas\u001b[39;00m err:\n\u001b[1;32m-> 3805\u001b[0m     \u001b[39mraise\u001b[39;00m \u001b[39mKeyError\u001b[39;00m(key) \u001b[39mfrom\u001b[39;00m \u001b[39merr\u001b[39;00m\n\u001b[0;32m   3806\u001b[0m \u001b[39mexcept\u001b[39;00m \u001b[39mTypeError\u001b[39;00m:\n\u001b[0;32m   3807\u001b[0m     \u001b[39m# If we have a listlike key, _check_indexing_error will raise\u001b[39;00m\n\u001b[0;32m   3808\u001b[0m     \u001b[39m#  InvalidIndexError. Otherwise we fall through and re-raise\u001b[39;00m\n\u001b[0;32m   3809\u001b[0m     \u001b[39m#  the TypeError.\u001b[39;00m\n\u001b[0;32m   3810\u001b[0m     \u001b[39mself\u001b[39m\u001b[39m.\u001b[39m_check_indexing_error(key)\n",
      "\u001b[1;31mKeyError\u001b[0m: 'RN'"
     ]
    }
   ],
   "source": [
    "import numpy as np\n",
    "conditions = [(df2['RN'] == 1.0), (df2['RN'] == 2.0), (df2['RN'] == 3.0), (df2['RN'] == 4.0)]\n",
    "choices = ['artist1', 'artist2', 'artist3', 'artist4']\n",
    "df2['artists'] = np.select(conditions, choices, default='null')\n",
    "df2 = df2.pivot(index='track_uri', columns='artists', values='name')\n",
    "df2"
   ]
  },
  {
   "attachments": {},
   "cell_type": "markdown",
   "metadata": {},
   "source": [
    "## Upload All Artist Data to Database"
   ]
  },
  {
   "cell_type": "code",
   "execution_count": null,
   "metadata": {},
   "outputs": [],
   "source": [
    "df2.to_sql('artists', con=engine, if_exists='append')"
   ]
  },
  {
   "attachments": {},
   "cell_type": "markdown",
   "metadata": {},
   "source": [
    "## Get All Audio Features"
   ]
  },
  {
   "cell_type": "code",
   "execution_count": 30,
   "metadata": {},
   "outputs": [
    {
     "name": "stderr",
     "output_type": "stream",
     "text": [
      "100%|██████████| 5181/5181 [08:11<00:00, 10.53it/s]\n"
     ]
    },
    {
     "data": {
      "text/html": [
       "<div>\n",
       "<style scoped>\n",
       "    .dataframe tbody tr th:only-of-type {\n",
       "        vertical-align: middle;\n",
       "    }\n",
       "\n",
       "    .dataframe tbody tr th {\n",
       "        vertical-align: top;\n",
       "    }\n",
       "\n",
       "    .dataframe thead th {\n",
       "        text-align: right;\n",
       "    }\n",
       "</style>\n",
       "<table border=\"1\" class=\"dataframe\">\n",
       "  <thead>\n",
       "    <tr style=\"text-align: right;\">\n",
       "      <th></th>\n",
       "      <th>track_uri</th>\n",
       "      <th>danceability</th>\n",
       "      <th>energy</th>\n",
       "      <th>key</th>\n",
       "      <th>loudness</th>\n",
       "      <th>mode</th>\n",
       "      <th>speechiness</th>\n",
       "      <th>acousticness</th>\n",
       "      <th>instrumentalness</th>\n",
       "      <th>liveness</th>\n",
       "      <th>valence</th>\n",
       "      <th>tempo</th>\n",
       "      <th>duration_ms</th>\n",
       "      <th>time_signature</th>\n",
       "    </tr>\n",
       "  </thead>\n",
       "  <tbody>\n",
       "    <tr>\n",
       "      <th>0</th>\n",
       "      <td>spotify:track:001UkMQHw4zXfFNdKpwXAF</td>\n",
       "      <td>0.573</td>\n",
       "      <td>0.846</td>\n",
       "      <td>7</td>\n",
       "      <td>-4.866</td>\n",
       "      <td>1</td>\n",
       "      <td>0.0344</td>\n",
       "      <td>0.003720</td>\n",
       "      <td>0.000079</td>\n",
       "      <td>0.2900</td>\n",
       "      <td>0.5620</td>\n",
       "      <td>127.061</td>\n",
       "      <td>191053</td>\n",
       "      <td>4</td>\n",
       "    </tr>\n",
       "    <tr>\n",
       "      <th>0</th>\n",
       "      <td>spotify:track:007ibBncyX6qXsy3sSCpgV</td>\n",
       "      <td>0.774</td>\n",
       "      <td>0.963</td>\n",
       "      <td>1</td>\n",
       "      <td>-2.428</td>\n",
       "      <td>1</td>\n",
       "      <td>0.0393</td>\n",
       "      <td>0.065100</td>\n",
       "      <td>0.140000</td>\n",
       "      <td>0.2410</td>\n",
       "      <td>0.9740</td>\n",
       "      <td>132.044</td>\n",
       "      <td>340088</td>\n",
       "      <td>4</td>\n",
       "    </tr>\n",
       "    <tr>\n",
       "      <th>0</th>\n",
       "      <td>spotify:track:00gscXjMt09aOxodmaDeR4</td>\n",
       "      <td>0.732</td>\n",
       "      <td>0.798</td>\n",
       "      <td>11</td>\n",
       "      <td>-6.511</td>\n",
       "      <td>0</td>\n",
       "      <td>0.0956</td>\n",
       "      <td>0.026900</td>\n",
       "      <td>0.000005</td>\n",
       "      <td>0.0718</td>\n",
       "      <td>0.9110</td>\n",
       "      <td>122.008</td>\n",
       "      <td>188918</td>\n",
       "      <td>4</td>\n",
       "    </tr>\n",
       "    <tr>\n",
       "      <th>0</th>\n",
       "      <td>spotify:track:00KyYtT6NaXwbPecina5Pj</td>\n",
       "      <td>0.535</td>\n",
       "      <td>0.859</td>\n",
       "      <td>6</td>\n",
       "      <td>-2.922</td>\n",
       "      <td>1</td>\n",
       "      <td>0.0344</td>\n",
       "      <td>0.052800</td>\n",
       "      <td>0.000000</td>\n",
       "      <td>0.3200</td>\n",
       "      <td>0.6980</td>\n",
       "      <td>102.008</td>\n",
       "      <td>166507</td>\n",
       "      <td>4</td>\n",
       "    </tr>\n",
       "    <tr>\n",
       "      <th>0</th>\n",
       "      <td>spotify:track:00Mb3DuaIH1kjrwOku9CGU</td>\n",
       "      <td>0.487</td>\n",
       "      <td>0.900</td>\n",
       "      <td>0</td>\n",
       "      <td>-4.417</td>\n",
       "      <td>1</td>\n",
       "      <td>0.0482</td>\n",
       "      <td>0.000068</td>\n",
       "      <td>0.000000</td>\n",
       "      <td>0.3580</td>\n",
       "      <td>0.4840</td>\n",
       "      <td>149.937</td>\n",
       "      <td>204000</td>\n",
       "      <td>4</td>\n",
       "    </tr>\n",
       "    <tr>\n",
       "      <th>...</th>\n",
       "      <td>...</td>\n",
       "      <td>...</td>\n",
       "      <td>...</td>\n",
       "      <td>...</td>\n",
       "      <td>...</td>\n",
       "      <td>...</td>\n",
       "      <td>...</td>\n",
       "      <td>...</td>\n",
       "      <td>...</td>\n",
       "      <td>...</td>\n",
       "      <td>...</td>\n",
       "      <td>...</td>\n",
       "      <td>...</td>\n",
       "      <td>...</td>\n",
       "    </tr>\n",
       "    <tr>\n",
       "      <th>0</th>\n",
       "      <td>spotify:track:7zpZQzTwWBN0eOsmb4WPH3</td>\n",
       "      <td>0.748</td>\n",
       "      <td>0.741</td>\n",
       "      <td>6</td>\n",
       "      <td>-3.103</td>\n",
       "      <td>1</td>\n",
       "      <td>0.0531</td>\n",
       "      <td>0.004190</td>\n",
       "      <td>0.000000</td>\n",
       "      <td>0.1470</td>\n",
       "      <td>0.5370</td>\n",
       "      <td>128.077</td>\n",
       "      <td>213053</td>\n",
       "      <td>4</td>\n",
       "    </tr>\n",
       "    <tr>\n",
       "      <th>0</th>\n",
       "      <td>spotify:track:7zsw78LtXUD7JfEwH64HK2</td>\n",
       "      <td>0.384</td>\n",
       "      <td>0.180</td>\n",
       "      <td>0</td>\n",
       "      <td>-17.279</td>\n",
       "      <td>1</td>\n",
       "      <td>0.1010</td>\n",
       "      <td>0.770000</td>\n",
       "      <td>0.000000</td>\n",
       "      <td>0.3670</td>\n",
       "      <td>0.3680</td>\n",
       "      <td>73.603</td>\n",
       "      <td>291693</td>\n",
       "      <td>4</td>\n",
       "    </tr>\n",
       "    <tr>\n",
       "      <th>0</th>\n",
       "      <td>spotify:track:7zUS6YbAYq1lT9JTxuy7cw</td>\n",
       "      <td>0.195</td>\n",
       "      <td>0.443</td>\n",
       "      <td>2</td>\n",
       "      <td>-10.856</td>\n",
       "      <td>0</td>\n",
       "      <td>0.0534</td>\n",
       "      <td>0.060000</td>\n",
       "      <td>0.006340</td>\n",
       "      <td>0.0956</td>\n",
       "      <td>0.1270</td>\n",
       "      <td>182.914</td>\n",
       "      <td>208525</td>\n",
       "      <td>3</td>\n",
       "    </tr>\n",
       "    <tr>\n",
       "      <th>0</th>\n",
       "      <td>spotify:track:7zVCrzzEJU7u24sbJPXA5W</td>\n",
       "      <td>0.612</td>\n",
       "      <td>0.799</td>\n",
       "      <td>10</td>\n",
       "      <td>-4.603</td>\n",
       "      <td>1</td>\n",
       "      <td>0.0275</td>\n",
       "      <td>0.008980</td>\n",
       "      <td>0.000000</td>\n",
       "      <td>0.1720</td>\n",
       "      <td>0.6870</td>\n",
       "      <td>125.976</td>\n",
       "      <td>188253</td>\n",
       "      <td>4</td>\n",
       "    </tr>\n",
       "    <tr>\n",
       "      <th>0</th>\n",
       "      <td>spotify:track:7zWJ6Yu8DlIFxEANCkmsBb</td>\n",
       "      <td>0.656</td>\n",
       "      <td>0.822</td>\n",
       "      <td>7</td>\n",
       "      <td>-7.335</td>\n",
       "      <td>1</td>\n",
       "      <td>0.0485</td>\n",
       "      <td>0.008910</td>\n",
       "      <td>0.935000</td>\n",
       "      <td>0.0813</td>\n",
       "      <td>0.0392</td>\n",
       "      <td>127.997</td>\n",
       "      <td>365625</td>\n",
       "      <td>4</td>\n",
       "    </tr>\n",
       "  </tbody>\n",
       "</table>\n",
       "<p>5180 rows × 14 columns</p>\n",
       "</div>"
      ],
      "text/plain": [
       "                               track_uri  danceability  energy  key  loudness  \\\n",
       "0   spotify:track:001UkMQHw4zXfFNdKpwXAF         0.573   0.846    7    -4.866   \n",
       "0   spotify:track:007ibBncyX6qXsy3sSCpgV         0.774   0.963    1    -2.428   \n",
       "0   spotify:track:00gscXjMt09aOxodmaDeR4         0.732   0.798   11    -6.511   \n",
       "0   spotify:track:00KyYtT6NaXwbPecina5Pj         0.535   0.859    6    -2.922   \n",
       "0   spotify:track:00Mb3DuaIH1kjrwOku9CGU         0.487   0.900    0    -4.417   \n",
       "..                                   ...           ...     ...  ...       ...   \n",
       "0   spotify:track:7zpZQzTwWBN0eOsmb4WPH3         0.748   0.741    6    -3.103   \n",
       "0   spotify:track:7zsw78LtXUD7JfEwH64HK2         0.384   0.180    0   -17.279   \n",
       "0   spotify:track:7zUS6YbAYq1lT9JTxuy7cw         0.195   0.443    2   -10.856   \n",
       "0   spotify:track:7zVCrzzEJU7u24sbJPXA5W         0.612   0.799   10    -4.603   \n",
       "0   spotify:track:7zWJ6Yu8DlIFxEANCkmsBb         0.656   0.822    7    -7.335   \n",
       "\n",
       "    mode  speechiness  acousticness  instrumentalness  liveness  valence  \\\n",
       "0      1       0.0344      0.003720          0.000079    0.2900   0.5620   \n",
       "0      1       0.0393      0.065100          0.140000    0.2410   0.9740   \n",
       "0      0       0.0956      0.026900          0.000005    0.0718   0.9110   \n",
       "0      1       0.0344      0.052800          0.000000    0.3200   0.6980   \n",
       "0      1       0.0482      0.000068          0.000000    0.3580   0.4840   \n",
       "..   ...          ...           ...               ...       ...      ...   \n",
       "0      1       0.0531      0.004190          0.000000    0.1470   0.5370   \n",
       "0      1       0.1010      0.770000          0.000000    0.3670   0.3680   \n",
       "0      0       0.0534      0.060000          0.006340    0.0956   0.1270   \n",
       "0      1       0.0275      0.008980          0.000000    0.1720   0.6870   \n",
       "0      1       0.0485      0.008910          0.935000    0.0813   0.0392   \n",
       "\n",
       "      tempo  duration_ms  time_signature  \n",
       "0   127.061       191053               4  \n",
       "0   132.044       340088               4  \n",
       "0   122.008       188918               4  \n",
       "0   102.008       166507               4  \n",
       "0   149.937       204000               4  \n",
       "..      ...          ...             ...  \n",
       "0   128.077       213053               4  \n",
       "0    73.603       291693               4  \n",
       "0   182.914       208525               3  \n",
       "0   125.976       188253               4  \n",
       "0   127.997       365625               4  \n",
       "\n",
       "[5180 rows x 14 columns]"
      ]
     },
     "execution_count": 30,
     "metadata": {},
     "output_type": "execute_result"
    }
   ],
   "source": [
    "df = pd.read_sql('''SELECT DISTINCT track_uri FROM playlist_tracks ORDER BY track_uri''', engine)\n",
    "df = pd.Series(df['track_uri'])\n",
    "base_list = []\n",
    "for track in tqdm(df):\n",
    "    try:\n",
    "        df3 = pd.json_normalize(sp.audio_features(track))\n",
    "        df3['track_uri'] = track\n",
    "        df3 = df3[['track_uri', 'danceability', 'energy', 'key', 'loudness', 'mode', 'speechiness', 'acousticness', 'instrumentalness', 'liveness', 'valence', 'tempo', 'duration_ms', 'time_signature']]\n",
    "        base_list.append(df3)\n",
    "    except:\n",
    "        pass\n",
    "df3 = pd.concat(base_list)\n",
    "df3"
   ]
  },
  {
   "attachments": {},
   "cell_type": "markdown",
   "metadata": {},
   "source": [
    "## Upload Audio Features to Database"
   ]
  },
  {
   "cell_type": "code",
   "execution_count": 31,
   "metadata": {},
   "outputs": [
    {
     "data": {
      "text/plain": [
       "180"
      ]
     },
     "execution_count": 31,
     "metadata": {},
     "output_type": "execute_result"
    }
   ],
   "source": [
    "df3.to_sql('audio_features', con=engine, if_exists='append')"
   ]
  },
  {
   "cell_type": "code",
   "execution_count": 32,
   "metadata": {},
   "outputs": [],
   "source": [
    "all_data = pd.read_sql('''SELECT DISTINCT added_at, is_local, primary_color_x, \"added_by.external_urls.spotify\", \"added_by.href\",\n",
    "\"added_by.id\", \"added_by.type\", \"added_by.uri\", \"track.album.album_type\", \"track.album.external_urls.spotify\", \n",
    "\"track.album.href\", \"track.album.id\", album_name, release_date, \"track.album.release_date_precision\", \n",
    "\"track.album.total_tracks\", \"track.album.type\", album_uri, \"track.disc_number\", pt.duration_ms, \"track.episode\",\n",
    "\"isExplicit\", \"track.external_ids.isrc\", \"track.external_urls.spotify\", \"tracks.href\", \"track.id\", \"track.is_local\", \n",
    "track_name, \"track.popularity\", \"track.preview_url\", \"track.track\", \"track.track_number\", \"track.type\", pt.track_uri, \n",
    "\"video_thumbnail.url\", playlist_uri, collaborative, description, href, id, playlist_name, primary_color_y,\n",
    "public, pt.snapshot_id, type, uri, \"external_urls.spotify\", \"followers.href\", \"followers.total\", \"owner.display_name\",\n",
    "\"owner.external_urls.spotify\", \"owner.href\", \"owner.id\", \"owner.type\", \"owner.uri\", \"tracks.href\", \"tracks.limit\", \"tracks.next\", \n",
    "\"tracks.offset\", \"tracks.previous\", \"tracks.total\", track, video_thumbnail, danceability, energy, key, loudness, mode,\n",
    "speechiness, acousticness, instrumentalness, liveness, valence, tempo, time_signature\n",
    "FROM playlist_tracks pt\n",
    "JOIN audio_features af ON pt.track_uri = af.track_uri''', engine)\n",
    "f = open(\"s3.csv\", \"w\")\n",
    "f.truncate()\n",
    "f.close()\n",
    "\n",
    "all_data.to_csv('s3.csv', mode=\"w+\")"
   ]
  }
 ],
 "metadata": {
  "kernelspec": {
   "display_name": "Python 3 (ipykernel)",
   "language": "python",
   "name": "python3"
  },
  "language_info": {
   "codemirror_mode": {
    "name": "ipython",
    "version": 3
   },
   "file_extension": ".py",
   "mimetype": "text/x-python",
   "name": "python",
   "nbconvert_exporter": "python",
   "pygments_lexer": "ipython3",
   "version": "3.9.12"
  },
  "vscode": {
   "interpreter": {
    "hash": "e509a2683bb710c9bd3cef57d5381e640e8483d6e683f75b983dd6327c90c1d7"
   }
  }
 },
 "nbformat": 4,
 "nbformat_minor": 2
}
