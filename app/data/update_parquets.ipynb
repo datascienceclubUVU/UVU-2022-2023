{
 "cells": [
  {
   "cell_type": "code",
   "execution_count": 1,
   "metadata": {},
   "outputs": [],
   "source": [
    "import pandas as pd"
   ]
  },
  {
   "cell_type": "code",
   "execution_count": 2,
   "metadata": {},
   "outputs": [],
   "source": [
    "# Shortens the playlist URI in each parquet file and transfers to new location.\n",
    "\n",
    "# Index where playlist URI actually starts.\n",
    "playlist_uri_start = 17\n",
    "\n",
    "# Update \"playlist_preview\" parquets.\n",
    "for i in range(1, 6):\n",
    "    df = pd.read_parquet(f\"playlist_preview_{i}.parquet.gzip\")\n",
    "    # Remove \"spotify:playlist:\" portion of playlist URI.\n",
    "    df[\"playlist_uri\"] = df[\"playlist_uri\"].str.slice(start=playlist_uri_start)\n",
    "    # Place updated parquet in new location.\n",
    "    df.to_parquet(\n",
    "        path=f\"playlist_preview/playlist_preview_{i}.parquet.gzip\",\n",
    "        engine=\"pyarrow\",\n",
    "        compression=\"gzip\"\n",
    "    )\n",
    "\n",
    "# Update \"playlist_analytics\" parquet.\n",
    "df = pd.read_parquet(f\"playlist_analytics.parquet.gzip\")\n",
    "# Remove \"spotify:playlist:\" portion of playlist URI.\n",
    "df[\"playlist_uri\"] = df[\"playlist_uri\"].str.slice(start=playlist_uri_start)\n",
    "# Place updated parquet in new location.\n",
    "df.to_parquet(\n",
    "    path=f\"playlist_analytics/playlist_analytics.parquet.gzip\",\n",
    "    engine=\"pyarrow\",\n",
    "    compression=\"gzip\"\n",
    ")"
   ]
  }
 ],
 "metadata": {
  "kernelspec": {
   "display_name": "Python 3",
   "language": "python",
   "name": "python3"
  },
  "language_info": {
   "codemirror_mode": {
    "name": "ipython",
    "version": 3
   },
   "file_extension": ".py",
   "mimetype": "text/x-python",
   "name": "python",
   "nbconvert_exporter": "python",
   "pygments_lexer": "ipython3",
   "version": "3.10.1"
  },
  "orig_nbformat": 4
 },
 "nbformat": 4,
 "nbformat_minor": 2
}
