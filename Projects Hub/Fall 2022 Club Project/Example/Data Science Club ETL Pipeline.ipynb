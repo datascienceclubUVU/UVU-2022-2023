{
 "cells": [
  {
   "cell_type": "code",
   "execution_count": 1,
   "metadata": {},
   "outputs": [],
   "source": [
    "# Import libraries for data manipulation and ETL pipeline\n",
    "import numpy as np\n",
    "import pandas as pd\n",
    "import warnings\n",
    "warnings.filterwarnings('ignore')\n",
    "from pandarallel import pandarallel\n",
    "pandarallel.initialize(verbose=0)\n",
    "from tqdm import tqdm"
   ]
  },
  {
   "cell_type": "code",
   "execution_count": 2,
   "metadata": {},
   "outputs": [],
   "source": [
    "# Establish API connection\n",
    "import spotipy\n",
    "from spotipy.oauth2 import SpotifyClientCredentials\n",
    "\n",
    "cid = '3fda75b7146a4769b207ee44017b3abe'\n",
    "secret = '2a755cb04a18406b9394dbef2f8069dd'\n",
    "\n",
    "client_credentials_manager = SpotifyClientCredentials(client_id=cid, client_secret=secret)\n",
    "sp = spotipy.Spotify(client_credentials_manager=client_credentials_manager)"
   ]
  },
  {
   "cell_type": "code",
   "execution_count": 3,
   "metadata": {},
   "outputs": [
    {
     "data": {
      "text/plain": [
       "0    (spotify:track:0002yNGLtYSYtc0X6ZnFvp)\n",
       "1    (spotify:track:00039MgrmLoIzSpuYKurn9)\n",
       "2    (spotify:track:0003Z98F6hUq7XxqSRM87H)\n",
       "3    (spotify:track:0004ExljAge0P5XWn1LXmW)\n",
       "4    (spotify:track:0005rgjsSeVLp1cze57jIN)\n",
       "dtype: object"
      ]
     },
     "execution_count": 3,
     "metadata": {},
     "output_type": "execute_result"
    }
   ],
   "source": [
    "# Connect to SQL Server\n",
    "import sqlalchemy as sql\n",
    "from sqlalchemy import text\n",
    "import pyodbc\n",
    "server = 'LAPTOP-V3754MEK' \n",
    "database = 'Spotify'\n",
    "\n",
    "engine = sql.create_engine('mssql+pyodbc://' + server + '/' + database + '?trusted_connection=yes&driver=ODBC+Driver+17+for+SQL+Server')\n",
    "conn = engine.connect()\n",
    "results = engine.execute(\"SELECT track_uri2 FROM dim_tracks ORDER BY track_uri2\")\n",
    "results = pd.Series(results)\n",
    "results.head()"
   ]
  },
  {
   "cell_type": "code",
   "execution_count": 4,
   "metadata": {},
   "outputs": [
    {
     "name": "stderr",
     "output_type": "stream",
     "text": [
      " 10%|█         | 1002/10000 [01:36<13:36, 11.03it/s] "
     ]
    }
   ],
   "source": [
    "# Extract tracks from API\n",
    "output_df = pd.DataFrame()\n",
    "for t in tqdm(results[190001:200001]):\n",
    "      output = sp.audio_features(t)\n",
    "      output_df = output_df.append(pd.DataFrame(output))\n",
    "output_df.head()"
   ]
  },
  {
   "cell_type": "code",
   "execution_count": null,
   "metadata": {},
   "outputs": [
    {
     "name": "stdout",
     "output_type": "stream",
     "text": [
      "10000 rows imported to database.\n",
      "App contains (190001,) songs.\n"
     ]
    }
   ],
   "source": [
    "# Load data into SQL Server\n",
    "output_df = output_df[['uri', 'danceability', 'energy', 'key', 'loudness', 'mode', 'speechiness', 'acousticness', 'instrumentalness', 'liveness', 'valence', 'tempo', 'duration_ms', 'time_signature']]\n",
    "output_df = output_df.rename(columns={'key':'music_key', 'mode':'modal'})\n",
    "output_df.to_sql(\"audio_features2\", engine, if_exists='append', index=False)\n",
    "print(f'{len(output_df)} rows imported to database.')\n",
    "new_query = engine.execute('SELECT COUNT(*) FROM audio_features2')\n",
    "new_query = pd.Series(new_query)\n",
    "print(f'App contains {new_query[0]} songs.')"
   ]
  }
 ],
 "metadata": {
  "kernelspec": {
   "display_name": "Python 3.10.7 64-bit",
   "language": "python",
   "name": "python3"
  },
  "language_info": {
   "codemirror_mode": {
    "name": "ipython",
    "version": 3
   },
   "file_extension": ".py",
   "mimetype": "text/x-python",
   "name": "python",
   "nbconvert_exporter": "python",
   "pygments_lexer": "ipython3",
   "version": "3.10.7"
  },
  "orig_nbformat": 4,
  "vscode": {
   "interpreter": {
    "hash": "b88368e876948fcf49b1d9c839eac16f57de9d0eacb8404eb3d43e5b2d90a6c6"
   }
  }
 },
 "nbformat": 4,
 "nbformat_minor": 2
}
